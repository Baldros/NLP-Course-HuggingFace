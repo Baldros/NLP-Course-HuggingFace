{
  "nbformat": 4,
  "nbformat_minor": 0,
  "metadata": {
    "colab": {
      "provenance": [],
      "collapsed_sections": [
        "GwRwxQNW9tRw",
        "-ADP06a7-CmK"
      ],
      "authorship_tag": "ABX9TyN2KtdLkq4+nLHpWLP5wQog",
      "include_colab_link": true
    },
    "kernelspec": {
      "name": "python3",
      "display_name": "Python 3"
    },
    "language_info": {
      "name": "python"
    }
  },
  "cells": [
    {
      "cell_type": "markdown",
      "metadata": {
        "id": "view-in-github",
        "colab_type": "text"
      },
      "source": [
        "<a href=\"https://colab.research.google.com/github/Baldros/NLP-Course-HuggingFace/blob/main/2_2_Models.ipynb\" target=\"_parent\"><img src=\"https://colab.research.google.com/assets/colab-badge.svg\" alt=\"Open In Colab\"/></a>"
      ]
    },
    {
      "cell_type": "markdown",
      "source": [
        "# Apresentação:\n",
        "\n",
        "    Nesta seção, o curso se aprofunda um pouco mais na criação e uso\n",
        "    de um modelo. Usando a classe AutoModel ou TFAutoModel, pytorch ou\n",
        "    tensorflow respectivamente, que são úteis quando deseja-se instanciar\n",
        "    qualquer modelo a partir de um ponto de verificação (Checkpoint)*.\n",
        "\n",
        "    A classe AutoModel/TFAutoModel e todas as suas relativas são\n",
        "    na verdade simples invólucros sobre a ampla variedade de modelos\n",
        "    disponíveis na biblioteca. É um invólucro inteligente, pois pode\n",
        "    identificar automaticamente a arquitetura de modelo apropriada para\n",
        "    o seu ponto de verificação (checkpoint) e, em seguida, instancia um\n",
        "    modelo com essa arquitetura.\n",
        "\n",
        "    No entanto, se você sabe o tipo de modelo que deseja usar, pode usar\n",
        "    a classe que define sua arquitetura diretamente. Vamos dar uma olhada\n",
        "    em como isso funciona com um modelo BERT."
      ],
      "metadata": {
        "id": "pUfbRfxdVd8W"
      }
    },
    {
      "cell_type": "markdown",
      "source": [
        "# Instanciando um modelo:\n",
        "\n",
        "    Existem várias formas de instanciar um modelo, basicamente a equipe\n",
        "    de engenheiros do Hugging Face fez com que tudo dialoga-se entre\n",
        "    si, vamos ver que podemos instanciar os modelos de várias formas\n",
        "    diferente. Aqui vamos ver um pouco sobre isso, sendo assim,\n",
        "    vamos começar instanciando da forma tradicional."
      ],
      "metadata": {
        "id": "r8YqBAR4ZZYd"
      }
    },
    {
      "cell_type": "markdown",
      "source": [
        "**Pytorch**"
      ],
      "metadata": {
        "id": "OiKwRvwC8dkU"
      }
    },
    {
      "cell_type": "code",
      "source": [
        "# Importando modelo:\n",
        "from transformers import BertModel\n",
        "\n",
        "# Instanciando modelo:\n",
        "bert_pt = BertModel.from_pretrained(\"bert-base-cased\")"
      ],
      "metadata": {
        "id": "QaemUraG8XbX"
      },
      "execution_count": 41,
      "outputs": []
    },
    {
      "cell_type": "code",
      "source": [
        "# Checando modelo:\n",
        "bert_pt"
      ],
      "metadata": {
        "colab": {
          "base_uri": "https://localhost:8080/"
        },
        "id": "ou15qzEQ8kSy",
        "outputId": "58283bd8-0071-4d2e-fe52-e383f018be98"
      },
      "execution_count": 42,
      "outputs": [
        {
          "output_type": "execute_result",
          "data": {
            "text/plain": [
              "BertModel(\n",
              "  (embeddings): BertEmbeddings(\n",
              "    (word_embeddings): Embedding(28996, 768, padding_idx=0)\n",
              "    (position_embeddings): Embedding(512, 768)\n",
              "    (token_type_embeddings): Embedding(2, 768)\n",
              "    (LayerNorm): LayerNorm((768,), eps=1e-12, elementwise_affine=True)\n",
              "    (dropout): Dropout(p=0.1, inplace=False)\n",
              "  )\n",
              "  (encoder): BertEncoder(\n",
              "    (layer): ModuleList(\n",
              "      (0-11): 12 x BertLayer(\n",
              "        (attention): BertAttention(\n",
              "          (self): BertSelfAttention(\n",
              "            (query): Linear(in_features=768, out_features=768, bias=True)\n",
              "            (key): Linear(in_features=768, out_features=768, bias=True)\n",
              "            (value): Linear(in_features=768, out_features=768, bias=True)\n",
              "            (dropout): Dropout(p=0.1, inplace=False)\n",
              "          )\n",
              "          (output): BertSelfOutput(\n",
              "            (dense): Linear(in_features=768, out_features=768, bias=True)\n",
              "            (LayerNorm): LayerNorm((768,), eps=1e-12, elementwise_affine=True)\n",
              "            (dropout): Dropout(p=0.1, inplace=False)\n",
              "          )\n",
              "        )\n",
              "        (intermediate): BertIntermediate(\n",
              "          (dense): Linear(in_features=768, out_features=3072, bias=True)\n",
              "          (intermediate_act_fn): GELUActivation()\n",
              "        )\n",
              "        (output): BertOutput(\n",
              "          (dense): Linear(in_features=3072, out_features=768, bias=True)\n",
              "          (LayerNorm): LayerNorm((768,), eps=1e-12, elementwise_affine=True)\n",
              "          (dropout): Dropout(p=0.1, inplace=False)\n",
              "        )\n",
              "      )\n",
              "    )\n",
              "  )\n",
              "  (pooler): BertPooler(\n",
              "    (dense): Linear(in_features=768, out_features=768, bias=True)\n",
              "    (activation): Tanh()\n",
              "  )\n",
              ")"
            ]
          },
          "metadata": {},
          "execution_count": 42
        }
      ]
    },
    {
      "cell_type": "markdown",
      "source": [
        "**Tensorflow**"
      ],
      "metadata": {
        "id": "0KhxKwlO8Fkg"
      }
    },
    {
      "cell_type": "code",
      "source": [
        "# Importando modelo:\n",
        "from transformers import TFBertModel\n",
        "\n",
        "# instanciando modelo:\n",
        "bert_tf = TFBertModel.from_pretrained(\"bert-base-cased\")"
      ],
      "metadata": {
        "colab": {
          "base_uri": "https://localhost:8080/"
        },
        "id": "9fYArOY07FoB",
        "outputId": "b996aecb-e56a-4341-e3b5-73373029de3e"
      },
      "execution_count": 39,
      "outputs": [
        {
          "output_type": "stream",
          "name": "stderr",
          "text": [
            "Some weights of the PyTorch model were not used when initializing the TF 2.0 model TFBertModel: ['cls.predictions.transform.LayerNorm.bias', 'cls.seq_relationship.weight', 'cls.predictions.bias', 'cls.predictions.transform.dense.weight', 'cls.seq_relationship.bias', 'cls.predictions.transform.dense.bias', 'cls.predictions.transform.LayerNorm.weight']\n",
            "- This IS expected if you are initializing TFBertModel from a PyTorch model trained on another task or with another architecture (e.g. initializing a TFBertForSequenceClassification model from a BertForPreTraining model).\n",
            "- This IS NOT expected if you are initializing TFBertModel from a PyTorch model that you expect to be exactly identical (e.g. initializing a TFBertForSequenceClassification model from a BertForSequenceClassification model).\n",
            "All the weights of TFBertModel were initialized from the PyTorch model.\n",
            "If your task is similar to the task the model of the checkpoint was trained on, you can already use TFBertModel for predictions without further training.\n"
          ]
        }
      ]
    },
    {
      "cell_type": "code",
      "source": [
        "# Checando modelo:\n",
        "bert_tf"
      ],
      "metadata": {
        "colab": {
          "base_uri": "https://localhost:8080/"
        },
        "id": "Rt3jjw2v797t",
        "outputId": "f676e45e-afa6-4f9f-c0af-a36ef1d4ff92"
      },
      "execution_count": 40,
      "outputs": [
        {
          "output_type": "execute_result",
          "data": {
            "text/plain": [
              "<transformers.models.bert.modeling_tf_bert.TFBertModel at 0x7eff92acd930>"
            ]
          },
          "metadata": {},
          "execution_count": 40
        }
      ]
    },
    {
      "cell_type": "markdown",
      "source": [
        "# Instanciando o modelo pelos Pesos:\n",
        "\n",
        "    Como vimos anteriormente que podemos utilizar a classe AutoModel que\n",
        "    permite instanciar um modelo pré-treinado a partir de qualquer ponto\n",
        "    de verificação (Chekpoint)* no Hugging Face Hub. O proprio método\n",
        "    escolherá a classe de modelo correta da biblioteca para instanciar,\n",
        "    carregando os pesos do modelo pré-treinado dentro dela."
      ],
      "metadata": {
        "id": "nEa_mAqP7h-U"
      }
    },
    {
      "cell_type": "markdown",
      "source": [
        "**Pytorch**"
      ],
      "metadata": {
        "id": "emy4fmWUeLfv"
      }
    },
    {
      "cell_type": "code",
      "source": [
        "# Importando o Transformer:\n",
        "from transformers import AutoModel"
      ],
      "metadata": {
        "id": "ObRLOtfBZelf"
      },
      "execution_count": 11,
      "outputs": []
    },
    {
      "cell_type": "code",
      "source": [
        "# Instanciando o modelo Bert:\n",
        "bert_model_pt = AutoModel.from_pretrained(\"bert-base-cased\")\n",
        "\n",
        "#Instanciando o modelo gpt:\n",
        "gpt_model_pt = AutoModel.from_pretrained(\"gpt2\")\n",
        "\n",
        "#Instanciando o modelo Bart:\n",
        "bart_model_pt = AutoModel.from_pretrained(\"facebook/bart-base\")\n",
        "\n",
        "# Checando informação dos modelos:\n",
        "print(type(bert_model_pt))\n",
        "print(type(gpt_model_pt))\n",
        "print(type(bart_model_pt))"
      ],
      "metadata": {
        "colab": {
          "base_uri": "https://localhost:8080/"
        },
        "id": "hIFhzw9mZlkC",
        "outputId": "e41456be-cb65-4192-9611-71e8a3782058"
      },
      "execution_count": 12,
      "outputs": [
        {
          "output_type": "stream",
          "name": "stdout",
          "text": [
            "<class 'transformers.models.bert.modeling_bert.BertModel'>\n",
            "<class 'transformers.models.gpt2.modeling_gpt2.GPT2Model'>\n",
            "<class 'transformers.models.bart.modeling_bart.BartModel'>\n"
          ]
        }
      ]
    },
    {
      "cell_type": "markdown",
      "source": [
        "**Tensorflow**"
      ],
      "metadata": {
        "id": "_X0Ez1JQeOa_"
      }
    },
    {
      "cell_type": "code",
      "source": [
        "# Importando AutoModel para o Tensorflow:\n",
        "from transformers import TFAutoModel"
      ],
      "metadata": {
        "id": "aHnGMeBWeQpq"
      },
      "execution_count": 13,
      "outputs": []
    },
    {
      "cell_type": "code",
      "source": [
        "# Instanciando o modelo Bert:\n",
        "bert_model_tf = TFAutoModel.from_pretrained(\"bert-base-cased\")\n",
        "\n",
        "#Instanciando o modelo gpt:\n",
        "gpt_model_tf = TFAutoModel.from_pretrained(\"gpt2\")\n",
        "\n",
        "#Instanciando o modelo Bart:\n",
        "bart_model_tf = TFAutoModel.from_pretrained(\"facebook/bart-base\")\n",
        "\n",
        "# Checando informação dos modelos:\n",
        "print(type(bert_model_tf))\n",
        "print(type(gpt_model_tf))\n",
        "print(type(bart_model_tf))"
      ],
      "metadata": {
        "colab": {
          "base_uri": "https://localhost:8080/"
        },
        "id": "HWrLMOizebPc",
        "outputId": "59c2119f-7236-48e9-ea2b-75bf4e685588"
      },
      "execution_count": 14,
      "outputs": [
        {
          "output_type": "stream",
          "name": "stderr",
          "text": [
            "Some weights of the PyTorch model were not used when initializing the TF 2.0 model TFBertModel: ['cls.predictions.transform.LayerNorm.bias', 'cls.seq_relationship.weight', 'cls.predictions.bias', 'cls.predictions.transform.dense.weight', 'cls.seq_relationship.bias', 'cls.predictions.transform.dense.bias', 'cls.predictions.transform.LayerNorm.weight']\n",
            "- This IS expected if you are initializing TFBertModel from a PyTorch model trained on another task or with another architecture (e.g. initializing a TFBertForSequenceClassification model from a BertForPreTraining model).\n",
            "- This IS NOT expected if you are initializing TFBertModel from a PyTorch model that you expect to be exactly identical (e.g. initializing a TFBertForSequenceClassification model from a BertForSequenceClassification model).\n",
            "All the weights of TFBertModel were initialized from the PyTorch model.\n",
            "If your task is similar to the task the model of the checkpoint was trained on, you can already use TFBertModel for predictions without further training.\n",
            "All PyTorch model weights were used when initializing TFGPT2Model.\n",
            "\n",
            "All the weights of TFGPT2Model were initialized from the PyTorch model.\n",
            "If your task is similar to the task the model of the checkpoint was trained on, you can already use TFGPT2Model for predictions without further training.\n",
            "All PyTorch model weights were used when initializing TFBartModel.\n",
            "\n",
            "All the weights of TFBartModel were initialized from the PyTorch model.\n",
            "If your task is similar to the task the model of the checkpoint was trained on, you can already use TFBartModel for predictions without further training.\n"
          ]
        },
        {
          "output_type": "stream",
          "name": "stdout",
          "text": [
            "<class 'transformers.models.bert.modeling_tf_bert.TFBertModel'>\n",
            "<class 'transformers.models.gpt2.modeling_tf_gpt2.TFGPT2Model'>\n",
            "<class 'transformers.models.bart.modeling_tf_bart.TFBartModel'>\n"
          ]
        }
      ]
    },
    {
      "cell_type": "markdown",
      "source": [
        "    Nos bastidores, a API pode assumir o nome de um checkpoint no Hub,\n",
        "    nesse caso, ela fará download e armazenará em cache o arquivo de\n",
        "    configuração, bem como o arquivo de pesos do modelo.\n",
        "\n",
        "    Além de baixar, podemos também especificar o caminho para uma pasta\n",
        "    local contendo um arquivo de configuração válido e um arquivo de pesos\n",
        "    válido.\n",
        "\n",
        "![image.png](data:image/png;base64,iVBORw0KGgoAAAANSUhEUgAABEYAAAKjCAYAAAAQ4QoeAAAAAXNSR0IArs4c6QAAAARnQU1BAACxjwv8YQUAAAAJcEhZcwAADsMAAA7DAcdvqGQAAP+lSURBVHhe7P33kyTJlecJfp0H5xkZkZGc8+IFoFC8UAWgAHRjprt3ZrqHrdzuzsidyImc3N2PJzL/wMn9cCIrcrsjtzs3rHu60ehGAygU5zQzqyqzkvPgnDPnfu/7zNTDwtODZXpWZVW+j8dzM1NT8lTNQs3eczW1UEGAYRiGYXxdrHbVCfHLi+CicRlcN75L6AGvKJU+Ryqv4Xcf12aBf2dd33BbWuMbhmEYXxPmGDEMwzC+XjZy1fENI5fELljGWhT0Uxk8Y96s89vBtRpvM926LkPynZcjxKVui6x2wFxiwzAMw7iLmGPEMAzD+Hrxrzru4rPM7mFg6VWJEcw4uj+55bi7k6P0JFmi0rc1IWfAGxtHjsWyoyFtyU8hn/PaVdtWpLBKG1vzG4ZhGF8D5hgxDMMwvn7kyuMuPmr3cCPPFSF4VQqL+LaT8R2mkse30nc1du5VnmxG2lUaNizCZYH/6Ctg7W8YhmF8DZhjxDAMw7g7lF5dggZOuSuPCxObCbmAOJupUgaSGVr3Fjzu7phU4o6kEnkEsfNl47g247JU+P/MY8Slc3yS4HkQpFyYYRiGYVQYc4wYhmEYd4dyV5egEeTgOkeLpEQm0sDMnKxngUwOhWQKIf6qfCfWUdmkZm3dG7iDT7heetK44+Qv9ZGLNY5dpW9r9HEPY0O4wyTCQ1YIFRCKhhGKx4C6GqCxHqiVHbJZPJxuWY7V9hmGYRhGBTDHiGEYhlFZVruquH1cuhEhCyIzi8hMTuPC519icmgEhVQGEbGXM+kMwmExqCSKg+sbunDJZU7jy1cw3YbyKMNyW83bul37rZwuldHP5eItb1+/pZRBvUp13Gj+TkedeUKMZ3LrnB4hv3wXLstV5qTQo12q2O0ixWhJKxe3MYp6VTjDe0k/Ser9x3nfefnQMRKORlBbV4vWLZ3YuncXqja3A43VgPwhLhIcPbJW8ZWqr2EYhmH4mGPEMAzDqBylVxRu+0ZMISerHBwQFaERtChydQZXP/8C169clX15NNTUoraqGnXVNaiOibWU941miUq41MkbmfFGrl40tkWKSXzjeyNZBFnSx1sL+Ya6C98oTg9n7xe3/eVGWdKPObANvZx838OG0VzkS3/9d9tayq01Lg25NcYSmoNkvFocj1LnyNeJ1LZSxbLhKl6He0+/pfO4gFwui2w+i3QmjUw2i4xsD4+NIhSLYvvOHdh3/ChwuANokASuaNUjsHQEVatUnQ3DMAxDMMeIYRiGUTmCV5TgOh0hHB3CsKzI0AL6P/oCi0NTOiokHoujrq4G0WhUJIJoOIJIOKQOBxrzHDNCO4jfXG7IMaJOEVHAOUOKS13cNtRLtVE9fP3Wq1MJzuGg604qol9exMtR9dM9G4dvVw3q5blaiu4W/SbB/IvrEmmlchkeXodjxGnvlfc1ooq5mlcCrx4Vze5e1E/+x5iT/p/KichbzUIhL+eRSD6Pubk5zIvMzc9prNqtHdj1/BPAjoQ3eoTl04mq9SvBhZXbZxiGYRi3iTlGDMMwjDun9EoS3Oa6254V6R7A9dMXMHyjHw2JOjQ3NaOxoRGJRFyNJo1MY1nFM9LUMeIbW2oRbeTSpY4RCr0zHkWVvAw3jiRmUqfRHXsxiMvKF3K72ToHjee+8Nv0TpDkzn3h9KODyYWVoqFFHVaG++gYWR9S3mqZ3RVcbSsJK1Gpity7+jnXyFJ2vp5yvAvyf57OZDA5OYGxsVFMZ1Lo3L8Lux97CNjZANRKPJ62wcdrmDyoVnDdMAzDMO4Qc4wYhmEYd07wSlK6TuFoEb5t5vIAek+dQ9/NHjTUN6Jjcyfq6xoQjUT1V2V1jBTyul4cfSFLb8SIZ2rRQbKxS5eko2NElk4dT/T37NvCy01zlo8bz+IHbjRTP6nTi/j+oAroJzlIe67swlgfqguz0ly45btb1DnisSx/CVRHltu5Ap5e69NtjazuEq7USpXuanonRyPIva6f/O9qVm7UiKennhuxqA5Fmp+dxeDIECamJ7Bt3250PnwE2NMKVEnEiHQdYV3cWsXKqWgYhmEY5hgxDMMwKkC5K4kLc5Os3pzAjQ9OYvxqL3bs2IXahkaEYzExnCIiYUQiEZ2PgEPuNa1cnmj78Crlpl9VR4SseleucoWWw1lQYsxLEk0vW5T8uvNYDnOkLp5eqpWuaea3idOJVM4x4o0WUefD7WYmqC6anm3oZbTkFClfZ88ZtTph1cvTby3WjnE3YKkia1dlfWgl3NGpBPe2fnreSVaamxxnZu8cm6FwWE4AbxRXIZvB0PAgeocG0LhnK/b/4FGE9jTpW2sKEZdeoy5RGRUNwzAMQzHHiGEYhnHnuCtJOWOFtvkEcOU3r2K6ZxhdtS3o2NKFlETOR6KI6Hwi7jEX/qqcLxrxzC54mdJwDdTNDcBEnvntnCH83nA2PuoIkSx1WeC6rvl7N05QD+p3J7o5vBrn/V/seRC8sI3juy3851iW2s8roRyM4TlGVi9RDWc93q625WtdDF09u7sASy6v0+2zdrusn3tTv6X/X+8soY66dE4RnhvB20/ujEQwODiAnpkx1GzZhGMvPw+0Sjgnayal1bwzFQ3DMAxjGe5O1DAMwzBunxIjRW0YftEenwMGPj6BmeEJtNQ2oHPTZjGMooiIhEIcJB8WG4kGk0TP0zHi20z+kiaVk7wYVHwwRJe3ITrxakjKU1nKd8Oi9XXbTkdV+bbEsdL2RsXh9PIOkNN3o+Knd+3nh7s8V5OgTiuLOz5y/FeQYpYbpLSs2+M2Cl6RSubluPf0C7a1W9dj4DtDuNRtJ/zK5dHa3IKm6jqkxqcxfuGKN1GzYRiGYXwNmGPEMAzDqAy0qXxLR1/Ly/WUyPAkLp85j3ghjOamFqC6WiJI5HBYH0XhaAE1lGgd+elJYLXiUFUd4yErtyWagw8D7hLM+Xak4ujBkC93QIrbcqBvEedO8cRzo6wsLp4nq6DPF21MvOPkia6XibO2sHBZVkK0mlxWUiTPcmXdjlRIv2C7k/JHvlSAeCKBdukjGsNx9J+/CoxmvbmJ5LTSCA4vW8MwDMOoGOYYMQzDMCrHki3ksZjD8M1epKbn0VTbgNraOtkfQo7Pd8iyGFWN7KDl4+Gyq5SQ4JKOmduRYB7eYzSVR/P2VjfERtPxsYd1xWc8Oj30MPnHq5zomB6u+44SWS81gZ14cOnWV0B2e/Va/0dT0FAvWb+tD439Ssjd+pQr63akQh/X5uWPejnxfB+cv6a5ph7tVfVIDk9g4XoPOOJsGczaMAzDMCqMOUYMwzCMysOrC62dqVn0XbmGTY3NaKqrRzQSUwMo+OrclVDTik6Hignzq5R4eepGCWrmS/At4u1eE89MXJJSE3ItKU27HtSfsSouTw+pzqrCqMH1lVmzYA/JyIvJ77Ul2BaeM+fW8PXJ3aJcWbcjd4tyZd2OED0LVoUxM1lOvCwr0jfUxKvRVFWL7vOXgWkOO2O4L4ZhGIZxFzDHiGEYhlF5+BaauTySw2OY6h9Cc20dErG4f9HxzfUyToUgalqJpVQZ8V4B7ES+lm1vXJbyuwW/Wqq/L0qZ6i7PU8R/ZiCkoy7uXJhXad1LxZvsdXmYE4dXD++j9qkE6DIgDiZjPP554V5eK8m6kUIZezUhTpegbkEhblkuj+UiH4lcUdEPl5WQe10/h2RcbPUgXjjHYUXCnGVVFUAsUYVNLa2YHBwGxiaBpOzi6cx+xTAMwzDuAuYYMQzDMCrDkhUEcE7VbA6pqRmEMznUVVUjFhHDJxQSY1iiOuHHN5A98Y14PzN+V06Wb21s5ECpeKipt7S5IqtFWZZr8auSUj50LSmFRrNHub1+WzgCUZaFl6V8fkGcTgU6R1YTP+Zqx9bt00+5PJZJaeoKCPMsW9btSEnelZAK6rfEameBt09HYBEmC4dRm6hBJJNHZnwamGeY7jUMwzCMu4JdZgzDMIzKUGr7ZHJIpdKIRCKoqqpCiK/k9Z0e6gDhWAW3HfioZSThbiLPuwlVvhMht4SLypQwl4Hwbz9SC/nTI0LDt8zH28uKB9ZF6IwoL5XHlVoOhnvjaITvxkG5t/HPlyUpPQOW9ukIMl0hYe0vstkc5ufngXTGjpdhGIZxVzHHiGEYhnF3yGSRy+URjcYQj8XlikPLRiyfolOEy6BptCRLn6IZe0+iThB/3cHtonC/H4cPDOjKPYrX8qvhKy+L4BEq/RSdIiXOkZWlgvgqrpazNyLC3zDuPsW25ko5WVp4yIbvJKFfNEOnSNaeoTEMwzDuLuYYMQzDMO4OuTyy2SzC4fDSMPkyVNg0vidgnfJS5ZzUOyNX2qwsPWN85Xa4F1C9RXKiZlYlpJL3j5/3K7+6P7yqlJNvEv9kKlVl2Trj+PEqxt3I8zuAa5b1isJzTYT9RiJRpW+qQZ5npWB3rYZhGMZdwi4xhmEYxl0hl88hk8n6W8sJziuiPwtTviOwJoVwCHkx7HLRELIRWcrVVn/zvsfrSZdHliL6FuJRIBFFPhpWJ0+BxqrURQ+Xxr1zqTTqEBEFC7kc8iI8v8Kqd8Rz0FF5MbJ1WSkFJC+e65Tv0nn8jeA7RSihUBjRWFSdq/Ll7bfmNQzDMO4S5hgxDMMwKkOp0cLtZYYizVYP96pbLm75ef9bDkeGZKXec6kk+kaGcbm3G0MT48jScF6DYHN83U3CY0LnAZ0gUwvzuNJ9E+evXsHI1CRSObpLCsjnV378abmsj/XH3BiRWBzRqipEolGkRfes6E3NOW9FRAzusLTuHbWvHF+mV6eL5BmNRFTYhjynv+5j911E25ItebdOEsMwDMMIYI4RwzAM4+5BI5GWotvwxTd5uNNfk281KmWdf97C33dvU2q36awokRBGpyfw/mcf41e//wecOP0FUpm0VGgdVh6j+NHudu29NvaENwQ09OlE6BkcwN+/8nv89d/9GpeuX0VSdI9E6E5YXael/YFK+KyUdh0tsm6YFx0gnM9mdn4O565fwdsff4ivrlzE5MK8joTJczSPKLLxcpnCF63I0npY8uQ5W6xgcb9x2yxrS7dhGIZhGHcHc4wYhmEYdxkaNb5hw+EU6vXg5WfJ2HExPPE+Re/IPYBvAi9DVfP1c/tVJKwQCWNibganzp3Bq++9jS8vnEUym2ZUSVOa03KYpWa7erTKoRa9pxbbPVfIY2hsFO9+9CHeeP9ddPf3IZ3NIMJHUfxauneK3CKS1dJh876JW+NyKXSJilVVMucjPxydc/nmDfz+zTfwX379K7zy9lvoHR1GihP+hkXTlRTxWXm3V0/JQtfzkl8mncL09BSmZ6Z1nZMK6xuVlDuo2dd1/O9xtKlXOVaGYRiGUQnMMWIYhmHcJWhEejZNWB0hnjMkJFapF851WVFcTEqQ0u2vh1JtgjaqC9cwWSmExNiWiniSR14kJ59CpICcrKfyaSSzYjDrLCMcz8D4Xhqmd44E5ypyQoLNw0dYgo+xqCOiIEa6bDoJpg+KW3OpFX8lzMdC9NEQb6k7RKkQ5xaJhJGNhETzPLL5LLK5rNZAnT+isHMwsA50FmgelOK2F+YV5qXTQG7JUoXrASFMEw5IMA/dL4ulc8fDz1bnE+HjM5euXsbb772Lz/pP4oMPP8DgQL++4YSOEybVkT2+uHXi5SPfrITfHkV9uO2HsR1S0iYD0xP49PwZnLp0DsMLM0hra3lxyuOO5PKPF98XKcN7+GcpTHWQ8KAUj1tAXPrlsFbrkXuRe1UvwzAM47uEOUYMwzCMylBiv+im2GfqAKGRqSFc5ySYXhjX6TThIxzBj4vr4ZZfM76NGYQ66/wUohKFhitHDXhmspMcwjE+rpFHppDVJbfpDAEdInSaFCSOXIEj0bA+ohIJS76SnzoTtF28MgidByEx9hFhBCqhoZKHNzKBxnBEImsbBvTVdRUvI67mJHZOjGam0rd9+MY1cjnopKQSyzlH+LhJVjLRx0+kbE68Go5GvBrKPrp5+MhQhJO0yrZnmAv65eVB0Y/kyQ/T6kedKmwT0UNDuL2UgrCqTlw+jKs6c0uWrIMbm+HtKugjSxwVsmfffjz19NN4cNNxPPmDJ7C1Ywuq4nF97IWNy7yYXo5GUZaOr5Qg+7JsF1nyGHntK+Xm2Yqil4TNppM4dfk8/pe/+k/4D7/5Fa6ODSAbYztRa68ey/FqR6dYvigSwPZgEraBHFM6obSueswZwaszJegs0qXoxHXGUWGdOPFsnttMS1lOIPYyKRf33iCgl6eoYRiGYVQU737DMAzDMO4CzpyhueltiXHJD50jgU8w5q3yzeBKV6NRNzxdiga8GLVqzIrQwNVRIGLO5gs55Aqc8DOjkinIUrY5igRhpuGbX3JIy750jnEYn84SOjpo5Pq1pnEuQsM5I/s5/ak6JGhMc11Lo6FdYtLKpkQpQn3pPGBanVvDn2CVzoOQL94cGb6BrYm9fFkvvlFH6yzCQugcobHOulMXb1JZX2/5CgrzKubDpXyKeuh++ZK8mFhLZZhARxHbQ51O3M04WqZXLuNyX7AdnAKhcETShNC1tQsv/eTH+Df/9t/i5y+/jM72zZJQ4vONNRKXbVKIhlVyHBUjYRQpXB0+fBwqkohpGB8l0rfOSDlUhceYpSfluE6mFzA4N4XxzALm5Cil5Dzg40h0rHiaLuHV0Tti3rp8ybbqIqLHk2FSCNuMx515aXtJMOHu4JK4/NgWPCaQYxSKRRCJxxCNxyUyT1QtTGJ4y3LilcH1exTXCG5pGIZhGBWCV0rDMAzDuKuokXzPQKtqY+J+4c/ks5hPLSItS4jhWRDJxSPIxEL+xJ5SVzGoaYBzNAeNdxqrGUq4gJRIRgzxLF+DWx1H1k+bEUNcX5FLg1w/nuFOozwrkpayF/IZJCW3nJSZr4qhIJKTfDIR2c9SWLakFK18E5c603hPYzGUkXIlrCqMULUkSEjkOB+TYd55XbIc53TxHD2eFmpKyz6XZ0jqhJzUn8eUjgXRmc4Sda7QayB1T2VS6lBhnag7610QXUNS51AihpDEZ/6ZHFtGSmFegkTTbLNSRlrKppMhyTaLSTmsM9tN2oxtno9HPd3piCjqzUy80TDVdbXYsWsXHn7sUezYvUu3uT+nb6gBFqVstjuPR4rtwOMg+U5mk+idGsP1sSF1eMzTuSX7efwyLEvqxHyirIcci3Q+h0XOLcL2l7zYFpFYVCTiO73U3aEfr/2WRn3o4zASSueIulpEH0g9wzUJhKrico5F1fkyl0lqW6RVB8/5wQ+PE51sBb990okI5iTOgtRlTOrRPTmGG2PDmEwu6DlIDQzDMAzDuJXIvxP8dcMwDMOoGIXJRUz3DmFhcgZbNnWIASjWJREr2zMRPdQw/Npwpa5uIlInOgP46z2NYBUxYhcWFzA8NoqxqUmVwbERTC7MYSGTlvghxCNR7zEKMc6HZN8XF86iZ2QIu3fuxPcefgQFMcqHJyfQL3mMyHJidkaNapYV46/7fGQm7xnLzrFAyUVDmJyfwdjkJEbGxzA84ekwK/pks1mdV4OPiYRyedrYmh/JhPPqTFkspDGfWsDEzBRGRK+h0WGMjo9gWsrP5LKIJxJeItF7QYz57uEBnPj8FBaTSTzy0MPYv20HmhJVohsfIxFjXHQem5rQ1xHPTE+jKhpFPBzRx0sy0hYj4+PeZLN0Xkj5s8lFTM3PSbkjUu4YZqTcVCqlj6rEdESDN6bIP0PUMULjnzOzzOXSUvdZrfPgCNOPY3puFqlsxndE+U4ZJpQvdZDIalL2M93I8AhSi0lUV1V57SvHkW07PjeNAWkDvpqY86jQ0TUwPISzly/i5LkzOHv1suqbzKSQqEogGosWR65kmLfU4Wp/L764dB5nLpxDoqYKW7Z0IpbNY35sArPSLp5uvn6qII+td3xV3Iq0W7qQw1xyAeOS78jkuNR1CJNyvCZnp0WHDKpqqyW+pNZ8RA0RujqYbpzHVeJNZ+VoS5uPzs3gqyuXcfLMaVy+fl0ddO0trXqM1sLPvkK43NbI1d/NBceS6ZrUa3h8FLUtDajf1gG0yHnCf1uXlVsahmEYRgUwx4hhGIZxV7g3HSNkNafI0j6u0cCmYyIla3OpRXQP9OH0ubP4+NQJvPfJR/jk5Alc676JyclJJKJRNNc3IJYQA04M3eGJMXx5/py+DWX3jp144PBRDPcN4MNPP8Ub77yNDz/+COcuXlBHRyQeQX1TI+KStpDLSpsUvFEcUnY6JAZzehFXbl7Dp599ircl7SeffoLPz3yJ6903dE6NuoZ61DfUidI6ewjHEOhogkyEozXEwJyZkLLO46NPPsSHH36Aj6XsUydPobu3R4z8LBobGtRxQAdLMp9Fz+AgTnzxORZSSTz8yEPYt30H6quq9fGQsBjedOq89cH7+N1rf8DNmzfQ0daO+vo6RKoSYthP44sL53BR2iUiYQvZtLbRp9JWb7z9Fj6W+l++ehUT01M6cqROyo7GImrocxQFH5fJUW+p96y0ec/wIE5+fkrr/ZHo/vmXX2p6Op6q6moQo9OCozToZQiHkc3lVUc6oD6Q9vqbX/0Ks3Oz6OraggYpi+Vw9MSNwX783Su/w9Xu64hIu2fFEP/d73+H1954He+8/x4+PXsS589dQK8cc5bT3NyEurpadU5MTU9rnFffe0edKBNzU0glUxgcGMSlL8/g3MkvcP3adWzfvh01NTWiH50qRZNfhQ4OnmN00uQkzwlpt3OXL+GDTz7Gex98gPff/wBnz53DwMiwjp6plWPMR2M4IoluIObBEUUZ2ffWh+/j/ROfYGhmEs3tm/DZqZP47e9/j1ffeBVnvzon/3khPHTsOGpicm5qypVZfe9Gcbmtkau/mwtzjBiGYRjfBOYYMQzDMO4K965jZBXE8HcfTn+pozb4WML8DD7+/AT+53///8FrH72Nm319alxzJMmFixdw6ouTmBoeR1tzM3bu3qVOiYHRYXx58bw6RtqaWrA4M4s3X30d5y5cwOziPGbn53Dm8hmcPX8W42LER2sSaGtr0Vbi0zjqFIkU1Cnymz/8Dn/5N3+lTo3xsRFU11ZjanYKX3z1paQ/h8m5aR2tUFdbgzwfEaFrJBqS9Hn0TYzir3/7a/zq13+DT774CJOjE6hOSPqpaZy/fAFffnEakxOTOC6Gc1VVlTpGeocGceLzzzGfXMRDDz+EXVu3oS5eBc5PMpdO4rdicP/DH15B70A/jh45iscffVQdIzlR/Fp/H/7rb/4Ov3v3LYxJPU9+8QVeff11XLx8WVq0IHWdxLlLF/HZ2VO4fPkampqbsKmtDfFYDIVsRh9PycfD0ubT+OjkCfz13/2t1P83GBsekXOlgEXR6frNG3j/9Ic4f+6iOlJapN2bGhv13KJEY3EMTY3LMTuFVz5+FVWhBB44fhwtLc1ib+f08ZsLN6/i7199BVduXsewtOlnJz7D9WvX0NrWiu27dqC5sRmT01M4N3ARszMLaN/cjp3bd+joj9nZOXVqXe7rRt/kGCbS04iH4misq0NNKIp4roCqeAIPPfgQGiUfjjaRU0sfo+GZTzXz/D+Q9uIjTP1yjvzt736LX0ldPz71KWamZnTC1/HxcXx57iw+OXUS3X29aNu8WR1oCY4O4sgXSZuLAu989IG055d6rOekzf/bX/0VFubm0SJl79yxE8cPH8HhPftQFY3pab7af93Ke24Hl9saufq7uTDHiGEYhvFNYI4RwzAM467wrXSMiDI0Wmlsq3eCIw+mJvC+GKv/7dd/i57BPhw6dATPvfgj/OjFF/H9x7+HLR0dSIgxvL1rKw6K8dnS2qITpQ6Nj+DMpYu4cP0qZienMTc+iV3btuP7P/iB97aUhx5ELBbzH40Z0/klDuzfh6baWoTyBZ1PYmR2Eh+e/BS/+vtfYyG9gGNHjuClH/0IzzzzNI4dO4ampiaMT0/i5kAfcrks9uzepUZzTtKmchkMitH+l3//K7z94fvIy/5Hjj2En/30Zbzw7At46IGH0NHegcaGJnRt2YLDhw7piJWUxOtTx8gpzCYX8OAjj2Dfrt1oqmvQx1fe+/Rj/O61V3XEx/EHHsAvXn4Zm1vbEBOjOxMNoU/q/e6JT/HV0FUMDI9LSxSwd/duPP3UU3juuefwoKSpbWjA2MQkekZ6MTc9i67OTmySduPjQJzHYy6XwtuffIBX3ngdl6X96JD4+U9/iuefeQYPPvwQtm7fjlAhovtoPNdUVUldNqO6xh/VEo1gRPQ7fekCPr/6BbqauvDYY4+hrblF2janDi86rD798nP0Dvchubiozpmf/vglPCN6Pvb4Yzh48ADqmxtx8dI1HQXTsakde3fuQnVVtRrvndJmdZtaMbk4j6v9V7Ft81b88hd/hJ8+8zx+IG37wLEH0LG5U51N+giMnF6RcBhREb4xhk4RTvrKx6n+6u9+jbfef0/nI3nk4Ufx05/8BM88+ZQ6c+qam6Uukzhz+Twmp2ewqb0dLXLc+VgMR4uEq2I4efY0zl+/oo9AjYyMoLW+ET978cf40fPP49GH5PiJ3m0NjYjx5Nb/OEp5Vt5zO7jc1sjV382FOUYMwzCMbwK5NTAMwzAMIwhHgmRE5jJpnL18GW+//z6u9l7FgT178fMfvYRfPPs8nj7+ML53+Bh+/MOn8Wc//wWe++GT2NLRqQ6KfJ4P4YT0V32+wYSOjt3bd+KZH/wQzz/xJH4oxuoPHxED+IUf4cDevUimkrjWe1Mfp9B3n4RDOvfI9e5uvPnWW2LsDuOBo8fw85/8FC8+9xweOnIUjx1/ED9/8SX84Ps/QDgWw7uffIRrfT2Y46teE3FMLC7g5JkzePvd95BJZfDYw4/hH//il3iJTpGjD+DxBx/Bj597CX/08h/jie/9ENXxhE5+SuE8JYSzYej8KmLMz6QWcebSBfzmD69gaGwURw4ewk+eeQ57urbpSAQ1/WnwM6EY4Gn5VFdX48HDR/EzqecL338Cj0t7/VDKffmFF/Gj555HY3Ujvrx4BucuX8TU/KwY+XGdrJXzsnz6+SlcvX4NzU1NePmlH+P5p57CI8eO45HjD+DZp5/GL37xCxw5elTnBfnk5Gc4f+miTnZKDagLPxyhwvbkCB4nftWkchKvkAc172xvx4vPPIsnH30MD+zdjyM7duPhA4fkGD2GbVu7ML+4iP7BQYyNT0i6EOKxOHZu24H9cj7QocJ3BtUmqrF3504cl2NzXI7VwX370VjXgFg4Km0aQkSES6bnm3MQiWBmYQGnL5zD+x9/qCOIjhw+jJd//GM8K+fIw0eO4ftynvyEbffsc2iqa8SJUydx6ssvdJ4bvspX39ITlbw4CWw6jYXZGdTLsfjlCy/hpz94Ek/JOfro/kPYtXkLElKmewRnNTEMwzCM+xFzjBiGYRhGCXRrZMS4H5yaxBfnzuLM+XOojdXihWeewRMPP4w9mzvRHIqiXqzuHa2bdITA8YOH9Jd8mpeeWS6GeD6POKLYtW0bXnruOTxy9Di2tLahVtLWReI4vHefGNjb9C0mdIpML84jK8Z7OBrF9Pw8Ll29gs9Pf4nNmzvwwx88gUcefAgdUl4iFEF9PIGDu/bge48+iu27duLqUDfOXb+K6UwKaTGaBybG8eFnn6Fnvh+7xdB/+odP49GHHkVbU5uOcKmOJrCtcxsePPogDu07iEQ0XnSK0KGjRjRHzoTDSOYyuN7Xi1feehOnzp5B57YuHVnxqNSnWnSRlJpWX7FL14Ok43L/vn146gc/wPePP4TOxmZU5QqoRQT7d+zEDx5/HHv37MEUpnHlxg0MTYzpvCp8lOf81cs4d+WyKBLCg8cfwDM/fBJdm9pRHYkgIbK5bRMeevBBPP3s06itr1MHyulzX2FuYV51INr+or5OxkqniIaoX0IdAJzLpcD5VarrcGT/QTz9/SfQXt+EhOgYXkyhRhJ3NLfoSBHO6zEzO4vpmRmpWljbiDdQEVnnCIc8sur8Cklauh+i8q3OEGk75xSJsj21bUUknA6bofExfPDpJ7gx0YMt0qaPS5vwsZem2jrEJF5NNKajVJ584gkd8TKDWT0Xe/r7+LCUvgWH5wvnKMlk06iJx/DYseP48Q+fwr5Nco6G42gIxeRciyHKimvNKYZhGIZhBDHHiGEYhmGUIoZmNBbD0PAwbvZ0YzG9iH1ixP/w8e+hta4eYoUinM+L0VsQg1cuprLk3BX5fE6NYT46kc/lkc/mUJVIYFvXVuzcth3xaBTZZAq5ZBq5dBoJKSORiEsaiS955viGGUnP1+BOTE3iRs9NdRzsP3AAmzo69DEXTio6OT+HeUk/m0qiqq4WbZs2ISPGeU9vr07GOp9O4Vpfr04UG5XP0UOHsW/HLlSHosjMzquRrCMYpA6FTAY5ETXYfaNZHQoi3oiEMAYnx/Hhl6fw6jtvobq2Bs8++5w6Jmo5YavXXIJkoKMw6BxgXnm0NjWhpbER8UhEysmq5EVvxqmvrcXWbVuRQBUGRoYwODqCBdF7Lrmooz+GZXtT+yZ99KarcwuiYuBHEUNYZxzNIRGJ4uD+/ZJHF+alHa50X8eo6Mk32lAXqkQXFSWIqsovqRvbuq6mBs319UjwmOdFdzlmPL5sF9atVtqXjitOUpuR8IjURbNUkeMubahlyLHPS5y8nAd8nIdB2TRHD/FNPixOyhOhU4TOlHQqhcHBQZw+fQZpOXqHjhzGgX37UJeoQnZhEWHRI5orIC7Hqb2xGQ8cPY66UCN6h4bQK+kW2I5yPlEN6kHhPC+HDh7Q+VZCIdGezhq2h45gYrw1xDAMwzDuU8wxYhiGYRjL8ExqMj01hZnpKUTDEWzf2oWGmmoxzQUavzQ2xRilkc+BFZwsk4Y2jWKXA4UjBmgIq9OBaTgiQdZjYtjTGGV4RJZhOlLopBBDOp3NYHZ+FvPz81JeXB8Xef3Nt/Bf/uZv8B9/9Tf4z7/+W/xv/+0v8b//5X/Fr3/7W5w9e1ZHKnCuDDIny+6hAfQtDqKjthPbu7rQVFOrk4JWh6MIZXLqFImIrtEQxdOVtjFNaE4MmmelOHJlYR7vn/gMv37tFfSmR9DQ3IzNmzapQ4ETkfKNMPSqaL1FmCcdRbzB4Ftw+bYYOn4Yl0tdl5LoJGpsbJBYYUzOzWB6fk4dP3RszM7NqQOhra0Nba2tSCXTopzUsBCX/KOI50NIiOHPV9A2NzXqG2VGZyZ1xA3n6SCsjz4axHVtZ8Ia+iNHRPiqYjoy6Mjh/BsxCeUySgeGhPFLHSGyzFI3jjJheBHP8cK4dIhpQVJ3Fe6VHXndlC+u6PH3zpt0MompiQlMTk6gVj6bpE0b5BhFJQ6dNFWSX5y6SPzaSBxb2jtQW1+P8dlZlZSEy+GUItmern48dlIvlsNzUdraK9/faRiGYRhGWcwxYhiGYRhFaF6KUUxDknZs1vv1n29MqautRXU8jiox6GOcmFUtUXUjeJanCtPxiwYr13VVUeOcIuueIeuZslqihLv5PdS5IoGLYjjPLy4gJ58LFy/hzbffxiuvvYZX33wDr4j89tVX8ZtXXsF777+P3p4eMa1r1IFDp0smm8FCKoW0pOWreNtaWlETTyDEEQ9iKdNxoY/L0IlQYB1ZD091rZGUT+Fkqx9+8gne+eB93OzvQwQxDI+M4OrVqxibHEchElJHBtMU/AprfXTp1t22v+47HegoSVRVaRNxxAfLojGfEyXmFhY0PCbtHYvFJb7UqsDHUyKIFMIi3oiXWCSiI3L4qMsi65xOSTq/LMnAlend7HjhHp5zxKs1JC9PwtI2dOywbRhHRTJyn7yGe3uWYL4iekr4JWjB3JIPlxosqZhe2xzIybmVSadltYBEJKH1oJ4cVcNRSHR0MR71iociqKuu4abWk46vhWRKyuDRVhWZUoWPDGWlnKxs6XHxxVPKV20NMQzDMIz7De9ewTAMwzCMAGLMijWpv8bTEA+LQR6JgvNCcD4HHVHBdTFAc2JM50X0TSNi9NKRonN1aD4BwzRocS4LLBEJZ140wpk3o3Hi1qe+9wP85Jnn8bOnn8fPn3kBL8v6T599AT97/kX845/+An/+J3+GJx5+DI1VtSgkMwils56hLXWgoay6S/6SZbF4PpVCAzorteGcFd58HHSKyJcIHyG6ztfszi/isUNH8aNHn0Y6lcQnp07gzJVLmMylkYp5r5wt5ieir5H1t+nk8ZwUbKecjohhWXz1Lx0aqgvjiY7OaZDhiBxp87zUIJPLI5tXzSQTLvnxXC3a9rLUx1MCTgJvpIjn4GBMZuqcHYxTDn1zjETxhMdSQ33xUhYYJyiBfer94BCZMNdFF9l2H+5nm/Lc8UTaSXSncD8LoxMux8exfEeT13ZeXG1LaQM6Unjm6TwmrLNXuGwFNNFqshJcLulAvKW3Xhats2EYhmHcf5hjxDAMwzBKoAEZCUWQiCb0kZd8No/5+QUsplI6EWmGxr1vwNKBoXYojUp6HdTYFRjOINlgvFKbU7f1yzNWi0arhNGorqqqRlVNjYbt370Xf/qLX+J//Of/Cv/Tn/9L/Ju/+Ff4N//ivxf51/gf/uJf4r//p3+Bf/4n/x2efPRxtNTUIVEIoz5RjVpUY3Z2FqPjEzrCgJO6Ol3U+Ja1jFjS6hxx9eF+VSWEFBZ1FMWxfQfwT3/2R/jTn/1C50u5dO0aPj3zJa6PDiETiyArdxNulIka/RTmL0uWJQtdoXGvoy7EqOdDKbM6IqaAmtpa77W2GjmEOEeSRCI6j8bcYtLX2dOaS28NSOdySEoc5hmLx3Rkj3OMsMwlYQrvuLgRK96Xg44M3hJJTKk8xaUkeny55H6J580q4jLwl1InOnsQ5qM3Xl7uw7jqEJH9lKxsIyrnV6IKVXKcUnlp6QVpC6lPWB1CPDYhfTMS0/HYLLCtMllUR+Kor5H2isf1MSAqxzpTC68k2eB5WAwTVPniVjG8nGhcwzAMw7jPMMeIYRiGYZRAAzEqxm1TfQNqxQhNZpK42duD8dlpfYVvOs9f9mlBhvRVtnm+OlUSeSFqZnvGedFolY8YuKU4I1/3iTAdH4episSwqbkFnZvaJayA7ps3kUwm9dGSeHUVYom46FWDRCyur9nlYxacn6K+qgZV4ShaRe9dnV3YUt2O8fkJXO/pwdjsDLLxKDLRMDJhMdIlX45EoN7q0JBtGuRUhXro4yWyfXjvfrz05NP48RNP4dFDR/HjZ59DdSKBcxcu4NRXZ7CQy6gDxHOosB5+nrLN/Jm3jq7gfBciYdE9HI9hQerT28e3q+TQublD5y2hsc+JWjdLvfmYzNTUFMYmxn2nC9++IiINS0cM855fWMTczKy+Daappg4N1bXF+UE854jnKHCOA970OJcF6+hQtdWZsRyNL8fQzZvCFMzPjUZhWJT7ZZtHk6J1l4R0/HivB+bSaw+vHt4okGo5ZpvbN2tdF7GAqckppDIZQNqGxyclFaBLKC3LRWnjcWmHSD6PTjkvNjc163HOp9JLehX1UzW8Oqvo2eeFC25pGIZhGMYSt94FGIZhGMb9jhiZfFNLW4sYoZs3i50ZwoWrl3HpxnUs5rNq2PNVtnxdaoiTj0ajgD9JJydlpVGuc1b4xqlnjIvQAtfsJVDgtnv8RrdFOEKDr3ZtFwN4z7YdaA414ebNmzh/8QJGpyZRoOEsETMc4UFjWPLgRKaJaEzLpLFcH6/C7i1bsW/nbjG553H24nlc6+/FTD6DZCQkxrYY7nRSxKKIxuOIuJEknnoIcSRCJotWNOKJRx7DkV17UStWfR0i+NGTT+OBQ0cwNjqKd95/D9e6b6qTgiMmwtIG8VhcH2thjTjSgaMoIlUJlXB1FZCI60iRnr4eXL58WeLlsLWzE61i7HOGFDp5Du3dh8baOvT39eHMua8wMT2FjMTLSxPnRO+c6E/n1IkTJ3Dj6nV1iBzesx+bm1u17XSSU2kbtr+seE4DWWf1OBksnS4M5+uU+djSSuhxy+YQ4zGRPOggYUpNzTcI5fI6QSpfV5xJJpHOpOW45JCWwjKhvK6zDbzRRVJTSe8cUBwR1Lm5Ewf3HZD8Irh46RJuSn11lEgsgpQUnpLTiseKrzL+5LNPMVeYwi5Js2NzB2pjfAWv1Et0W3KCUGc6fby6+oezuO62DcMwDMNYDq+dhmEYhmEE8IzIkI5keODYMezdvRdj6XH89a9/jY9PncTg+DhSYlSncjnMpVI4cfpLvP/xR7h+44bY/QkdteAm8wyJ8ayjC0rNUhq18gmHIurc4Ktc+WYTGu5MQ2N/385deOjoMczmZvDqa6/jrXffQe/wkI4q4CMWdMpMzczg0uXL+OrMV8im0lpuPBRGR0sbHn/wYbSiGdevX8f7n3yMLy5dQFKu/NloGHmRofFRfCwG929//zvNhwZ7RNLGRNuqSBQ1kRiaa+pQH4sjni2gRnTd3rYZTz7+PWzr3IJrku9rr7+OiakpnQeEb3DhfCz6xh6p29lz53Di81M62iaVzyEtJcykFvU1wm+//Tb6h3pxqPMAHjxyFB2tbTrxKCeHPbLvAI4fOKTtePrL03jj7TcxMjGOhUxa8sliZGoCn8lxeE3aZHpmGof27sf3pa50CHFS1oK0Hx8n8Y6jt+QND48BnQfeG4Vkm84cEcbylkE8BwMn26XzIybtQn10lAjbXvKor67GVo76QBsm5ZwYGBzA1OyM1jPDAug080cTsUXckk4SHvPmxiYck+O7KbpJjtFNvPP++zhx5jSSsp+OEY4YuXTzOt58722cOHkCbeFmPHT4CLZ3dOjoEbaXcwJpnUR4/LS+UrxXf8MwDMMw1iLy7wR/3TAMwzAqRmFiAVN9Q1iYmEZnW4cYaPydndBQpLnqtu499JEQMYv10RWODinkMdY7gt7BbsxOzmJialqdI9f7+3Dy9Gm889576O3tRX1tHQ4cOIBwJIzRkRF8/tVX6B0exO5tO8RwfwR1YrjTGcLcCxKHox9Onv4C5y9dQigSwQ8eeRx7u7YjSutZdIhGYzoSZKxvBCPDnoyNT2BichI3erpx7vJlfHziM5z44gtMSfiBPXtRm6iixa/zidTW12FhfhHjY+MYHR3D6OQEZmbnMDAwiItXruCjzz7DR598gh7R/djRo2hqbJTjUkB/fz8+k33TyRk8Jnof2L4LjYka1Tsai+ocF1PSBnSMjPT2YcfmTn11bo3Uf1zK+OTkSdwY7QUyYWTnFzAxNILBoSHc6OuR+n6Jd99/H+fOnUNdrBq//OnLeOLBR9HR2IwoX2UsJ0Z9dS0S4SgWqGv/APqlDD5qMiRter3nJj4/I23+/nu4fPUK9u3ai5eefhbfO/4QaqV9kctL9SMYnZnCuSuXcOb6Gexq3YkfPP64nIebEJG2pZOme2gQH588gUImh0P7DuCR4w8gnPVG+/Dc5GMvi5k0Tn35Ba5eu4bNzW3qpOIoHo6mUadXNIyF5KI6xHom+pFPA8n5JIakvjeu30BDQyMScg5RHz2lpAWZd0FP/hBisRiqamuwkE2rk6pPjkvf4CDGZ6ZlOSDnxUV8IMfns1OnsDg/j2effErkSezo7NLXFXPEULQ6Lsf/FM5fPI9ILIInH38COzu2yf44C/EqU0SVWJt1Rlsbl9EaGfq7ufDcOiKFHIalTWpbGlC/rQNo8evjsnJLwzAMw6gA5hgxDMMw7gr5iQVM9w5hfnIGW+gYCUXUSCs6RXzD5t60b7xf+albbU01Whobdf6L+el5jIyP40Z/P85338T5q1dx8fJljEkY5yPZu3uPyC5JF8bczAx6B4eQFCP6wO69eOjwUdTEEn7u0j4R720uV27e0BEXTa2teFSM810dXYjxx38xeqviCWyiwyFRrW8kGRoexmUx0q+KIX6eo0QuXdBHWWYWFjTeg4eOoK6qWts4IkY3DfPW5hbkc3lMTE+L3n24cv06Ll25grMXLuC6lM1Xv7Zv2oSHH3gQzRKfuk2OSR1v3EQsHMOjDz+CPV3b0SA68LGNsDRMU3291mNufg7T45P6CMuubTvQ0NSkTphPPz+Fa6O92NK+VZ1BE8MjuCRt9ZUY76dOn8agGP90wjz1+PfxRz/6Mba3taM6FEVU8o9K21VHo2iXPKsSVVhYpKNhGNduXMd1qetFtvnVKxgdH8OuHTvxkxdfxA8feQxdLW0IZXmCiXEdiWAmuYCBsVGMd4/j0IEDeEjatq2xSR0afAyHc65c6+mW9qrBof37cWT/QX00ho4R+qV4jqZzWdzouakT2O7q2oYHDh7Bto4tssNzjERiUSkspG04MjSGEal7b28/bnT3YGRkVM+HxvpGnRTWGfycy4QjRkg0EkV1fR2aNrXpKJNROrz6enFFju+la1fVYdbd2yt3a2E8JMfnj37yUxyUc4nHIpzP6+Nc4URU4l5Rh1TrplZ872Fpi9YOxEMxrxLLoA7rYJ3R1sZltEaG/m4ubnWM1KN+22agRf53WB+XlVsahmEYRgUwx4hhGIZxVyhMLKpjZCHoGGH4N+4YWU+J/i/7NH7F+GwRg3//vv3YvWsnGuobkEmlMTk6joWZWX3c5dknnsQLzzyHo4cOIyFGcD6T0cdKGpuasUuMYz4askWM/zhHDki+avxJO/AtLXz0ZqcY3UcPHsKBHbvQUs2ZPFi4xAuHdfLX/Xv3Ycf27WioY9kpTI5NYG5qBo119Xjk2AN48dnn8cTDj6KjuRUxPsoiaTnyg+n5ONCeXbvR1dWFWCSGscFhHcFRK+UeP3wEP37+R3juqaexVeJVRcWYljozD06GevTIURw5cAhtUueY6OxGuzBOQ1Mjduzcqbp3SdoOkeqaGoyPT+DDE5/h6ng3nv3hC/pK4f3bd2BmYhL9Pb36iNCDh4/ipedkn0hX22Z9fIYjPaJyjvCRIupfwzk4Ojul7nuxrbMLOWnz2alpZJMpdEpbPvvEU/iTX/wxvvfQI9jc1IJwJq/HKxqNeq/vlfavr6/HLmm3YwcPY1tHp9aPDg2egxyN09LYhAO79mDf9p1o54gVtjkfxWEdBT7uUi9tvEv0P7bvkNa1oaYOhWzOeyRH9vNtOmzbtpY2ZFNZLEzNST5h7N+5G8flfKDDjHPA6DGXNNSvoJ4XPv7CeU5yaJbza7ecR7t37ESTHOPF6RmMDw7phLJHDxzEC08/gz968Sc4KLrWRuM62aw6cCQPOll4nLdt6cKxw4dxcOcBNFbViw5uhFYprJ2r4XI0lBWrGO5/zS1XwN/NxcojRswxYhiGYdw9QgU345thGIZhVJDc1XH0fPQFRq/14dGDD4rBG1fDJq+/mMsqbR9ZLtk37nJ0ty9LdBmshe8Y4YcKirHIN6LwbSOLab5aNYmkGOicy6KmukZHdtAhohOghkO8uIrRmkda9nOSVL76NyrGq85NIRlrnSVeTlqCoxKyuZyWE49wPgsx6iWOlk0d6CiQJfPj64LnFxdlmWQOiEqZ1WKY11RXe0a/lKcTsDK+376c8JNlcZTEvKRbmF9ANpNFTOJXSzq+3aYqFpe65NQpwFR02GSyWXUw0JDnhKaceJR7JSvVjCMcUpxcVPSPSRw6eqJVCR3R8v/8X/5nvHLhffyTP/oX+POf/gIHO7aqsZ+SsjkHRjwe11fV8o06fPsP68u8KYR6s96cqJSvRk6nM5iZnVW96HBivTkKg/nEpR469wcrLfG1BvLFt8J4bZvVeU+oo9ZDhG2TlrxS2YweKzqs6Lxg2+mx83Wg0yGVz0i5OT2GdCzRacS5POgiKoji3jHMIZlJy7mRRi4r+yRuVSyBGjk2fN0znT3qSPE15FIdI7Kib9thiRE+GpNHUo7xwsK8jhCK8pW+0qb66mapK51HbCu6PNw5ForKsc1ldCJZHpyqSAKRfETqIsfEK0bx3qLkb/ia3IK0C51BZfbcJv4R1fNqFdg4Aud04QS8jF/Ip3H68jm07+nClh88AOyt5wEpZllcOpjFGsUYhmEYxkqYY8QwDMO4K9yrjpGN5O65JqijGKHUlxNpykffBOJbzyEaymJMLscz0Ik/xkIMU90oOgG8kRF+Jj5c8wzY5TCE8Zkwr6MMaHz7OXPp1v20LgcutQ5+HA2TTTWiJQVHGqjRLqJ5uoREouuEpBKmtwoirD2zYU50GtCoZ7twElg6B2jcX752Ff/v/++/x2/Pv4N/+ot/iX/x81/i+LadKMwngXRGR4eE6Cxgu7EYX69yqDpSLkvm40As3GuHpTSsudtkfK++mvIWGFxa2i2lszyXXBIU209jerG5263pR3X0wj0nQHipXprW7eMX4bH30nht6teBX1o+3zjknRt8ww8fmSH6Fh1J5LJmPK6HRE+WIkdTvjn5LfPVlwpLLIrnRPFKZFBRkVtY7XhsHKfoGnn6+mzcMeK1oBJYNQzDMIyNwmuQYRiGYRhlcOZwcS0n1pfY/2qCimHPxzVWwjP1JA1XRNSA1TBvufS7BLdWF34Y3TN4xfSVsikc0UE8ZwnNXjWzi+lc2qIO8qGh7aX3HlqgHup0cOo4tDwa6b54QSpqsjMx8dNzBIMqyXVJR7Ocb07RuTBkWxRUp4Y6Y7Rkh6dnWWGWui43LNLW6kwR/W+JVxQSXL8V6r8xbs3v1i2vnUPaKMv3ro0XX5tP29sL43Gi6D6Gsw1vUd47L6RpRULqfHPpb4laZOU93xo22sSGYRiGsQbmGDEMwzCMVfGNXTF6adLzF2195IT2JQ1RjVOKnyaAjlagyPpSGhdvDdFf8T1jNyhuPz8uTlA0XMRzRci6JpSvQCaqk+xizFJ0DgvP0lYCyTz8Db4qls4TPqbCfDjHCscFhTkXhghfbcty1CmiDh2JJ9tLZXKtUiLcloOiHMF8bs3POW28fWxjv52XRfWcStpQZWCoc2hwXZdcYR5+PszB5UKKcRRXtrdc0qkUSbC80Q3DMAzD8DHHiGEYhmGsg6D5qTbqMuP07qIjBmTplS7il09hmD6KoftuRR/F0P2CxPdGHniyNL6kfFoXr9Qol29d99KKyCYfEeI8KpwnhXN11CKOGs6tIgnUQSLxOL+I+m+85MIK5d6CH4/pSmUZTqNKs1KeooD8FVuf7Vx6LFRPL57/5S0litf+nmiYNq6TQD4uSGDIkngf73GbiJTNM7SUQOI1uDWtYRiGYdwfmGPEMAzDMNaJPv5SxsYsPm5SASlH0bHBdYp6F9YJ81Tx0urjLL4Uc12t3GA8QTZ1u/jojAhvJugUoXOkJp7QN718r+tB7NrciZpwFAXOLbIsl+8G2g7aRn5b+eGk2HYlogeC+2XJzfIiX9Ku/Ghc2V5Z2PqMzyQuhWNpq3za5SJffmzDMAzDuL8wx4hhGIZh3AFrmZLLDdVb4X4n3wZY32Cd1SwX5fkK20wyheb6BvzRT1/G//nf/Fs8/8ST6GhpU6eIu+HQeq7b/vYiujKdKMs2HN9US5ZVZhXW0tHfv2ZVXJmBsumsWga318zIMAzDMO5rzDFiGIZhGHeC2JzOLF7NNA7+lr9avG8foWLd+cpfPkqzo2srjh06jM5N7aiOx739gdEIaqrL5srmusuRefvrOm8I4UgLzWEFEWS/G2/BOVJK9q4fScAJVZcmVS0V3kapaygg7vtOcDkE8y0nxC19ipvlah1Mu5IYhmEYxv2HOUYMwzAM4zYpmpIBG1Rt9nJIuHOOMM6K8b5FaP3lSx/F4LrUSV0FhYLOMxLi2274lhpG9lm72i625qiiH1ldyoe5lBOytH7rHvncMqJiDbTcJV1uleXOkaXPnRIsYzUpR7DmwfqWSx8UwzAMw7g/MceIYRiGcV9xN8y/oGnJCyudAtGC/44SCaRpmpelN+9p0FC9lWBe96IQrwYhFKRylHAkjBzfPCPr8VgMsWhUH59R5whj+lXmwhspEvyUbvMjaSQeheg6P7r0wwLicNvFJpYNL39PHMGSGFfj+7IsHtNLoTmpAD+av1MqULJL7pR2UZZi3H2c3qqLFOx08rZFe1VmWWgZMQzDMIz7E3OMGIZhGPcdtBHvlujbWSj5AmKhMKLhCPJidKrpqYMLaDgHRIIcxXwk8j0pVFKWfD1vNpdDJpdFLp9T50E4wtfwSgVlPSJ11qpKGzBdKRrkV1Zbxl/PFyTfbMbF0KX31hZvnUj26nBy4iWVdW1P7pcUkg/zcg4SNylpXiSnZeSWxK8Dwyn6imKJrSLrWVlLiU6Mp/ponaQsz2vC7Is4rYN4+m1cbgeWXxTJpCga5p+Dq4j7NgzDMIz7DXOMGIZhGEYFUcPWtzQ550ZOhJs0yt0IC0bSkQfOcg/gHBCVkvVSLm2paJ1EZzpAwtGIOkPkC9l8XkfEMCwSjTKmOoh4k6HpBNa0aJxLoDqLpLJ5FQmLhBCORxGtiktCCdCEnlPEc454OZRjyXnilUH9+LaWUucAYbtHY1KO6MmRLVyyHmHWSdNJZGbmp1PdopKX6KTOlnKenhIYw8/ituROcS0VFI9ye5aE34ZhGIZxP2KOEcMwDMO4G4iFS2cIhYZ6NB5DKBrxRjQwPE/XgGeSBnFG/L0opPhKWDoQInIb4YROBV3StF9uZLNOuhRxbUKHQ0YkHQGmMosYmZ/G0NwUxhfnsZDP6j46I4pIeSzSw2nkhPhL52ziyJxIBBFp93h1lba904MHx3OAeBJcLyLZUM8MR5NIXrl4BOl4FCmpY1qqmZM86I7hyJGwCFO61Eu5uNCgCE7tFaRcqq9LDMMwDON+RC7thmEYhmFUCrVtnZUpBjUfwxgcGcaFy5cxMjaGdDarhjhHH2jkcgQt1XtIWC9XPz52Mjs/jxs93bhy7SqmZmd05AhHxHAuFRKsnqbzVr30skzms+geGsCJc2fw5qcf4dUP38N7Jz/F9YE+zKWTyEte6rQQvG8iueiwmoBImDd3i1sK4TCSmTT6h4Zw+epVjIxL22cyEl/04wgXX/hYkKahw8el9eFWTgqenJvFtf4+nO+5gYGpcaQkDfXX2PKlbhE96Fx3uDUufWFciRcIKS+ap2EYhmEYXxeRfyf464ZhGIZRMQoTi5juHcLC5Ay2tHWIPRrxwsUwVYPSt/y+zQZg0ZDVrSV0m/WMRjAyOYE33nkb/+3v/lZHL3RsakdTXT0KfGOLGv6apCIEs9I2FsqFrcZa8TkWhJOtpnJZXOu+id+98nt8+MknaGxsxKbWVlTHE8izbgGYJ/PSkSKylg+HkJG18dlp/ObV3+N3b7yKdz94Dyc/P4krly+joa4OW9o3o766Rh/JodPCKcb2Curo0DC2ucTlozGFcBgDw8N45bVX8ff/8BtE5Fi0t21CU32DOkMYP5iPOmB8x4i6LmSbeoYSMZy5dB5/eOsNfHjqM92/rWsrEpGY/rqk85xoRtTRS+9RWoIHY9wauhzNpTTSehLecziF11Dc380F21PXCjkMj4+itqUB9ds6gJbEUhv48T0CG8vCDcMwDGP92IgRwzAMw7gTaKypJest1PCXJWcW4bwZC6kULl67ipM9X+JGfx/mkos6ksS3ppelvRM0N8nTjbAgt4SpriuUxHB/l8ZnOm9zGdzHkRYcMTIzP4dzly7i8zNfYnBkBKlMhrXW0TA6Nwc/mu9SmUxXiIQxJWnf+ehD/Pp3/4ArN66huq4GO3ftROeWDtTX1yIWizInb3JU5idlqoJepfi1DJbgRnzwDTkcMbKYSePi1Sv49PpJ9Az0i35pRDhJrN8mQSHBdQ/Of1LA8MQoTl84i48+/wyXu68jlctIOI+0lirlctQJxa0v1XcZzFpER94ERApd2pZNL1+ueO1XyHv5umDDMAzDMCqLOUYMwzAM4w5Qu9Zb9fCNXB0dIet8q0lSDOkFpHWURZaGLlMsS+QM4hJoYK9kZJegsXxDmjj7nqMj9JERbjBsmeG/hGegM5/C0iMm3q5bYDglK998VCgpdeNcHKUpvHr6GRNZj8ZiCEejGJ+ZxqnTX2AkPYYDRw7iT//sT/Bv/83/iH/9L/45Hn3oITTU1koCyY93KoFHZvyc1oT1oXMqKfotIIVMjvoJ681AYB6hsBxP0SEtuaUKcvxCfIyGeXkfdVhIOUsfj+D2clk5TGGZ0k7F40iR8jkx7EZ0NwzDMAxj/ZhjxDAMw7ir3N+2nBi30gA0e+k04HwV6oDw9si67BHhqIQcxTe2oaMDPIN7I6KjFfx1FlMcAUFDW7aZoycu1lLZHOHhlipyh6A6ibjYQVyIy5P18mIsGfXFg08dZEP1iUSQyWcxOTuN4dERxBDBvp278dDho3jo4CEc3bMPnU3NSDC+/0iOl5ufp6BV0jWG+XX1xd+huBRcejmtE+rJBT+yzlcBR8IikRCikbDePIWljiGtp9c+7jgG22qpbf04+iEujideqNvvfbxKUmSXv9cwDMMwjLuDOUYMwzCMu4Oz4wLG3f2GM3fV0aBLEd3DBvGcFRyN4DkjlhvWbLawGOOcz8OPuaZoWnWoCJJeRxpIen18JOy9vpZl0Z7XFP62K1vLZ5lR7w0z3n4JE/FTMGfFOULcUkul0rdA7f0ayG46GjgpKh/DWUguIoE42hqb0FRdgyrJJJ7NI5YtIJYrICx1CS0rmyL455RXmhfmHECeS2OJpZT+x89iNZiDOnFkRecjkaV7+okDN3SdjhHJzx0bd4zV2eUv2SbqGNH9DJOYbr/7yDZHpejIFM3Dc1tFeNykMDplJFgSupoY1gyGYRhGpTHHiGEYhnFXcKMSyHfZjilvrnpG79Je3zjWdaKmriDbajB7hnMuEkJGrszJcAELobxKKgKkJCwjYcHRB8G8KdyXlviLkYLKQjiPOeQwL2HzoRzSkp6TiarxLXG9ciWpCJ0hWSmDr85NSroFib8okhTJSBj14ggST39P+E1nAN/OQlGHiyxLcWGcdJeF0VnAuUhmFucwtTCDFNLIRnNSvpRV8B5SCcciKnwNcI51l/qkopB6ZDCNRUwVFsCU8+GstE9B2iaPrGsb1k3185YM40SvaVny0R89LwOjcbjf1Z3tNit1nilkMSuyKPpkGJdRRf2ig0QCnEOE7cg8mC91TUk7z0mbz+QzmM+ldD4SVy/n9FDniIiXVsqWNEkpOy11TEfDWNRjlxXJiA5Z+ZYWpvNESuRIFYmu6/cHZWp6/1TeMAzD+JqQS7hhGIZh3B1oOqo1qUsRtSo90X3fBVgvv4oenklOo9drATWFvY/EY8hSdIaKuSyGdCEaQrQ6jlwigqH5aXx18yo+u3QOlwd7sRDKivEMNeA5b0aGk3+KwZ7LZZHP6zSvavRn4hFkqmNYiAFDqTmc7b+Jjy6cwamrF9E/OarzY4TE8KZ57oR3ApGqOEIiM5kkbo4O4vSNyzh9/RIGZyaQFb1CiajvGPFSuTrx0SAVCXGuBtatWHXFcyPonlAYc/Pz6B3sR89gH5KFNGf/wLXhG/j84mmcvnweAxNjmM9IeD6PDPOOhJGNhZGpCkudZnBu8DpO3PgKl8ZuYhKLSMaBdCzkOUakJNXDKeCHcUpYOiwYhx/VX9qOo2u4n46fgrT9fKSAmzPjuDDUg4tDvRiQ+utxiUV09IZ3KkttWBVd950dkm9O2hbxqDqiumcnpP0u48yVi7hy4yrGpsaRyWf0EaJcgS4Sr0U4GoRzs1zquYGzPdcxkppHuiqCwYVpvP35x/jDR2/jk68+R//IkB4ntqSoqMv7C21swzAMw7hr2Ot6DcMwjIpCk41mTG5iHjP9w1icmkNH62YxAiO6R1+UKn/OtPtumjxieNM4F4N+bGoSJ778HJeGruHo3mN4YN8hdDa2qWFeCIuJTIeHGNOziwu43tuNN99/F6+98xbeeP8dfPDpx/jiqzPoH+jHguyPx+OoralWIz0iRrW2Hb/CYmBL86bEiL/U14MPT36GP7z9Fl4TeUvy+/TkSdy4dg3z0zNIMI/aGn2lbU4M9dn5OdyQNO98/AF+/9breF3KflfWPzl1Qso+jcHhIUSlvMb6euh8G36ZSTmSvSPDOPnF55iem8EjDz2M/Tt3o7GqBvlsTuMynj/OQdpDlpEQTp87i9++8Spe//AdDM+MIIM0RsaHcOHcBdy4cl2iRLBj2w7E4gmEE1EkRcfrAz1448N38co7r+PV99/Eeyc/xOnzZ3Ht5k3MLSygKlGFuto6KYxl+WeWtP3I5CQ+PnUSl0dv4uj+4zi2/wA2NzbJyZnTR1WoHUdrTCXncaH7Ov7w3ttSBtvsPXx84lOcv3gBc3OzmJqawI3em5iSeh7asw8PHz6G2kgMfJyGvr681IsjUq7I8XtP2v53zOPdd3DqxAmcO3sGPT3dWJTj19jciOrq6mLb5EWPoclx/K//9T/h80vn9fXOc+kkfv2736h8+NnHGBkaRpO0/aH9++VEkf8e/QcLee15z+N0XENXfzcXK7+uN77UufjxPQIby8INwzAMY/3o/Y1hGIZhVArn8CDePA2e3H9WC1tCRKrtjVPwt310S6zqQgQYn57SN7T89a9/hd/+7re4cOE85mZnxXDOYkKMw48//Ri/kfC3P3gPNwb69LEZfjjigK8E5mM289k0Pj93Bn8rBvVvX/k9vjp9GrOSbzRfQHZ+AVcvXcK7kv4TMdw5x0coFtZ5Pk6f/hJ/9Vd/iTffeAOXLl7ExMQ4kskk5vRVvBfwD6+9glfefhPnr1/Rt7JwdAjhlBcc+eBGingjNbhnOV6NveMfCoWRyWSQTqeQy2YkROogeyL5EMI0+jM55GV/JBpBJB7F5NwsvpA6/fq3v8Hf//Yf8NXZs5iZmkYhncfM+BS+OHkKr/z+d3jznbdw8cY1LOb50ImnVV4U9MaL+Evd9kL4pqCMtGEmFsL4/Iy021f41d/9Ld5443Vcu3QZMxMTSM7OYXxkBB9//BE++fQTDAz2y12T5MCRIVIdzZleCjmG2UIeV3tualv9/g+/x/mvzsjxm9YRPTOzMzhz7ixeee1VvPH2W5ian0VO8uFjTdRjPp3EucsXceb8OZz8/BQ++uhDfH7ypDrOYuEIohKPree9WchrTe/7fsdawTAMw6gc5hgxDMMw7hpqDns2sSf3C/qzvme6qTGr27747aCP1YjwdbJXrl8Vo/lNvPHum1hMJXHg0EH86IXn8fOfvYznn3sO7e3tuHLtCt545y18cOITjM9MSU55Ha3AEScL2TRuDPbh16/8Fn94+w0Mj41g164deFHS/ukf/zH++OWXcezoESSqEphbnNfHYjh/RzqTxsjoCK5fu4oq2Xf82FG88PxzePmnP8FLP34JB48dwcjUBN7/7GN89MVJzKYW9VEeVsI9FsTlSk4RD7o//LiFArZs2YLHHn0UjzzyMGrjNYjKrcjxQ0fws5d+gp/+6EUc2LtPR8awnCs3ruF3b7yG3776B0xKnXfv3Y3nn3kOv/ixtMvTz2JH11b03LyJ16Xt3vr4A9WVTgrPCeItWbL3oWOBYXl/PpYCFgpZXO6V9B+8gzfefxuLi4s4fPAAfvTss3j5xRfx1BM/QF1dLQaGBzE2Nybp/VlKQt4jNJwfhI80Tc1N4+0P3lXH1fjEGPbt3oUX5fj97Oc/xbMvPIeu7VvRNzSA37/2B1yWYz0vx5gOLc5Jok6aQk7f0vPV+bM4J9K+aRN+/tOX8Sd//Es898wz2Ll9uzqTtB5+u98/uLMnyP3VAoZhGMbdxx6lMQzDMCpKXmwWGuy5iQXM9o8gqY/StIv5y0dpaNLIzoBxJ6vfPcTo5gfRsI4G8R6luYpje4/jgf3eozR8jIXjG4bGR/DGu+/gzffeRTgcwT//i7/AL3/xCzzx+Pdw/PBRPHj8OLZt3Yrh4WGcv3QJQ2Oj2CGG8vaurdLOYSTFuB6YHMMbYpT/5e9/hXg0gZef/xH+4h/9KV544kk8dOgoHjl8DAf27BHZh+NHjqClsckbqREOo762Fl1dXXhBDPlnnn4Gjz3yCB44dhSHJV7ntq240duDm93dOgLjwWPH0VxTh7jouVjIo2fUe5RmdnYGjz70MA7s3I0m/1Ea9zYVPnyjD+DIBkc9tLVvwubtW5ANF/CFtEs6mVQnwD/68c/x/eOPoLWpReKGMSV5vv7+2zoKYz43h7/4x/8Ef/qLP8bT33tC6/Pg4ePYtX0HhkdGcOHSZQxIu2yVenRt7lD9CpEwRqcm8OmpU7g6ehPH97HtD2JzQzNyuRwQi2BMjs2b77+njw/lROdfvvwz/OnP/xjPPfFDPHrkOI4fPYJt27ep42NwYFDnCTm87yAePHgUiUhc9AxhPrmIs1cv43/9//0HnQPmxRdewD/9s/8OT0seDx5/AEcOH0H75nbMz8/jy/NnEIvFsW3HdjQ0NiIreozMTOLNjz/EwMwIFufmsb19C/7Vn/85Xnz2OTx09Cj27diFloZG5DM5REMRaUavVT2P472O03ENXf3dXKz8KE3C6zT83UsENpaFG4ZhGMb64X2RYRiGYRhfA95IBkGMWo6y4MSbn506iZNffKFvP3ns8cfx9A+fxKamFoTFUMdiCgWRA7v34Mknn8TWndvRMzKE9z77BOPzs0iG8phKLuCra1fwyptvqKPle488hmce/z72bd6C6GIamJlHYX4Bm2rqsW/rNnTQ8ZDOoJDKoCoaxQ4Je1bK3LdtJxpjCUTFAC8sJJGWNBypsHPXLkSrqzA4NYHBiXGEJU047N8+sDI6KmM5znZdJhKNr76lIyS5sIBsOo1IiGZwCLl0DplkWnUK07MmGX9++guc+OIk5rOLePzYY/j5j17C7tYtqE2HkJjPoyoFHN51AD9+4SXs3b8PN4d78LvXXsHM3Iw6PrSty+imSPvH4nFcuHwJn3/5JeakDX/w6OP4yTPPYVdbO+ryUkY6i5i0xY4tXdi3Zy9aW1u0HurwYf1FOKnrzcEB/OYPv0d/chCPP/Y4nnvmWezq2oqc1CeT4iNDWWyXdnz48cfQ3NyGE19+gZv9fZhPp/RxGkQieh7wEaUDe/bjJ8+/gIcOH0WM7SDtAdGBc5lEoxEpraAjaTj2xTAMwzCMymGOEcMwDMO4a9CU9v0HvhAauByBkUqn0TswgInpKTS3teHx730PDXX1SITCYhgDcTGOI7mCOgvopNjc0Ym5XAqXu29ienEB+UgYUwtzuNbTjZujPWiva8fxI0exvWMLqpieowxEYtkCqiTPmkgMVeEI4rLOsQdhUSgihnlNTQ2qEgmdZJVzfMzPzmJ0eBiXLl3C9My0zkkyk1zUCWL1Vb/FWvBTHucQYRl8xazbVmeFCm9C/NEkBVnLh6SuEkfqSsfGyPgoxibHUVNXi+997zG01jWiFqJ/LoJENox4TuqQC2H3jt3YvmOHOioGRob0rTfOMbKSctQ6k8uit78fQyMjSCSqcfTIEWxt70B9JI5YJo9IOoewtB1Hn8RiMWkbaTHmJ/nqY0PhkDqzxuemcVPyqUMDtm7fhsaGBnX6ZPlmnVQKc9JmqWwG0UQc9c1NmBH9OCEvR5pwAlU+jpPOZuV4RLFn1y4cO3gIUTnmER67nOgh7cE21JEiHCXiywpVMwzDMAzjNjDHiGEYhmFUELWdVWg9e+s0ax3ePs+hwJECs3PzSGYyqK6rRUdHp064GckDURE6R6ISMSQGcktTMxqbGsHJRccmxvUtJxyBkVpcxPTkBFJYwKaWVjSJYR6PRvWZJk56y7ksdE4R36ZWw56lMyweRS4exkw2hQt9N/Hulyfwd2++iv/0t3+D//BX/wV//be/wrkL5zGTnpF0+j4hpVgbr3IK/RDLAgQvnu8U8SL40Mx3SkVRCIc1lo7ykDrR7J+bm1PHAt/i0r65Q0dWeK8HpjNB1iV9JptHfX2DtE0LqqJxzM/MYmZ6Glm+FYd5+/qoHq542WA5i8kkJqamsJBaRFWNlNHZgXgirvvoWOFrkHM64amfXr+XHBJsw2QmhWm+tWZuRto/i5Onv8Bf/d2v8O//43/A//Zf/zP+/X/+/+F//8v/jP/4V3+JP7zxOgaHh5HKpEXvrJbDkTeqpazzMZmmuga0NjQiLMc7LMdepcCaeGUviWEYhmEYlcQcI4ZhGIZRSXy71U2SqQa/LjVURT8hMcDzBaRzWW9elmgM0XhMLswhRGgoi8QknI4Rzs5SHU8gkUhIyhCS6TSSSe8xDc7nUZAlS6mrqZF4cUQjETG6xZzmK2lF+DpZHeVQ8CcglQ/D+WaWsdlpnLp4Fn/z2u/xH//h1/ir3/8D/vDeW/hMjPwbfd2Ymp4Skz+t+cViHGciyNfSUtcEyVP+StG9UhfnUvC+JdQbdoEQ5wPxX+VM6CTgKJZsNoN8Lo+YtEskQudJyHeMhJEVoWOEeUVlX1Usjng4imwqjdkZPkoj7cH668dD6ywwhKN15hcXdTRHNp9HvLoatXXe6345OSv35zWNRzAfblFHHr90No351CIWsynMI4nTF8/r65ZffedNvP7+O3iFS07K+uH7+maanOS9qb0ddVJWNBrVPCl8PIcSFYlxtJDULSrtE+VIGi3bacBWdLKkn2EYhmEYd4Y5RgzDMAzjjnAmalDEhNVFiUGt4kxbiUkjPO+Z7OFIBLFITJ0gdIbw8QnPoeDBt5/QIGeONKI5cWdGhM6PcCyqI0ki4RA2tXLUSCMiITG8QxFJ4xnRnJvCm5+CZUmaaARjM1P44ItTOjrkP//9f8GpU5+ikMngoWPH8E/+5E/wF//sn+GBBx9AQ6RB9fAMeC6lNlynNk5BYWlVK+9/C15jCMUQ8DESrZ0Eefn4IplzPg3mxZbhoyYs0Pv4ragrsuRIE0mvrcKJSUUymawEeK8y1tdEM66m8+CND4Xzf6SSSZ0QNirtF08kvBEclIjEZpkinsZM7aXkNh0cGlfyZ3rurQ5V61t9nn/2WfzkxRfxsxdfwk+feR4/f/YFvPzs8/jZ8z/CL3/8Ml5+7gXs7dqGRFiOGUeOUHc59jpqRvX1pNgekrcW6iliGIZhGMZdwBwjhmEYhnHbOGvVWa5i5moQzVnfqPXXGayjEDjaQAxrjt4gHB3BRzcWFhbUUOc4AroFCtmcPhJCI5nGM0eJpEWYG+e8qKuvQ4wjSKLeiBCSSiWRkTj5HOcwCSGTyamjQGx3HZWSZaRIWAz7AjLZDM5cvIBfv/YKPjl7Cg/uOYr/6//0f8L/4//2f8f/8V//9/hHL//Me1Xszh2oqa6m4irUhu4BitZM6+vXm3FyXmGeu4d7dIeOsOCSwpp77gTPubI0XkS26ZCQDS7pyElL23BUh+5l+SxD9jAHOiU4V0ha6pjm4zOhMJobm5CIxdVxQQeQRvdhWZwrpIqjbyROTNs+i9mZWUxNTXmjTOigkLiSu5SbUycIdaXzIsyRK7JOZxYVjstxqElUIRGNoVaOxcMPPIA/+aM/wr/+Z3+Bf/6P/hT/6pd/gn/581/iX/zRP8K//OWf4l/+oz/Bn/7kZRzo2o7qcFRHxFA/5q+v/pWK8yEgr3281iJe2xiGYRiGcbcwx4hhGIZh3BEBy9uHPgC6RbyPZ9hyjU4QGux0DdBhUN9Qj7a2NlRVVWFmZgb9/f1eejpDxEjn3CCc4DMSj2JsfByTExPqOGltbtE0HC2SkGVTcxPq5XPzxg3cuHYd05IXDXka2WEx3jkagRO1FvgoTCyKiEgqk0HPYD+u9nYjHq3Gz376Uzzx6GPY3bUVLbV1+saaWFTyoHMgl5NqSqWCXgbF22bd6PDRdY5GCXuuDoboEzPKkrNkGZLOtRf/6BVh/WtqqqX8KGbn5zAwNKQjZFgGJ3+lqyKd4zt4ON/KBEbGxrCYSSIeT6ChoVEdFnSaMM0yJH2B9clkUVtdg02tbbpcTC5iaGQYi6mUtjcf2VHnhCz5iBNH1xT4+I43fAVRP/94LI6WpiY0yXGcS85gYXZWj09DTS0aq6qxqU6Ob00dWqtr0SJhLbJsilejIV6Faj4ixFEucmyI5xxZErabijaK1zTu2zAMwzCMymKOEcMwDMO4C6gJS4NfrFsV2eRFl6MSxCJWAz8ixvHevfvQ1bUVszNzOPH5KQxPT2JR9qViEaTiUeSr41gUY/7ytasYGhhAU6IWRyRNnRjefFtNoxj2u7dsw94tuzCVn8SZs2dxvb8Hs8hgIZJDMpL3JJSTfLKYyyRlTx4ZWZ+dncH8zAxqqqqwa/dutLZvQlVtDSJ8rCQaxcT4OKYmJnQkC+vCuTfo2qB/wD32oY+T0KznNo18ij+niecGkTRSH02p6by2iegmHSpMz/lDZClto29qkXrt2rELO7ftQG4hjc9PnMLg+BgWwgUkYyHMynJRyliUlBevXcGNGzcQRxRHDh7W1+rSGaTzhOT9+VQEdTbJMsNwWUsk4tjS0YmW5hbMLc7j3MWL6B0dQUrUD1UlUGAe0QgWs2lMSDvNLS66nLyKiSQkzubWVuzfvUeObQGXz53H5cuXdTLWTARIRUPS9kA2KnsjYfDBGbZ9zh+ZEqFIfhT3+JSOiGH+LEeFm9TdbZeKYRiGYRh3ijlGDMMwDKPCqMlKI9etyycq5u/87BwWFhf0ERE6F/ioxr79B3D48BEdfXDy8y/w4ckTuDLYh4nMImZDOYyL0f7l+XP4VMInRsexa0sXvv/wI6hLVOmrbeviVdizdTsePf4gauTDt8h89PkJnOu5hvH0HOaQxlRqHjeG+vDFhbOS11lML8ypY4ZzeUTFSM+mUxgdG8XcwoK+KWchlUTfQD8++fRT9N7sRqqQBB9tIXRsuBENnruHxn5G3/LCN65wFIfu9+PqUj/eOqEDgI4RnUdF8uCEqhyhwfEddIzkcnns2b0Hxw8dRVN1Hc6cPoMPP/sMl/p6MCK6T+bSGEvO4/yNaxL+Kfr6+rG1vRNP//BJNDY2IcQRHsyayAq1TKfSWJR6pgtSio5qCWPH1q3YsWO77A3h1JnT+OjUCfSOj2Ihn5U65zE1N4cvzp7FuUsXMTYxqY8nZUU3jqDhHCZ8FGdTWyu+/+ij2NbUgRtXr+KDjz6QNGcwPD2B6UwS09kUxudn0DvYj/OXL2J0ckJff8xzgE4Q5xTRSXZ9XTmyZanBGOKElG4bhmEYhnGnRP6d4K8bhmEYxh1DW442dG5iAbP9I0hOzaGjtR38bdzbLzvlT20+4btm3rE+RRHDeXp2FucvnkePGPWxXARdbZuwbXOHPgLDyVPrGurV0B4fH8eNvmvo7+5DMpUU4z6KeTHkvzp/Dn/9N3+DM1+dRkNtHZ564gn89EcvoToW9wzpUNib46K6FoM9g+gf6sPQwLA+ghKvTsiVPoS+wT58+NFHeOvtt9Hd043Dhw7pW1iGxkZxU7aHp4eRS+ZRXVujOl2/cQOvv/km3nzrbYyOjCKXSaG9thU/fOQx7Ozapo+ApPI5DI2O4ssvT2NwZgCd9ZuxvaMTm5padCQED7AeW/8A00mizgA5OfgYT/9AP774/At9Je8jDz6IAzt2oUnqwNf1kkS8CtlsFjNTMxK3F9euXJM6zcvJFfZ0vHkDv/v97/DpJ59I/aN46gdP4Ocv/RhNdfXeqItIGJPTU/jyzBn0DPegtaoZ29o70NHSJm0v7SKKVVVXYY5OoKEhXBu9gvG+cX18hw6fOTluF65cwa//4Te4cPESpuYnURVJYO/2nXj48DE0VNWoc6QqHtc3zYxIW/T29eFmd7e+lpePFLG+1OHq1Wv45OOP8f4HH6CpsQmtra2IyzHj5Kt0Rr3x9ltILi7iwYOH8eChI0hERAdpMM/x5H3rUo51sUF93N57E6fbGjr6u7ngPDC6VshheHwUtS0NqN/WAbTIMWOn4e9eIrCxLNwwDMMw1o85RgzDMIyKQtvlfnWMsC4UfSRClqxjJBZDY0MDTn/2JW5MXsXkzRHUxBM6SoSPdDBmY0MjNrdvQigLXLx4AZ9f+hzvvPseXnvzTXzw4Ye4OXYT+7fvxy9++jJefPY5z/mQL2g5YTGgE1HOddGCnTt2iLGdV6fD5xe/wDvvvYvXX38dr77+Gs5dPC/HIIzDhw7jiEh1TbW+iYUqXLt0Daf7vsJHH3yGt996Bx+JET8wMIhHH3kM33/0MUQWC8gtJPH4Aw/r4y06gWw4gowY9kMS73LPRfT39aAwn0V7Sxs2b97s197HP94cNxKNxnQS2b6eXnz55Rc6WewjDz6Mgzt2obGqBtlMDhHJm+3XVN+ILe2bURVN4OKly/jqxjl89OEneEt0/OD9D3C9/yp2du7Ayy/9GD95/gV0bmpHPBpFPk+XBFS/+fl5XPrqIq6PXcX4zWFUJ6pw8MBB1SYh63VybKrqajE7PIO+wV6cOXNa2uBtbbfPTp5Eg+x/5qln0VBVj4XZOR2d89DhY6iJxflskYj3GNG2bdv10ajBoUF8efMMTpw4hbffeRevvPoq3vnoXVy5chWJWAKHDhxA1+YOVFdVa/pZyfPtt99GMrmA4/sO4vjhw4hH+MJe/qd4ZxTzX3KKUJZYvnWv4bRbQ0t/NxfmGDEMwzC+CUJycxO4czEMwzCMOyMnVxW+JCV9ZRT9n36FyZuDeGD/UUQghqTsy9Hkk/2cA4Is2TLucvRtuixR1+X6qrPCX+dcEpzXY3RiHO9++D76+vvQJIb2g0eP49HHH0NaDHg+UpMWA35iegrXb97E5WtXMCbxk9m0Pl5Co7i+ugaH9u3H/p270NXWrtuhXN57FEVHFoR10tCJhVn0DA3g4o0ruNHfg7mFedFOcpG2bmlowrYtXdi1bQf27tqlDoI5McZ7BwZw9vIlXO/twXxqUY5TGPU1NdjctgkH9u5TfQdu9mB2cgYPP/AgdmzfofNjcD6Qmfl5XLx4EZ98+gkW5uZxYPcePP7QI9izc6eO/Ag+TkRV+TYcTmTKN+zc6OnGJydPYD6TxCOPPoLDu/bqBKW5TIaV9h6tyeWwuLiI/rFRfPLF5xgcl3bJsF0KXrtIfOq4d8dOdLa0oaa6SieMpWOEj/MspFO42duLj0U/juhoa27Wtn/koYck8zwiEncmnUT/xJjGu3L1Cubn5oBsDvFwBLU1dejq6sJ2qTPTD4+OYI+03wMHDqE2HueZLFrmde6QOSnrel8PrnRfR/dgP6YlHz4qxShV0Rjam1pxeM8+HBFprW9CLBJFPpvH1PwcXnv3bTkWizh66BCOHzqCeCSCiDSAdx55DhHPSVI6YkTdjLq8N/F15T/8avBEEVg7nn+MX8incfryOWza04WuHzwA7K1nU3tZ+vE9XBlLq4ZhGIaxUcwxYhiGYVSU9TpGbr38uO1v02WJui7Xl8adN3eG1FU20lLPpBjN0zPT+kreqBi9DQ31aGxu0Uct6Bjha1uz2QxSEo9zkCyIkczRDjrZqUhtdbWOOqmKxb3XzcZiWgbnGKFThA2qDpZCToz0PKbnZzA5O6X5FTiyRPY11tbrYyY0yPmq2ggnA83nkZRyOacIHTMLqZT3eEhVFepr63RSVs6jkVzga4CzqKut1ZEOOnohzNf+5kXfRYyMjCAtafk2Fr4xp17iebp5cMkmydFZIuXSvmW6ialJWc/rqIym6hrU8HW4Ut+sCOPqOeJvj01NYS6Z9F6hK7lxFx+J4aMpNYkEoqIT2z4ileXIFJ2rRJZs+4nJSczOzWndmxsb0SJpOOKGj/wwTlrqwdf+TkxKm0k9+OaaiOQXk3aqkravEt3SmYxIWl/Py4lvo5K/NyWqN+4nnc8iKXHo0KJDZm5+HmlpW9YhEYmpE6etqUVHC0X0H0ASSUOkpdzx2Rl1rtDhVSfinUOSt8RTh4iU5bUi93DpoY8MaUaUexFfV9Z3NcwxYhiGYXzDmGPEMAzDqChrO0bE6BFDb9nlR40atx0Iv+ehrsv1VdPVD+LrdjmhqL7aNRpVpwNtO46cUKeIrNNmpBOBhjCdFbSBORqCcYlO9BmJ6HwbnFuDaeisUMcI27DAhw9oogvS8GqDyk6+CUZX5ZvHw71CF6k0CpIP8eJKDMmPTg46FMKc30L0oEOFc2Bw9IUE6DHLZkVrOjxUN2YqekpaeimYP+uuHgvGkSVjOagf24GjTTS97mQ6SSXhYRUJkjzpEKKjQvNhNIGPqYRYB8aXOFnRl9G51DIJ8/fzpb5+Y4qOYW0/KsGgsJykkptOeMoCXH203rLK7NS5Iku+IYev6mUeLDsnetGRxRg8mmx5pmbd2BZ8FTKXPL/peGJ8Hh8eB31LjpTN8vQjhdGhxbfosE6sb57Hxq+352CTNY2vrettF6GijKQR70F8XfVEW4UVHCNfXvEcI1u/b44RwzAM4+7irrKGYRiGceeIceJsVEJ7k5teEA1Nb4t2zTIphnkG4bdL+Fna9iuruF/8aeyxfrlMDplUBrlsTo1eXoR1KcJRBGGxkvNpMbwlDiRuWGzkiITRkOd+92pXr82CZXsfzjfCCVmZJpqTdYoYk8wHqSyQTIt+ElP1EmO/QJF1iRNhWRKfZYUyedWBjopInnF8HTWNF78gdchJHMYriK6FjOgtYTTqORKDJWhb+MLtSES1V+cK42ZFpyx10seC/BbUuEA0HEU0EtX5RqRUrbNXZhrZxRSHWujrisNZEbYPdfX1c8I0qrvsj8o2p1VlHGpBDVUrliv7c6J/IZtHiPWnY0KXnt7Mg3mp40XD/G2m1S3mRh3l+ElbZHn8JL2nl5Qn4V4beuWF5Pi4c4Mp2XZsywIf7wn5mjF/XeO6t3TbDqZ3a/em+LAyZYX7NIK/6tKwR5DmZX/BTsQFF/Fil9mxHM1kFTEMwzAMH3OMGIZhGHeOb2jowjc4opEYYtGYGjf6WASNYd8aUUeILoPr/lKifHtETLni0hPZUlEjz8XzPURc8lEYNX5pYIuo80Eux2GGSRw6BOgMYHwdmSBL/lLOfTSZnWNEw0W0JN3nxdF8cxQJp0NEhG+o1YEVIswrL7H56lkVP6xA3Skan04BSe8MeM3Pc87ERLeY6MgJX6tjCcRlPRaSOsk+Gv866iHrHW+no1eHgobxfPD0DevIF2+iVc8QJjx/3Dkkpcqf1JqjRBiLIzfYfiIcUcO205EfkhcdH6qD5iYflsFtiUP96SxS5xK35cNvFuNVX7YlT45UyVF/1dPXQ3VhGEd7iOgOhnnlcMSOtj5H1TBPbks5bFdtU8aRsgsirLN3fDl6yNeUOlIvETpktO25rh+nq6C6sOwl8RyN/v57GFW9rPDjo3X2llon2ZHN5RCPJ+Qgx7hn9aqW7itmvArriWMYhmHcF/BqbhiGYRgVQw1tIczXnkbCWEwl9fWsfFTDs0ScNRK0Sr7NFopvyPnizNngtoY5g0/EGe+eM0HWpPoaJ5DCi+ujhjAv2v5H07h4PsxDxd+nIiXJkvtopNNwdw9/OGE5al/762qgOocIxf+o8S5LN9qirPhpWB7TFPN0UpInPy6N6hby9dI8AulCnOZ0SV8K09DpoXpxnSJ7vKU/KkT0UMnTqePv84V5uDzdYzde2WwrT/yGUdi2ugzI8i0KNWAesi5tqHXwy+JHnSiy7Y6TC+dnqf2WQrlWFNVnJeH+e1B89bzvclKCpvGEe1PptE6QixgfA9Pg9VEm6xXZSFzDMAzjO4s5RgzDMIyKofaQ2DDqAknEkK9OYDad1ElAdTJJMT5zsi9b4AwbmsKX7x6uVp4RzDX54rq/6kxAz5RmmLe/nHj2uWcs04B2Hw3TfY5AIl80W65yyzdWl0r3jHjd78tSfD+u7HdGvIdblicYs5Rb9wW2nA6Ki1kqyylG9/GcLnSAeOueo4FhXnp3LDTEX/J7NdH2pRB/XdMHPi7M7adwNEfQF+iOAXEOmWA5Top5FkUIpP3uIpV0Vc7lsJhM6vw6iZoqQPoSwzAMw7ibmGPEMAzDuHMC9ht/FE/LMhePALVVyMeiOmoE+RxCfGMIJ9dkPLE4vd+Fv1toG/gSJGgYq/0n20FxiTzHhHNYLIlzUJSKl5uHl7ac+HmwxYtplsTt9/Y5lsddKq/SLC8/WOZyWR9Oz+DoEBcWFM+LV35fULRsLotOjqW0Kwk/jOsd26VwHguvLhsQpr0P8F7f7dc1m8Hc3Cyi8RjqGhuAhBesx8AwDMMw7gLmGDEMwzAqRsCckytMCPG6GrR0bsLs4hyS6aQEFnReiViU82yI+SgRKca9g3OmGGWgo0MWa4nnQOFKKbp3af965DuPVJInXN57yIvbyUwKE3PTqNvUDLQ2eo6RPKOYZ8QwDMO4O5hjxDAMw6gYNPv4ClSVmgjat3Viz6H9GBofwXxyAXnOAsrXl9IIcha4WeGGcV+ik6/6swLTUcpHaDiybDY5j76xEWw/tBdorZPORCLLHau+MtkwDMMw7gJ2hTEMwzAqBh8d4DSJnBRTvSSN1di8dxdaOtsxI8bOzNyM2D1Z5LIZzyDSX4iNbxVyyHhoKyHfisN/N3Qs1xjfRVHWaEB/5FiE8eWudGp2CiNT40g01qBl706gzoumLMvXMAzDMCqHOUYMwzCMiqLzKuiKCIfAt9dhx9H9mC4kMSQGTzKd0n36azHjBSh9rIabJvee6IGrgJTL+87lLnx0no/A9m1/HGUa4zspqxM8ZiSfTmNsYgyz6QXsOLRP+o4aIC471spu/UUahmEYRllCBe8l+IZhGIZRwkqXhyXzbhkuejAZ3e/cHkrizB/exvzgBLbUtaFzUwciIe5cMo0I31rDBO7K5ErSyUmNbxw3D2glD8fS0a8Elc2NsK5FueOsvXfReLndmzjNKtGKLq9iu61Q7Yj8w0dyOYyPjaFvahSxlgYcfvFJYF+9NwSNsFMo9ZyS0jwZZYVyVqQSlTUMwzC+1ZhjxDAMw6gM/tWET8jQ56FPyghqy+SAqdM3cOHTz5EcmcKhHXvRlKhHVTimkZlUk0tkXfqXpqK94gXqqvFNELAc9Ri5bTqxbu+4eDmEOEdvcSuIF3xr+NcJa8bqFUc3VUIdyeObrdXKaB0Dx9NzVN45zNHl5GXvlaFhssrH65IL87jefQNVm1tw4PGHgAc2A3xLLx0jjL6sQ6lgC1YwK8MwDOPbizlGDMMwjA2iVoqIsygCloUE86qig0G8zaXRHovAxMXruHzqS0zdGMThzbuxtXEzwtXVoHWcz2YRivhOErVGvYRBu8VsmG8KtrzvtCoub5/imcOMuBHMULb5aIUXdKclVQDRp/hiaaf4baLulXv9tivkPdhyp7eHwVFedLCE6dDg5Klh+R9PZzynCzuKdBoj4yO42n0dbV0d2P3oA4ge2ebNLeJPuuo1fo5fqp+H38msRekxC1ardJ9hGIZx32KOEcMwDGOD8LJRal0sWRh6VfE33Wpx72wO0ze70XPqIsbP96CrugVt7e1oaGpCJMbRI0Bes5YvvwjPmCzJZ8OIsecntsve7eC1vjdSpBKOEc/4XvF4Lh0sv6x1lMgokqxoN1cAlk4DnlmrBpL3OjS5haBKevoFzsHbyS+IOhwqBNVaGiVy+5q5HJY089fCYRaAfDKJXC6HxYUFTI5PYGRmAtsO7EbHsYPA9jagQeI6p0gROkaooAsscYyUawYNC9ajXCTDMAzDkCuEOUYMwzDuc+7kKhD8WTg4AYWzP0rtENo28zlke0dx8/MLmB0YEyMpg9p4FVoam1CdSKBKJBSJSHYhsaNo/Ihx6hdzR2aNM/jssncbsO08x4jnHLkzPLeIn2s5w17D5DjdzqG6c/WWE8jvTs4cLxv51vMvmOkdno/l2u9eQKvlObb0VjOXRyGTQTKdxkJyEVOzM1jMphGtTqBxSzu6HnkA2FwFyJ/3aiuRYNVC7DwkIDgcrZRlTcFn+oKRSjM0DMMwjCXMMWIYhnE/U5ErQDATMTzcZsAGoc+EUwToa3xJVmQijdFzlzF89SbSE7OoCUdRJVKbSCAfiSAnacKRsNo2Zs580/AIeOI5R+6M4PEMjnjw1oJ7Pco6T0rwbOA71awEKZY5ulzvJHfWgA6hsPwzuNoss9u/Y/D2kq6MnFQyJ+vhbA6FFB0jKYQTccymk4g11aFz707UH9sHbPLSaSPTh+H7P5Zg5yGBwVNhpfbTONLJhFyHwwB6W7yjYBiGYRilmGPEMAzjfmW13p+2A/e7OEFbolyYwh1+YEkcdYzIUm0d2ip0jHBiRS7Hc8h096HvynWMDw4htbCIZDaDdD6LfC6vWXyXDchvB3oU5Bj6S/+43inq9AotOQocG701uUWdCp0vmo1kzqWT28HTryDnv9RVMnH63qL3d4w8286XWCiMRDiC6toa7N6/H61dncCOLqDdj5wRcb4LspJjhOE8EOp1ESHuzTXEpdeGdhEksPgIjsNFNAzDMAxeNswxYhiGcf+xWs+/0j5nR9A+YRzaGQxz8YN2hgvjUsI5+oPLSLm86RyhUZSWnYuLsi3GTI5OkRwKeT5GUy6R8fXiH0ChUo/TKHJsXU7qIAmMDAnenpQbMVIMk3gak19c121v6e24fTRLV4wvt4fUU/JhVhT91+G2fIW81/KsH1XCq/O34Rau4HuCXHeBaBTY1ArEue4Hsk+hcF0rJuInYPtrOuajXhYvPDUFTE3IqqRr3+HHZx4OJmIYE+g6v5jYReI2hbilYRiGcb9ijhHDMIz7kVt6ft/aWOmKQFuC+5whQ1KeH4NzpkbdvADB9G5d4vOXY2ahPwgHinJhigvgMicrdJAQnWekgjDvZYreS0jD+POqqIp6if6mdXUHnEvqJ0fMBd0JzINV4/HQt5X4YUFc1UvDV4rHZUa+3PbSyp3hl3e7uRX9OnryE1nSUFe5nfNb0jMrnh85+T+5V2/lWG8eW/UCqcLeeoQdiQ+fsfN36T4dZiLr/vnAzaIrznlJ0sCls+M4+ekFDPWNYNf2ndi/dze2b29CA0eguDfaMB/+u5Pi+eVGkRAGaGBgaRiGYdyPmGPEMAzjfqS059dLQYlhwCDntaAtIZJaABZExscXcePmVQwMdOPYsf04eGgXapr5bEyAQBm0Z2ifaHYuXMKKpQbiKnw1Td63aCJF10llYN5uGMC9SFC10na5Fyh1YNxpU/LcYh6l+ZKN1J9peco4u/dO9SpHJfIM5sH1O83TGf73Gjx2rn7FOroDygBRXP4XvdtQ/3EqOkaKo0JkKX90jISLt6peWCEN9PfM4uK5bly+cA2zk7Norm9AfV0Mba112LNvNzo6O1DTIH1HtSSjk4TdiKT1Cgrgsi5ltXil+wzDMIxvPeYYMQzDuB8p7flLHSNcZRBFjJDpKTpDcujvn8TY6BhGR0fRP3gDc/NjeOmlp/D4946iuYMWiJeEtqn+JuyX42wd2r4uzIMbTrhYttODcwNUyhBRh0ilMqswZap+T6IHsYK4w196aErbY632cWldvEod5rt5uri6b5TStrqX0frJF/+3OTqELNPdbbiGkG3+n9IxIvDtVG6wiRKRVT5+J51Mch4Y7J3B5XNXMTYs/dLwANLJBbS3d2BzRxfaOzrR0dWO1vYqVHMUSfCNNw6XbylBHUvjBPcZhmEY3wnMMWIYhvFtw/XaG7k5X62nd/u4dL+4S97ZRWByqoChwRHc7B7AufNXMTg4imw2g6bmJuzc2YnjD+zH3n1bZTuKCOcMoNEhMJtlThDJj6uq8jJduBEMWLaz8qjBVWnLvoLc5epXBB5ESqV11ZOjhHJllIa5dG650v57kdttw3u5Tiuht5siXPpOD61IsC7qPPHXdYc30W/RMcIg/vu6UTLBf+VZYKhvHlcuX8QXn3+Fwf4xxGLV2LFzF/YdPIDOrR1o3VSLmnogXiVJOcCN6ZlnsUyfoE7lWG1/aV53ylq6ONZb7nrzMwzDuM8wx4hhGMbdZrVedj03qbeVXhIFDRA+PuIcAi6/Uv9ADkiNA8PDGXWAnDl9FlevdyOZyqClrRk1tQkcPLQP+/btxubOWtTWioGRkHRu3pFSXUr15v5yYUFK99+P3Mtt4I5X6XG7XYJ1LZfnRtqi3Pl1r1GqY6Xa8V5nteMSbINy8VZqs9K4dOiK5LJAZhGYHl/E1Ys9uHylG909w5iYmkZVdTUee/xR6cd2Y0tXPVo3Sxr2YYT50eFCodOE2xSWV+44lQsjpXpVgpXKcmy0zLXyMwzDuA8xx4hhGMbdRnvZFbrasjeoZQJX6qmLUYMRyqTnzT6jcFfQIbIAjA4BQwOz6OvtR39fP0ZHxxGJxFBdXYemljZ0btmK7Ts2obYBqK4F6viLK5+aYT4ur9LiV9K3lDKq3lXWq9d3gbtRV3e8vu7jtl7K1fle07X0f+V+o/QYlbbBWvsdq53f3Cd9Xn6ajwACw0OL6O0bxvXrvVhYSCKbXUB9XRx79++Qvq0D27a3oL5F0tAhwvIowX5ypbJUN7dTNlbT6U5YqQ0cGy13rfwMwzDuQ8wxYhiGcbfRXnaFrrbsDSrfwbCc8vexjOXGlDOGiM6hIXCXH6S47QwwNwnMTOcwNjaB7pv9GB+ZxsJ8Cpl0CpFICI1N9djU1ozNne3Y1L4Jza0R1DZLWj4qEyyOv9D6j84sU9iVuR42ErcSlDascXt83cdtvZQ7vvearrf7v/JdYrU2WKt91vM/zDjOscE+Ky1/M0BPzwKGhycw0D+E0dExZDJZVFVVo76+Hp2dm7F1aydaN8XRJP1dmHOSsH9zTmWXX6lOfM7H9bt3i7WyX0+bBLnL6hqGYXwbMceIYRjG3UZ72RW62pIbVMbyX0x5C8FQb90fO65bIgW5c1fhPoE38rypTwKpRVmIjI3lcPVqD8ZGJzE9PYfxsTFEwmFs3rwJHR2tYhh0YOeuJjQ2STqOCnGOD78Iv2CPrGRe7lWjwThrsZG4xsa4G1f3b8vxqlTd7fy891jPsWUcvtWK/VNpF5UGFseB7pspXL3Sh+HBSQwNTiAajWDTpla0tjVgy9ZWdHQ1orHZGyUXc30hzwcnXydrlbfR893Oa8MwjFswx4hhGMbdRnvZVbrakptU5xhhiuCuW+5lNYJ8BUeJ0BFCXwnf2iDMTAIjI4vo7x/AzZs96O7uxeTENBKJamzbtgNHjhyUZSd27IgiyqHkzIr5ZPwlYRiNCyc+haxoGr5FqzKKrsJG4hqGYbh+aTU0jnzxLTjsI3X21qj0j9LhcDXQl2VHgatXgQsXLuDypcsYGOxDNBrGrl07sXf/buzavRNbuhKoqYU3wTTnVGLalfqu0nBuqz53wFr95EbzXys/wzCM+xBzjBiGYdxttJddo6u95Ua1NEBu8HmTX3A/WwYIOCswD0yMAL29k+jrG8SZr85idHQY0UgYLS2N6NraiWPHjqCrqwP1DUCV3OzrL6HuZt/h1A2qzWJd0RLOq0fx5RJByoWtxEbiGoZhrNGV3rI/5LzF7Gykk+OouiDcZJoFYGYKGBudx+kvz+t8JAP9I8ikC+jc0olHH30Ie/bswNbtQJyPFpIV+78yneNaeq/Fan3lRvNeLS/DMIz7FHOMGIZh3G20l11HV3vLzaoLkLTFrlru4oPx0t4bGHq7FzE0MIae7n709w5hZnYWTc18k0wtNm1qxpauzejsbEVdfRwSjHCVpHU+FmcnaBE0IvyytMwSQyKokizKqnxL4CpsJK5hGIbfPa2Ji6d9EofQMcAP1D7Nl9I+KAXMTgLTIoP9k+jrHsHw0CgmpyYRi0WxuaMFO3Zswdatrdi+swbRRklDxzK7TgqzZZ6ug3Trd0qpnkE2mv9qeRmGYdynmGPEMAzjbrKsh12ru3X7fUcEN7ka+LGTZKflpn2Kb1vIYnhwGH39/ZiYmEAul0W+kEE8FkFLa7OODmlta9b15uYwEm4ywVKCN+5uqWHckBUXRoI31P7uW/YH46zFRuIahmEE+5vVcP0T0UdpAk5f7qBzpOyQNx+JXpj3HCQjwzO4cYNzM41jbnZe+toCEvEYGhrqsXPXNnR0tks/G0ctH0fk63+DRfn9tnIn/d1qadfbJo470cMwDOM7ijlGDMMwSrmTm8w105aJoEHyxXx0Xe6kXTTeVHNUyAKw6E+geuPqHPp7JzExMYWpqWmMTQyisaUG23a0Y+u2NpFWkQZU1fvpmRdv1Jm/0zW4ThjHlUmKuqyD0nTBfNdiI3ENwzDW2y8FKfYzrqNb3vF4WYaWh7pyXKD0weMjGfTeHEb3jWEM9o+jv28Uzc18e1cbtmztxO69HTpha00dUMVReZyTxDmjXT5uGazHcnXKE4wTTHs7rKc8wzCM+wxzjBiGYQTZSI+4npvLZfkFNoKvd2Sw2+S6e9mMSEFkehro7h7C9es3MDAwgZ7uESQX82hvb8eevXuxfWcndu5uwpbtkoa/VhKmdzfkdIpQgqNFXHnOYeII6rIeltXPZyPpNxLXMAyjXJ9Tyrr7FS+z4JvAimvsG3OyPy8SCy8f+ZEC5oaBL7/ox+XLN9HT04OF5CLaNjWhfXMzDh7ah23bt6KlxXurjfa9FOZRqtt6dQ3GW08brMZ6yzQMw7iPMMeIYRjfDb6JnmzZzSXvokkwUNaLevkr3E2nSFq23RtduOBNs+6TXaNAf38WAwNDuHbtOq5evYZkahH1DXXo7OzAgUP70d6+SW7Aa9HULMmYls+4uzwIi3PrxOkRDHO4fV835XQxDMNYjbX6q0r1K66c0vK4TaHzOS2SBWZmOOH1FM6dv4iLfLPNwAjq61uwb99hHD5yCAcONGJTh8StEaF+TMtl0NlC6AnXDt3HOa5dncrVnfvKha+Ey8swDMNYhjlGDMP4hlir69nA3ds30YuJeizWK5q/N3qOEW8wtpMAjOiCXELeFMtNdW4emJUb676eBQz2j+L6jZsYGhzWx9/b2lrR0FiPzi3tOmdIS1sCDc1APCHJOTokcA+9JkEdgniVqBzlyjAMw6gEq/VXZbrd1bi1qypJsWxTNnRbOm4XziUz4TIJTE8Ao6MpXL8+gOGhaUxOLGJ2dhY1NVXY0tWOrdtbsG1HK7bvko6b/bdzjGh+8qWvF+a637EHFXRlBim3/9ZKGYZhGOvAHCOGYXxDrNX1rPPu7pvqwUQ9/ujn/aCX9yUk97llPBVBHbkuidLTwPgYMDg0gqGhUYyPT2FmZhbZbE6i5PRGmhP6be3qQPvmVrS2xVDNOUP4zPrtwrLLNWtQP+6/0za1G3PDMO4Wa/VPd9T/lGSum4EM3e7gkrspdHJwOw0sTAET43mMjEyhv29YR/+lUhkUClnU1lVh67Yt6OhoR9umFjS3ArUNki7YtwfzdWWtREA9wzAM4/Yxx4hhGN8Qt3m3d4/0WHwaJiNLOkfCyIvkEJHvso4Rek+SQGoWmBOZnwdu3BjQG+axiTHZnpUoObRuakbHFk6g2o4ukY6OMEKcwC+Iu2G+He4k7UqUOx52o24Yxt2ikteAW/qqksyDc0GRcmUzjMKodI543nJP5ALBN9vcuLGIvr4x3LzZh+GhMeSyIVRXN6KpqRnbd7Rjx046SYAGvvqXI0n4aKQreq36lqhoGIZh3B7mGDEM4xviNu727qXeStRzI0Z4L0wpakw9uTPrSTYFjAylcOVKN65d7cHIyDj6B4ZRVVODnbu2Y98BTqDahW3bE97rHt3wapc5Ka37vXQzHNTNbtINw7ibVPo6sKzPKtPRlgYFt50jpBwuHvP3+3G+ar2/N4+enkF89tlp3Ljeg1g0hK1bN8u1oAsHD+5C19Y2NDVJ5GoROkh4LSntV7nN/EvDHSuFG4ZhGCtijhHDML4h1up6Su7svu6eqrS84A1wUDV3cxoMWwQm+4CbN+bQ09uDCxfOYmhkALU1tejs2oLNHe3Ye2CvjhBpaQPqOIya6d2vhBRXvst3mT6iSCh4tyzKFZwH5Tbxs3LVWZN1RzQMw6ggy/rCCrCsHyuXuURYdqu8gY6vNDteQ7KykO47J8vBgRyuX7uJm9e70d83iN6+AXRt2aZvGzt44BCOHK1FghO2ureNMT0HJVK47vKnSkG1NqCiYRiG4WGOEcMwviHW6npK7uy+zp5qpbKoktvn/BC8Oc14j8kM9adw80ofJkZn0d8/iqmpedTV16KptV5f47ht+xZ0djWgpg46X0iEz5THREp9GlJGUYVAmSEXGJI7aorudE4Ryh3cDftJWcRSLsu3llFUsAx3oIZhGMaqrNb33A7L+qvVMpd9esvMBE7KoB01hX2zhpSHyeXakebk21PA2GgSly/16KSto6MTyGTyaN9Uj6amKHbv6sCevTvR2ilp3KM2vPZQVlJnBfUMwzCM8phjxDCMb4jSrsfdxbnwkru6SvdUpcUFCYYF1+l74LbcjBbSnFwPGB6cxejwOEZHRIbHsDi/gOqqKiQScX297pat7djStQlt7XWo5/BozhnCspnXSrAMVy7jBnVQchIugXxtjT4D7+QO8JOzqKWclm8tI6hTcL0CqhiGYaxIsL+pBMv6q3KZ+xGKt8vr6OBclNV0Lc1mUa4pY7yupNHX168Tts7PzCI5N4uIRG5pbpNryTZ0bemQZbU3GXetCJ3rLOcOfeOGYRj3O+YYMQzjG8LvenQhd3PLbugYWHKHV+meKph9ad5uO7jMA1m5cZ2ZKWBqagYTE4u4dnVQbmIXMD+7gHQqg3A4j107t2DHDrlx3dqKTe0JVHMyveAEqhxGzVcyRsPIB6rNpecrkcLo7HBlc4dbLyIBdIpUEj87FrWU8/KtZQR1Cq4zeoVVMwzDKBLsbyrBsv6qNHN/ZyXLZJZ6653jxQCI0LPhbWo5HA2S4at/8xgbnMRI9wSuX+zD2OisdPvVaGlpRWtrM7Zu7UTnliqdtBWcm8o53b8uXJsEyywXZhiG8S3BHCOGYXyDSPejXRDvogJ3UsXVkruskt7KORZ0b2lPVsyDBMcbl8Gl5dKtMwlvVPmYTBqYmwMGBidw/vxZXLlyCdPTc5icnMe+vQdx5PBR7Nq5S25WE+jYIWnc8+B8bQ3x73s9XAGhW+bUW79jRFihKrfNRvMrp5Oj0roZhmEEWa3/2Qgb6asqUWaxPGbGiwyX9ISsTrYf6O9Lo/vmEK5cvo6LFy6huqoamzc348DBXXj0B0dR1wZEqqUIZsc5SEpHJQb1X1bvFXeszFptYdcAwzAqxVr9zXpZR79kjhHDML52eDtI9L6Noye0tyrpsXTT3TgGxghzU1ad34Kh3OvlxS+hmBUDGIvzcTBGDIVCyNtdjBPAZSpkZ4HBQeDqlQGcP38RQyPDyGTTqK4JYdPmBuzc2YW9e3dhy5Y21HE4s5sQjzelLNZVkgSV0+fPvcILASVuUcfV5eugXFsYhmEYy1lvv1zap7p0wfDi7XcgsFxfzGi8hFEycmlJAgN9eVy6cA2XL12U69SgXG4KaGlvxbEHj+PAoX3o2hpChKMV1+zb5UJFPW4Zgei2y2SwnjYIJmP8NfUwDMMow3r6m42wRl9kjhHDML52nLuDfgTPMcKleg+WOi1ZFjQW3QcMXN6b0X/hHCPMR/e63qwYlWndHSVjxbU43e0Xp3Bkh9xsTk7QETKEnp5hTE8tYnR0GosLGbS0tqCzqwMdna1o76hFc2sU1TVAbZ1kwwlUHSxCK+d7V3izGbzhDKzeyqo7N8ZGe/UKFm0YhmGUUHptKu2j1+qDXXwueY1ZABan5Zo1WcDo8AQGB8YwPjmLvr5BuSjl0bKpCZs7W3D46B5s216DBJ0kesFdCWZcqhQJKuavl4tWDkYPxl2rjoZhGEHW29dslFX6InOMGIbx9eB6mmKHJAEuTCcQ9fFXXRCjFH0Yxd5KVkIhvT8kwQEZK8L9foJMEkindJoPTI4BfT39GB+bxMTEFEaGR5HJ5lFXV4/a2ho0NTdj67YubN7ShJZWoKpOMgg6Q5ivE4WeF25IBZY5RooRVsDFqwBrFVVKBYs2DMMw1kGwn15PH+zic+n73nWdTv1JYGoyjSuXb2JoaAizMzNYXFxAU0MD2lpb0L55M7q2dmFLVxQxOknc456rwsxdoVSwREm3a73YdcYwjI2w0T5mvazSF5ljxDCMr4diT8MVHVYhEpZFYOhGoLPiXpck7MKLefhjReh0CDpVghTjClyXIrNyAzk/x9fqZjE2uijZhNFzs1vWR5FMzSISyaO2No5tO7Zg2/ZObN2+Cc2c2M5NnsqinGJcD6iuYVQrLCshOke4M6gbI6zGCvW4HdYqqpQKFm0YhmFUDnbnwS5dL0O+Y0SvjRqgm+okmRgB+rvH0HO9F703BrEwk0I0xklaO7BjZxc6u1rRtjmCBk7YWuroXwYz5bU6JGuuoOVoyHqvN7cmNwzDWJn19i0bZZW+yBwjhmF8fbC30Q6JN1si6hTxvQvFfR55ufFLyU1eJALE5MYtxGHA2lvJFx0PmtZPUK4XY5jkkc8AGRGOEJmaAC5dvK7S3zeC5KIUUMji4IF9OHRkL3bu3ILWtghqeMPoJrBz8GkcwjAWyyo4x4grv6h/SYDrZgP1u5VVd26Mcu2xGhUs2jAMw6gspV06u+xcTi5C+QIiOirRvxgFLqm8Zs33AoP9C7hw/jLOX7iMsbEx1DfWYfuO7Th27Cj2H2yTbYnbIFL6qE1JoSVXtdVhpHJKO1bbZxiGQUr7iUqxSn9jjhHDML4BOHuI1/V4PVDY66dkXQdayHJuAnj33Rvo2tKFXXvjaGxjBMYvIKSPqkhEOicIfz1zb37hLmYm+6aHgCuXp3H27GVcungZ2UwG1dVVaGioQWdnG/bt34UOWW5qj6G6WdIUnS+BpSO47TpVdwNaGjcwwapijhHDMAyjkpT288FtrlP8a2RhAZiaAsZGpvHF5+dw80Y/xkYn5NIUQtfWLfjhU9/Hzl1yLeyQyPVeGk0v11Zec/nJ5XPI5/OIRiOIhOXipxdrwV0/Sq4jBYkb8uPk8wWEI34Ep1uQFfIwDOM+prSfqBSr9DPmGDEM42vDdTZFp4gvnFyVvgT3yMxYD/D6Hy7i7Tc/wNNPP4XnXjqArn0Slw4Q3o8xnkvM+y7e/GWBFF+pO7CIixeuYWpyDuPjc5iYmEU+F8Hm9nZ0dXVia1c7WjdVo6ERqKkDYlWSBR+V8e/xPNXky41VVqJ+uM+aN3HByAFW6YzX2LkxVih+RSpYtGEYhlEhVuvL2W+vtN+F89rorm1yjczxcdJZucYO5zDYP4L+vmEMDQ1jdnYW9fWcWLwOW7dvxuGje9G2OYxIjaRz6VkeHSV0eHBbnSNckcL0xwBf3AgWbhbn2CqB+1ZihSSGYdxnrNZP3Amr9DHrc4xo5+atrkgwF+vUDOP+Ya0epGx/wLs1r2MpyA2U3lORNDB8Dfjs/Sm8/caHuHm9G08/8wP8/B8/hL2PyX7mxZs0juzg4zGLwALnDBlMY3BgABMT45icmMTo2CiqqqrQ3Nysk6g2t7Rg+/YutLbG0dQkWVT7eRCWHRxCnGeAE4cfgUHB+qzY1wXT+qzZL64ZYf2UKX5VKli0YRiGUSFW6svL9dnBuG6dl1rGDQr38fo5zzex5TDQN4zengHMzyYxMT6JVCqNTe1taGppxNZtndjcuUmuoWFUcz4STtrqLt/E6aEXcdmh82vJ9ZKPukpQns4YEe6N87rr4jtcPqWUxjMM4/5jpf7hTlmlf1nbMaJ7+SW5BDNyqVxYaS7WqRnG/cHqPYjHsv6ACdydFW+eRLgpMnoJ+PD1QXzydg8Gekf1rmrPvi784s8ew8M/ljh8XEZu6MZngOlJuakblzQjw+jpvobp6XEd6ltTU4229mZs27YZu/dsQ/vmMGIcGsw5Q1gkdeFSXxMcQp6/aAX002nm2C0yThF6Y8qwYj+3LPEq8YKsK9L6KCl+TSpYtGEYhlEhVurLpc8O7ip24aXxue12+ksOhlw2NzidF3zURq6nN64M49rlXowMT2AxmUFDYxM2yfW0rb0FLRxNsq0OEoQwHSSl83CFOMpSMuOF2p9UXS7LGOjLYmZ2BAcPd6KxWQoNpmES6uF0CVISFqyK8fWy0mm4UYrHb6UM7QAbQSpx4pWeUy7PFc61DThGiOTiZ8QQXS2XeoXCDMP4FrN6T7Ex2EcwPycpuZ0aAX7717346K2rGOkuIBaukhu4NKqqC3j5zx7Fj/9xPdJyQzU8DZw4fRrdN/swO7OIbDaFqqoQHn7kGPbs2YOOjho0dUqebs6RICyr2D/JhnR/eTo9An2Wm3+/qJuyQqe2QvBSQj/CivHuEkW918HXrZthGIaxPsr15dJnrxDsEdipc3vwGdXV+vm0CP0YThaA0T6gv38OX355Ft3dNzA7N4N4LIKjRw/h0KED2LqtDa2tEp2TtjJvzw/ile0kCnSfAV575St89dUp/Plf/AwPPrQJVZKu6Bzh7xNMG9QvuM58/G1XrdWqYnxLcAdzvdhBvz/Z6HmyEVY4p1Z3jBT3BKL4zwt6v7UyA91cwk5ew/juUcnOKdhHsCPhr1UDwN/9pyGcfO8GpoayiOSaEcqHUchlEIll0bYbaOxKYTIzhHR0HuHqPHbs2Ko3aLt2d6G+IYSaGrnX4lwh/BWr9CaNaIflrZay1At6K160O+nMmE8g/Z1kdTsE62wYhmF8eylen3ykX2dQuW6+uB5Ms9Z1gNfhINzmSA7JI7MIDA8B165ex8Xzl9F9ow/pFEdm1mPnjt146JEHsXN3FZo5aSsflSFM6+d5+s0Cfv2XJ3Du7FkcObITf/ZPnseR78kOvvkto1Hkep1FgUNYinOWeOhqoJLO7ijHWlU07iGC56ZhbITSf/TSc2mt/Y5VOoyVHSPLQpdHKYRCxQ4qHNwVKIjBq5RrGMa3ifK9xK2sp1MKxpGbrqnrwAd/mMT7v7+IhdEquUeqRrRQq3dB4UJe7rEWEWubRsf+KPY93Inm7VVo7Iihta0OTc0hVEtUdYYwXyektG8KlnsLErlQJsKqaYQV24U7ShKvlVclcXp9nWUahmEYXwu+30Ep7eY33O2vdB1jRnwyxp/Pa3oCGB6cx8TYPLq7+/WV96l0GnX1ddixcyv27NuMHTsa0LJJ0vBRm1ng7b9N4u/+8rSkG0ddXQzHH9iF53+6F0d/KPv5mmASk9pIWTlRhOM1+SYbFq2/b/i68fLs7A4K8Xb5IzwFtzQqTQVbdqVzbU1uO6HxXaHcaVh6Wmickohl46zMOhwjXHEbfm4hDjb3t0pT+1GK+w3D+G6zQh9QHonMOxz+opQEhi4Dn703iY/eOI+J3jzimRbEQlWIFuSuKldARPqaTH4B0ZZJHHisDT//8z1o3ytpOQkcH5XhnRPLdzq4skt14PZaeil+pNI6VYJVy68wpe1hGIZhfCdw3TuX5br4DXf7pdc7DgV3PxTQGxGcE0Su25l5YHAgg57ufoyOTGJmZhEL84tiGmRQWxfDpuYOHNxzRF+5/+Gb3fjs/T5kUyFEwiFUVYdw6IFWPPXCPjxI5widKMXHXnNaXCEUUZV4eXeXeOcIolbqMFGc4qUVMCqHfx6U++HormPH11gHPD3c6Vk8TbkSOGeDp9Aap/IajhF+OQmWKsJFuZR+tHK7DMP4buF6hRX/4SWC14PwW295EM5FdaTI8GXg/TcH8OFb1zHavYi68CbE8/WIFMKI5OVOTJJE5QYpJ3dihfpRHHysDf/s3+5F7TFmLLifj1zZXHdSjpXClWAFJGJwcy2C+a6WbtXyK0ywTQzDMIxvNRu5JK3G2pcElrRUGi0EjuAoS8qT8RHg8sV+XLt6Rd8Ol56PYueWBzA+kEP35VlMDIYQi8i1PRxHKpVEvHYe+46246U/3oljT0keTSJaRI6FyXd4mSMkiOcs8fUrqkkll3Q2Kog6RL6pGwkeUzuuxioET49bTlUXsLHzd405RmRXML+gx3Aj5dh5bRjfDcr935f7//bjea4QCoe75kXklicbR3YS+O1ffYG3XjuLvmspVIdbES/UIZavQigfQTgvtz/5EKLhGMLRPGYLA2jflcCf/Oun8dgvqpdeGejdJd0hpRUQ5TfSZ5W2ySrt8bXhdPi6yzUMwzAqzkYuSauxvksCSysgHzAPwjq/YOBi60XxcJlOAf09i7h2YQLnTo3i3MlhzI5H5NrejmhIrtuFKELhEFL5KUQSKew4VIV/9n94ALsfkLR8c5x/PeelnU/wBHV1RS1ptLTO+O5eYyXsUnjvYMfCuFN4DlHYZbgBbe7/Pxh2O53C6o4RzXGtU5hxpEvSXEqy4uZq2RuG8e1Ab4rcUsQt+U9edKBKd8R/d133blT4xIwjLLc66hjJJDDZl8GHb5zGjSuTmJuKITWbRy4VwsJ0CguzKaQWcshlClJMDJFoGCnMoGFzAj986SD+2f9wBGE+m8xy2AMG8ctelWVdUrn+aT2ZBCgXPZjtBrOrCK78b6JswzAMo6KUu1LdDuu9JLA8T7ySOetHMa1Txi2dV4LCSCmg5wTwl//bNVw5M4RQuhHRcLXmQGdLFkmk84tIR4Zx7Psd+Md/8QgOPiTp/Os6s+O8rMyK4ophGB0mrjgu3X0Gw50KTg2Kw60Hw4z14dr/XsGO4f1FufOPt/7OAeKWTjjloHsHgw4kcx1COcqEr+EY8VgtT687YrfEGMFYwWzXLMIwjG8dwf95/o9LN5QTKYhIMAd9cJAZb1wIHSPqHMlX6esBkyPA/Iz0IHITlZc7nvlZYHGugJmpRUxNzGNqkjKH6Zk5TM1PIB/JYtveevyb/8tzqOKM9trrMedA/+LUKVISoFHX6o8kzS35CMW0JTvLxf2mcVW8F3UzDMMwNsRaV631sp5LgiuLy+ClhJdcJagMTYiC2AB5LmOeZSLX9y9/D/ztf/wKvVcmkci3IBKKSyZ5iZZHQeLkJcN0eAKR+jkcfawDL/78EI7+MKGjQUsdI9z254BVWRCZyKUwMjWJhVxGwvJI5fNIZtJIZSVmOKTzkzlnTsj/YUe/RU1vy1gf3pySlYTONs/h5q/JOXEreuS81VJ8hXRhP75/tymeAkvnQliOOR0e8UgENfGESm0khrb6RjRG4qiROBxULj2OLotGCCk9pcqcYhtzjPDkLUinI52bOkMyc2LJTMlSuil2iksxl05W7TT9dcMwvv3c0rHQESKB4SrphRrlxqgWiEl3JB0U93lvsfIepfGeHC7OtLZ0x8M7rkUROklEFmV9XrqXOZGZmRSm56blpmcBVfUFPPHcLsTY81EPp8uqzxcHFNZoa/VHEj+QpEgxbcnOcnG/aVwV70XdDMMwjA2x1lVrvaz3kuDKC15KNG2pItzW+3xZ0tvBVTEL/uu/v4YPX7+G6eE0qtAsl+gwIhHZGc5LtDyyoSzSoRksYBQ1LVk89cJ+/PiPHsLOIy36owpvC5yudIakRWZEhvNpdM9OomdsBJNyk5CNRuSWIir5hbCYSSOZldhhPoYbUecI9fEeAwrUwbhNeJDvDObg3CLFtbI24spHi2arpmBSvYksl/52+CbPjkrV4buHN8fR0rHh23Ajsh2V/+u47IvJ/3pCjIi6SAybG5rQ1diM9kStTl3EJ/TUXFipecsc8lUdI8EdElG+pMNJz4vxQotlAsnxPoTnxxBNzyKXy0kC77VZWo4m9rw66/C9GIZxj+GmFOJ/L50b3lK+ZJ0LvThpvxCSG48w8rE6xBq2INq0BWhok96oQfZFpQeLSTp2Y46ltVvg4LPlfWDxZ6Is98k9UJQuYMYJovFX6mcCmWmUleI5JH45FYtpS3aWi/tN46p4L+pmGIZhbIi1rlrrZV2XBP8yd8tlpJwSDKPwmiw2an4B6LsG/C//r9+g99IiCosxVIOP0oRRVR1BNCa5RSWiSD6eQi6+gEJiAbv2N+HxJw/gsR/uQ6hKbgUCiiZFxOrA9cVZnJ8YwaXpMQzPz6pTJFxTjXBVFfKyninkkc5L3mVGjOjS1z+QtbEGXpO5g+zkTnD3kjwKvmNkRfSoeasBimlkseQYWS2f9eDK+abOjkrU4buH9597q2OETpFwXs6ETBYFMQ4iIvn5RTTFq7GruRV72jZjd00TOiQ+n9DTl1jyVCk9vGUO94qOERfodSTyVZCuKSQyPYT0wE0MdF/BxMB11CCF2kgO0UhUO6FlQ6KYNpj9N3W+fd0EqlxRXPvxcJQpZMXm1Q7oziktcVmu663zN3QOrE+99SvnxVxvpddJhbO7I/ymoEqqlpxDQUeJLv3/bS7zcjOSLsRQiDWguXMX2rftAdq3AjUt0oPVSo/E0SMcY1vq0fDRguQrxxFpUlCE8QJxuZ/l+zoUlSAubD0E061GuTzLpd1I2V8nrr0MwzAMYyOsdP1Y6frJcP9yPT+WxYkPL+K//afXkVuoQV28EfWJZtRUVaGxqQ6J6hhq6qrQ0FyH+pYaVDXGkKgLoaouL2ERtHR4k6vTMcLfQijTIj3ZFD6+egE3ZiYwL3kkmhrlfiOKbDgkcUM6YqQQkXXej0h8qh8U6qjLilC5nDxWatjbpZL6ibWhdp3T8c501Z/PffW8nFbKz9WhTF00CxfO9E7ulFXK9LndUlbO0VGpOnzXoF/BWxKuhvIFz/EpG2opyDIip2ghnUZyagZV6Sy2NjTj8R17cCBRjzaJI70KEsGOwTV1mQOzDscISxNjJTcDLI5g5uQ7GOy7Jook0VxfjepYCHHRjMPWONu0lsIsadwUoRnPHMsW9d2D1fdXK4W2nMtUNso5RlYqNxShQRrExVpDy/VWgqqUP41K8OOs+tjD3cDzUK+vQuurtObITLUuFahPBbK4awSaZDU1c4Uw0nI3Mzmb1NEjrZ27UHPwUaB2s/RctZJPTCSqk6+F1fHhs5G6UxfGdzoF178unL5fd7mGYRiG8U2y0vXavxYvTC3iysVuLM7n0dKwGS1NragTq4S3oRwRr9E48pM/4XISALVsfOGtquThDxLVx2c4WqQnn8Fr57/EYD6FfHUChZoq5OUeokCniOxXs532h9gddIy4++PgJbq4vpL+68blFMz9TnAK3bFiPndDv3XoKMWtvwZOt7VSrKcO6y91fazefuVKc2FuWZrDemrhpa50Xb4rsAUDrSjN5EJU/O1CLo+orIUXU8D8Ijpk6ydHH8T2UBwNsr/ej3cLJYGrOkZy2Yxkm5UOS7qdhWHg/EeY7vlKwudRWx1GIkFDR3ozOkE0Yz93t+5vam7BkSTGbcJ29FeXVm4luEuPTfFA+HC7NKyENXYvg+Xd446R5cuVWEe7FJE6sM73g2NkI0ibZLN5zKVCyIZrUNO2BzWHvg9UtcudkNwdRaukzdhn+PENwzAMw/h2UXrP4n6NzeWwyEnChFgshmgsLtf9wAWf6TgnIe9L6Qwpg5g1KsxlVIydT/tv4JOhm0i31CNWU4UCf1gJRyQrTwkudQRBOKSjV+/u7RTrEqhPRaDGldL6m9NvPbHuhnaVZXUNXf2C9dT10iQS6HJaObdSmFMwZ2O9LagtJ/YHY0bSOWQXFlAzvYAnt+/BI5u3olM6G845sqL5GSji1m7JHRcpIKzOjCyQnAaGezDUdw0RZNBYV4NEdY2UHtWOaClDl5jIkoajih90P8E6V1KIWyps9BXEOUOcQ6Q0r2I+fvxywucmSoSnXFC8cInu8ise7zWEp9VaItEqKV7RcvmskMjV18uUF/hS3W9HJJt7WjZANBZFIiF9Qy6J0cGbwMANID0jp5X0JWwzOW0MwzAMw/iO4K7rsQiqG+pUotWJ5U4Rxxr3pjRMKBwxMrowh77xUSARQzgR16EneUmvb7fh/ZhLZBh3BM/JgJTYPyqlcYIS3F8ubjCfclIa38SX9eHFlm92B5EwItVViNbWoHdsBGPSh7AvWW9PcatjxNeDCx3uXsgAM6MYuXERmYUp1MRCiMT5hmDBdWQ0doJyS/EMX9r9XZdbql8JmLccldXEnRq3SjlWCi+Pq1Kwet4ykM/GslwDp3slpPK4NqgErk3L+UvuBfH0K3/OlUpeJJcvIBYNozoubZ+dx0DPJWB+XHLh6DNZGIZhGIbx7aX09sqtB2+O3M2NI7hOSreJhPE2gU/V8DGa8eQ8JlILiNfXIRSLIB+Wew0pi4/kapnMo1w+hrFh/JNazyd/PShrOTDuxMmxUpkmIutDJ1kW4WN1oXgMsfoajM7NYGx+Vl/xrV2FZOeWK2Vd3kzRBPIV5q++KWTGBzDSexV1VRGEOaO0ZluSo6bx5RaWG0/3gyxvkDuXcmWUk3JpvUcXSqRcvBJZLf9lYer994XrK0oZPVYSl19FpXLoe/E3WqcVRF9FdQ9LgSLtt5awPUL+XEORcAHV8TAaaqIYG+5BdmIA+lpvtpleAAzDMAzD+NbDkbPuuq5Wh7fK2wKVUlyY/pJ4K27OAL5hZiaTwkIhpyNGOK8If6zh/Vc47L9zplz+hnFHfBMnlZ3IdwpbkCYG+wi+oSopwr5jMr2IuVxaXwEe/MFX0UTeqkMsnzJox+YnXZxBcnoEcaRRX8VXbzIH7iNc93uwNfBezXR/SDmjsRJSrqyglEtDka8yIl+3hMmfL3qdC4rs1qdGAsKwYlxNXr78b14qT/ly7kzKHdNvjfj/397AVp4QOelccohH8gjnFrAwPax9iZwtso8iq4ZhGIZhfHvhpd89Uu+kHKXXfJeuDM4xksxmsZAXcyYR07fPZCWQM4gU5KaTb0rRx5rtXsIw7nu86R7ZL4iw84hEkIuEkY1HMSf2SFJ6DjdRc97vdlbqOso7Rgg7HGaRyyCaSyIOWeqM0Vo6Yyh0eLiQ5XuWcGFulNF3Xe4W5coKykqUHh9PlhvlTng5KhdOCe4rt87l+qTSrFWG2y4Nvzfg8dClqPetFWlbd255cC2PaCiv8xKF8knZ5FN+zqlqGIZhGMa3HrkHuEXuAJcFf2TJiGTFUqFThK/w5f2GsnSzYRj3NOs+Ve2cvmO8UWRij8iCj91lpO9IU2TbjRhhM6/W1OUdI+x4nCe3ICaP5BDm+7Uo7n1aErhkEDnD2KNoLPnidqkX+H4Qr7q6rIQQXS9XVlC8qMvSVkwkf+K2iVt6FGOuIjxfbl+CJ/Rq4jyCy8Od4e7pQXTbj7dRlvK9c3Hccjy/VSJfumS3xG7Fl1BY/vxuRp2tjCSLpcNgGIZhGIZRvD/gXYOu8r4hH7hzW+EWgncXy26ojHsedxxLj2Xp9u0QzNsJccsi5c4Z3tTqjg2KuyEus6+wdLO8LHzJgvbO8WC0lcRYCTZOwbM+XHtpuAf3qn3or1PK4Vss5VgyZpi5OkYKEkaRoui5dd5b7zEZIkt/1RVaLFhWuOt+EOKWlSCY52pC3HJNggeoKPy6Nd+iyO6gaBqFe9fG+7eXpSzWFq8j0XVNKyL66fKWuCIaR7oW31PIbXWO+KKPegSE+3Vdl95ivWhaLiVdJcTB1e+G+M4R35ka5lwlbDX3eJ5rd8MwDMMwDOJuDWRZvJ8oPrvtG44iavT460vI/aF/D2t8e3C2hDuWxfn77gBNzTwDUixD8tZRBT5qVXB/ERc5IBprjZ9mXSEl6+7j1ov7RbSaIt5CLRh/fWUhmr1RFm1D6Qdodai3gk2te9wR8cQdzeV4e5luddgZUSTn4kH18c3LZdwaYty7uONJkdPk/8/efwdJlt33neg3fZb3tqu9tzPT4x1mMHAECJAgQE9RlChRTysu9eTexsZ7ERuKePHeRmj/0MauJEoUtQRFGbpH0IHAYIDBABjT47t72ntf3ldlpc/3+55zT9bNrCzXVd1d1fX7VP3y3nvu8ffck+f3y3PPNYqrbS6eixVz7S325vTOBqyww3ANbyGcH69PWFD4xRdi4/bWqgjIlumKs/nkn81fgGfBBUJ5G9jvRXve4uXYdLbiR4QPdxSM0s4Yl5LzylTK993I+sbWb0XhbBEjPCYsLEWunL1QiqIoiqI87LhhwHxUPC8jORmX5vMc7dnRg3+rLIwbcZXLvcQb/S0oxGzLMmMW1ZVtSNwp1AOcEWzZSCBG78SxcFx+nz58mTaahnhj/sI+cfm1Zhe/6cUip4xYvcU7Fk9meFzuWVk+lZQpcz0clY1Os8yGX8QwIh5FgWHHNPtrLwNTYaXBxHhSKmBrafVkqVQKWy4G7zqWCA0dyMmlziObky8jaTbm1WhBvpVEfNBqb+DWtgf7Z/etmWExWRzzDhQqztLmjEGkkEVQ8sbwbIu5fE4kg7y4ceVhPjeWE+/mRwX5sL8aiJiWT2OIhBQ3vt4tJz1RDmEJGzL7zD2Ze5PMz1L9LYd7Eef9ZbYGbUdvj4OyNYYR1384sV4VRVEURdkILPS974YHHvRqZtWa8YI74Y0kOaYz+0olXFUuJqsNr9lCQoXT7HsZ4L5BdjhO5HFILnrYiOzLeN4ZG8w4Xs5XknKKbiYxn8gJY7QwadFBjo0bxYWqFKN15WPhIdEpwuKb+Qtmc4iI8hFhfukm52KRCEKhkH1rEtMRMeFlwx+Z8yyH0atEvxJ3o1ZRP/GMf0uikv624YW4bRnibK/xXLGUhlvEMCLIBSsN7MRS7K+UdYM1BoiYHsET4yY3JhVY3sjBMPIiwWgcoVgVwvFqhGVfuiq5gQsI8Zzc/KL5ihvFxbG4uBDzSSkMY5VqE9KkK12QdD7BSBRhyVswIvkKRiSwdEbhCJush42NxyZldkjihzNGzKyReVJcCi7kasn6prwEpaUzn2xT3DHYdrC4KIqiKIry0DA7NJgrFeDIr/wRmVmjiC+QcdBxg4M1YUSqyC8PCiZdVDm84yLils9R/7CPMURkvBiXsX6NjPGrZbwfDQSLymqxXJ7MRyV/Ng8FRIJBVEvcdaLTRMSVs9ONGlT06bYWHpkxrOg+gVwOYclrjegSdaJ31EjOaiR/PI5SfUpnEZEAzDPjdvnOSTiWkSoTjSdVkZgppzEWcevW4luE2XpjrlRKRCqHe47ZurL75WLxh7As7Up4nVIx+GyMykMFm0MI+UAYuWAM6UIEd4YTuHBzGJdE7gxPYyoTlHM14qdKOtkqaQuUiLSNpTWlJVNsvRKvSE7ylA1EkUUMGVRhciaI67dGcOV6P+70j2IykQYfuimIv2C4WjqaKgQLYTO9jcsF57I5yaNEKB1ZIRiV/i0M6aKsW/HbwhwpK8CYQXz9jKlPHhvxatd3XlEURVEUZTEWG5+V2U8UP1I3VP45UnePghQNFfPIamOMM97+HAIBO+M7n0c+k0VqYhJDV65j/PptZCemICP74vV3Q0lunJt/vxyTJj8k7rCkkRudwOSVmxi/dB3hiQSqMwXEJFKGz5vZzcSY5ERPYECr4YSlgcWyeUSnZpCQfF079gEu/ugdXHzzGG5/fAqZ3gHUpXJoyAEN+QAaCkFUS3QRCUuDSFzSjk4lMS1hh85fQm5wFOF0xsTt8r+YEHN9uLWHimCvkvxJ5RRVOoG77ikEV2dWeGxahmBDOwn9S4HOlZErOjWA3NBNJCaGUFsTQzDkGk1pyi4xs0/Lmu+82ZP0Zl2UB83ca+Fds0AIyVwIw5MzuHi9F+98+Ak+OHEO5y9excjYJGpqGtDY1Ibp6RSmk2kz8yISjkijMw/e2KhWDTZwidUYRiLIB6swlSzgTt8wTp29hLeOfYhTp8+jt29Q8hBGY2ODdD5hJKaTyOc4tY2dkTR+KVaOna3cHoMjk7h+sx8joyOor6sxr6C25hHeEK5W/LXj1UtFUUrrojg50RO5gtJDjU0mUNfYhmjbVqC2XVxp7KK5ajFcvIqiKIqiPPR4X/sckfXlM7g+OYq+6UmEG+qQDYlyLCesisyxXYUxwj0fNjCBe57ICijLn7frXItGER6XnfOLobizevjTLCIH9loWzGM02ZkkBq7dwFvf+R7GbvciXluD+vYW71EU2zbonSGMeOUpjdRCv4SngvmCefSl9/wlnPnRO7h6+iy6W1pRW1WNQDRsXutKLcbmUbQCiZjp8ZCzSmKyF06kMHb5Bj7+wY/w4es/xJXjJ3FZ4hnrH0BbfYORkb4BTA0NI5DOIBaLIR+WiIMBVEtkqf5BfPyjt3Dy2Luoj8bR0NSIcHVcdBQWokIBynA+vCwqRWgWmYXaSFiudWE6gY6aOmypbUBHMGL0Qup7zhg120JmWZphZPAmpscHUVcbRZB3lcF3RWSXR8aF+2UX1/2KXOq6UWCpK4ljoXPLZ+4lnkvFVOSaFYIhkQj6xmfw7snz+JNv/hVefe0iPvqoD+fO9mNi9Aq6u7qwadNmnDl7EVeu3UQqm0Oz3NihAM0OfqOZl0JJc2FLcOf8MhcTjJ2SnKfkAnEEInW4cmMA3339x/jTb/4Ir785jBNnx3Dtci/qG9LYsqUHyXQWH588i4nJJKLRiHR4fPwngJB0TtPJFH7w4/fwR3/2Nzh37gIeP/ooamLSpo2PCnk3SI7lkG16VrxTiuCvL6kbmmrNoXWjYWR8MoHaJhpGtvgMI6z1xXDxKoqiKIry0ON97XMM2J/P4ZrPMJJRw8gSsPlzOXS5dTKrEMrW2/GfL6HC+YVkKSzkPyw6SFUwjPTkFM5/eBwX//X/gcE7/aje2oOePbtQCPExeKsAsx3w5zWqpCyTK1cx7rIEeD7MAouOcOrH7+D0H/4pRo+9i85HH0FNYz0K8SgyUVGbg6w7N863P5madPL28ZnEzV4c/+4PcOL3fh/pCxeQHR1Brr8PE9kMevbuRTQYxPe+9Tf48O1jyExNY9PmHgSq48hL263PBzFy6Rre+MYfIPXnf4F0dw+27NqBquYmZKStm7xLwmY7j5Qwx2HjwutE9cO8FtmrLRrB8lOeYaRu1jBCvOcFBOd/lgW0EyqKEqBQMM9GpVMpE3xRTBBpuGWyYZH6LlWq6WBPsVrMYcl5qXlOJ2O9WW9Lhv4ZlouMLhSW58qFxoestKqU3LinL13Hn7/6Q/zg3Wm0iR779a/uxt/+lUfxuc+8iM7OTrz9zgf47f/w+/hf/7dv4j/9/h/i9LnLEoc0JWa+BF9BmQjnkpWU1Za36M+DXunEZpvJ5ZGWxp2VrmkikcUP3nwfr37/OPpHgU99qhW//msH8ZWv7sKBIwcwkZzCH/zxH+Nf/R9/jX/1f/5XvP7me5hK5cxaKRKFxBlC78AoPjqVwekLU0ilmRCXTJK8mzyalMvgteAp75oYse7KPPjrx9WZPVIURVEURVHuERxqc+F7v3AsRp3RjbY5LuPAzLg5EXd33mGO5dyiIpjwkpZf5iB+XToUKrOEo8S86JoBGfPzl/5IRnRQUWQRCKO6EDQLsRZ43vx54SUuKrHmkXmf0I3nymF+QiJVZsayqMgSN9Pi2iH0bmakyNbWjRXGReNLRPaCmRwuf3wSx7/zfUAU7taf+Wl88V/9f/DLv/vv8Sv/y/8Lew4fxNnTp3H91dcw9d/+CO//9z/BxeOfGGNMwZQrj3pJNxSvkUijqJUEuS4J01BWDq+hEa9NEX9bKe6L2MtrPkQ8e4dtBQtdD/8pq9wo5fir2U9pp2AUQ58Qc569V4WwxdWMPZeFq97FYcXEKf/mEjN9T+zCo3TjOVpBZccnPB8IRzCVyuD0xWv4+OwEIjHgK1/5HL7yk5/HT/7E5/Dpl5/H9m2bkUpnMD6Rx8gMMDo+icRMiv1KKUzXbH379FRWFwuXTTo5yVOEC6yGY+jtH8bZ81cxPg3s3t+Jr//cL+FLP/klfOXLP4H9B/YYS/Lo5KQxmlBGp5OYkY6M/SuNIoFQ2LyRJpmTfkrccnnpHKXDtZlcCFObZTIftj5LZQNiqmmhelIURVEURVFWwpwRpwy9jNFAxBkLuEZHUauTMblb7NOtvWBHwiZ0KYxLNuXiDC4c3hs38UdKx/eeo49iHP5TdOAxdYS8KKa5gjEi0ErBl2VGxdnMDKF43v3x0M1f1pK4fdA//TI+awGx/gn1h5zk181IIf74I3ykX3Sdsd5+UTAGgeYWPPfyS9h25CA69+xA2/YtqGlpQld3N9DdA+zYiY49e7FlUw/CIdE/JA6uRBHzhMoYt3y7Dc8pK4PXzIhUptt3n+Y6+oSYdms+5Opya9oqz/ruk8rYKGzUih9X8fPVTfFc8cMnrsPg4RLgNVsqfJ0UrxtvbdMxSWBrIDFnrcg/3cxro+gssGtkn5RIpjE0NoGxaaCxBTh0+AC2belCZ0cj2lpqUF8Txq6tnfjMi4fx1U+34TPPP44t3S3mURrbsDz8+16yRdxxubuH6ZwluO2krQcuyjQ+Po6RkWFzrr2jHbt3bMOWtjZsbWtHU1Utmusa8fTjT+CzLzfhlU/vwq6dWxHhs3185a+pA7s4a55OcmhfAFxMYnZbAsPNFVNfssvwsikRZRbTBvnnbw+KoiiKoijKXWPGnBwr+4QGAirbFL4dha+SjYoYN6P0Wf3AjGVlXMZxNt3cD7nz4ca35cKw1kAyKwaO+ZiM8VWGcffhHdv4YB9dESHloV0Z6S4bg9/NxeH2KYRbYyDy/Dpy4plifhymg5yz+oGFbiZPolvxyYnpySkgnQEaGtCzuQdVtbUoRMLIRkLIxCJo3b0Dn/r6V3D0N34NT331S4h3tyPD+KU+EskERicnkM7nTNw5piPiy849gWVYSB4mXF3aRVh55BeLLbe/BqTFiX6YSs6gr/dOse3Nj9e4FcdsBbtZF6XVQzfBczQdBWeABEOe2NkgxCqLfiHevgtHSyPFhPHiroicEz9BLw3u2zis8Dxvdhcvt+WpmsdpRLhGciEMueHDqKurQSQsZwop5LPTKGSmsHtrF372y1/A3/tbP4ef+sKnsG1Tq88w4uXRtBvvWPKEEJ/dk3SZH+bBJ5WQM3LOdNc2GiGfyyKXyYg7EJVOKBIKSqefR0Q6qVA6h9a6Jnzq2Rfwy7/0C/j6134Khw/tQzwelvKyfHlj+OGbazhzLiviDCMm+jnZEAeTP268vFB4TURYlyZcBWxU/LR7GxZXQfNVlKIoiqIoinJXuJGmEyr9fOyDxhCusRDOyqhXJCBCo4BoCJ5PKvvULWQsLOPoXE7GyHlnDvAojt1KB3EmHRkPFw0izk3Gxtbd6RgSTk5YH7O4o6Ir/Yh/Gh+4zoiT4kDbS57+Jeai4upO090YU+SA56gP082FI3QvGkask/GUlzRzIiYPnjOD+ePm2nksa050kKzoIEYpCYcRiUZFjyggmc9imiIZiHe24ujnPo0XvvYVbH/+SWTqq5BihiRMWq7BTCYt+ofUs7hlmT4TXCnM6CKYOqkgDOvKvd5hccxWCmbansBWaK6hOfIoeszL9UxhenocA/19OH/+HN59993Z9qEsjNd+rLDSfTVtbkQj9pOzEnKBGLLBGqREZgI1SKBKJC43SDUywWq5EatRCMYlvoh0SiFkwRWRI0iK20yoBtMSZho1SBZqkSpIHIU40nxVbSBqXl3LJ9+YnmncXrpZiWe6EMFUQG5EiSMbrjbpTaSjGJgKoHeigIFEEBPZGGbyUfP6W+aVGJtxKCKF4XN3tJ7xhg0hmQkglQ1LHiWfeTlO55APhdC1bSu27dyJlpZWe3NJp4BATuKThiZhUxJHMmTLMiNlnZF8JCRf04E4EixjsMq4J+U4FYhI+SV+dqamhq3JgqVixx0ORxGQusnzdb3mlb1ARvKWztOQEzFvrOGzgnwjTVW8Bvv3HcK2rbvRUN8snWvExMG1V/hmmqx0/ny0xhpGvGspW1KQODO8DpKntOQvDclzXiQr108kma+V+q9DLlQr+YjZ6+DyzI6uaAxSHLyGiqIoiqIoy8GvFzsh5W5OOOAw23vOaqaygrgkKEegfAVteDqJ+OgU6hMZNOWAWCKFwtAoUjf7MHPtNrI3ehEeGEVNIo0GGa6aV8rKYDg8NIGMnEtdvYX8rX5Eh8ZRO5VCtYz1I3ysRca0/FGR42UaFvj4R20uIGkE0JDIonpkGpGBMYT7x1A9lkD9TBZ1Mkiv8a2fwevo9BUaJqISYXWugNpUDrWTktboNKok7/HxhMlfvQzQ6806ILP6FZGg5pPHJg7xVytlqJIw0THJx/AEIpL/6Ogk4pNJU4a4pMM3yvCRIYad/bRwzZFQ0Jv1IsdW95DzDMN92YalHgKJJAIT08BMShSQDKfXIz86gfzgCApjkwilMoiKfhHJSsUmU+bNOvmsuPGHbaYt/3V1dWhsbjZxm7Rlw/IR5snMIJF91lutlK0umUPVxAxiw5OmXCxfbHwa1ckMqqRc9Mc6dY//MKyN2dYZz5mZNM6xAq5u3Xa9wnqMSL3ytctV0vZqpDJqpI74uuQqEb5qmfBxqVzerps6NjaGGzdu4KMPP8Z3v/savvWtv8Hrr7++hLfSTPYjM3ADU2MDaGyswaJvpSFlNeyaW5nzuqHYpti6RGwTtGvampKZCqfYN6ik81Sw46JE16B/PImz1/tx9vIt3OgdwYR0GoFQHFVV9YhEYuYREerUGVHgM+EI0qEqJIPVuDmcwJUbQ0Z6pdMZn04hEq9COBI16dMswg7LIMo54xidyeCdU5fQn8ghHK9FKCLx9I/jO2+8h2+//i5++O4JfHLxFsal02tobEZNTbV0ChI8l0UhGMZtucGPn7uE906cx7Xb0wgHcuhqb8PI4DAmxyfEbwjVtU0YmUri5PmLuH79GnLpLJqb66WpzEiVZI3BYUYaZjocM8aPOxMpXLg5gLNXe3F9YAQJabDSvSBZiCCRCyGRziMreecsjJC07BByUp/SsdDaLHXD+ManZnDu8m2889F5fHj6CqbSQLy+2swauXntCnKZNEIx+7qrm3cG8InUwdR0GtVyvi4ekT5Iug3p+FIS2fufXMIHp3tRWwV89SeeR1NtRDpEyYCky/VHZvJyHSTfhVA1JpIFXLg6gGu3xowMybXMIobqukbp6FlxbAX84shIXuW60o2Obrsh8Jd17j3uXtfLt9LEzOt6O8SbNcYtXkcbpQ4VRVEURXFf+xyV9cq46trEKPqnRfF0r+sV9yA1bY7AvXGYEzcSJ3S6d6x27C7XS4chqAzyFbQFUdZPv/EWzrz2IzQHo9jU1IKP33wb3/7DP8E7f/DfcPzP/gIfv/YD9F6+jvp4HD0dnUZhvPrhCfz1f/6veOd3v4FP/vSbOPHmMdw6fxkNoYgo8aJDxPkDoIyORVHgI+hUOmslVb5dJds7hEvvfICPJN6PvvsDnH7rmHkNbrX4aaiuQbWMyY3CHg6ZH0uNki75jUl+YzLor8rkMHXjDq6++xE++t7rOP7Gj3Ht40+QHxpFfSGISCqDj15/Q657PbY+dhht+3ciKxGYR15E96GyS8NHcHwKvafO4cPvfh/vv/Z9nP7xO7h25hyy0wk01NQgzjLI+J8Lt4Y5oyWXR+9Z0V9OnAKSCRx45SXUd7YhWBUTHYyzwSWjXl5DUhZuw0nRY6Ssx/7y27j27gfAyJi4FnC7txfvvvkWrl+9hlhVHPu37UCf1MG3pN5PfPSRmdW+ddt2JKljSQgutjrdN4CPj70L3LqN7qOPY/PBfQi3NCApynpe6pktq0F0rbpkHolbfTjzo7ekbK/jw++/gYvvf4yxO32oi8bQWFePUFR0RqlliVauj5SR9UyROFx9U4hxKxOH2zeqy3rDXC7RiaVNRKRNGKOS1B8NazXSPqpm0uaNNN3VdagJhjAzNYWJ8TFcuXIFH3z4Id6S6/fee+/j3LlzuHOnF5OTU2xfTruuRAa4fRKJU2+i9+on2Lq1DeGwfTbKs6nZfalMNlTWKTPIHX+k5lKLp/VY54RlYRntHrtr7tEwErIWP1YhRS4E34DCGSGXb4/i7Y9O44TcoNdY2RMJs4hQW3MUe7dtweOHD+Ip3uyNNRJlBgm5YFMSRf9YAq/96BguXbmF4TuDSI4nRF3PoqY6jD27NuPJxw7i8IGd6Gio5fwRqXcaEULGKHB1JIH/+V/9G7Ru24snjxxElaj6b/zwLVy80o/ppFkY2Vyb1oYAvvDpp/GlV57Fjo5GxPMzmExm8OfSqf7NG+/jxBVgMCENTO6oHV22oe3b2oAvfeYFfPYnfgLHjn+C//KHf4RCYgqff+F5/MLXfkKayohURBq5cDUmpPe6PjiF7/zwXZy/2ouB/kFMSwakf0RLaz1aWxoRCUtnleU7xTPoaW3Ap556BPu2daG2SjKY5VQ15jWEtHSQZ6Uz/4P/3/dw7OQgrg+YVomaBqBTJCzl+pkvHMZnX3kZjfW1ePPtj/Df/+RV7N13AD/9hefxzJGdyORmEIgEMS4d7W//l2/jd/7wQ3Q1A9/41/8TdnbEEQ5k5RqmpdONIxWsxXQ2gk8+OYc333oXZ05fwsxMXvIqnXBNBN3dbTh0YDs+/9nn0VgTRG04i2ggJXlm5XrdkPQubB8WFoTysMIbw93Z/MLydons56THvirtuGPHAdQdeBHoOCQnIvb8oj3CYucVRVEURXko4PjB+9qnpvFxNok3bl3G8YHbiG3uQiLqjbmpCcpY3P4YVTq+8h89rCMIlpHC2Rcx/jA6PoUffOMPcfF7P8KTTz6JrCjMpy9fQE0khvbGJozLGLzv+EmpuBB2fOpZHH7xOfOWlO/8xV8aQ0Gr+Anwh8Xz50XpH0XbE4/jmZ/9Cna9/CxS8Yh5RCQnKTbRwjE0jqsfHMdHr/8IvRcuS9rjcrHsj5nMVWBTN7Y/egiHnnsKe55+AjNVEUxJaL5VJiJXhLM8wpMJnHn7XXz0wx+j95OzEAXBhg/J9a2tRVtDE+LhMK798EeI7t2DF3/9l3Hgq19A0hgugHgkisjYFPpPXcD7r7+Bix98LPkalXzIONwqpEBjHTY//zQefeUl9DxyAOF4jANSBGlw+ebf4Mf/+Y+A0RF8/f/9v6DryH4UmuswGRNdisElr5xB4h7NiYke9tYf/wVOfuu7wNmLwOSMZELi6+oQhUSUkH078czXfwo//zNfw8c/fBN/8G/+raSVwZGf/jJ+6ld/BcO5tOiFAbSJbtR3/DR+73//P4Fj7+Hx3/gNPPULP43I7i0Yz6RQCAVRJWUL3BrEjbffx4++9SqmbtwEkmkplyhirKOqGEJbNuGZz30GO595HLFNHUiKcknjD28Lq5POzkYxdh5x9yNOJVsH/ZW7rQsk05wtEpfrFs3xjUY585re9MAQcoMj2FrXgE019aiTZpqQ9jrY1yd6ab9c/hEkpO2l06L/iQ5HoUlEZ4wskdmGxfLbORuc30B7Iv/4K3imIB2I3Je3h6fwzW9/H6/+8C1cvzGMSCiDzvZ6NDdEkEvPYEQuVDo1he3bt6KppUmiCWM0mcHZK7fxne/9EN9//W2MjY6jvqoKnc2NqJEbcGRkDJevjKBvsNc8TtPc1oaYdFgBafVmIVXJyeBkGt/4o2MYHh/F5PAYhu70IT0zjT27enBg72b0dDXLvZrE1UtpjI/dwpYtHehsa0JNLIiUNKQ7AyMYls5meCyBSemn6uLAoT1t6G6JYfumduzduQ3dPVtx7soN/PWr72JooIBtWxvxxNHHkJcGFQyGkcrHcaNvEt//4Xv46785hkHpROuqY+hub0FDfQ36+4dx5eo4blwblvAjyCQmEMglsZMLvLY0IxYRpdncnbZOc7I/Lg28b2hS+qIMBkeSZlpfW1sQe3f0oKU2h4O7t2H7ti1mOtyp0+fxVz+4LWVK48Cerdje0y7+OUtHyiid4vsnL+HD072oqwJ+ujhjhK2TrwSOYiodxDvvn8B3v/s6Pvr4ovT3GXR0NqOhsUr2U+jtHZDrcBV1tXE0y5dJY2219OWSV39vYr4gHLa9LMx6vjOYd5f/uff43Bkj7eJqp0guXu71XC+KoiiKoiwL72ufo6Y+b8ZI3/Qkwg11yMhYyyp79OTNGFmAh3oEIYWjOkZjQz6RxNlj72PinfdxZ3ICfWMjaJcx8dHnnsGRZ5/Gjj27MSVj9JGbNzHa24fbt3txU/ZToQAOiZ8nXnoBm/fvQT4cwuC5C0iI0pgT3aRz9w7UNDbIGJo/A0uSw+O4/v5xfPtPv4mJk58g1NSInsMH0XP0CJp37wSaGpAYGsTotevoHxlFU2MjWlpbzXoh/IE1JvmtSudw7f2P8aNv/jUGJA7+Ytp55BC2PP4ImiS9arnOY1KGwYsXgbFxhPiChaOH0bFvF7heYlzKy9kufWcu4N1vfxeXvv+6DCmDaNy3Fz2PPYLWQ/sQ7mzH9PAwJiQfU9JOuju70NbcYsrBmSO95y7ixonTQHIGB195CXWdbShUxZEOe7MuJJ/F2UhCRJSOsOhIMSnH4HQChYlJoLEej37xc2g+cgA9Rw5i84E9ok+1o/fyVZz6wQ+B6SnU79yBI088gZlCDjmJj48XTfYN4vix98yMka7HH8cmyW+oReo4n0d1IISgjJfPvfUefvRX38bMmbMIip7Y89gRdD9yCPU7tiJfU42ZS1dwZ2gY1XW16OrpRiQak1JyJUWbZd4jxGTfK8OSWI7ftYTkm4/PNFJvHBqT634LgxcuY+jiFUxKPU/e6cfgjZu4feUarl+9iuvXrqG/rw/jE+PmkRrWfY6vguY1l2uvhpElYPpgbvnBaR/mZ3HOGGHzC4nyxwU5o5jJh3BrYBw/OPYR/vtfvI3RRB5793bglZeexcsvPIMn5ebuamuSTiKHmuoq7N67Gw3NTcjJTX3l9iC+9+P38M2/+ICzu/Dk4wfwuZdexKeeeRL79+1DXV0jBgb7cfH6JO5Ih9PQ0ozuTW0IhvNFw8jIdBZ/8/1jGBgVt+QUulra8JmXnscXPvMsnnnyIPbt2oN4JI7z7BT6ga1bqrC9pwvN9VUSRwgNTe3SiXVjYGQYN25PSF6Bv/+rX5c8PIJHD+7Dtk3dCEr4q5LXN9/7mC97wYH90vkefcx0NgHpogcnsnjv+CX86Tdfg9z/eOSRnfjcpz+FT7/4NA4e2IdoNIJbd25icgxoaazCE48ewZ7tm7BnRw+a6usR5ZodrHDTO/H1ugGE41Xo7NmOqrpWXLhyUTq3HB5/Yh/+1s9/FU8c3od9O7egrbXFLIp08fJ1vPfRLfR01+GxQ3uwfXO7XB+5ZvIFYB+luYgPTnmGkS8+j6YaaxghyVwQZy7dwp/8+bdx/nwvOjrq8PLLL+CVV57H0ccPo2fzJmSySam/UQwPXcfWzVuxqaNNyhSWW0XSMLOG2Db8Ld3dL4vhD7OeYL5d3tUwoiiKoijKXeJ97XPkpIaRyrBuWAWcFcD1M2gYufLxSYx/fAIQRa/zsUfw2a9+BUeefQotO7age/Nm1MTjOHfhIrIXLyPdN4RCfR1e+dmv4pHPvmSMIvVdHWhtacGFS1eRvnIVYzVxdO3age4tm2XMnTcGmMHTF/D+X7+K8e+9DnR24TM/9RV86qe+hP0vPYfdMpbfvmc3EpKfIVFAk+cvYSKbw/79+1Elacclw4FMFpn+YXzvv/wR7rz1rjEuPPm5z+CzP/MVPMI4jkocu3YhXlWFq7duQpQeBCVP2x47jM79uxAW/aBGdJXU0Ih5hOfUt79nyvvE176KF778E3hUxuu7nn4cuw/sl4oJ486ps6JrjKOuvgHbtsn4MxQya0zwURpjGEnNmEdp6jpET6iOIRWmLsX2JeLalmxoENna2Y3NHZ0YHRzC0LXrgIz9f+Uf/yaOSJrbDu9HQ1e7MaCM3byDk+9I2bIZtEs+jjz9BBJ5axipFuV9qn/WMNL5+OPoObQPwdZGBHJ51IvOc+fUebzFmSIfnUB4zy588Zd/Hk987tM4LLrgrkcOi96xRaplGBOnzxujT1fPJrS0tyEj+2a2C/PObHvZZ1sh3uHCLMnT2oTridTOZDFx4SrunD6HofOXMdPbj+zIOJKiM09ImxkfGcHkxATSqaQxhhidTYQb1lRI2gdxhiVlAYoNzR4Kds8ds05zcsNOp/M4I4r5H3/zBxgYAp59Zh/+7q/8PP7W134Szz+2H0+Kov6Vz78sbj+Hr//0F9FNK6XcSAm5mOcuXMGxdz/C6ATwzOM9EuZL+Mpnn8VTh7fiuaO78au/8GX86i99Hdu3t+DshREzs2RsMomsdDZcANTkj/tyrfmq3W7p5L78pc/hS194BT1tzWiRm377pg4c2rcbPd0RiBf0DYxhYirJ5oBIJIrNcoPtlo6wtZnT6qQzkDayY0sPDuzZie1bNkkfViXx0xATMp0HnznMS+eTl04DIbt4al//EI6fOIWzN4ADe+vxNek0v/SZF/HEgR14XMr/K7/0C1IvT6KrI4gtm7rxMz/1ZfzyL/4s9u3ejnhU4uVUODZYr8bD4bCk24DtW7dKx7YZtbVx6eCBLinTIwf34UnpMLf2dKKmOg4uLE0rBzemTuRLNBQOibuNa/aK2WtG4SuL81KeXCGEyUQar77+I3xybgA929rwS7/8y/jlX/5FPPHko3jyicP48lc+j5/7ha/h8COtOHlartn5Kxgbm5JYeDNRzFe2iMPcbd52IVEURVEURVGUpeN+jjKKPN/+2NSIn/z617Dj8EEU6qrNYxwjuRQaN3ejTpR5yFgZzc145oUX8MJnX0FdVxum8lmzvkb39q3Yf/gQnxtHYWgYo339iMtYmrM9wtkCrp2/iFvvvi8D5wKOvPISHvv0i2jbvQNoqDWzHroO7MUrX/0Ktj/1JDCdwO0fvYm+q9cRSKTM2iO5yWlcOPEJrr7+BpDN4ZFnn8GLoiNsOrwPKRnY5+qr0SG6wBMvv4gXP/dZ+7iKN06mHhaWslaJvnH74hWc+uAjQBTdQy+9jJ//2Z/D4SNH0NLcYtbe2LFlK37my1/BzsefAKYSOPfRcYyLUhYQ3cJoAqwrT7jvjl1d0ujkRudG1+FxVFKXustJPZnH/UVJylSJ3iN5zlfxZRtBo0+YGeSc1i5xxeR68BXJNtbK0Cdh2SKZPE5L/Y6ePiv12YZf+Jmv48Xnnkd7ezuqq6rQJtftyP4D+Nkv/xRqmlsxevY8zrz/ESLZvFlfwxjKJC6mZ36j9cFDJ5WYz329UJD2NNzbh5sXLmHw6g1kh8cRT+eMMapKChcVP1zd0DwiJW2a14n6JY0hvPyRSMTbtzqksgSccYSfbEDc59oiXFuFMzY4s+Fm3wA++OQsLt8BRI/Hp557Cvt3dEuHkEAkPYHAzBji+RTaG6rQ1VonN00BYbkQQ4OjOPXJOVy7mjFrevz051/GtrYqRDNDCKV6Ec4MoCGWxDOP7TGzTuI1wMlP+nD85GlMTs5Iylz1mHmUD/nnMh07tm/Gnj2bUchMI5hJmZWS45LP5vpabJPMVUn+p2fymEnm5B4OIpPJYSaRQCqZkHhy4CQI3mAxNh45DkjnChHaUzlTxhgT5HyWW2lk7BBYKdMz0xibGDerSOzeuRWb25tQHZRwM0OI5WdQG4+gs6PTGFhuXLuMvtvXkE9PSx+TkuBZabC2ojktjFt2VGZVbOmI7AKnXOxUIs8kkUlMIpeakmxNm0eEsrmslIWPxEhWuZXOiW58Gw1nLpQYLpiGlI3GnHwgbBaBvXKjF2++ex7RWuDxp57G4UcOiz+pH8nbzMyExJXEpp4OfP4Ln0ONVOD167fRe2dQKoERuriZaXa03HhpKYqiKIqiKMoqUjLO5H40ilhDHRKiX4zJmH1CRuoJDubrqhFukMGtKPHRpgbsPXIImVAAUzK25gKeBdkXzRB1TY0y8Bc1UsbZfN1vXBRLGkbuXLuOKxcvAVNTwLYtOPL8Myg012NcBsDTMi7nOiQTMl6u6W7Htj27gPYO/vqKcx+fQHJ0HNUyzk6NjOG9H71pZoI0bt+GvUcfQfWWLtxKTWMiXMCk6B2TkpeU5DdSJ4pOUPQtyQeFGTLrOaYyuHT6DGZu3UG8qxufe+UzaG5oQF0sjvpoDA3BCGpEe9nc3ok923eYOhm5fhMTQ8NmXZWlwiSNgUTEvGlT8pUU/SQj+8wXH9+ZkTKPF6T8UsdpUQFyIlm+lYY/7kpeuTCuT+uYg//accZI//UbuPLJGYkkj2cePYqXn31O9LkQqoJh1EdiqA/H0BitwvbuTWiurQMmpjDRO2DW1KBhxLyK2BPG7ISY8pSJw6hHIn639UYum8WlCxcweKcPhUTSGOLiWbtIL2crceFgGp+MPpnPic6bFckUH6GhuGNeM2UR/I2LszLsH1VhafSyw3d35wp53Orrw/mrN0zj2rG9G1s3daAhHpJGO4WYKNcxuYH41utYMI9oiAp+3sQ30D+E/r4hvlwG+/dsxr4dm9Esinc0P4VAfgKhwqTcNBOorw5gk3Q6be3NGJ8Arly5gVRSbgi5WcK0FHutmvdaJCKdWYQdSVrCc+EjvnxXRNLmLAp6TaWBdKYg6YalL42acMbwwDLJebvljU1hh0LzD7c0DlkX8S37Uh/i2YTnqsrSqXGB1Kx0uHxzTHUsjLh00oE8Z4MUpOFJ58K0ZyQPiSnkMylx54KrXN6JhhcKpzdJCqaO5Fgaa07iy+doIGHkss0mpeNJSxm5CC2tEyaUzZfkxR7ZP+bZiFdH3NBgQuMO38gzOZ3CydMXcL0XaO3qQWtHt9RNFsMjIxgbHcPw8JB5z/X4+JiZFhiNAOOjE2YtmELaWyzWpKEoiqIoiqIo9xEOwmXwzrfIUFGnIp8SLTkl+2lx46wQDuzzotQHY1HjJ+Up+3b2tAxl5ZwZ/AthGUxHZWxLpXLo9h0M3bwlg3sZ12/ZjMZNXUhXR41BhOnMiNBAMiPj/8a2VrR1dUsGUrh+6TIyiRmEsjmkxicx0j9g4u7q6TEzWLigbiIaNMabJPMj8RkjAw01Xp7cwF2SwMzkFMb6B4GpafOIxOuvfQ+/+x9+B//+3/xb/Md/8+/wn0R+99/+O/ze7/4nvPP22wDTS6dFV0pKNDaeIjwscyLOyZ1mHmgcYT3xcRWnTvCYZU/Llm/Moe5h8AIWjRQ8ngcXHY0pI739SNy6A4hyf+HUafzxf/mv+Mbv/A5+/z/8R3zj3/8OvvHb/0GO/yP+9I/+GDev36ACJ5nIIjuTskaYedJaIPniuYX8rAdo2KipqUVtXS3ios/y9bxsv6IGIyw6Z1CEi+qa+pGtawsMRx3eGUfMsTmjLAkaMVhhfIUTpyxxhgbNA0FRrwuimI+ND2NoeBpyn2Pnjq1orK3x/NFYEJU7hK++EilE5B7g2iQBo5xPTExgOjGFiHhpbW9BTW01gtIp0ODgTf5h6uJWQF1djXkXttziGB2eRNaYL0PI0gpm7i76ZJp2nxsj4pANyA3EN8cga25gMwkkK2clH2FOI5JO06QrEZgOMkCjB40oYS8veXHLS8PhdDSW3eTKbMPiFg7m0dzYgK7uLkTF+6Vb/Th/ewTDqSiy8U2S5wb0Dkzhzp1BpKUA0n5RW8238jBBiUUStmYMyZ3EVwjQbCFSsGINJWzcPG0buThYP8wej5h5bk0OueUncduiV0YlrpJuUDrmVAa3egcgVYJbt4fx+utv4fd//w/xjd/7I/xf/+mP8Pu/92f4vf/rj/H7//mP8a1vfccYpqanxjDDGSvGKMMalQjlprK4raIoiqIoiqKsDDeS5QjTiR2LOzgqFxGPoooUlXPqItw6uEsxw2/ZmtfyUniyeNYq21z7Lzk+CXDR0VAY7W1tiFTFzetl+XOmHUzTv6Qhfmvq61HLF0vkMqIXjSHlFrgURT4zM0NPqG1tRry+TpSHkOgfYcmr6CEShV93YaFM/mRczZn5fGNIMpEwxhGuLYLRUZx47z0ce/W7OP6dV/HJd7+L06+9ho+/9z384LvfwdjVyxKJlK6+xhiF+Epb8yiFRMy/ZcG8yYb1aDIn0TK/bpaGqQbrXMSfAstljunJg8dFEX0mOTUNGny46Ozglav44fe+j49eex3nXvuelO17+Oi7r+HN77+Gt999mxYiUaKqUKiKYSqfmTUoidg6mxVfkmafapITJu4/v17ha6GbNnehYVsPIq1NSEXDSIiyyFd8G02SP7BTZ/SMImZZCIrXbs05c8rqtsoSYRvi+9PtTWArlwo7q52PgWQySRpIORsNne2tiEdkRypeQsl/RHxFxJdsCyHz+AqrnxcjnU4hm88iGJYOKB6RxpqXm4sqPVssZ4LwMvEoj7Bc/Ih0IlTFM2mJOxcyr0TN8ALLH2E+LbbVs/EzRhpEMgEaRkxXZu6ggvSEtigFux4HrbSSnL1paPahYcTOMDEWCXHhm3Co/1NcBxzMS9OTm5Ov4t1/cD927Yvjwo1RvPrmh/j+u2fx/tl+vH/qJl7/4Qc4feoCZ6Fh1/YdUk8dEgfriWWkCKYHYVp8dZKUlIYRyTON2Pb5MKljyRv37QwWipSe5TB7lFnDiKkXCUPo6u3SVcrI+glJ/UmfP50054aGZ3Du/DUc//gsTh6/iOMfXpLtVZw8cRknT17A5Su95i1dnL1TV1fNwtv8uh69mILbKoqiKIqiKMrdYce0Ht6w1opf0Zc9OWfG5U7EtTjC9sIZvcATZxDhSNrTDsSDbE34AmIyRuaMD3MqHEEsFjdh7EwTcaOIP27463soFkUgxjdMMg7RPUSYJxo/rE4kB3KefjhDJSBhmDdjvJEtYVIOo9xT5C8v+chnMpJRiScSMUaYmtZWhNraEeDjO12dVlqaEdy3G4FnnsSmo48g3twoCXgmEYmLeV0O9O/q1VM5EJZMUZhn6hYmf86jhzksE4c5Fq/FeHNSxxmRYAjRujpsau9ES0cnqto6EW1vN2/oCcs2yjfRPH4EDU8eRcfObcbokxbFiNeDM1vctXTCuiMmV7LPrV8eBvhGpfpuqa8dW1G/uQvBxjozS4qPiaVFv+YkBF73sLQBPlJl2pHUd172s1nRjbMZ8cOlEzjZQbkL2MpETIvmLvfl5pDGTKMI+wI3ZYd2BtP0smnpH6jos9uxRgz+Bbh4qXQX+XzQ9Bf5fFj8WOE60AXzytowUim5kLINSAdl4pVYuT6JeSONSMFb+EdOFbFHIpKHorsxsnjmBO7KzZSXvJrn4rxyBAJywuzyw+WUcdiwVlyM3Ep5pHEV0llUVVVhz969+NTLL3HNI3zr22/i3/327+Bf/+//Br/9b38b//33/wQ3L4xie3c9nn/qMXR3tJqGauPkxiRsxOtmi8KFccyUJzkMyr5ZQdgLxmy47skcyrE/57PIeeOXwhT46JCUjOXMZc2Mkf37d+Fnv/7T+Ef/8O/hN//h38U//ke/jv/xH/xt/OZv/KqIbP/BL+O3/oefFz9fxp7dO8xjRHNxbjalhUVRFEVRFEVR5uJGsZVGjeYRAG+fO+V+qDM4IwnhxsXnMIYHL6yDfswjNqJ4h6ridu0RUSaTk1Nmwc+YqA00DDAUPyOyz8cW8qk0MnxWX8briMcRjEZR8GZsGDdRdjIzSRRSGfsqXFFImDfmsySvnnBkzy31lkBU9CP+6CyKcHzTJnz1534Ov/FPfgu/8c//CX7jX/xT/P1/8c/w9/8f/xR/91/83/F3/sU/wd/5p7+FL/7iz6F962Yzq4ARWeOILSl/FHaz0R2uDtyW0OBhjB4G7tgfaf1+ZmOwWF/zQ22QBibGawxS4bBUouSxtRlPP/ccfuuf/zP8w3/+T6Vc/wR/T+TXWR4p16/9s98y5frar/9tPPqp5xCsrbJ16yXmT9Ptm7z5TzxkmEevpB7iPR2o27kFse3dSDfVmsWHxzMppES/4w/q8WjMvME0xzUppR2amUw0jKTTxkCihpG7gi3LtS67zwdL8uwQInHEYjALFt+4fhPpZAohdgLmbs/TuCkXhrNLrBjlPxBCOFot+zHwEbiJCb4lhu+kjkmcdpYJJRCKI50JIDGVRDoxY1bY5bNUEVplQ0G5uSRG3uAmX8yVNSsUYVqSx4A3M4MWxazkizejmTVhPDGc/WSWLdJhBLLmhJnhQrHF9tzs2h7saDj7hBHNzMzg9p3biEk/2tISkzN5DPYPY3xwEl2NwM996SB+/Ze+jpefewJVkn2eL+ac8ZoPWnb5GBFnzHBLI0gQ2YJ9DIgWJ751xsuGiP1j5lg2xsY42eEZQ5SJ3vmUTzkOSUfCOTFcn6QqGkJnezM9IRrJY/vWDjz79CE8/8xBfPqFQ3jledk+J9vnjuDTzz+Gl194HI8c3o22tkapWtYpY50Pm+7CoiiKoiiKoiizeKPjihj1QrbmkQA+DkA3nxBuaWgwj4EI3sbgxvrGP/ddPNQnRLIyhp7OZdDY3Yn6jnY5l8fQnV5AdJGabAHhbN4omgwbk7FwOJ3FWN8ABuknHkN7dxci1VXmkYZCPIpwfa1RK0b7BzE9PCL+c2YdE84m4S/2jN88Jp/hbHEYwwnzTTsGdZWapkabj3AQyZkEog21aN+9A427t6F+x2bUb+9BrUj9rq2o2bnZ7Fd3tyNQW40k1yaU+Ip1I+WjvpKcSYpyTL3MqwfzZ+uDW9kYvcN74l8qU3QPrsvIs8yYwGqbDxOX9WahZ6nXtMRsDSOiP4VDaNnUhfCWHqAqjkQmjVB9DRq2b0Zsa5dIN6pZHiljHcu5rQd1W7oRa29BNhpBwegzNNZIrkTsI0Ne2kzTS3+BbK5rqIlO5DOYEaUytq0brUcPof3RA5iMBjAj+qJZV4ceaQzJcpICdUBpryHRwUNh86M7DSds+8afchd4rc0aRXifhEWx7sTmnnak5NTp02cwMjpq+ynxZyxUnKYjf3xcxS2ASutUV/cmdHR0mQVJr169jaGhCWQ5cyQcRy5IS2sVApEapLMB3LnTh95bd1AfBrZt3YR4lZw3yj/zYrE3s3zIlbcmD9vB8Y4OcMaIbOma4yM7kjfrQ9zED9/qYp61Eux9xFjd5Dp7m9kuwxobrGHE7gfDUYyMjOH4ieP48MNTOHhwG37tb/8q/vFv/ib+0T/4Nfyj3/hF/NY/+Hv4hZ/+Mh49sBcNNXHadOQmljTZMTAJA+NnWk5o5aVRhvnjzBmmaw0exHTmEsZ0d64zoPWUWznJ1zKJs4nV5Z5i/EkcXNC1vrYKTz3+CLY2A7euX8HlS6cxNTksfrgwLN/UM40wkogFM4iFsoiGc3IzSUcqdciOknmz3a0fl5KiKIqiKIqiLJ3ZcfH8I0ozBuYg3Pgu9eHC+MPaMessxl0cuHWzSkheIubjGVygtWVzNzbt2A7UVCN1/TqunzmLyHQKjTLujwdCZgZJjYyYg4kkBm7dRpKGkaYm7D90ELG6GvNWF74tZ8e+vRJHFW5cvYq+azcQmpZxNWefSKbiokdVS3x8JW/AM4zYmSMyvpYt188I11aja6fkg8+zT03ig5MnMDAxZheRFd0qKToC99PhILLRsHmcYrqQQyKbNgaI4gxvxivH0XDEvAo3GolI+UU3o9FDvNCXEa8+7KwO2TIjorcZncoHNQATpw8XR0gUbz4uxAPjzzrKlvqjaDLUDSVfTVKmju1b5VwA5y9fwsmzZ5AUHSMXjyLDRWqlMpISjI/OZEUyEobrinCtF15Tk54XfVG8PHFTlr2HipwUNCkFnolIvdRXI7ipDQ27t6F9/27EW5sAqUOWPzWTRCQaRTTqvZ6XgeUa8LpTl6auTt1QWQKukVlKmxcbOiu1u6sd+3ZtR63U6sUrGRw/cx7Xh8aRDNYgGamTba3csDUYT+QxMjaNTFouQCCHTZ2N2L1zE7hW0Y0bA3j7/ffRNzopjT6ObKRWRMIjivNXb+HsubOYngB2yr2zf1cP6uNyK+f4ZhYuCGsXhbVmBE4H8m4Fl3neyCJ8y4t1omGB5gV7U9kblDe83P6miLSgWj8mrEHKKg3QWHTFm3nTjLjxGUJaOaal0d2+04fbt4GWxgYc3rcHzz31BF751Av49Esv4elnnsf2XftR29iOQrgGhWAVu0uJIyL5DUs5pGOVzLBhuvq2HY7EL50H1zIxy3nksrJlPnlWcimezawZyRtzSltsvpCR03xUhnFJOCmX2Zo4vU5OOnRSWxXDHrl2+3Y1Ymoc+Oijj/ERX4ecymM6H0EiH5eOPQa+VygriY1PTCEl188aaSQukw/uu1wriqIoiqIoyt3hRpTlWwePnSJvBqFUtuXAjG/pJlCJt+NTC93phw4mvE8M3ng/I2LeOCMD8lBjHbr27ERo5zZgZBjv/vDHGDhzEZHhSXRmRf8pRMz++XfexycffCgBZxA8fBDbDuwzhpBpSTXSVI89jxwGerpR6O/HqQ8+wu2TZ1A3k0O76ACtogPkhkZx7ZMzOPXhx+ZtMhkZw3MNxSxF8pOW/GzZtxvtB/ebWSOf/PjHeP/1HyJx5SYapjPoKoTRkQmifiKJ3M1+zNzuR3Z8EiEZrIdFTzM//rJ81CmyolOI8HW40SB1AVtuSaKkTqiPUIWmkcaEpe5BMXhh6FPOWUOOFcZDqF/lJH2WI8PwvGDiv0pirhEdpFqEsz0itTXYduSgWSNl6tZNfO9bf4NbUj9R0SObUwW0ZQJoSIju0z+Cycs3kOodRCSZQVSy4h5HYl65NWmLMO2Ngikq6zYSNga02s42dEtbqd+6CcE66tEFpEQPDIblvAiXv2Agq/ta/ZewDpVF8Lcrdi9eexPxz3LIo7W5EQf37cKBA2FMzQA/ePsYXj/2Ac7eGkL/dAF9k1lcvj2CYx+cwltvfYC+3j5pvGk0NUQl3HYc3L/FLEj86ve/j7c++Bjnb/aid3zGyMmL1/HdH76JM+dvoLEeeO7Jg9ixuRU1ERoLMnIjBBHmYzmSE66SHKJBwOTQNRZ+0KBhzCD2UPJsyiMHdKFyb2dk5EyfwRV7ecZaRr2tiHn8RG5E8zKWXEZCcmFXiiQjjS1eXc1XpWN4YAAXzpzGpfNncfvGddy+eQuXLl/D6XOXcebCNVy7NYixKS4GG5HYI9KerUnHZtbO7GC69pB5t0YRu9YpDSPMpL0ezKmZkmb+2N8lkcmmkOPrfY1BhPVhDSOEQQeGhs3baBhDJBxAS2Mtnnz0MFobgIsXB/Fd6WzfP3kO1/vG0TeRQf9oAtdv9ePk6fP44KPjGJTwnAVkjUrMqcux3SqKoiiKoijK3eJGlE7ZJX6F142WDbJrx8N2bMwPF8wYQzwxbmZMb+M1I2+zb934QSMEZyxMyWA/GQ6iY9d27H/6CaC5CTePvY9jf/0dnP7+j9D/wScYOnFW9n+MN/7sL5E4c87M6Hj2lZfRsnkTcrEwpjn+FmWVhpL2J46KohLCrQ8+wtt/9R1ce+9jDJ25iDsnzuDEG2/ive+9gaFLV2QgnzU6STqXNQYSPv4/LfttW3pw8KnHgT07+Wsy3vrzv8Lxb38fN979GMMnz2Pw+Blce/N9HP/Wazjz42MYvdVrZqPQMMLCmxkDfA3o1BQunT2Hkb5+5NJp8/iJw1WVMzSYrYibMWIWShX/ps7EnbA+jVZo6q/UnY8kUfsw65xwXYVsDuN3+jDRN4DC9IxJIyN6yLZHDmLv448BVVW4/ubb+PGffwvnf/AWej/8BIOij9z58KTU85v44G9ew61PziLIGTeigJjHjSR+5sdpUoRZ8bKzYeDsm3w0jGB9DWo3daB993Y0b9mEiBxzcVr+Ws4lEMz1MRXkGUVk3zxS8y8FnquMeJzsR2bgBqbGBtDYWCOBXBW7Sy7Irrkg9qjkFLE3bcmtu66olG+33oY5K/+s1BCngFVVm2lZt25dxoWLady8cRnj4wNIpnO4KTfne++9j1f/5kc4feI6Ojri2LatB/FYCPF4tVyogPg/j4uXc+i7Izfr2CAm5Ma9c/sOXv3Oq/jhDy9CdH0882QHvv6Vz2FTWz3CAdp0mcMgEok0vvva20glgaOHOnD0yF4u/CyZzdobXjqG0fFJnJaO4NzFcWzfHMej+3dge3eLnJdrLV4mp6Zx6tQ5XLo8itZG4IufeQYNNZzNYUubk887/cN459hxubGBQ/vb8dRjRxDIJI0BIh+pQrIQQW/fZZw5PYwLZ0/gzIn3ceLD9/DOO+9IuGN4/8OP8MmZs7jJDkESramtMR0WZ6JwEdQiLBaf+ZK8Z+VboG9wCO9LB5qT8u3d0SzpHpTOLi8dgXQ3oSimk2lcunoN739wG13tOTyybyu2b2ozeeeMnmw2j5PS+Z462286oea6FDpbGtAs6cflRikUgmhq68DI6DBu3hzChQtjuHTlONKZHMYmJnFdOuAPPngfr736XZz65CK2bGlDZ3ubdLBcB0Xy4fWQ1vDkyuErz0OJuUh2V7Zuz8F1bcYmE6htakOsbStQ2y6u7LZJue9yFjuvKIqiKMpDg/e1z5FTXz6LaxOj6JueRLihDhlvnYCAsQrIOMunyFbiYRpBsCxO3A7HsWGpg7yMfS9+cgpjFy4Bbc145POvINhQaxREGhM4mwCpDE5+fNzMREBjAw6+8CyqOlvNoyYcujIevnnm2rkLuHH6NCDh2x49hM3792Iik5LhfgEttXVoqW/EUDqNyQsX0HfqFE6fOYMPRd597z2c/sH3MXNJ8tDeiv2f/ww+/TNfQaC+FjOSAA0KoXAYdXV1qKquwoWBfhRuXMPQpYv4WOI6cekC3n/nGC69/z7GJ8bRvXcPJu9w6nkTOh47hPb9u4xRge2Cho2GunrE4lW4OTgAnD+P2xcv4bjk470Tx/G+xHHqxz/GbdE57kxNIL6pE7v27TUvqeDYPDE8ht7rN5A4ewb9/XeQ6WxHw+ZuRJsbROuVFPLStpiQB0esYdFFUtMJXDh5CpMsY2sTHv3i58yrgM0rcqUewxJu9HYfzrz/gbk4rYcOYM+TRzEtEaTETywUxrTodOdE/8lfvIiRiQmMVsdR19WBmuZG8waV+uYmNFTXIJnJYuTmdQydOY1zUj8fnT6D48eP48S77+Hqj36E/rOnkRS/2/bvQbim2jxSk+XNIbB5MPt+49nDDovK+4FPCPCIZefaNZhJYlNLG3oamlCTKWC4r18c5YTobFw2goY3BvYvxquGkWXj1N4g8p7Szrbo+ud4PIburk5s2dyG5MxN3L6VxolPRvH22xfw1tvnce3aAGpiwKNHOvDcM09K/9EgN2Aa0WhM9luwbUsHCtle9PUlcebMsHQ2l/COhOvvnURnG/DFzx/EV7/8GezZ1oVYICsNwczTEAkhIzfS8ePvoSqWx2MHt+PQvh2oiof5uJrJH/M8PT2Dvv4+jA73Y/fOThzc1SONph4hXlc2FImP65iMjd7Blu4GfOrZo6iNRySPElq8cN7FyPgErl+/iKb6DB45uAeH+UqsTNLM4MiHq5HIh81sipvX+6QjkGizWUxOpDExmUFSOvCpqRlcuzWOD0/ewLH3PsLIaJ/pKBtra8wiqMypayz2dbrS8YvTxPiUxHkFNZEk9u7cjEf275b42YHlEQhFkZJOfWCwH713rmPXjlY8cXgPdmzulLJJHMYaGMDEVAJDw9dw/WYeV88Moqcji+2bulBfW41CroCGpmbs2rNX2npM8nsHN26m8eFHN/DGj8/gg/cv4LpcP95HO7bV4cih/eiQL4AoLcDMg+TXtA7pUbm1uO1ieAVed9hSW9QwoiiKoijKXeJ97XPkpIaRWVgWJyw+6yck5Y8EQ+atGpNj4xgXt7ptPdjz1FEzO4NratCgEaQCmMlgeHgYIzJe7di+DbseewThpnqzLoepJxnjF9IZTMv4fkxG+rEdW9FzcB9aN3ebdUa4NkdUFPvmpiYcPnQYNZs2YVR0oCQXR5yZBhIi9XVoeuYpPPMzP4WnPv8KqkVpSQTsIqOE9hkaHlp6utAp8U/JNZ1Ip4BkArmxEXO24/HH8bmvfRWPPP0kLkucXaJfbD162BguchzLe3HEq+Lo3rIZ+44+jpGqKkwwgcQUChOyxzhrqrHlpU/h6Z/8Cew9+ijComNk+PiL1Il9bAa4kZiUyLII79yG1q09iDY1GD2K5hPTzowvq2xzYU7OKmE9j4lb/a5t2PP048jVcC3IgEjQjGxTMzO4MTSAbLvoc6IjtO/cbh5FSrMOJW3zwgup6z4qNbkssh3NaJe6aO7sMPVM409zSwt27N6NtgP7MCBtPinpigIkZZP8EtEVD//kF/Hkp180i+KmwwFjeHGGEcI2wvpeCq6c6xljFJGtWWCY9Sh/AdEJs1NT2Nzahke27MCOxlZMjoyKbj7jvYHG6s9Bo8tLGN4nOf7Yzis0Lxng9kkkTr2J3qufYOvWVoTDNqIS1U8ipOLMyjWTt0ymZjG3nXji+YcBlpRrU9BIwFrgHjuVnLjlEJZaCyGRyePS1Zu4cv0mevuHMDU9LZUfQGtzM7ZKZ7G9pwM9nc2IRXPGKJEPxKWDCWJobBIXr9zA0Mg4hqWjGJ+Um1wu1qbObnR3dIii3y7hmhCPSCPIp6Xe+RBLVNKOYEb6gpOnL2EmmcWW7mZs39KOWERuZj7uImnnA1FMTKdx7XYvbg0MobGlGdvam9HZUGUWhOU0u4R0jNduDaB3YBwNNVU4sHsramJc94PXmDd/FLeHJnDlxm0pfQabutuwUzq5nHRIkVAUZ3sn8NdvnsCrr72Bwwf34LEjh9FYV4tcJiXhgXCQixCFcL1vFMc+Po3337uMzZ3Ar//K1/Hppw6hg6vK5qUgZgZL3tYz6zUfxsDwJK5fvy19SRIdrY3YsaVbOjjWfRa5cAzTuQJu9w/i6o2bqG+ox7buVnQ11Um60o1Ks80Vgrg9PIUzl2/j4vnz8kWRxLNPPIpDe3agrrZK6knqIFqLSemDrtzsxeXrdzA6OY3+wSEkUynURINobaxFe3Mt6qvC2L2jB20tTfJlIRXHR3ukLfAxI2KmI8rxgrdXEd4Z6/Xu8Odd7nF/cWU/J43q6p1BdOw4gLoDLwAdh+UEpzGRxcq8XutEURRFUZRlwfGD97VPTeNjGeu9cesyjg/cRmxzFxLRkFF8guaZEM7S5bZ0jOU/ephGEBxbsTy25Kwf6h78VVwUclHms6I75CemzaKcfFNJvjoqY2drGDGvxJ3JIDMxhXQiYWY/xJsaEKivEYWaaxPKeYk/ks5h8k6/eY1urjaGYFM9IjJ+T8n4lvXKNTG4HkZc9JtR0QH4iMrIyLBRJuuaGlHgiw7iUdR3dRgJVEUlrCinEppDdebXvDVFxsxp0YmSfUNI9Q2YWRRpUVRjNdVobm9Dc1ur6C5RDPcPIBKLItDcgFxDtWkTfIyF631ERR8JUYmdSWOqbxAzo+OYnJxCilPm5Xx9fR1aRWcKtUhYGd8HohEzs5/KczSZQXJwBDeuX8eU1EfHlh7Uix7D2S1ZyS/jd22H5Tb1zNH9TBLp4XEURC/ISzljXa1IiTJmfryVeqxmniZnMCl6SFr0jhrRQ6pbmzHJV8OGw4hw5rrEMXGrD0MXryImOkttdzuat/aY65GS1Ph2mWq5ptF0FjPDY7jJWUDJtDFscW3HUDSKuOSzqbMD8bYmuc6iO0oGaRgRFdLcH7yWbC/UP5j/hXBtar0T9Now9bC8KKxcWiEm+mxOrvOh1k4819KDrckALn9yGm/88Ac4f/4cxsbGTdkj0jayxlDCyQGi4S/ZMHLtE2zd3IpwxDRNSdoaR8y+bDaaYcSYQ6RzMcqwmbXBkttZJHwFb1AUdU6Fmk6kRJKYSaYQlE6jKh5DrTTkmlgYIekpCrmk1J10GwHpxGhUyRRECedzdQGk+O7lNG9yyE1ejxhviEhQbi5xMIq4pEulX9It0JpZiEgYGkLkpgpJJxORTsDcHdJ5yM2WF4U0I18ozBdv2mAohGq5i+Jej8vONi0NQ04jKzdmRMJwAkdEGhm90DiSD0YxkeICQgGEJWwsEkBMbnZ2pIFAGN9++wT+859/D1evjeP/+T/9bTx6eB/qpLyBPNcikdqSjiAYiuHO2Ay+//ZH+MY3/gS5FPCbv/GT+NKnnsDmpqgkIg58ToeGEa9sXIMkkWSj5SM3UlNSdxFJn6Yo5rwQlIYtRylp3LQKs65j4icsflldknsTNpMPYVryPyUdaCGbMUab+hrp8tjzSZkKnHkiUU5LeVJyLbhy9FSC1sWcpClfDHLdqqQjzGdTqJZtVByZO9auuSNY1yY9CWtkKbgbZu3eIbYklcrDPLt8yxX2e5H9uYaRQ3KChhF/uPlYu/WhKIqiKMoqwvGD97XPkZ0aRmZhWdz4iqN+jtdZF1xUlEp7TMaqMdE9uGreFNfXk3G5WXdPxPiTMWx1OCLj5rBRsPk6WBpRjNGC50X4KEghlUZ1LI5cJGQWXqVhg+t7MGm+tyUq4/GIHOT5S6wo75l02jyqXtfYYPxNp1LIc1wcixolv6gdMQ0JT32Rb7sh1aIPxLMStygdZu0OOUfjijGwSJx8Y4xcZDPrJCEl5mMPRheRsNS+qHey/Cx3QOLimn/ZHPWEvDGscJFNLrbJN9WYaR8Cw7t644wBqsB8xId1wcdReEwjjvVt25NNT9wkbhqHqkTXyYUCmMilzaNI9EORmkVMwsZEoWA5uWAsF1tNcT0SvgGFupK4BaSO85MJ1EVFN4pHkQuLPinxmGUb5XxUykzDD9chSU1Nm5k6QeZfEjHXnWHkmLN9KFw3g+LaBA0EhGXxdudFghXLup7hVWAbYyUV5CKzjcXTOWMYOdjSgZc6t+GRcB1mxifw7rvH8O6xY7h0+RLGx8ZNHeVyXHJC2q1cp8UfpZkaQHaQj9IMotHMLGDV+6tR9u3/rKv/tGBNIg+PYcQW0KrDtmTcI3JhpM5ouQrJzUhTR60o0k111WhvrEWbSF11VBq5XIZCRkRUeQaUm5Y3HZ/xi0pjr5NGT+NJY30VWpprRepQWxUx62kYI4zcOBbmgSEFaQRcTCYSEmU9EjFGC3ZJRmE3mbR5pp+wdADRiGf0EGfaBAyyz7Lw0ZCYnDRGBcYrf660NFJIL4KwpBGTjjPCAkjPG6BRJxvGj9//BG+8cx7xOPCLP/tFdLfWSycrHUlUOouwlFGCx2IRpAtB3OgbwocfnzQ385NPHsKurd1mJobtSukq9cRsM2U2WPkzxqEoyyClkU7N+PHyxnWdacyJSyI0IIV5TuqLX56mE5U/WmyrpX4b6+ulPddLXFHprBiHTY9ph+W6VEul1FWF5HqF0dJYLdeuGi31cTTIdaiW9GNRu5CTrR8aQ2Qr191ktwiPliLcyHYty7zwnDvPGi7FPUpT19SGaNsWoLZNXL02O8d3OYudVxRFURTlocH72ueoTB+lmYVlceVh3RDjJgf84ZOPq0xJfSVlzMvZCzxrFETZMzMaRPiDKP1xZgEVe6dJGN/yQUNGPhJGWrYp8csFQ5mWS4+eaGjJyDbDV+Fy6npNHEHRcbKcHSKDfLrnRYeg4m5CM2ITlON4SVeEj3xw7ROTHo0F0QiCsZi48fWzVPbt62hnJHxCysM8u7fJmMceJMcc/Wfpl3kVv0k+TiK6RUZ0rKxsk6IDJMUrH2Fhc2FY5oFz7Pk634QoPznxFxBlJSfhjWFBsmt1BaYwC8Oz3KxD5p+vjODrh1lGFsr8SVimQUMTZ36w/mikYkx8DIePPfGI65yEpLzhqjhCIqwrxs1zLJlEYsK4egqKLpjnj7FVMWSkjvk6WiMsr1xDGnPo14aycVC4T7fFoD/Kw4C7Tqbcsg3npM3MzKCtqhbbapuwKSj6dzyG5sZGREX342NTnK2UmEnY9iHXk4uvmuswP161ygXlvqk8c9Gcu7XM2H3nalRE61AipJL7WpLlwFJaKT+mEcFYJ1k3uTTy6RnZzCCVmJT9pOjqcpvn5PYRxd5M7eIME7lxbHjpqmj8ED987i4/PWWFF857A4w1UpTm2KZLa6r4KdhHbJwfu76GhDEGGE4To/LP6WhcStUZBJwwjJyT8MbI47lb7D4fHaKYc+aUzVVOypCXjtlM9pAiDA5w8dgEkukCZqR3mqKBuSA3tvTK167dwplPTiIxAWzviaGrvQHxqrAEzUpc0q7kz8bsbnRJgTNIsknkWTeSf+anVGgEosi+Oc9wrFfbzG05vPqlYSojGSrQRkt34sUpcZgC5KX7S06hkJyUm0uuXXJavCdN+KDEz1LbGSK2HvzX4+5gPlYq9wZbNts6bCtwUoa/EmTfnLfBfOdcKP+JSqIoiqIoykbDjWj8Yww7KnBjA//WCscklbYPC7MjJ1+ZRD/jyJWGAirIFDOSla2/7ozSKHqJUbjlTFZ0ArPehXeOWxdHPhISrTJklHij+HvClG1aEl4GvVx0lMYJGZGbmRmccc5zVE4NJozFpOOJKQH1BdnS6JEQfUhG9mbmRIEvMwiHjcGEo3PGycdscnxsxozlS68vXUX/lXRlK658u6Ytmy1vgDM1RGgccmmL9iubIDJcg0LG8Fkze0TO8p+eWCFe/CwDt0ZkPyeSlfCckWNH/7Nw3xlQZoXRMT4La9zWH402Xj0yjJyjcFYJfzFnGZKcAS9+ufYI/Rqjluyn+GgOo5R4zUaENcPfeN2xwx3PJ+uDSjl3Mou7dCVt37uWtqYsjS0teObZZ/H8C89j7759qG9oQDQWM20glUotNGPEu9UmB5AZvInpsQE01cflool7MeHZhAhvHNsASoVKo9n63O6XmEa+KM7Tkjz7oH8K60q2XiMl9lWy9qyrEk434z6fseO0KLM1Yfx1I59s4ZJx1nGxQ2JERT+zvt1aFmT2LM0UnuHCCz97zt7inOnA8+5GMng7nARiux9PXHjZmvJ4+yaP4uDFJPkNYXB4GNevncP528BI72mzrsdkIoP+kQkMjiRwq28M7354Cn/xV9/C229eQmMt8NUvv4j9uzfLPqf5MX85kz8mUQrzzbRdd2Tbom1g3GFhuM9McSvMjcT6Yd4lvImHhhAXl4nX+zRx+8J7+7Qs0ofNg2wZhRfOi8TbLkckvIvirmE83tbtrho2nyy1258Vftot8VcZv7DGpxKoaWpFjDNGajhjhHOUXAtTFEVRFEURvGEBFdvefBbXJ0bRb2aM1CPLRyxkYFwcb5jBRqm4MYo3ahWxR+sdV4JiSaTs5s8NuGRjxuqekOKo1OfOP/5bkwhPmn/7IWJGwwU+tuL5MO5enMZj0at3ysRo/JofYWVvjoJuwssZ52AVBzsUpy85aQ0cBc/Iwa2cMWlSX6LuxB85nX9Gwg9bHnNo4pOzHMqLgmtUgZwcyD5/JzVR8U92TLwCZ3GYH0/pV7Cus1vi8ux5MSedoYOGDxuX0wa8c955fjK/jMM/k8GlT5w7/Vjh7BhxYNx8rMgLT73DzXqhLukMIWZL7zznuTl4vBRZ27gclufa7+7DO2Q1cMZIfnoGbbEabKtrQleISzXYk+Fw2CxR0dTcLPsRjI6OYnJ6yswikbqU2pwDnSgZoO+0WWOk/+on2LapCYGwuMmFYYOwl8GfubIMethpb6ZJWof7BhuS3S6OK/NScDeBK5FpumbP1QFvYrdfjktpNhbi91sezpbDuJp4HfZG4R/Puptt9pNu3Of5xbG5cSEtsyFtWa0RhDmnIcTekjSImDkksuUrid8+9h6+/eqPcLsPqKoDYlUSOsQHW0KSnzBSybQ0zgy62pvw3DOP4VPPH0VLY9w8IhPhuiASW9jc5GzBDkmd7ciVn1wdyzoAAP/0SURBVD2dyZ3Pj1d+C/ediD/jn0jeaV3hVpxZKpsO/UhNSvymzOakPz7LXBcbbrmUxuMPv/y4LC5Gbzs3o3eBLxIWU46Zu/Ic0ld5cu6LJiOjm2t9g+g0a4w8D7QdFFeuMRIW8bdlRVEURVE2LBw3eIMJ0TTsGiO3L+NE/21Ube7GTCRslW6jU3CHn+UjklLs+IR+Fva31jHVYotsFWXPjWMt4yZSjp19Led9Y1kzkmd437jVGTLo4uJeKi4+bhe7Fo6KaucqYPIiVMqHOSPO3PrLWB5mPn/lsE5ZDlO34smEd55tlEvCf23I3daNP9Qykl8HsDQLlYglt2I+jfLB/QKquMZI3zAOtXTi01078Fi0xlhczVo1vH5yh0xNTeLq1at47733cOrUKfT39y80Y4SRSwxTg2bGSIIzRupicgeJEil5ZIOZvZ4u40WHEmzD42fl8+uT0tKUlkzOmcqZv7zujKubWRYJU/zg9fFj0ywPXX7TLQZ9Vwph3Ri/S9cadNyraTmLg7NUuCBpa3M9urtb0NISQDiYklZIQ4g0xEIODTUR8zaXJx87gBefO4pnnjiMzV3N5i07Yc4UkQbrHtMxZSwWk/siJiPeuaI4fPtOMzedjIjrbEx+iZf/4jl7fvacd96VzxPrz4pxk7AunuVIMZ5ivhiLt2/w7y8Vm/vi1h2uCH8klSOs5OqaHX/14YwR+7peN2PEGtTUMKIoiqIoShFv7MAN1xi56s0YiTTU2Rkj4s5P483zuxD0sgRv64JytcJfLjNidOeL/lhPsmP2LeXHBu+4GMcyqBjfGqW8/uZjKf68Fmg+i6P1JYSrhItrJbgYVh7TWmPplep8OoNWhGuMTCbQXlWL7bVN6ApHzQl3fTkTiWtyVtfUmLcYRWSfy1ssMGOEKk0G6D+LmTPvYODKSWztqpeUuICE9WF+XTehvVTmUXQevhkjDpanUhgpqZnZsJTy+sPP59+VY64P68xPpjk3/HINI0uH8Vph6lbkmOlJ2WnaGBmfxLUbtzE4MoLETNpMzWuob8DWrVvMa25rquwsET5JmM/OmHVX+AiSNR4QF7MHK2FOedz5cnfBnCpz9x/yfIVgJbiKL2e16rVi9udJc1EYSVm+VpRNF1i2kiW/SWchXC5om0rngeu9g+jaeQC1nDHSul/OcLaIdFDmkRpFURRFUTY8bnDhDT0+zCbx+q3LODF4B/GeruKMkZDRKQD7dhMbyAUtx45HZv1tdGzNsUZWpz5MfMscD9+rGSPKw4i9g+fH3tv2Hidcs6Vg+obqVA65O0M4bGaMbMej8Tpr2vBMFbYdipIim0w2gxs3bphZI/MaRrg8TICGkcHzmD5zDIN8lKZDIjWP0vA8Z46IAmw6KGcEqJz5B2cYcQVfDPpxshosxzCyNJZSjvtrGKmE62qliUr5uaBROBpDMBShac66Szn4WqR8ls9x5RE2b7WRNsVFW+Wcv3Hz2GxNEeRjoTpwfsrxvkCL+A6ZF1s9FcIZZg1S5axavbr4i/F5Zb4rGIcvXyvO4mx8th7s1XFmK4vL62yeedbM+JH/dD6Ia73D6Np5CHUHngFa98pZGkZi3lZRFEVRlA0PhxG+4cXs63rvINrD1/WGZWzBdSHsWNIE8PzPN0bmaTdyURRlvWHv4Plx97bVP82jNDSMyH5NSnTN24N4pKULL3XvwJF4rbGDFKOUPoOvbOYskVAoJLppzjxK49lN5kMSkP8U+G5srlIclchEmWHq8kHl0Bo7Fsv46mPSXrLQ/0JSKcxalEp5dyIfFeCXxb0Ss26HkZwIDRs0dvCtOCkE80lEkEYgM418cgz5mVHkZkZkfxSB9CTC+YScTyKQo3hv0TFxefGykbmVhQzixiLOJ6ZRMpxfxK143rrx/eYUPmNGd5bDLjQ1V0wZXfgyqeR/OeLyUcwr9504t+VKeRz+4xWIqQdTvxTith5eR8RVr/hIlXktkXnbTw4hs1qu9B1F4xjNtf64FEVRFEVRSomGwqiWsUMoL+O0LGery3hCxhTuTR9GxJ8do8zP3LG0yoMURVltqHm4tzJRy2ArCweCpu+okj4kEvRmqDud0usy+DgNjSI0jnBB1k2bNlU2jNC/qEP2IMp3LVcjXQgilRa3vAQRRWe2cXPr9tcqLo/zyXqhUt6d3G/cF5Fsi0o0DSTOSMJXC9tXBwcp+ZQ0UE9oOBE3M1OEr801YRmfT6hoOyoVd47Ix5zjUjdv4lLJ1u1XEne+klTyvxxxccyJi3fknLIsReTDhBVxW0/8+V66cNBh900csrFXxLsuRWMID+xZDlHM2uKuPeSyyKT5grEQwrEaaxwx3ZeiKIqiKMpcOKKgchMLhFEbiSKcE40knTGPW5sfs+jHjEvsn6IoDzOL3+P0wcdn2G8YfTIvvUQmi1Amh7pIDPEw9Q+e88QH7Rk0jpiXe4hQhZpDwGhCPCUeRaGpaWxBrLYBkzOizGYZoyQQ4CImxSWQlI2K0Zz9GrlP2IbMt5dzo8VOpEDhzCNvvzwcZxgYv+7YicS1oPj9ev4lX0Zdl2NKzi/iXnJcSeinklTyexfi8mXe8LNqwne227cE5dw2uFxxeWTd2V9oZsUOTKy4ffvLjVmMlvUe5GMyIaRTQDhWj3hdGxBvFLcqqb+I+OX1VRRFURRF8ZCBhHnlquzWiHRU16ItXo3QTAqhVAahnG9xfhGOOdz+wqIoyvrD3bvl93OZSD/AhwyM5pGTffYVyTQ6aurRWV2HOqOTCMZyIrigDupOHrN7ZVibiUQUrUK4sRXNHZswncraWSNGqYlIpEHplNh9KRsP/3XnPtuLkzLDBsUYQbytabqemONysXFY5V6UcxoixG154oWR8DYOu188fsBSkgfJW/HYn/dlyWx57b5IYFZouFi2GIMIw9MYwn1u5ZIZKXjijuWSSRiD+DXXMFPAzEwWjS3dCDR0ArFGibcKGWMY4TVWFEVRFEXxIUMIjhCqRajUbGtpQziVRoiS40iHXuwsVRl9LEEURVm/VLqnS8W8QdQZR3IFY0QNJ7PY2daJzpp605cYr/5tRUw8xtw6P/kJYGYIGLiKi++9gZaIKDo1UQTDEsw8MpGTHor7Li1+Snfl6UiEp01PZ2QuJa42ksUxytdiuEwtJVL6WWriiyF5EwV1vvLeFYtcpgeLy1v51uHqwb/11025fzku6s2ybxvQ8jGN0KbDmQ0uFrP1J/8gYLG8XW4598qyCuWVf8bgYrnL2IqYnHkRulzOwSQrF43++DRVJoCJqQz6kyHseeFLwKa9QLwe6UDMzHCLhuaZrqYoiqIoysbDDVa8gUZSRDQQXJwew3fPnMRYdQT52iqk41FkgwG+z9CM7fwz18vHKDzWdS3WGKLPrHRcqmx0bAvipzGSyk5BlAs+MBOdSSOcSKIjG8Rn9xzGrqp61It7mNPbS5BATt9yfYS0zVLDyOzeLIUZ0SoTQHoEyUvHcefcRwinptBZV4VoHd8skRWtjjkSyeXMM4CBsDdlxWHidYnyvzShYpdV6rw6LMmg4PysVgakRKaSiyVbfSp29GVu/rIvqR5WAPNjGhi31mku/hP+/Up5o5tf7gam4aVj8md31xymiK6Mq1Veu1kZXnwuS+XZYp26fJv2yFlkIaTHZjA8nUegpgWd+x4Hth8Gatqknwjb2SXi0xhFuMNgiqIoiqIo/nGGjA84831Q5NToAN67eQW9mRmk66sRbqzHTCGHjPixwwhrHuEw1Gx9Y2Qzs8T4m3VbCYv9nqwszIMwVJkrJsnqlVvH+O473oNOSETaVFR2sxOTCA5PYFO0Bq/sfwTbY7VoF42jzCrhIQFMh+G1Ry+uxQ0jpltKybkpYGYQ6cufYOTaJWSlk4oEMqipiSIale7GvHFCfHPRRUmEUdm03A3ArdsvTah4Rpz9vtx2JfiLtzD0t1S/iyH1YWaM3AMki8ylqxsamYoGL7spYuvSc12NyqyAqzUnTMfsL7neZ7H59UtJzHeBF4vZ8GNlsa02rpwGqS97HVehvPLpZmytLDbvTyKzgw1fpGZXPliv+TzyuSxymSCSM3npMaoQbd2C6q37gC0i1a1AiI9NMYyHF1VxqyiKoijKxsaNE3zjhbQMp/tFt7gwPoQzw/24NDmCsUIW+eoYsuEQwjK+4BslQjLunjse9pQnc2I1Bhyzyphyd1jDyP0f/OlVW4+UXjVz5JykCfFtMrlsFsF0FqF0BnHZbo7W4nD7Jhzt3IIm8RunGaNSkzN9Qmn8ZGHDiETCs4VABkEaRzADTA5LD3UHE723MCWdVDY7g2BQlDrjt4AcV4+WjBqFnX9ywuXFbMszJlRwKnZuK2VpHRj9OFkNWG4aRiqVbKWwU/Z2BVs+1rWHHLp9W/fekWxmr8TqUKJ8Sz5sTih398XB6FwOzVteizGS5cbnYmIsvB4Sg3zcbWyrzWzuRFh3kqHVK6/FxMZy28NlInUmAW0L4j4flOGeLyVWqp9AWK5bFA0tnQh37wTatwBVzUCoygYqz4g/MkVRFEVRNjb+cYK3n5PhdEK2o+JwOzGOqyODuD0+iolsGqniGMLuUFGay92Ngubjbsa3Gx65PHYEKVv/2NHnriiVmed+8zWbmHipD8fQUVOHLfXNIk1oC0VRJe5c+cPg/BePueMOZllwjRGeYBdDCSMrntM2opxsp8aRGx3GyMiAeMwWrTZZvlJL9o1SZRq8jciop+6gQkaIc3VbX5nvCpPSkjow49PurhI0jNyLm93k0mjRXtyyTzeXUjFFrzj+Dmg1c1NSWxIxs+RXwm2uloczhjGfQXdg4ll+XBbG5JVa6qEYo+f0oPGX11SgYXXK64/lbstrF1ZmKw6Yp+XMzBG68IORyw7bVzgUQoSv1ItGEa+pBVo7pIdqlU6jRvqKsJ0t4sKYcCLERq8oiqIoijI7cPEj44SMbLz565jIZzEwOY6+8TEk8jlkc1lkRP/IUQ8xP8zOxQ6FV2fAYfWKSqko88PxorfrroNszAhzdS7Lophk9LKtP4yy5C6c1UN4nxv9IxxGNBJBTTiKtpo6dDU0oSEYQVz88FUeNIrMaV7FqPzxzrKgYYQ4w0hQPilmsdWcCFOiwmO6Ks9XJivC7kvwx1rsRET4qE2FjFRkNW4Wo7F7+/MxT+WsiHs2Y8SjUk9Ct2IxystdfrzKcIoHWY0ertxIUDSSLBNPsTeXwZ+vVcjiquAvVrGdrkJ5yaqU0YuP8Zbk1ftgnrmeUDRqtwYvYff2oQJf7c1jTxxe1M67oiiKoigbHP84wYfRNHzjBdE2jJGEGgeDeFqI8eeimCeqFXOv4t0o3M0PpyvFNR0dcq435t7NbD+ZXMY8Qhcxf6KGiHBLzZvif8fpnObG46KeVX6Sp+YzjDhXaUV2l5/eIxtOiTPKpvMoFJU77ntbAw94zttSFmudi55fzIPHPMUrxflZit+lIHkz+VtiHleKyXZZ3pdU7lXEXQ9uy4tdnr+K+fW2DhMHHZ3cDYzEly+ztZs1gyta8XqtUnkdd11eL2DR2DJPRCX16s+3655ETBxlLBCloiiKoigbEP9QyMP8NuONF4yiI/A0jSPOEOKk/KdXN9RYzeGGP35l+azmtVgqLs0Hkbay+tgpGfJnJlsA0UAIUbm6QepSnl7Cz+L19t+0xs/8d/EihhEGNkdC6QoIjNPpRAZ3wlF+vFT8cS7EUv0tKx93m+lyJHNLzd9q4bLOdGV/KSVZ1SwuJ7J58jfbTmXHNC46OLkbGIeXsZLGugZZc4YRUhrYn7NKOZxNffasOZ4TSFxnPSuKoiiKothxghsreGMEZxQxmwrnDc6vJw7nxe91pfjjV1bO/ajPe9EOlPsJW0np1ePMEWMYEf3JLF7BJzWM0UNOis5XEsLfyJyfeVj4UZqSWH2YEF7EJT2Wx/wxLo0FMrxsVpqXu2E1879EXDG5NfvyYbYuL3Lgdsu3K4Xp0O5gtsZlLiYvHmbf7+DBsE5moccKnossdM4X20Y0jKy4yKUR+HM4Hy7EnKQrBVpx/hRFURRFeWhwQyAKxwjlg4ryscQDGEdUGs4oy8RXiQupocpc5rz4YIWs/fpn/goIBLm+iJsz5vDybowdUi+uKP4qcm5uy50FqnDRNUaKlPhyT/P5KF6o+VKj+wI5EebkfR4Wj8nH0kq3uniZu19JMx3/1eCxEz+u3ozIySXX4SKYdCQyl155vOX5KD92mHBy0nsAw8d8Ieg+3zliSmqlPFNrDVMMV56FyrQQrryzm5VRGslycrXWq1tRFEVRlDWGfxjkBhLcLnVQUWmgcg8GJMsZDymzmEvhrm+R+1ebD8N1M8uPrlablgp5EGu+LA/mjy9wYbldweergLKyuEMbxWwDXKD+7tIwwoNyw0jxowJ0XyAXHi6JxTJUbi9akKWVbnXxinq/kmY6/rTKj/2YKyEnF78ac5kvjElrGRGa/JVl0AU3+fNkcUxMnpTjj0W2S4vwwWGKIB8mn/OVaSF8ZV011nqlKYqiKIry0FA+/Fnu0Ga+odMGHM4sdxR5PyhehtXM3Ea7tqt9YR/m+vPXFfddWRco89INI6TEp++gmMAarN2ll271eADVsOxiMsAyAxlD3d2UTdIpSWqedEuiXnI68xXERVAhorspw73Cn3WTL+cwTyUtCCNwhWN47t9NPH7WUmUpiqIoivLQMt+QZTlDkUpxbNChzEpHgPeEJWaqODlgEZYS3T25/CupXB1a33+W2u6WZRhZCaudymo3qo2Wv7uJ727LdM/Tmi+BddTzlGR1tS62i3Sl8a2jelQURVEURVFWbTS5mixV61xtw8iqj2SZ8N1U8D3JjEJ4Ocqr1n+JzLlFrpkaRhwbLX93E9/dlulepzXfa5cqvSZ2LTInm6t9sVfKOqlHRVEURVEU5b6z1JHrahtGlsI9GcWyHHczXGdmdFj94FjkmqlhxLHR8udYKN7VKsPd5H2paRt/8yXgi+Re1d9q4GVzNotrK7NmoSdFURRFURRFmYeljF5X0zDyQEenLMfdDNeZaR1WPzgWuWZqGHFstPz5qRT3erlpTT7nqxxfIe5l/a2UVa5r3tKr/TovRVEURVEUZR1wv8e8yxhy3pMZI3db3pUMlZeaZrk/prkeh+iVyrveyrGEa6aGEcdGy58/vvV4gzpM3uerHF/BVrv+1jqLlXe513w9txFFURRFUZSNwIMa7z6oceISy1tJ3bWvgPUO7gUuSX/STG+9jakl/w+k/labuUWYgxpGHBstf/741tsN6sfkfb7K8RVstetvI7Ke24miKIqiKMrDzIMe697vceJKy3s/8lspj+txPP0wl8OHGkYcGy1//vgq5dW53Z/WsTIWq+v1UIaNxmrfH4qiKIqiKBsdHfPO5QGOOStp2fq0+wNmgXtEDSOOjZY/f3yV8rrc/C83fy7+1SjXQnld7XpTVo/VvkcURVEURVGU+8uDHmvf5XjyfmR7NQ0j92rYvJR6qJT2elOxllJ/988wQlYrpQfZMpbCWs+f4L/qJTeo7FdKZkVFYoTLjWA5ZV0o7lWsM2UVWVGDUhRFURRFUdYMD2q8vcbHkzpjZH1xfw0jyoPFd6W56668/wY17nJstsbFEvTEeXXn8yJ0Kz/np/yY0K/zb6Anv0OlQPNREtE8LCc+5d6ylOulKIqiKIqirB/u91hbx5PKKrPODSOrlfV7dWetwfx5WeJm3txJckyRRg/nJyRSngue8xtGKiKeXByFwGyKAf7NHlr8CZSfW4jyjFViOfEplVlKPSuKoiiKoiiKck9YLZVGh/VzUcOI4V41jTWYPy9L3JTnzqUyO4OEZg8RNpGKzUTcjF+eNw6C8+s5mI07GRT/IZGw7HNrXYv4j12QpVAez3pjOWV9UKz3OlYURVEURVEURZkHNYwY7pXWtwbz52WJG3/umIIxiLA55LOyI8JtJi3bHL3MDVCMxZ3w9gs0qHgYo4q3H4gA4SogFLfippm44hXj5MY5LoFleFUURVEURVEURVEUP2oYMdwrzXoN5s/ZHWZ3zZYpBPlBI0hmGkhNAFMjwMQQkEvSm+ArTzFLLiaf+JuUM4xQgnGgphmobRNpB2J1xouJqyQ+OfBFsSjFsIqiKIqiKIqiKIqyPNQwYrhXmvUazJ+XJW6cEBpFTCo0jCSHkbp5DpePfQ/BgctoLEwjL80kK+cK4rG49ogEMM1HJOjFJj6McA0RrkuCfB7hQgAROU4F4kiG67D/mc8C+58FmrZLHN4jNUZMDrgzm7Gl4IIpiqIoiqIoiqIoyjJRw4jhXmnWazB/Xpa48QufarEzRrJAsh+4ehwX3vhz4OZJdIQSCEYjKISCKASDyBbyyJtQDCBbGka8ZpQTp6y48UyIn9kconIqnAemsmEkQvXY8dJPAkdeAVr3iq+IJEzjiP+9NrK10S0NF0xRFEVRFEVRFEVRlokaRgz3SrNeg/nzssSNX4xhRATgjJE7wOWPcPGNb6IwcAGbaoGahgagiuuCBJAzhhEvVxKYb5exb5iRc+KQlRPFGSOZLEKZPAozSQxNpjCZi2DXiz8BPPJZoO2AhA9LnM4oYiIRZL9gc7MkVrF6FEVRFEVRFEVRlI2FGkYM90qzXoP587LEjV+MYYQ7Ac4YoWHkPVz6wTdRGL+JrW3ViHa0A7U14oF+7MbARVKdmBMi3BC6ZSW+tMj4FIb6hzAyncaeFz8PPPoFoPUgCjSM2FVfJRgzQJOL5KZAs4qLaBGW6E1RFEVRFEVRFEVRylnGz/JrEWrEqyH3ikpp3Y3cZ2grk/+8SDqdRi7vGSsQtgYLvl2Gwsdg3H7QCQ0dTiRMWNxicaCqSk5HUZh9F3AFeI7pLKPMD6B6FEVRFEVRFEVRlIeHdW4YUZaNz5BgHoHx9jlXw0z6MBOIuMMZG0HzFzYLpNLQERWnmLjL1kkhIltnCKE/hrNh5UCEG7tlzHmz77kL7oiP3tgwEo8JP+tnXpbgRVEURVEURVEURVEWQg0jGxS7JkgFzGwRWhxCsktzhTVZWGMFjRY0hHjGkBLxG0SsUcTMDnEzRGTDaE2ynpM9chmho+eB4h0uKIqiKIqiKIqiKIqyQtQwosxDYdZmMYf5zi0Uxp4yp2c/LO6Ez0lRFEVRFEVRFEVR7gdqGNmIrHTWhTNs+A0Z3roki2HX+vV5NLuemzvlRFEURVEURVEURVHuMWoYUR4MavhQFEVRFEVRFEVR1gBqGFHuHwW+6UY+irNG1DqiKIqiKIqiKIqiPFjUMKLcX9QmoiiKoiiKoiiKoqwh1DCi3B8KS7CHzPuqHEVRFEVRFEVRFEW5N6hhRLm3+B+dMfve4ULo63gVRVEURVEURVGU+4QaRpRVxDOAFOeF+Cwgsus7EspfjVN6VlEURVEURVEURVHuB2oYUVaOmxXiCV/J68TzYN3zIn4DSKF8WojvnKIoiqIoiqIoiqLcB9QwoqyYBc0ZNI4UPXDHP0vEQXfPk64zoiiKoiiKoiiKotxH1DCi3FOsmUM+OWPE7DvKjSPE+VDjiKIoiqIoiqIoinJ/UMOIcu/x7BzmyRrz+IyIcVvIOKIoiqIoiqIoiqIo9x41jCiKoiiKoiiKoiiKsmFRw4iiKIqiKIqiKIqiKBsWNYwoiqIoiqIoiqIoirJhUcOIsmIqrRSiKIqiKIqiKIqiKOsBNYwoKyegphFFURRFURRFURRlfaKGEWUeu0a5Y6W3xTg3fZOMoiiKoiiKoiiKsj5Rw8hGJWANIkZ46O37HQOyLRQKRsy7ds37dj08P84owk8niqIoiqIoiqIoirJeUMOIMg/G6rFECrNGFUVRFEVRFEVRFEVZR6hhRFkFjFXE7iqKoiiKoiiKoijKOkINI4qiKIqiKIqiKIqibFjUMKIoiqIoiqIoiqIoyoZFDSOKoiiKoiiKoiiKomxY1DCiKIqiKIqiKIqiKMqGRQ0jiqIoiqIoiqIoiqJsWNQwoiiKoiiKoiiKoijKhkUNI8rK0Lf0KoqiKIqiKIqiKOsYNYwod0+g1CpijsrcFEVRFEVRFEVRFGUto4YRZRVRo4iiKIqiKIqiKIqyvlDDiKIoiqIoiqIoiqIoGxY1jCiKoiiKoiiKoiiKsmFRw4iiKIqiKIqiKIqiKBsWNYwoiqIoiqIoiqIoirJhUcOIcl/h8qzFt9foWq2KoiiKoiiKoijKA0YNI8o9JICAMYBYI4h9k29B/kW4VRRFURRFURRlY6GqgLIGUcOIcnfQuGEMHObAJ7NYQwh3ih86SURRFEVRFEVRNjJOIShVHUpVitUWD9+uopSghpGHjfJOwImHb9fAfomNwDQE45d7dA2gYCwbvghMJ+aORfzGEdkWSowlZQQKLlb5pD/jKohrISQS9raSfoFu3mlFURRFURRFUR5KqDrkZZsRSYgMF/K4I3rDdVEHnFxbQJyfG/PIbZHeQB4jolwwfqalaoZSiYAos9o2HiYWuJp+e0OJRcw5ciudEWZ6gasf48IP/wy5gbPY2VWLaPdWoLZJPEgkxDQbb5+UNCNxlw6tgCwCeYkvJzIxib6b/RgcTeDwC18Ajv4E0H5IeqdoSTQGd1zuTsqSVRRFURRFURRljeKpCE5TKM4o9xzyss2LYpKU/f6pSZy8fR2JujgS0SACwZC4BpCjfiIBg6GQUQPcj7EFBpaIxKdxNyL+AkHnAkSyOaRHx9BT34idja3ojlUjLMGCclrUFRtIUQQ1jKwjFrtQ5r62/YPvYPZuN6cCeQQ5K4POzi+FmP0skBkwhpFz3/9jFIbOY2dXXdEwkpeAQXp0YVz8cwwjtMfmxN0zjIxPov9WPwZHpnHoeRpGRDo8w0ipmWY2y9yafcbt0pndVRRFURRFURRlDeNTG7ilQcLgOeZkS8PIlOxfGR3Gq6c/xvGxfoxXhxEKh8VbQFQJ0UBCIdEBRA+h4cMGNYYN7tMMYgwd/ON550e2NZJATTqLRzZtwZObtmNvTSNicsqYXJgHF5lHBSdlg1CmkSoPBSV3s9djyJ0fQAbBfEp6nxnphTKyzYrItiBuFIh7dkJkUtynESmkETQGD2km3nQT02DoJB/c0PxhDhdEfJieh3mQbS4NZKaB9LjIqCeSbsoJ3UVSY9Y9z4lvkldFURRFURRFUdYNVgOYR18QR6oa3s+pyOTzSGTSGJmewuhMAuOpFCZSaUymM7JNYdIIj9OYErfpjJUpEfqZlLAT6RTGk0kjE4kEhicnMDA+hjGJL5nNFHUXk58KRhFl46IzRtYRi10oc2+XeJKDQEE6AK7/kUUonQAoWRoZaOywvmhNtX5lQ4NFsh+4fQrX3n4NmZHb2LapFZHOHqC20fotSIwm3gDytMhK0JAX3CJ7bsYIu5+sbCcm0HerH2OjCex75GngwHNA2045zbVFvDDG+MKwchiSj3wOhUgUqKlBIC5p077rZrsoiqIoiqIoirKm4TDfPPEicAhfMmNE1ISMbLOiDkzI4aXRYXznzHF8MjOCifo4YrEqhIJhCS+6jIQLBIJmxogRiY1qCaMzUXppuFns/HG3kMsiPzGF1OAQjm7ZgVd27MVjzV2olvOS5LwqxXzuysONGkbWEYtdqOJNXPQoOwFjFkE6M43ccD+yg30ITY2hJpCV0+lZfxROB6FBIzWCfN8lXDl3AvnkFDZv7kZV5yagpsEkUvAZRjgHhOmWGkYEOV8o5KTDkhO5vHRKExi41YvE6DS2bN6B8Lb9QLPEaewnNKAwYsYgEpCuKhLDVD6AfG0T4h2bEaVfRES4QKtsHCWJKoqiKIqiKIqyVuCwnY/LuCE7f/s0UAcQ97SoorlwAGNyeHlsGN+7dBqXAilMNVajKl6NcDiKPC0rnhVk1ijiHquZfYyGOk8xHcabTiM1PILhK9dwsKMbn96+F0+29aAuGDSP0piZ8BVwcSgbCzWMrCOWcqFKb2SGyMtfTtwzGL58HjdOfojpq6fRlBpCU35azudQyGelwyogz84mHEQwn0QuOYGpmWlE4nF0bdmC+vZNQHU9W4zEKnHS4GE6IGsYCbK/km0xk3I+l8+BayYFpDdMT05i7HYvpnsHUE3LbyyOTDCCbMGaV+i3YEzBQaTD1ZhEHMGmLvQceRbdh58B6tvkXEzEzTDxUVpoRVEURVEURVHWABy2L2YYyXuGkfOjQ/j22eM4m5tGoqUWtTX1iEVj4s08jG8ioQpiopBwbi0RKwEEafAIBc2irIFcFtlkCtnRMUzduoPDXT14eftePNG6CTXinzNG1DCi+JmvPSjrFHYapuMoYl3YWbS0tqBn61a0NNYCMyPA+E1Ep26jKTeIrvA4OoJjaCmMoB5TqI/m0Vxfg7qGBoSrxH+IszWkufhe52u7IPl0HZTDJGnPF2iPDUgHFY6iqroWLU1NaKyOoT6YRgPG0R6cQHdoEh15STfZi9jkLYSm+1ATSmPvji3o3roFkHCm8ywrmaIoiqIoiqIoaxunJ5ToC0QcnHGDo/x8IY9MLmfeQsPjQEjOhcMIRsKiisiWb6UJBU0YziAxYUT4Ay/DWOF+Adl8XiRnH8MRPyEJG2Zcsq8oldC28VBjuhS5yLzM0pHUNKB5605sPvQ4qjt3Ih1tRjJQBUSqEG1sRHV3B2q729GwqRuNm7eiecs21Hd2IlpXB4RpGGG3ZSVYoPhmihRhmg45Yw6DiNAw0tCI+p4exHo2o2ZzDxq29qB26xbEOrtRVdOIfLgWuWg9Ik092HLkOTTsfQJo2SxZr5ao7GM0/tgVRVEURVEURVnDeIP3Un2hFHoxIh8FGjTSGRRyefPjK3UNPrJP4Wt2uTVu4p8ajtFyAgGEOFsk4EmQj9dYoRHFLCzADHgLnEhwq9HIjtl6omxs1DCyIZDLzJkeoRjCTe2o23MYWw4+ifpNe1GINWDGvPBFuoOGWqC1EehsR7B7M+Jdm1Db2o5wdbX0RPZ1WfRn/0o7EtpirT3WczDYR224DYYjCNfWAc2tQEcH0EVpB9rkOFaFdD6EbKga8eZN6Nz9KBoefVHysRuINEj4mBTB91rfYvyKoiiKoiiKoqxl3NC9OIT3VAbn4A4JV3nIZNLI53II5AvgIqqBfB5B7ouEKOJmDCUSgZFAEOFgyDOOBDzjSMjOMBE3zhoxywZI/GYSuh9f4qpibGzUMLKO4M26VLF3uYjZuDs+JFc8AtS1Inz0BbQcfQnBzp3oTUdwfWgaGE8CqZz4EX9RkVgYqIoBkbCxsnJdEbu2iO1WaAiZ7WDYlESkM3Jwt3gknRLM+8e9fSKdHianMNQ7iBsj05iONqFu11HUPP4y0LYV4JtoIlU2Pwznj09RFEVRFEVRlDWNN4QvSgkVBvY0jDi/dtYH577LlsdF8YwfPCd6xawf++Ot2Tdh5UiEcXqaUVEUpRxPQ1UeHspuedPh2C6Ca31Y40gMqG0D9j2Ozsc+hartRzCUjePGnVFgbBqYSQK5GfGbkWj4xhhrBnGmkLxxy6EQyCNnjCWcGeLFbdYgIezU6Orlw/VAkYikL/nJStxjYxi4eQt9oxMINXei5+gLqH32i8CWQ3amCPPJxVaZfRe+HFM+RVEURVEURVHWHDJW9+wTFcftdHeai3kPg/EoW3GgmcM9FmPWIvGJg3vuaNbVYn8bFv3FM4zM8eAPLBg/yoZFDSMPHXJLF/K2J+Dd7b/D2dsYwwXX64gDte0I73oUW46+jMZthzCaCuF23ximhkeBZALIpYF8VqQgHZCJQP7cHBFrKsl7rwM2yZiH98yOES+IwD3vHOPLZYCpKUwNDGNkeByFeD26Dj6O2kNPAx27xFONeK+SbUjEC+eidviiVBRFURRFURRlHVCun3jj+aITDR/yFwxWNoC4dUGMscQ7tnqPNYBQb3HHjNU4cWuO7IKtFEUpRw0jDxvGOLGIsDegbYOzMRraEN1+CFuPPIeanv0YyVWhb3AKkwPjwHQayIhH81wfzSkBhCR+u5grJ6lxESQ5h6xIRjov8R/gbBImwIWOgsibWSouTYkknUZhdATjg+OYmBK36i50HX4etYeeATq2iNeozZuJXVEURVEURVGUhxlnrDCz0INW+Oh9gFtPJ7DmEmss4Z9x84wjZt8zhhjjSFG4KYgKwp9z5Zzz7JDz5VRwUjYIahh5KHGdSCUhsjUWWLn8wSqgvgvhXY9h6yPPI965C4l0CKO9I8gOjQPJNJDLeb0EOyOu98GZHEFvReg8QoWcnMmIG8U+esP4aRShccTOVBG3bBYYH8VEXy8mR6YQjjShZ/fjaOWaIlsOArEm8RcS74xfURRFURRFUZSHHaoJlLyoDPx9lGJ/66XOItvS3Vk3u5ndlhlFzLHs2HnuNk66kGJcPtw5t1U2FmoYeejgbb6QyCU3RhHv0BxzzZEWRA49ic2PPoeqjp0YS4Zwq28U+ckEkE5JD8FX1+RmwxS4nognphnZODlRjWuPFMQvZ5KEChnp3TjzJAnMJNB36w76hieQCNeiZttB1D71aaBrNxBultBVEk24GJeiKIqiKIqiKA8/1oRh//IF0SXoQJXA6S0LUDRoiF8bj+DC+vSe4jlFqYAaRh4mlnOnuwf0ODuDb30JVQM17YjvfwLbHnsRTVsPYTQZxPXbfUgPDwKphHjOSho0kDAgDRgihYgV2TczRORUNiidWYCP16SlL0qLwwwwNoSBK1dwu38Q2XgDOg89jppnXgE27wUiTRLerSni1jNRFEVRFEVRFGUjUeBjL3z83ugDlZUCa/jwjCDihVvqIGZfxD42EzCv6lWUpaKtZUMya011D8HkzUyNavlvRWTHEWx+7CW0bj+ARDaAgYFBJAf7gelxCcTHahiSHZWbMRKSuKyYTkm6owBnl9CIwgVcJ8cw2d+LkdEx1DZ3Yfdjz6L+yDNA904J2mjSZYzaHBVFURRFURRl40HNwuoo8uc9CuPwnoix+/ygZyf88GaGOG+zfmbd7YeizI9qohsSLlREQwiXU7XzNGxDkKNgDVDfDWx/FJsffQn1m/YiWYhjcHgSqcEhYHoSyKfEK2eOUPioDGeSSJyFECL5IKJ8iw1XhKaVZGwaI4Pj6J8WPw1d2PbIC4geeA7o2iXJ10v4siZY7M0URVEURVEURVnXLGFcT33EMtcoYqG5xGw8GMILJRvaP+xJv1h349PtuDDz4M4u7Et5WFHDyEbF9iCmAZQ0gkAECDUA9VuAvU9i85Hn0NCxDaksMDQwiNTgADAzBeST4plzTbLmOUDGEizw0RqJl0aRrMhkAjO9Qxgbm0GhpgWbDjyB2JEXgK59QJRrikStf4ZnFAxn+zHrriiKoiiKoijKQ4unkhQxhpFKiLtnHjHYcO6tNHT3SVmc9tD5XZil+FEeTtQw8jCxnDvZ9Rn+fsSjQKMEDSTVrcCR59B25EVE23dhJB3Gzf4RzIwMA4kJ+5iMBAwGCgjQuGEMHCJ8+0wyjfFb/bjeP4FkrAlt+55C3VOftTNFYg3iL2wnnPDxGxpEijBX2iUpiqIoiqIoykOBf6hfhv+U2Q/MPhJD3H75b6bW7+x54t+356wphWJmjXg6RtGPH3Gc9aFsRNQw8rCxnLu5Yq8gUbBVsPPgDBC+LWb/89j02Muo3rQfQzM53Lx9G5nhPiDNBVm97iafkTA5ICfb8XFMXLuBm/2jyNS0oPPA02g8+hmgfZe0uFrxH5OtSChqEguK2Gzz0yRujhRFURRFURRFeQjwVIZK+gcnjtPZGi+4b//MIqry500PsdugiPxzZok9R3c59rZmXzb2rDsflL2A+OGBdTK/y/qF+PeVDYcaRh5GvE5hQVkM4y8iUgdUdSK041HsOPoS2rcdQDIXRH//AJKDg8DMjHiUHoQtKZsGRkeRvNWLgYExRBo6sOPxF9B8+Dmgdbv4kbiCfCUvDSKMm6ubSEIl+fEyWOKmKIqiKIqiKMrDirNJmKfs/cci1AvyxhBicW4W6+r8lp7jsbh4cboTRX+kuCO4fb+bsmFQw4gyS0kv4SMQA+o6ENjxCHYcfQW1mw9jtNCAO8MzSA6PADMJ+1jN2DBGBkbQO5lDrq4bmx55ETUHnwc6twERGkQ8Q0ilhMzrgz3R3khRFEVRFEVRHnr8I/+KRhFvW+5WxNg6yn1480VMfN5baQKcMTLrowS/45yTykZBDSPKgti+QXqREN9WswnY9xR6Dr+EWMc+TGcjGB4YRmF4CBgdwljvLYxOJBCo7UD3wWdQ++jLQPc+INYk8YQlmpBIpSbneiMniqIoiqIoiqI87CymAZScN0YQy9w1Wv0+7cmiFz5CYx6j8Ywk5VR0VDYaahhRlkhYWks1UNWK6MFnsOXwC6hq24mxVBjXByZx88YAbsg2HW9Gx4EnUff0K0DXDiBSJ31Q2DzTp32OoiiKoiiKoigOn62jqCtw62SlmLVHFGUJqGFEqYzXExX7EmNk5aMwVUC8FfEDz2LX459Gfc8B3JkAboxmEW7qQc+hZ1D12AtA5w7xL34REQl50c3TxTkrblE8d0VRFEVRFEVRFEW5x6hhRFkeXDQ1WANUtwGbD6D7wLNo3nkUVV17se3oy6h79Hn7St5ALVCImFWm89LMOF9k6XNG1DKiKIqiKIqiKIqi3B/UMKJUpsQ2UW7Q4KyOMFDfhdCOJ9D+2OfQ/dRPovrgS0D7biBUJ36kaRUKCEpQviAraJqaGjwURVEURVEURVGUtYUaRpS5lNkvSswi7hxnjsQagJadqNvzHFof/SzQcRCItCCXj0ogPnYjFPJeBGxqahxRFEVRFEVRFEVR1hZqGNmozGefqGgU8Ry5MSIfQWk63A8DkdoqhGuqkQ+GkckFkOMqR3z7jHs9L/1za1Y/WoooiqIoiqIoiqIoyv1BDSMbmUVsEv6ZIqWzRso88jBvG1MkGECURhOHM4qUR64oiqIoiqIoiqIoawA1jCgVKTGEeFRyK9o7lmr/qBiJoiiKoiiKoiiKojwY1DCiVMRv5/CLoiiKoiiKoiiKojxMqGFEURRFURRFURRFUZQNixpGlJWjU0sURVEURVEURVGUdYoaRpSF4Zog5bIYS/WnKIqiKIqiKIqiKA8YNYwo8+OMG87Q4T/24z9ffk5RFEVRFEVRFEVR1jBqGFEWppIRRFEURXk48Ru5VVRU1o8oygYjsMCj+wW5Jwq8MczOEm4QXQZAEdQwslFhH7GYLMRS/VXCH1ZlfchiLNWfoij3H/+9vJgoirI+0XtZ2VAstqih3AT2f0l2EUUhCxtGTGuyu3Nw5/zn/W7loqwtXH+ykAgF2ZaLwW2Vh5+lXGv68fur1AdQFEVZNpVuJb+UsKgHRVHWFZXu6QrCTd47NPjOlYiiPOQUCmauiMVYRbThK0tjfsOIvw359is2raW0OedH5cHLUhFFl9PUyqWoALutolRisXa3nLaoKBsQ/+1DhSfnCfeduPOG4o6iPKS4Bq9SKt6m2Cf4z1H8lB8ryrqkYAwg5RTdaByhmL/KGJ3G4fQbJ8qGpLJhZE4LooNtWE7uDn8MKg9OLJXOLEeUjUOl6z+fLMRS/CiKUnpP+YVUclvXlBfoYZfVplIaK5HVplIadyukkvvDLHfBHL3uLuNRlLVMiWGjAsYoIm2/kgFFUSqxhDVGXM9ckI62YALMaYfOurZQAzXn5UPlwYswe1VXJote93Kcf5V1I+Y6C+6a+3+t9v9i7fwVmSeuoj+6KYoyB3efuFuH37uUkCdhT7hf/E52N5YLZBzXAcUOYQOxmmW+F/W31vO30WAdLiREtkGRkLctuvup5KYo65b5v+jMTBGfyId3RlEWprJhpNjOvN414G2LqtD8VFqTwgjPrVBWSqU4Ve5OSIlbpWteScrDqax5IZXcy6WEgPQTgawnOXNMP35DiqIoiyPdpvkKprJDKX4de/vFY+L1scX7zAQWWS4uzvshG5VKdXE3cq+olNbdiHLvcXXNr13e/At90eo1UTYIpqnLR9E4oihLICCNZW5rKXepNLDy+/GfX7DtrbBherMd7hq9MTykHldYlQatzo2F12YWuuylzYqjM+ef880o1k9li6yiKIT3CcXcJwvdcAKNH27dEf8aJLzPnBC3rcRC5+41/jxuBNzlXOSyLpl7UX+u/a0G9yp/G4nFyuvOuy37DTN7RLasezODxIcZSq/2RVGUhShvxP5jabAZ2SRERkTOTAziLz9+FycmhxDd2o321nZUx6pQyOURyBcQKuqCAU8tlMgC1viRlz9nCKHQfyadRnJkDKM37+Do9t343O5DOFrViFoJWSUSskPVyveE3icbjrmGkfLGO1+joD+ey8swLMgdijjmXQsrh+7lkS+ExOfSXqlBpBxXZLOplCdf2pVYcjh34PNbDHu3aZCVhCUMv0qq6ULJKA8JbC9scP5GJxee1944l5+z8I53Chpxvub6VBTFj+tWS2aDEO/moTHE3V+UrCc0inCAya3/XmNvP99954/ez3zuq818+VoJ9yvvd4PL22rl0V3n1apH5svJarDa+btfLDW/5fXkL6//XLk/Hq9mnTA+9gXcusfs3CN3YTnBr2l/3tyxotwXKt0ADjWMKGuI+Q0jvsZAp5K2YYKwp3WeOSRzLUsolLcy+hPxHxaRg5JjD3+Clc6vhKXEbfzIxxy/8+SX+P0uJaw5vwR/lVhpWGMY8Qe+SxZLS3kIcO3M317cPrdsS06IfDmJ5pYrhvP7cg3GhVcUZV54u/j7WLltaBRxRhC3TYlwUDkpLkPTk0jL97G5w7ywMnw0n/zurtRll7uZY3o3R/cWO5fMbk1OTcbvHsZSPqxZa6x27oJSaSustiLMW36V628183c/MKVfahVIwUrLxpZs2zRx0bgaMHdgMQHr1x6vDPYLBannSDiMumgM9YEYqiX+ajkXF3HrE5nvYUmPv2eW5ltR7iHlbdx/LI1SDSPKWqGyYUQaAtuJt2vsH9YGIkOwgjTfIM/KNjUJjA8B6Wk5xeEZPUoIRmn8C4zAJMFzdjN7UvDtKvcRGkaKnctdotduAyFtpby98L6mmwzEEBIJy/CrugGIyddNgEOxqGz5e5XtT+zEMvcN5IwoiqJUxPWvbmvuH/m6lQ0HkUkRDiSH8ykMTk1icHoSw8lpjKeTSMkX9qwiRnhkTQ9+yo8fDMwrc+LP88pyVj6sWWusdu5oeFhN7oVhZL3g2iBx7dDv5uC5Sn6XBL26oP5gK6kmiSeTzSAWjaEuFkd9NI5WUSZ7ahvRFqk2SmBMJOJJ2J8HRbnXlN8e/mM1jChriIqGkbw0BM/MYdQXrnItHuVDhmSpKRmZTQAzY8BYHxK9lxFKTiCfz4lIk5RGGAwylPi3/3bf25vdOmyrq/S96XK22t+pi8U7WyO8sbxdwfqfDbRweF/AIpUCzJ/GPcuf+AkEZn+7v1sY/TxJKA8RbC+80mwvps3IIdsdB88c8IZCIYTCYeQiNYg1dyPcvAmo65BRWLOMvmpsANdYuBCrgX0EHRRFqUjxhvOQW4YzRDg7hMaRcZGryTFcHh5E78QYhpMJTOQyyERDSJvby95fNhreg7PH8/Eg7kiTZsGb4cJd87FQLhenfFizljDXY5UrOii1t1pRMn92qezVYzXzd8+RjDK35TVQMp6Sk+48nWUkVnTgplJZnX/C8wGJ0O9GStJYLjL2TqdSiEWiiMl3ckTGeM2BKHbWNWNPczs2VdejWVLmTxYUNYwo95Xyxu4/lu8rNYwoa4VFDSNRfnCWSD4pPakMy4ZvYerqWfTfvoJgahyh1ARi+bT0yXlks1mRnFGUim3J7XgN2XzKPr8UvF1+evt2S2azNav8+798lkuldPxus8ymR4ppirdKX+3+PDvKq3Qx5ktjpfmrHJ7Qs3wpV8j7UjEhJd27j0FZT1jjiG1q7qKbgZ00RtfeMzIIy4RrEK1vQ/um3ajavAdo7JYz8tUT4G9U8u1j3lDDCNyycIqizMHeUrNb3ioiNIpMiUyI3CnM4LXjH+BWYhKBqpjcd/Vmm4+EkDHTs3zRyA7v4cUUcjsz9H4jOZN8LZK1ZbHc7+D7yarnzNRdpdHJ3cH8FccVq8Eq5+9+sdQ2VDJu9eqt+L3olZ2UjBU999VopyYGRm2TQzgYNI/KZFIpZEZkjD6RwL6Obhzp3Ixdtc1oET98vCZWKWlfFhVlVSlvb/5jNYwoa4i5hhGBDvxlikSy0lRzIgWR9BimPvoxBu5cQSSQRFNdNeKhgKg4Lgo2RNl4Dcl8Gcq+U6p4wNPiiwfGiQFc6PL2V/RV/HA+F8d8GZVEOHtQ4uxH8lfpnLnBZOvO+Y8rGUb8OL/l+MP6zy8Y23z5E1k4F6XQP69T8brcJQy9shiU9ULlVlxKVr7dZjIFjMhALIsY2rt3oOGxF4FaGkc4c0TioOYVcE87a+tZt7ADMddTe4FVx3+ruX2pYv5gQcNIv8i58X68dekcenOi/NRVIVZdjWA0ihwDhELit/Sa2L5+rV4ntqOl9DBLp8KwZs1QvAqrlUWJ0BipvcOVwvyZ+luj+TPMM65aO/jqr3jBizurCpNxSVl7aMBs+VUbyuaRGp9AYWwKu2oa8fTmHTja0Io68RVnICqEDOPP2r3JprLRcY3U4T9Ww4iyhqhoGCHF/jI3KS12FEgOoXDuQwzfPIdgPoH66iDCkbA0aFFw/G84KRuQWZyb79xijc3kajZrFTM5H2VFslHJp+RtsWTJfGn5w9LPonFVrAthqfnzjovnyXxxLgNGxdhWbBhhlr195WHGthYr88P2xMdr0pkcppOiogWiqGvfjep9zwKNW4FIVHyxr1DDyMIsXM/3qt4qpVpMyZ10DqY/8r4l2CfxcAl9k/Fmd5X58F8IX72nRThwPDs9ig/6buDMcD8yzfXGMBIORYzXggwC5xrreby2a71gDCP+gq+MeYY1awJzJSR7q3ZFzOVdXcNIcZCwGqxy/shavr73G9YEjaZ+2Afwz4zMczmkxydRP5HEvtomfGbvEWyXM1QKTRfOCPh17KrUNgC3oyirQ/kt6z9Ww4iyhvBZNGZhe3X9pflMzwB3bmLw1jVEC1nU11QjHK+W0FxYsazV8Atrjkhs3ObZYD3ha3298/5GXBTzJ6c9sR9LZ258ZW489ovnTsWuxN88Ih9z3Iz44pMP2atMxXBlx7Jj9t3WCOtwpeKP7y5FPiSPpW4qD7mwSS4g/OSaI/FYFPXVUYQLSfTfuih9xxVgckC++bhcJNFvmoVh/Swk9wC5gMbQWSa+i2vxH5vsyEGBD16KyHeDFfbtxscc7lHuHw78dVuOVBxPTUs93xoZwu2xEYTrauR7OGbW9HLfW3ONIoqiPOyYt8z4RZRBinQKCITDiNbWIB0NmcfuLg33YVLCGF2QGkB5lyHBFEVRNiqlhhF2iLYvtWPbnOzkMqLUjGHs+mUE0gnUxsIIi+JjZoowuHlHmAsrH6J4l4gziogY1Ypbboz3gniRYyrr5eKFKYoXdikinx7s8e2sCyeV9wQzoLRW9rl/FUN4+NwkjuJZN0BdQf4cxr+Xv1URbuSjzHVZQsy+fKg87CJtheKu+SIiahri0QDq4gGEslMYunMZGOsHsjO2MdsGzQ+lEq6O5pPV5m7iNJePH9Kf0XCenJLrm5RD+b6gccQOuw2Vor8XxXjo8FUSd1mjE+kkBqYmMCrbSF0NcnIJuK5XLpeV702tVUXZaLAXdsIBPV+WYMX+Wp7L51CIhFGoiWNCTlwc7MMocuatVuaReQYsh12JdieKomxASg0jXu/K5xNDcibEHQ56RwcwNtiL+uoYgiFxy9PY4QtgOlH58LtRqFWZJOx+IBDyhEqW80fcvk8YnRefZ08wv4rRkLKYGKOKhHMKnT/eopsXp/Eqwvy4c+UiH4vHx+Oy+PjJ43udv2WLXBN++tNVUZlfSCX3uSLNSxS0nDT6LKLRIJrrqzDafxOYGZXz3sKrpv9gw1bmsJRqWRNV513zXArJoRuYunkaGLkux+OSP65JlRaZ3zjC0MrSYU3yTTSjiWlM5TPIxMJIyXexWVNExPTn67RStSdYGfei/lYzTr2+DxYz7pS+OBSLIh8NY2B8FFOppHl0gf2KWZB5tqsudu3rtT9RFEVZCaWGER/mBDvGVALZiREUMgkEzS+BnDJNxYbn/T2nvzf1pGQ2Cd0cs3742tj5RD48/cnzK7kKBkOLin2yctagwnj88ZXE6aXldysXE1+FsJSim5eGPz7n917nb/kin2X5VVFZWJbSXsSP/JnXdZumZmeOcPHmzOSQnVVgTtj2r6wRlnspiv65k0FVZgS9n/wQtz9+A+i7AIRS0olx9oj5PdL4YvdlujDlrjAKjMjYTAIzgQIKtVXmlby5IO9LqWHvmtDovt5EPua4rVQ2FKYKK9fD3cqq3qz3In9KCayRokhf4D82XYPsBENhBCJhpAs5pPJZM1ukaA+hJyeKoigbGGooC0AjSEZ6zzRCouQE+fCi6TwD0qFyocWl9qR31+NSyWJasyw1DpueVeYYiw1n9pybJw7/fiX8YW38ZNaNf36K7sZ/OTaO8rBmzxeO4vDvl2LjUlG597IYfj92WBaQfiMUkCFYThRlziTxjIzKPCy3mlcLxrkEcYPuWeT7IZhCePI2+s6+g8H3vgtw9kh+Wtx5veXae18bpDSsshyoxMxkM0iJYpOLhlGIRszUzqDPKDn/98TaRduEotw9le4f9tPG6CFb9ghmoC87zp09szO2GuhJ4LETRVGUjcg8hhF2i+w6aRjJIyuHhZAMxEIh+4yNN/gq8M/s8mMxuTtMSJMeB308WBzP+73DZuqu07h3+XMRL0OYmWKGyo+Lrqsmi1EpDMXhvrCdW0HyyonkdC/3qzwo5CqIssbX8uYC7DciyHLZfHPx2OXM0+0oFteQ55N7AC+NEw6Y55NSPFde6nwaufE7GL/8AaY+fA24+Ylo8QMSIdeZzyBQ4F16z7K/YchmM+YX85B8F3NmFhc7DphZI9Y4oihrBdOfeDe96fofIK7vmU/WMy7/xfJ4lW3H5hZ+43KuMtceMb9vcuaNPWXD+y6Qi0dRFGUjMo+Gwl7S/dqXQ5adaDCEvIiMxkyvaftR14UuJivDxLLMaFae6vy4/KwkjdXP39Jj5C+L1j/37J855iDbd2y3zmdlMQ1hqbIIC8ZnNvavBMkzjSMmdNkp5f7jLldeupacDMVoGEEwihxHaW6UzM1GxlXSvDgP88nqURpzQa7b/FKaOvdoGJHviUAekUAO9cEkamZuY+jcOxjhYzV3zgOpUTnPBVkpc00ryhKQqvbuHOT5ukL5C4aCyHOtHnMkfxv9nlIePK4N+ralfcaDxb1pq1zc/bWeYf6NlJWFYyPnTqNIWISGkTVzURRlrbDeOwFl1ZjHMMIWwlMi0oHm+EwnR16+0dey2pAJ6+0rq8xC33CzpgTz6BNd5DoUeFnlmzJgxCo3PMsrbr9G+euuf7LlXLFzNO6FkLnu5hcOtkMeSXty4tolN8av+DG7y6I0LZVyWSqlfo3CJk72eiwnnoeU8uosPy7CGltIVgeXtN3afmIhXHZn/Ule2JkgJH1HCNXxGBpq44ghieun3sPo6WNA/2UgPQxkJ6U7Sc92KfMxJ5GSg43DPEU2LcBbV8TMHnEeF62itVyHayNv/jtsOTIflfxSHCy1X+4WM1KTCMISe1DEn4b9bpx18edjPiFuu1Q4GyEigwu+q5A5MOMMe6qIP42VymLMCbNABZv45LzZPgSwqEa8ArHL5YRN8wYrEWfkJvOXef4zivJQskAfoWws+J1aAXaK/IoTMVq0dKbmlyoPOea+FfnkF++CYkKZdrdW2x6zuJqyVCqFrSSztbeQ+DFfh0byMiqgmEvJNw3Jv5n4E+R5GkW4DFdWLpU1eFgTiudm9p37rJSmu1pC3JbMPW/2JP95PtYVDtsSFo0m1o/F1triuDAuvEplWYxSPxyoB+WaUPJU4KT/KM4YWEp0DxsLlZnnnPjgoWnf90hmkyw1ivDO8YuDvjiotm9CIexQwhKZqGSyDYdjqG5sQtemTtQFU7h18m2MfvA6cOsUkBkTSUh3I/3KfLemPxMG5tJvoFUqwetiFqWct46cO7drUYjbPhhMkyzP1hKlUnNeND7x4L+f/MqqH8azqEhANxvAGCa8cVfOzCgyDsaNfg1MaAFZyIhQDh/nYrxMPyZfzDSO8PEu3rU56e/53VxM25fGikQolqUC5Wm58tB9ITF+uV2nsJg0gFDMNZc/d0yDCM2oGakM7jujiaIoilLKPIYRwp5TBr3Sg/LLje9C56/xpvclbktvi4ngvCsrgbVYLo7SY3MkX4I0hNCklTODlaBsg+ImwycaFsSNX5Bm9ogxmHjCEIHiHJOFhaOOpUql8EUhbkt852SAVaDIQC+bzSGTly93yV1atjmeNv59GAeWg7IcvPRU5pH5cOf8/mQr/zSM0CjC61c8tdFYUrl5r7GObL05XCsuFWegtPfoyqUgPcMiwmsp22I+zT6RHBVCcnuHpc+IANEqoKEeO7pb0RzNYOz6KUx8+AOg94J4TUm/45VxSbj0lup/g7Kk6qGntSwPnrn32dJkuZhwUmTeUxH5Po6FwoiYt9WV4o5dOvMJDREcyFHCEh9jCkify7jDci4g35P87mQ1m69iX9hKshyyOX4TsxwBxGUvFgiZ9EMhyQffghKUMYdLW/ythiyluZT4L9uWi8O/v15h1RR7TFMg6eFly9kiszNGllSFPpbnW1EUZT2zgGFkFjNW55drha8O7TLXCrw2sypTQQYoeYTlyzCMrAy6kvLtmEIU6UI1JpIhTKVCSGQjSOUjSItCkw2KPwlnf5/lL8F2qGV/d7ifsEXNFfOLqGSkIAOtfDCKTCCODCJIZu2vUvYXEOd/NSnNx3LjrxS6kjwsVCqLNYo8bCVdBvbWrCwGDlXtDC3ziltPAgsKFzSt5L76EsyLSHoh2UbkOGLeVOaEPYb0FMGIlCIiezEgWoNgSxva21tF6cti7M5FjJ98E+g7A8zckWJOyChdwvlH6N7WGmopdGAF8Tdw9kXFylI2OK4nuVu51zANNm33a325sDXHxUM8KffS1Axik0lUpeXusV9ics9ZQySPrMvCFNPjfj6PQDaHcFpkOonYdBrxbEG++eW7nOcYYJXhCCGUkzwnMyhMJRBIJE36IRkzEn56RVPuK3JlyutdLgZH8oqiKEpllmQYsZ3p/JgvvkVEuQfwW8988fFjVvgbL40b+UAYeSosoQgmUxnc6B3BibPXcezDc3jrvVP48JOLuDkwhpl8EKmCiAxk0jJ4srMwrGHkvmPK4281dssZLaFIWETKMpPC1dsDOH/lJsYmE8jyFynjySerwnwtdz73UoolkPwsJMaP3axrTBl8ZfLzMJRvpbAOigoMHYrQKOItUGq2cpxfgpgFTe+1MB2Xnrctpp22blkR0+dIX1OIyn5EtL4qRJob0dlci6rCFHovfICpE28AvaeA5LDEwRmI4tWJfEjPI5I1Wz5eYFc+ooHXzlUprTNlI7IabeCu4mCfVi4VcO2UUskoQqHRg4aRseu3ceWDE7h1/BSyo+MIe4YEBi4aRzynhTCP40i8FBqgA+ksUiNjuPjBcdw6dVZut1HE5B4yM0lskMWhx3KpAF8VzVFCamoavZev4uQ776H30lXkJqcRND+muR8tKlAe/3z+VoIv3nsR/XrE/EahKIqiVCT0LwVvvzJTA5gZvIXE2ACa6mIIcV0KY4a2XzNzLNLrlNUuhquhxWQl2Gd3+asAxXtdo/xzUVIzSV7ccsGISAxXbw3hjTffx199+w28fewjvPveWVy4eApVtXVo7+7BVCKDsbEEMhkZkHE6boivgjSpMMr7QjGd4o73DS7HgWAYgaoaFPIhnLpwHd954xjeevsYtvRsQlN9HWKRsFHNTIOU/NuQsyOA5ZfBha00imBsy4hxEa/u9PLzuAbxCkHzHMkXghidmEFtYwfi7duA2g5bpfT3UBR46bC4LDrFmBzzSSA9JjIimsWw3U+Ny5ZCd7dfJma9jgXO3wvJcOvS9LZ0S0reB64jceMiculpVFfLd0RNtRRWSigdSCAcgRxhYmIKd+70oTYUQayuEaipl/Pih/4ooj3x1jW1JMduGUnWk2sq5vQGJS8VkZbt5ZEB9OdSmK6KiJutHdtDs97c/jpkidleaem8mpojvCnNdh6K37W+Pz+27Vrcrvkqkq1pyQzvSTwfQE0OeOtb38Gxv/wWbly6gq3btqGmrQWZkPhxeRG/7CvKkqoI/TFuPsqSn0ni5tkL+MF//D3cvH4LDc1N6Ni8Se5FGhmXNl9gsfL64eM7Y5LOB6/9AB/90R9jUtLZvGULapsakZYmmsvligYUP8tJowTxxrCsHxOHJw7uuaNiGvP4ncMCp9YTxXLKP2fUEq5BU0hnEJ5K4lBnD9ojXCjbPDBv8cpeuQoekopR1iZsp7LJiMyIDKYSON93G/3pBEKNdaiprkFExhLG8CvtmI8PWtjOi7uG8h6O/vPSB2WlX0xOTKKrqQU7W9rRJe3f+xnHGKENlZp5JTfloSZQcK/6qIic6j2FkTNvY/DaJ9jeVY9oSJqufMlxRgEboG2UC0SxTljVtr/c6lhC4vZmrxQxA5cKjSJZuTB8vXI2WIW+sSS+8d/+DK+/8QlGJ4EdW8JoqYuirjqMZ557Hp3dm/Cdv/k2zp66jeef2oWf+MyzeOTADkRCkmI6JY2EXdbqsJSqsdVRWt4CQsgVwqIchPGdt07gD/78u7h8PoH/+R9/Hi89/SjaG6sRKaSMT/sokcQiTZut28Y3uy3FpVGaXql7ObaeF6MYwyJe3a+Ci8e4VrEFMG3UK0TQe3wmmwvjyq0RdGw/goZDLwGdR2YrZP0WeEXw4ZMQ1dzpfvSdfg/ZweuoSY8hn05KDUqlUImQ9rvQIN46V2qb9w6TmmmsNl1mIZrPIZLL4vaVS+KQRUdnC+IdrfYk20BWSpsRSWZw6eptpBDHtkPPoOboy0D7DmkodeI3buJjGBM7w4oYRcoVkW4PO66spGw/K32xdN149dIpnEyPY6CpCllRQFkxAVdhbC/yt+BX+hrE5Fayv5Rcr1ozKEtspfGWl2GhstRlCqidTOFP//3v4sqrrwGNzfilf/Zb6HjqEYzF5ZqaR154PeV/nvvfD9Oi8H6pYc8yOo7Tbx7Dm//f/w3Yuh2v/K2fxyNfeAVJiTotPnP2F4+5mPZjqdSGmBfTx3un6IducRlnDB0/ix//4Z+h/8//HI0/9zX8zK/9LTTs3IphUXU4emBLLSofK8REIxmdLzqWwX2nOoyb3Z0DvTrvvJXmi3c94MrivjtYnoz3uCNnKeWmphHvG8UvPvoMDlU3op7uPGkCFTdlVHZVlGXBZuTHfyydF40iCZERkTMTg/jLj9/FickhRLd2o721HdWxKrNeHddMCknbtrCdcyuRyU3PPilP869sndB/Jp1GcmQMozfv4Oj23fjc7kM4WtWIWglZJcKlzwyVmrk2/Q1HuRF/g8M7QMR8O3r7y4E3evnNvxSWG8770qPYLLoIKGauiOzaCLP5AK5eH8DxT65iIgk88uRu/Pr/7TfxP/zm/4i/+3f+LvYfOIzBkUmcOnsb8o8Tpy/hdt8wcpwG66b23hdcfXu/kvmOrYiyyFkjgYicjyCdD1PXki/9sByHxQu3NqyZhm86SBv0fpZiccrLZYV/lZnrV1nf2E5XGm9yFNO9FzBy8QOMnnsbU5ffx6TIBOUK5QMj43JcKu9h7NK7InY7evH+yNjFYxi7IGKOj0m+j2Hg8ocYvnVOOppJxKJBhKJRGWXwfjSqkIhs5b5FNI5tm7rQEA2g9+IJjL/9beA2w02JX+8OlRuWrZuhivaXtXXzKg8Q2/vZuUQlIm1kueLvTSkrxcTDeL242YbnE/5yH87JtxgNhlyLQyQqx275VX5vuZkdlKXg0ufbYTjID2flI51FRIT7XATb5K2oUFTAUyQoRcS7G2sYMQ7eKS8ulonriYRpBOWMBEkvyjy4aBZI8n7iK5WiKIqiVITfaYof/7fncr5JV+Nbl3GI+MclczCDE7s1+2bLYAyYk8FPVi5qVgZZfAeNDK9kwNV7ewgDA1OIx4H9B/fj6ScfxZG9O3Bk52Zsa2/ApuYqHNrdhv2dwN4dm9DeVG8GWFwg0Sgo9xB/9NawQXEzkry1Urz9gChbQU9CgbCZiU9jSdEowiow8cjAUjJuB5erX4BiGt52KczxX5Br58Rz4natirJ6mPpkYxVlIpCYQT6VQFi0mYbGWtQ1NYj8/9n77yC7kiy9E/yejhdaK8iAlgmRWlVmZVVmqazqalVNNps9JLtnpimGtJmdP3ZnZ824u7Y2NjSbsd1ZMTacIafJZrPZzerq0iqrKquyUmelQiaAhEjoCITW4um33+f33hcvHl4AASCQBUScX+DgKr/ufv369XP8PL9+W1BPaWhpRn1zpTShjkuJtuuavbCfjLQ6qWvmUuky/YYm5qexHu1dnWhub0M0qd9f+GCGJHKKuIcUGn4WbW1Ba1cbr30e/RfexcT7LwIDx4GFq9w3y/Myrs1xBJUuWK70QTPWHKoCgRNEvxS6r55Qor4E29JZ1Zwg1cSF9eMOqlgAD12Lr2+XiI/WnPhxBvFLnBOEbXy56DoED7n/nY4qRenprbz0F8XTX9cXpzG5qrQFk/DgM6g8uYnzFXSZkSKlvU6BKqwXr/6knTS/lxNmcNE5EqzrfG/J4J6sFF1wpawYL9Xyv6owTs9GCsIshlPZOPG3S+VmGIZhrFsCXbruWarTlyrQTxLPHNHfYp4W81WBPrnrfxLPy7G63uxYOOeI5xgJcdfMdArZTAh19Q1obWfHJhlDODuPeHYODdEcdm7qwFc//zT+4GuP40vPPYMdWzbRqKN5pl+Alk18lXBG2CJLHSIRb51GjcQZetxeFO4KaRQJy6HIcIzKiYxKnilDR7HfCYNHcd6sY2RRFjPkrS1r1nkEF2GW29pBlYcSz+eRjIbR0lKP5k09aN+0AR2bNnK5Ca2SjRvRxu02LTducMt2J5u4vsktPzFhfto3bWb+JJvQwfy0Mr/1Pd2o6+1BTVsbQjVJr77y+dTzCn0aXK98RDVqJIra1kZ0tNciXpzEpVOvY/SDXwIDJ70JWUMaTOs5RoIq7z3kvhjriqC9VOvoHA7BkrpADpLAMcKa5SRwjtxQXFwUrqtjLJZUrwqdpE61+yQu9Ww47K9TFh0FXjzBhKmBYyRwhMQYQp+zjTvxP6HLczQRq1bK67m+xiT9laPIOeJ9nen6oiC6HqWpaLTXi08RMg7pcoXT9jIoDncKRdemNf3pmiO0M/Tp3bDmHZOtIWEQF9YXL7RwqV8fXT8lKMdyCZwY18Odq/vg8sJzyh03fi4UR5BGKS13jraVfy2D/C/mfAW5NwzDMNYw0guGQyqRPZVynSzNySLyOur69K0+E5tECrWYLyYxV/SWem8+G47ToJHJFeBMFUqUxk0c+TDDhRgedVjgeYojx7iKoQTT0agHzwng/f7jdeyzPH+hGMdcIc7wSWTCdS6t+UIUc9kw8sUaJ1keyzL+XETxxV1cbpQFLylLSbGvUYjVIJKopXETQy5PoyvvXas+71dfm8SDDz6Av/MHfxf3P/AgGpuakM/lkcvp/WD9qbsSYX69z+SmmeZCIcl8cMn1dLgWmUgd81fr5YNhCgzrXnEpsgz8T/96ojL1RNeqfOaY32w4xngSmOe5c378aZZTlmWWV3w0L4uyIJkZXVdJFA8NHR0KDEBXjvoEMctWZb7A8plluc0w3jmWZwpxdy26p55JrfyozMMsS32+uMZdS4bnqtyVlwXeZ92zFO9BNsxy1/1SdlhHNMltgenlmUaOYZRvhfeugeFRz+OakFJTPXnlQRON65VlsgyuHmrpLYw1Qj6HUEETExYRi7IexFkX9SpKQp+85dJJbHEZKxM5Gj5RYb11jlhftB3zjylvNcxzgvnUfnY+HM4xwmeRHSro+rSbxxvbWtHe041wIYOz772CsWMvAcOn+DCN8/g8w2XdUyHU9vAxN1YBlePdKNXatdIxog5/jDorns4iMZ9BU7qAlkwRTVRsyekFhEemUByaQHhsCjWzKTeHR2M+hIZCCPWZAmpmFhAZmUSEYRJjM9xmS679PM7a6qE2lqKsxJie5mOoyxXRkM6jcT6LJkrLfA7NCwU0Kf5CGLVyejCsHCFO7/Bk5dnFwf91XJOs1jKOugVqBua3Tus8v5bxKw158svPFTpfccb8MLU5oJ7nNsxl3NwktbMU5qc2w+tn/AmF5Vk6TygeF5euiSvu9Rh/26XjB3TpSHTd3NAywmc2ziP1PNJEPdXEtJvTRTQz/SZef9MC88Gyq2X5JhiRnFHenxefEvKjL6H7p1dranU/GF8j718Dy6Oe16Blo+LWPpUL04wzPFsVF49eAdK5SZ6r+1HPcPUL1KjBuTqPdaGe+alhftgS8Xwvb4qrgfsbmd8GlZ/y7s7RNRRRw7JT/t31K6OGYRjGumeFX6W5vMa/SiOzgdfFpXc5MuK5plmQucc5GdhxL0a9jv9EChiZyWB0Lu8+c1uMxN1nZN2IjSKNep0bYyeBx/LhqHNK5OP1GE2HcHU6hykaGJojI6JZkdUJIpo5PPjTMI8cO/kzWaYzm8Pg+BzCNY2I1bY4J8fA8BjOXujH+cvDGBiaxHQqh0I0wbiSzgiKKM1wBOlcAVcn0njp7dM4drYf0UQUvRu60d3aiIWJEcRC7JTFEkyriLHJGQwMjrl5EqPsqEV5n0Nc5tlxc/N1ROMoxmu5rMX4bBaj01lMzKWRomkRr29BtK6ZFkkdQoxPzheN4tAQXv0S5erKkoqibZlkIbBryPJh3IlapEM1GE+FMDg2j5l5pllMIBpPspwSyOsdbMYpq+7M5SG8e/IcRkfn8eRj+9G3uQe1ccaZV6dKxl8UoUgN71e9c25MZ0IYmk7znqUxm8qyhKNIJplXZxjTKJJDpZAD7SUs0LQqxBsRTtQjSxNxjPd5jOfSFkU2lECI91HzKBSLDFzMubLWr2kFzW8drkMqF8cUDbBRnjfJe5crJhFLNLHvqA8m8j7n8s74LJmTrCNacMWXSnRQ5eVt3fX4+ZTbS5S+StNS9lWaxUDrF00UPDeC1KXT0FdemupooNfXsUzYJdCz48J4bZLEe/c/2KLoefrEhAlyyUfPE1bZYF3HtHCZIy7H3qrbz0dMueefC8VoWOujUSRq69HS3ITZ0SFMXL3IjkwWydYG9pooCssOjWt3lb63x49hfXK7X6UJ7tVdKcSvMo6gjuuYdKk6vPkp6qePzmLm0gC6YknX4Z29PID3f/kq/uZP/x3e/Pb3cPrDk4izfd3euwHNbN/r2DbPXLmKd3/2S3zrf/8zhvkBBhlHKJtDc2MTGln/9Hl6TWyrxJSm5spIsBKrEx+lfksPjGDs9DlMnrmIWaadHpt0zoo2nq+JAPM8P5vPI8tnVSMp3PPCB6CeadfzQcmOT2H044sYO38J41cGMDsyhsjsAnprG3Dmnfdw+fQp6s0EDj39OOo29WBOHgHGKcdIDaWJ7UEN9ft8/yDGpfPOnncTCGanppGgHqmvqUWM+kd5zzEf0mfZVBrDTO/Sy68h0tCELYf2o3P3duSjEepb6lWVK8MrDVf8Ls9eWev8OFWb8h6l0lsYHME48z/KMhg6eRqZ4XHEeD/qaqnXaPPINtAX7OavjuDiseOYPnkS9Qf2Y9+RQ4i3NmOOtow+Q1xfjKCJseuLKCmGHT93EeMXLmPywhXMM43w9LxzyNTV1jLOgrOH3NdU0lnUsj1s5DXqfqQYdoLXNnTqnLu3qdFJRNI5lkONK3e1L26UDkX3MD6fxgTzP8G0dP8mL/VjgfZTnPcuRj0erkmwPaMdwnN5yprBGxHDC+I/+yqNcdejesqFxozaV2mMXzf2VRqH8k9rgNcS0ggHKnBvI4yM3nmPyHkQQf/INF568z2cvTSIsYkpdoLzqOFT1dvRiIeP7Mf+7b3obkogRqOoWIwiHE1imor9Ag2B90+dx/unL2JoYpaGQh7NNCw2dbbgiQcOom9DJ+rrfKcTzd9QKIcwjY4z/dP4xVsn8e57J/ClL34ZXZ1dOHv6Q7z5xi8x0D+GdMrLektbEgcP34fnn3samzuakIwUMDEzhQ9OHMff/PRdvHpyHGeuppGgBtzQU4+9G5uxkX2w559+GLv378fU7Cx+9JOf491jp/Dpp5/B4/fvxcaOWhp+aUZPA4LGw0wmzOsYxwfHz+LD42cwMTnHI3nUNdSho6sTSRk0uSz7e3NoSsaxf8dWHNqzw70m4DV5ksV6oo5SnpYIrxYp1qUTNJQ+PHURpy7QAByZRCwfRkdzC3bv2Ij9+/qwbWMPWmppxNDY+d4r7+Nff+MFnDo5gv/Tf/Vb+PRjR9DZGEaEHcyQG7qfxOR8Dh9dHMK7H53H6XMX2DmfcaNkGhIRbOhowYEdfXj6oQcYZ5zlzi5HcQELvGfpSKNzfJ09ew7H3v8Q589fRCaddg6s5tYWbNmyGYf292Ern4X6eIHnxqB5TrK5OE6fvYo33uI5/TT45ueQpQHeVNeEnX3bcPTANuze3oOGGt4EOc9cp9dH7zu5VwgkAeWtcfm6yvBue96C/Cwal8FXafLuqzQT6Np2Hxr3+1+lMXirp4GhjzDyi28iNX4WvU2sS52dLLgaN9LJlWVZ0+ytLm5rOPgnw+K9XUTrFFdvBW+6u/HezVfnPMxt/bkZ4v1zvVFSi+EiOXZ0hvsx0n8FC/EGdGzfh5b7n2GDup/PcDtDJPlEeJ0+v0Ve21QWcQDXb+erNG6Lh5fuvTsJ8qilLkuvysgJMnLmHH74F1/H1NnzeP4zz7Hdpc44fgIXLlxAdmKC1rSc4jyppxePfOoJfP7Lz+PUmdN465XXcPaDD4FxfV46B6TYuHd3YPenHsNnfu+3Ee1px1xctozSLCKeK6KOwS5/eBIn3/gVLnxwArNDIzxXDm2WbSLmXiE7zPP3PfoQIi2NSMfCmNOPCGzz5PTWV1oS7HyOsvP+2k9f9NKfp7mvkVTsjDfXNeCRfQdw7sPjOH3sfYTa2/AH/8f/Cl2PHcVojJqRNge1CmqZl9n+QXz48uv46M13MMnOPS18Pgx8jmriaN+xDfc98hAOUqLNTUgxD3pVZ462ycmXXsMv/7v/AbGejXjy7/4uDnz5OWSTMaT0Qwez4V4pCgqb+SoUitzW+RE3mmX41Md47xev4PQHx7EwOsp0GTjDgmGdq9uyATseOoqjTz+JZEcrYok4Rt8+jpf+7K9w+RvfQOff/hp+6x/8IRp2bMFgKItYroDkfAZXPjiJ0+8ew6UTpzA3NOylnaHuZbnWNDWjd/cOPPnVL6GlbzNAXT/PvEZY7s2ROAZOn8WxV9/AqXfex/zYGO+jvkBHkgnUdneh79ABPPL5zyLR2oyEfqjIZDEzMIQ3fvgCzvMezk/y/muUbJ7XEIsiSZtlywOHsPPxh7B5904scL9eX7rX8eqxipQtgeor77V9lca4K1A1Kqd8m02anCL2VRrjbuDWR4z4FbNUP+9pgouQWekZ73o9ws3SwY7v9EIRJ88O4Hs/eQkvvPgazl0cxuTkNOZmZzA9PoOBS6OYmriIeirpTnZuIol65KhupuYLeOuD0+68F19+A/39I5ilgp6dmsbY0DguXezHpcv9tDdoBDXwIW1scu4DZSESjePK4Axee/MEXvzFeUSjBVy4eBkXzp9FNj2PjRt60EKjbHhkCh9fyGFotB8N9Y3Ytnkzaqj4Z+fmuf8cXvnVcfSP5TFDe1BXFi7SEMlMo6Y4jz3bt6CzdyNGpubwvR//HL98YwYbNrEjv20TuppraQvlEYrqCzBhHDtxAd9/4VX84pdv4Er/KOOfxQyV7NWhCZz46ApOnDqPcxcu4dKFqyyLq2hqqMV2GjgaZV9kB6rgd6JC7ufmCLdjyBZjmJzL45U3P8SPGPev3j6GgSujSM/OYoFlO0KD9Gr/x5hj49jZ1oK25mbacBE3YuS9kx9jZHQejz6yA1s2d6EuEWbjRqOHVzk4PI6f//JVltsv8d77H+LqwDhSLs45jI3O4uLlEZw7dxY1yTo0Mc7a2hgiEb02FME07a3X3zmOn/zk53iD+Rodm0Ga5T07M4PhwWFcuXgeo4MD2EDjur5BI2TqMDmbxfsnz+Pr3/ohXnvnGC4PjmOa5TM7O89rGMflix8jszCN1qYGbOB9k4Hm/T6pxlzlIvG3SyzWybsB5UJ59pbVxMt7+T5dT5H3enI6hfqWbiS6ghEj7lAQaH3iRoyMYv7iSWQXxlFfQ2VfV8cDMT4b7PCWV4VrYCvFhveT+QvuZ7X1yr/FfV5IH3evvVFS5fv1ClGUnbUELzedTlHHTNIyyiBZ20BrnWWhUVbFODuKcsCXxbcarHJ0d5rbHTGy3O67jSXZ1CWx7mjEwBTb3nd//FPgzXcwMMm2eJJtejyKvoP7sPHgfjTv2I5ROR/OnKXeHOTJYbz15psYm55Cx7at2P3AUWzavQtDbJcLFy9SD4yjrqMdvX1bICWldGRAx1JZXH7/OF753g9x7vU3kZkYR21PD7bt2Y2axgZMTU1i7tw5fHz+gmu6u1rbqLvrkY/IGQjURWKILmRwgXrgle/8ABd/8RLAjnxo40b0bN+G+vY2pFMpXLlwgXbDZYDxhanbDj72EOo3diPNW6pXR2K5POaHRvHTb3wTH/7iZaQG+tl21qJr1w60bN5Am2Qe85evYID2g5wxvdT7Yer9GNez6TTGLl3BRerAUGMjNh/aj47d21GIUu+qs+AVrftPHWfnZOV+92pMOutGVfzwr76Bj3/+S+RGhoHmJmxk2bVt6KW+nkV2Ygyj0RC27NqJuuZGN2Jl4eoILh07jqmTJ1B38AD2HjnknBSzLKRiLoeRK1fxsx+/gP5330WW9wQ8r2PndiTaW5FipyV3+TImzpzBXDRK3dqDpqYm54TRl24yw2N45fs/xjGWZXZoGHUbN6BzWx+KdUlk5uaQZR5H0gvYceggEnW1SLK+zAyP4s2f/RwffvM7yLJDVNPZwXO2uPTmM2nkhq9ilDeseUM3Nm7djGxBNooKZW1gI0aMewrVUy5sxIhxN3BTjpFWOUbczwysKUHDu2bQtQTKRJ52f+6LUBwnz/bj+y+8hh/89Jibs6NvRzf27d2OXTs2o7eTRnxunJJFV1cnNm3eglhNE9LFBN776AK+86Of42evsGPMJ/7IfbtwYM9O9G3eiJamOqTSGfzqnQmMjI/QuKKhQIMgmaxhLorOATAwsoD3j1/G2x8NYZblPz0zj+6udjzx2IP4zDPP4NChw4jEwhgYuojztLHSCxM4et9BNNBgKBQLyDJP2bBGexQxPDGLpnrg4P7NeOzofuzr24i92/vQ1NGNocl5/PyVX+GjwQz27d6AA7v7aPDVumHCoUgcF/tH8L0XXsEPfvIhZucLOHxoL/bt24vNW7ehtq4Bo8z/GaavH8Q622PYQsNt66YebN3Sw8aMzZSMI0pYf+woh8NxFMM1mJjN4r3j5/CX3/gxPjgxhJpYDPtpbOkadmzbTDswgkxqmmdlud2Hbho3mmw1cIzoVZqHH9nuHCP1iRgiRc8xMnB1FC/+/GVcuDyBhsYk9u/dxnLfjp1bN6KRBtnEzCw+PJXDxMQl9NDI6upoQDKh15fCOHNpFH/9nRfwzruX1S/DQw+yrPZuxcYNzahjGum5FKZoLO8/sBttHR20Kupw9tIIvvn9n+L7PzmPREMIO/awbA9sYp430v5LIjU/x/ij2Njbja1btzpD0XMkUBWElOegVS7Hq4+LlK9/8gSOj+p4x5bkNgheiLC8U2ho6Ua8Q46RTv8A+fVe0q8XOUZmRzB34SPnGKmrKSJK5a9XaTQg/nqo8+smEGQZB7XkzonSKlsv/VXuW1wPjpTE6YngmFa9fWH1LNnBknOkjruKs9OYGNEw9xDigXMkyvZQdcmd6p9/uyiaVYrqk2K9OEZEKau6JC7q+UwsjE3gg9feBD46S52QRUPfJhz+7NN4+stfxC52wrfv24PC3DyunDwNnL+ICxOTbp6sfQ/dj0999XkcffwR7Nq715XR+Sv9wKUrmK+J4+CDDyBcW0OtAeSzWSwMjuJnf/U3GHrxZe4povfhB/H5r3wZT33uWWzfuwdN1NOjjDv93jFcYRy9Pb1o7upAkXo7TH3ZRH05dPa8c4r0/+inbkREyyMP4bNf+RI+9dlnsO/Qfehoa8PkyCgm+6+AygTFtlbc99jDaNjYjQwffb3moVd2PnrjVzj2p39GxZ5D+6EDeOhzn8WnPv9ZHGKeW9rbMDE6gZkTp3Fx4Cr2Hj5M3VOPGnYe0uwADF+8jIsvvwYEjpFd21H0HSMBpTUWspsHJFf0Rlm88CLO/+XXGSCEjgfux5Nf+jyefO6z2H//USTaWzBXX4uGznb07d5Ju6UB8UgE8wPeqzRTJ09e6xjh9UyPjuHsqVPIx+PYzrw++umn8fCnP4V9Rw+jt6sbU7PzmPvgQ4wPj2LD1j509vYgwvsS4b2+8O4HeOkb3waGR9B56BB+82u/i4ef/hS27t2N2o52ZPVaT1MDdjFdOami2TwufXQav/yrv+YDcwFb76e99OUv4ZHnPoOdhw6iiXp4PBZBA+21jdu2oqOnh7rfHCPBg1e9GNZQ4Rh3H6qnXJhjxLgbuLkRI41UVO51D9aUUm1cC+haPHGXxf/0q60mPx0an8V3f/RL/M333keOl/63fu9Z/O3f+0187jOfwiNHD+L+g3tch/vIffuwe+cutLa0smMTY6c/g7/+9o/w0isfubkSf+ern8bf//3fwbNPPoxHHziEwwf2YMOGjdTbJ3Hy7CxSmVF0dHew47yBD2nGzVU4NJ7CiVNXcOzMVeRTRTzxxGH85vOfxZMP34em+iSaGuvRQcNAHc8TZ/sxNrqARx/ci862ZiTratDe2YLdB45gdDqNk6fPoLM1ia9+6Tn8yX/y+3hw3y50sMEJx2txdXwGr/3qPZy9msLh/VtwaE8fuloSKMgxEk3gl6++hR/85HUMjgGfeeYo/rN/8Ad46rEH8MD9h3Fw/150dHbig2PH0NPbiM8/9wx+g2nsoOFamwizAWPH3+/BOccI/0KxJHJUx8fPXsa/+8u/wSvHJtG3qYnX9hz+1u98Cc9++nE8yLLdv3cHdu/YjD27+7Bv9w4kWZBqv85cGsT7bsTIAh57ZCe2be5BYyKGWIGx0khLJGqcMbB77zY8S2Pyi5//HB6hMfnggw9h554DiCTrcOr0cZy5mMeG3lqm3YO25nqksmG88tZxfOeH77ja8IXPfwZ//Ed/iIfu34/DB3fhPhrG+7ZvQx8N2AO7d6GloQnz6TzeO34a3/j2K65Rf/43Poff/q2v4NlnnsJjDzzgztmzbQuXO1gmG1CnCSqZT+dokNHI2qKmXOktxauPi/LrxctBoD2uT3lui4UIJlk/NcdIvLPPHCMBzjEyirmLnmOkQY4Rf46RpZM4L8UrMo1r8zrBd/5PqQXLSinfH6wv/SvfUwrJhbdHuoTCZzbM56I2EsL8/AIG+q+ilm1voq6R9aWZlrtMF53KRnExmlsXESzvEdaTY0QE2VWHXZNozrHD/OHrbwJnz6P3yFE8xTb2wKefQKih1s2dEU8mkJuaxeDFK1g4e5Z1JopPfeXLeOQLz6J5+2YUImHUJJNIsmM+cPkKps+cx1xNAkeefoIJ1FDfhrEwM4uP3z2Gk3/2F7TO09j62Wfwpd//GnYePYSwnAEdbdi6bRva2tvw/oWLwDvvYqGhAe2bN6KhpwNhGgiacPXlH/4Yp370E2BiCj1PPo7f/eO/j40H9iLZ2oK6thZs29aH7Zs248qVfkz29zP9Whx68jE0046gCkJsIYuhU2fxI3Xs2cHf9+xz+MrXfhf3P/U4mlpbkaxNYtvWPrQmajF05Spm338P9Xuozzf0or6uDgvz8xjU6M1X5Bhpco6RrjLHiFrxoCV35ZwvIME2Jzwzj7NvvoM3//WfAizvnV/8Iq//97D/yUfcaJUQbYreHX3oO7gfW/bsREtnh/s1JMpz568O+yNGrnWMhPncdrS2oW/rVjz40EN45NFHsWvfHkT5zMte2tGzAa3xGrx74iRAO6V2+3Z0a3QH7ZhCOoN3f/5LXJWTp6sbX3z+eXzqmWfYVtaitacbfbt2Ys99B9BHPStnTYJlo9dmPnjrbQz/4EdAawd++3d/D/ezfBu7O1HT1ICNO7djy95d2HVgH3o2bOA1hGmPmGMkeOiqF8MaKhzj7kP1lAtzjBh3A7KsVox7d9lvZNcaniKR4e09Ba6rGo7hNRoKr775PhZolT7wwB522p/Glu5WxHJzfIIn0BArYP/2LTiydzc2UjHrnehsJocPTp7BW+9/4F5rfviB3fgNdrLbkuzQzI8iRGlN5HBoz1b81m8+j66eEM5eGMOv3n/fvYLhXmFRM8GlXu3Vg/vgA1vwuWefws7tGxHKsbEosPnIzaC1Sa/vtLL/EKVyB6ap9DI5TVzGGHivctk08mxcwux/R4tZRPIZ9skWkE/NsxViM6QE3D9NhMoouZ7nlkacuAMsj4Grgxif1FwmwNEj96GtMYFwZhKF+RE06Tr2bse+3b0YGJjG1YFBxGl8NjTW097g+X7H30NNltcZ6h8cxmtvv4vX3p1ASy3w7HOfwaeeuB/drVEsTF9BLjWG5voI9uzajAN7t9F2peEWUrn4ZcOYdKeUhHx1YV6HZrDX8PyWxlo889Sj+MynH8POvl7EIwV20LO83CzaeI/2HzqIrTs3uAZ4bHoBLDJW61rawmE3d0qG283NcWzatAVNjY1sVNOMP4We1iQePNiHZx45gi52YuPsreTmU5ienARtahplQGd3D5qb2ljONEJTGTTEIzi8rw8Hdm9BWwObYd67kBvZ4pWDPsfohFuGUU75e7JBfRdS9KV1X9SQ3y0S5EkEy3J0Od51MXRRc+5Q2GagvREbN3ehuaaI/hO/wtC7rwBXzrCdYlur5yWIeDXEuKuR4evqE+uJRJ13deo0v8bmXTvQ3bcFhdoaTFGfzVEnZNnpb2XHt7u3l1Ulj9imTdjNDnxTVwemCznMU1Es6MFJakJv1jXNHTY/70YzSMdp0tHZiUm899avgP4B1O3YiUOag6pvEyYY/1AuhcF8CnPJKNp2b8MTX3jOvWJy8e13cObDEwDber0CM3l1COeOf0TLfhRgp/szX/g82mkfzCUiGKUekUxRFyXbWtyrOe5LTnJwFQrU01kkaPynJqZw8f3jwLEPET14CM888wy2buvzRnAyrCY9rU0msXnzZvRt2wYNRz1z8iM+JgtujhFVb9dxWKaeqzVxS/94lOfUMt3JK1dx5o23gYtXgL17cfiRh9C4sRvDhQxGkMFYKIcxWgmpmijyLPvZfBa5FTxLcjjkwiG09HY750VWDtBMBjUJdswjETQma9HT3onmzi6Xudw87ZMc9XyM1lQwykUyPY2J4RGkFxacvaYJbzOMK9RU7/JZiOvLgUyMcUbc17wos7NOP2tC2hjLThM/z+gHlNYm1LY0I8I0cpp3xDAMwzCIbI+bR5o10K5rhjIN71ZD7ChncOFSP22cAlpa6/Dww4+io7URiVAGMX04N5xFtJBGMlJ086G5b0nQ4FqgEn73gw8xOJ5HQxPQt2UjutsakQznEC/SeCnM8fwF1CWK2LF9EzZs6naOl1Nnz+LSlSu063K8Meo4q8PsdYiam+vRUF9DwydPA3HOd46k2OmnERgLIywDguGyBX1JxnvxQefKMaGOuH6DjhbzTvTKSZhLffUiRIPDXa5/PzWGwet5yTlSRIrXMr+QQlpzndHoqKVBxL4+05azgMZGKItaGn11NNQ0Gezk5BTmaIwEOdBS8Qe/ZLq9vL6BoWGcPX/ZTba0bXsbdtPYbG+tZd5mGOc8455FJKQJY/NIxDTJaZbJLzoUvLhVgT2jVhVZX5dxX/LgtdUkojQe4ywb3ZUC0tksJmlYDY4MY3ic5h0zIpdNKltEOq+5ZHhdiXr0dG9AazPt2uEM3qSR/AHvY0YGK43pBC88FC2ghoahyk0GaQ2NMI3QoU2OkRHg9TfexPEPT2J2SmUTR1N9PWposNH+Qlg/fxblE1fK3jV4fwFeSXlirG1UF3jvVY/KljeimlNE+1wl+iTlOpTnrzqMgAf1xRnN6yMHtDoz7LmwM+PmlURhYRJz44PITvKhYmdSz7SxPnD1hlVETm81mc7p7Rz4nuTZpucoKTk71LbzAdBIi6JGHlEPOrRkxzgXDTuHiETh8lLUeudTuLlrFJTteqGA1NQMZvoHXLve1d2N1q4u5JMJzDIT8/EQZhjlFPVvvqHWjThAR7sbFTI2MIjM7DzqojHMjo5jcnDI5b97wwY3h0mKnfdZnjtPmWXbP5vLujlJCsqHMkCkv+TMcHqFOjc3MU1lOuMmclXH/vKFi+5VlFMnTuDMiZP4+KNT6L/Sj7l5alB29ifHxpHVHCu8jsX2xEXtylPxC+2SQyRwimi/HCNyOo1cvIzBU2fdwS2796Br80ZQsWM6XHD5n6MsUNLMeyYaQpZxSItV4qL20xbScBnq3zDLOa4v0NFGGhseRv/FS3iX+vInP/ghfvnii86pBDlE5ATTfWZEoVjMvX4U7etjWU/gJy+8gG98/ev48NgxjNKGSGfSrhz12Xw5PWSI1Tc3YcvOHcCB/W4Ol2995zv4+n/8j3jr1dcxNHDVGwmrYbw8TxOyF+QcK8uvYRiGsX4J9OVN4tSrt7rmkFr3rIYFGjsTI6POLu9oacSWDZ3spMuhMMerT1EZ08BhZ11/hUKGdlaGNkWWne0FnLlwzk142tpehw297dTBmq+DkTolLsOFhkI4hw09rejpbHJG4OjIDMZHx5xR4DkSQrJxHJ7jJUcDMY8IFbk+K6ihkTEaBPolJJilOZ9nngpZaNSJOuCeYyLk4teXIpyhySWzQGhwMk6NJKEJ6YZUatyJpp0NHBqMGW1N7Wiop0GUKWJkdBKZHA3JWBMiNS00POsxzgsdpUGouOtqEiwjXijzuZimJMw0eRHMpz6NNz45jZGRCeew6evbgK7OeiQSMogWnBNEDoSQL0udCRpl4dU+ia5Nf9rnypX7Msx1mj2sifkQPu6fxitvn8LXv/tT/Ot//x/xL//Vn+Gbf/1dGpr9Lm39EunKK5xHNF7Aju3deOjodtTVAm+9dQz/9t//Ff7ir1/Ai29+jA8vTGOUFmIh1ogcjckCU9JXArdtasUTD+1ERyNw8v0T+ObffBf/4Rs/xI9/+S5OXZ7A0GwBc/mYm69GeZMRp5yW59+rc5VirG28Whz86V853ig2X/w/15Fy234NqTjnE8PL+lIp5crl7Bq8I1674pZ8XkOaZ0TPtX61ZcducnoW4wsZRFrY5vRsQqytkw0fOzEazWeseYKaU1mDnMNAsBqkKBmKOs4ajeAfcQTVUFNpZygaVaDXJLxPwHrd+MXP6lIn809fuAmxQ56emvZGeiTiaGxrQbK+jvF5PxCEIl6n242QiEfR2NoKNLe4+BZmZ5Fh3dX8HqlZ2gYTk25/vb6QQsXpvgpCvR+maIJXOQakfxWVMqyarXU959L9+qQ7cnwe0hnMXryEH33nu/iP/+bf4q//9z/D1/+3P8XX/9Wf4i/+13+Fb7Kz//477zBcCqlM2l2j97qZYvNKRWslBxNFe71S4DF/X5Thw9SDGmaeURkka7Fl+zYkGqnneIY+AyynjT6nqwlaY1xqZKxz5PhxVVK+X5/O1WeHE1PzmDp5Fie+/zP88F/9O/wNr+Mbf/4X+P63v4Nfvf02MDfLDLJ8eLJGrWpC1DSVdOeubbj/858BDu4Fxkbx829+C3/FcvjJn/8VTr/4KtJnL6Nmeh51PNF9tSIeQ9e2LXjkC5/TxG68pnG88ZOf4Ov/5s/wvX/z5/joxZcx+9E5hKbm3DUtfuHCMAzDWO9IJxslpCApUvg0GHLpNNJzc85h0FiXQH0yQkMixWPz1N8pmV0oskOdD+VpQNAUC9GMoGTzaYxMjNMwo+3U2oT21kYUCmkXtRs97s8toREQzQ1xNNfHNAch0vM0smhgKW2XB5cf38QpasaTPGI8GJNB4xwj+rye5xiR0aWAeRpUhQLz4TtGtFOxOCcF1+SoCAwxHdPIEc8xovhlQMkZEZynuKPYvX0Pdmzrla8Dv3rnGI6d+BiDo3MYnc7izOVRvPbW+7hwYQJdbWFs27IJLRoiLGOqlGbYc4xwy3PFhDCfymBuXu4LoKe7FbVJjbpJ8Tr0ueIMjS7mQ28cKj/uDI0WobnE6/f+vCvwrkTdLB7lsRzLI0Vr+fLwBN54/zS+88Ib+Mtv/ZTyI3z7R7/CL15+HydPnMUs7T92t9w1F53xLFM6hd7uBnzm6fvx2CPbUJPURxDO4y/+5hf4N19/EX/1/VfxkzdP4ePhKfcaTjHK8o/lsamrAc8++SA+9/R2dDTX4NSpy/jGd36KP//rH+GvvvdzvPjmcZzpH8N0tkiDPuryKONP4lUK7xqupdo+Y23AGusedMkK8KsIq85irah6Kne6TuQK411tgnx6WyWC7cX9Xh49fwdb0tQC28wJ9I+MsePLjs2O3ejYdxDo3siHlK2EOUYcv6a7+olyTd2RY0IXrgPRCLIxakIuNWdGKMKlf4KWcpR4sK2lUEMjL2eDL3I+OF2pB8nH6cNcHoW5FLx3IhOI19chkpCGYEw6V/FwXc6YPNOMJOJIyCseZl6yOeRSaTfSQXNi6BUd5TVWV+vmztGIhnCEOpp1WA4KOSKUepADpyeZeTloXFp56u8sU5NMTWPowiX0nzqLKcr0R2cxcfIMho6fwthF//O927dhw+ZN7pP5ocprY9xK0zlGuK0y0jVw0227Y7Ql5OyIaAQNxX1SuK0VqJFV4JWfRmXKwSHHSJxnapSJ9i2mtIj2le+PMc7oXBpX3zuOt7/1A7z653+Nc1wOv/YrZK8MOFumoYE2Q309MyUbQZ/y572jHZJSTmk/HXzmSXzqK8+j5YGjzmk0/+avcOJvvouf/8XX8e63f4j+d4+jODOPXCaDNMtP85sc/tTjePx3fxPdjz/irmlen9//1vfw0z/7S7z5je+6SV1TvN96fUnFtr5QDfD/91YNY32z7toAYznM2vSRbiipCv2qQ8UsA0O/Ljlnhm/cwH8NJUJLzf0CxIdJ3XT9CuPOdx13b8ONDI8nEaVI2evXUc2RoQdQE+fpc8D6yo2+gOMMFv1wmmfnXxvu1iwaUC4/So/naemMJyWkPDKAjEdta6SIl3Wdq/zyIC9AQd2FuNi0W3u8Ccf0vRhvFIPWvWsP/rI0GHfu3Y3D99+PRH0cP/rZCfzrP/tzfOfHP+H6z/D1b3wDf/Efvou5GeCho7tw5MAONNbSoJRzhmlo7Ini1pWrDFxmlX6BKdGok0NIr+G4r0CzAPRLVITpRxlaSz/nDi9H3u9drogcfny+aETGyGwaP3jpTfzpn/17/OW//xmO/eo8apnAAwc68NUvPo7f+NJnsGdnp5t4LELDVoaqHDmFTBpxFtGDRw7iD772G/ijP3geTz26HW2NYRx7+zL+7C9exf/8v/05vvnDn2F0LoNsNMH7GEEtDWlNrvqf/+HX8Cd/+Ft49smDaGuK4vzHl/Dn//5F/Mt/9R9YVq/hyvAUipEEbwONed0Korvk/XlbS8VYs+j54y12zxv/XA3wn43g7lcT4T1J3tN6jbhfxcuWty3BkyWpRnnOAoLnVF1J78kXfgvgnmmJfj13w+hyRczN5jA6nsHYfARdex5E89GngI172ItkZ6kg17Qb37V+KC9Sf90t/FsRcg2g33L49WZZbnD414l3Fb646/JFB320rg68u3bqvzjbzxh1cUSvwEgnM0SgD3RuQHBKSaQYHQxcKjPWVdVDipuXQyNDpIe4S53/sPQtyWay1LmszwwnR4LyIx2mTrpGomi0xkIqhZz2KX7msS4ad5JgnBFNbsr4FV80GvXS8q/Se9L4PPCYcphlnAvURTpQs3MnvvK3voY//Mf/EL/1T/4Ev/lPufwv/iF+95/+I/z2f/En+Oo/+4d4/r/8J3jqK19EfVc70tSpsg3cCBu9MlK6Zm9ZWbbaqzk2nM5nnlwZZbPIUeLMcw3zrnlLXH4lzKPW5RSpPtLCu0YdUhkmeA2xdBZXj3+EH8uJ8Y1vYurKRTQe2IcjX/0ynv/P/hh//M/+Cb7yt7+GJr26E4s4m8S1iswLc4YF2jTJzjYc/exT+N1/+Mf4wj/+E2x+/gtAeyum334br/yv/xrfpK4fPHMO4fk0TbS8K4d4ayMe/uJz+Op//vfx+f/072HL858DtmxC7p238dG//Xf43l9+3c3losl9o4sGxRoluD5vqduse19J9VJY62VjGKTaA2GsS/zu2cpQZ9tpvEDWDDIIPGXhrdBMoUT1SwKFuhajU1OYo+EjY0wdaRkGUTkqdC5Py9FY0q8c+mUzSmOipaEFMRbRLDvpk7MZ5xzRxKAoZlwaxZC+KsC4MwWMzcy7NGhDuRnnZXwoTyph/eKjpdJQN8P9YsV4FocR+8aMOkL8J2NN4eUUUS41waHrhigs8+au1cWniOW40PBgvaTjzVEiKdkIvM6w5sdI1qCuuQl1TU1IMcCxUyP4X/705/gf/6fv44c/PgFl+e/8rd34na8+jZ19nQjlF1hO7BqxfHK8Fo2QcL9ScRmNxdwXADT3h0RzfUyNTfAcIK4xHO7CmE/ud7l1GQ/T+GS+tao/3/rV/274sb+uvM9mcnjhtbfxH777Ek6dzeHQ7iT+m3/2G/jv/9t/gv/2n/49/NHffh5PP3EYne31LnyORqgMSI3CkQHoRuAwtk2dzXj2U0fwX/7J7+Nf/PP/Gv/kjz+N+/YkMDAEfOM7r+InL7+J/jFN++d+a3NfxNnYmsTTD+zEP/p7v4H/+3/zD/HP/tHv4eD+blzuz+Mb33oV3/zOC5icSfMSeT9YNipf98clNyjG+sCvrbzl6hDpl2z9muwmICWq0dVE53kdneB8f6lnP5DgmJbl+90xf3+lKB5f3Iisa4TncVkSdx5x1darx67NKtVj5lNO4LCG4Gud7YiC6RyXnlvhkudk85gYHMfAlQmuNmDnoafR89BzwIZ9LI92xtvAhpENjFoDP9k1S1AuARXb2nRawWsI/aL0RuK5zzfrmMKwvJeIv/9uw+VK1+CLa++1r4Jg1IOrelnqZdaZUE5zQ8gJwCUj0SFROt/pRE88/chnzHXYGSIIpHVu6NlzE5rW1QHUcXqla4Y6aX561psElKEirMBylEhPRKhjsnPzyIyOQZ/jjWmECZWgXtnRZJ6oScjbgMz4JNITkwgrv9Qxsh10PE9bIc5zIm4+FD7/eTlCMkil0y4vUR4La6IdqsPa1mbsPnIIB59+HHueeQJ7Pvsp7P/CM9jz3FPY9eyT2E3Z9fSj6NizHfnaODKaoFz3nGlIr2k+L/0AIeeNbBpdS2BTuNaAKxHaOLIlwhohk2TesxkMXLyM/NyC+1pNQnWL8SlMuph3zh9vFI/aJV2Bh7s/RNeg2qiyqsmz3KcX8N4LP8f4678COjrw5J/8Ef7k//p/xtNf+03s/dSj6N67E8mONhSUvmwGlYniZprOOcJ984x8Pk7ba2Mn9n76cfzuP/0T/Mn/45/j8B/+AdDaitnX3sDPv/U95MYmXX5T2SxmeYXztTHEt27Ars88gS/9oz/CP/zv/m84+l/8Y6C3F4V33sMb3/0RJi9cQZT1SM+J0tMcJJK1h+5W+bICXvvi3TQMw1ifyBZZ9wSqwKkF959nQNTX16OtQ5+AA2ZTCxidoPHOnrwGlkry+ioJO/J5dtzlQOF/1DkRNNY34eDefUiwdAcHhtE/OEplH3ajLxw0kOQUySKK4fEZXB2ZcEZKV1cC3d3dbhSDU16yWnx03I284C45RjSfRvDLioMZV96l2LXHM5TVmVAc7Ii7YOVdLP75ceSZZ30iVLlzvxq5qydcRGmsfHzxPN55/13M0Bj84vNH8Yf/4Mv4nd97AL/zOwfxB7//KP7B33seX/3ys9jU24RYWGM2shTPsFBJSoJ03URnpKG+Di3NDQwJnD3zMSYnpmnEqTpqHIc6iFEaJzpXZU3DzTl4mCH+8/JPtKltZ8jImALmUlm8/OZ7uDQM7N5bh9/+6pfxqYePoK+nFZ2NcTTXRZGskYEs88uLRwadfpN2vxIy53J66Us29YkC2htj6OttxZeefQq/89tfxeH7N2BoHHj9nQ8wMDblJm7VPZfhrMlok+E0WuvC2LG5FU89/iD+0z/+T/Hgw/fJ1mYZfuQmnM3SWHS3RcL/7taOi3EnUI3TM8Alb7s6depgaCi928F/vivzGtGT4DkaFIdET6zici7TMqm2z98vD2Sl+MflJnVL7isXL5eK05dgXhCXB+86PLz8e7IYpnTYa4S8pToeCylMs30cHZpgh7EZW3Y+gJ7DTwHt23l+GwPWIsty0Ut0/plrn1L5ua3Fpc+S1qJMP9yrlF9muQTovms7cI6o7rhXSVWH3D+vLXWHKA5/JYjHW7J9do4RHg4CaoNIf+hLNW2dHejazroXT2C4fwATQ8MIZajLNIJEHXzq7xomVpiZw8n3jwETVAQberChbytqm5vc/CP6hG1Cn7Fl2NErA5gcGEIt9YN7nYSiURiJaNQ5WTSywWUmFnWv7UTjMXctycYG9ylaNDVgnLr3Qv8VzOgLMPVJTNPMmGJBTLEQZmMhzMbDWKDMU4HNFXNupIRnvzBeXRevOarXeOSZJPrfW/PQE6o5UMJMu3vTRmzY3gfNtP7Be+9h9HI/Iuks6mmrOIcQRaNF9Nn8hngNkrR5ynVXUKxuJC3/3BxovGYpv3PvfyjljM27d2H/Iw+iprsdhYakm8xVX5YpxCLIFNXW6I56edQ9V3o1cjzV1KAYj7qJXxc02Txth66dfXj800/j6ONPuK8CDXx8HqlRtiW5gitjNyE9y1ZfJEoloijynIbeLjz7xS9gx8OPMJEIxk+edpPOhplPvYbk/pimN6JnLVLluoIbp2WwbhiGsU65OceIM0b8lnONN6DSi7XJBDb2dKGtCZiZWMDb77yLyyNzmMo3UqG3IBVuRjbSiEKkHulsBNmcOslx1CVrcd/e3ehti2NyPIPTZ89iZGIGuUgtLQWGj9ahEE6AfXicPH0eAwOj3iSeW/uwobfX/bKkYg6cH17XRE4CLT3DwRmEfiemwE6IC6v9Rd1SieeI0H+a30NGipt01R3xDpQMxLK97qTgPvsG1tX+y25WfM1p8sSDD+Mrn/0cvvb8V/C3vvIb+O0vfA5PPfoYNm/uQ7SmgXmg5VaMsF9Ew4gZ0icMY1pnHpQPeS/Ur2tvb8WWLRucQ+LMxRF8cPocrozPs1yakA01IC2Jcp3lmwvVIV9M8lQaR/6X99VVFHIAyZHkfnFnOpmFLAb7h5HPAL0bt2LHvsOob9vAjLTy1rQhjSQm5vMYm0m5OWDkZHK/inNd5ZfK5DDLODIFGl+xJIrhOELROLp7N+C+g/dhDw07Fc3IyCDtvTmk83lMpXIYmlpgnpPI6/7G6tnRq0dLWycOHj6C3Xv3IFlPg3Ymh6npaV6Hu1OUUqkb6wrde0/0uliM1UHPivPsuWdOv1JfK4EDw4k++ew6ElVEx5bbr3OWkSAdvSpYLqX0uV6SID63ZOZdnV6s115v1WuHvH0Ut8qlOm+pBbapU7g6MgkkmtC5Yz+aDj7Eh5Yd02gDA7KTyOjUVrgBK9xjCBaIinMNo3tdfr9V27KsCG7iU4q2VdPKUXVzNbDsZNUddeZdh57bEekIHnStvRxzEtZHTS6qr9ok2luw/dABoKMVQxfO4+PjJ5EfHENXIYqOoid181lMn7uEt3/5ipsstHU/9fzenQg31CHDzn1dWwt6tmyW8YCB/it4/+13UBifQmu6iLZ8CK2FCJqoW66yQz5xaYBxLDBLIUTYkS+Gw+46o4yrrY9xbN8GDFzFWy+9jPPHjiMyM48GxlHDjn8tL7Q2W0R8ZgHZMT5DqQwKuRwvh1cnJ7177Ze6ltfo5hDhpWoOkWC0iAjKTLNrpVkmDT2d6N23yzlk8h+dwql33sP8wBDaqc87WQadvP422TijU5i/MojQXNrF7R51xeVH7L76wnX3ahBXNNm65hDS/DCNdfVor2tAczSB5nAMzaEYsqMTGDr1MdKXr7oRQTXMlLMbmNd4Jo+5iwOYOXUOkcFxdGRD7j40hyixGrQ2Nnrzk7CxKPB+ZHNZRKnDCyMTGDn2EcJXRtA2m0Un893G62jjORvbOtCqkUFxWh9syxbyDO/nvVQ4a9Yxsgwsa/8/wzCMdY0shRVTajZl3K6DRjQaCWHH9q3YvrUDeer1l19+B6/86jhODy5gPJ3EXLEBM9k4rgxO470PTuPCxUFkMjRsIlGeswH7dm6Bxn4cP34Cb779PvpHZzCZDlMRRzE1l8HZc5fxs1+8iuExYOOGJA7uO4DmxiZ29HVbvM66e23GLRcNQh1xbhD2GBadI1549/ssDQBnqRA3boTr+jKM5xjxFf6Se6h93n7vfO73OzvFQg7ZTIp9oKwzWjS8NkzDozlegzYaf/XMa35+ASMj45iazSBNY63A9PUXpbXhOn1KmwahJmGVKKXO9jbs2bMDmzbS9hsBXnztTbx+7DQuT+Qwma/FTKgBo+kIPu6fwIkz/bg6PEMDNsYz48yj3Ckh14/Up4E1pJoxuz+lWxdPuE8Kp9IFjM6kMJkCFgo1mEnHcPriKN7ivfr4yjCNQa98Vaa6cr3b/dGZs3jj7Xdx4vTHGJmYxTwNM13TQirr3iHPpDWlH5BMxhFPRHk8g9MX+vHCL9/AsdOXcHUyg7lMGCla8TM0HIdHxzA7P4dwLIS6hhjq6huYc5UxryAofmMd4d90d/N9x4ieN1Vm3zHiPenLSLljwm1XOju0HUj5fkp5PNVkuXArPV/i2g1dhzpmEu52cEUPvuLhczQ/OYmx8Um2W3H0bN2Dln33A1vYKYs2MlCS4byWik0w/B+71x9VrtsVrb++Jqm4OG1K9+nTsK48KNrW/mvEPxYgLeqEByUKFbwq4b6CpNcoiRzVKY2aaKzDtvsOIErB7AyO6dPrL76CSXbKs1eGsHDpKi6/8wE+fPFlTB/7kEqsA9vvP+ycGGkqnGwsjFhDHXYd2I9o3xboU7G//NmLOPHqm5g5exEZ6pzZC1dw9cOP8PqPforR8xfdqCndVOVdYxiddqlNoJ1x7nziUSkaXHj9Lbzywxdw5o13MHWpH3NXRzB55SqufnQGH79JXfXaW04Hq0nRSIdwNIqIPkcboR6amcXkyBgWJqbciBeNtCnXO0pX850t8PrjzY3YuG83Qofv4/XP4t2XX8UHL72K0ZNn3fXn+pkuy+LDX7yCt174GQY/Ps9mxht5qVbLORdYthMTE5iemnKfudfkuOFYFLXdXc4RMTQ4iEvM9/TAIOYGRzB+8TJOvP4rHHvpFYDboL7VvCSBYySykMFHr7yBN/7mezj5019i8vgZZPuHscAyGGT5naZtde78ObYbUTRu2IAG6tcibZSBYyfxyn/8Fo597ycYf/cE0uf7kRkYduV3/Ffv4MLHPEevRW/ZhKbONudMcgRlowdtveAudR1dr2EYxnWI/HPir1dnlkpo5DIN2WG0NCSoa6UCqUTcTwK+Mrnn0XWow64/5xrgLm9ei5aWVqQW0rh86RzODQOjQx/RmPC+x6+OdP/lS3j5pV/gpz9+EflsCls3b0ItjRnNdJ5NzePq1Y/x8cc5GgQfuV+mciw+jUg4e/4SfkDj4rs/vogG9gO+8JkH8NlPPYLGGiprvYrCTFwdmcHxj87ho7Mj2LOtEUfv24uOpiQi8tKwgxHWzKXM58mzl/HOsbOYnwY+9fAObNvcg7paTWOqSdSAEyc+xsnjF9BQW8DB/TtwYE8frbB5Gkg0asIJDI9P4c0338KFwSyO7mnD4T1b0N1c4yaDRSSBsakF5vcqzp6bwNjIAKZGh3Hx3Mc4c/YsTp05w/TP4QKNvulZTVAXpo1Sg2RNHfOoaV2lcCMun1598RRwrKbGSZb5+PD4EC5cnMXc7CUadHHur8N8JoeTp87iZz/9CX715mvOSbWFZatf1pTWhyyXoavz6GrOom9DF1qa6pDUpC4RHr88gCv9NAZnRnmNedTX1iG9sIDz5y/gJ794CT+msXrlkgxR4OC2BhzZuxWbOhsxQ2Pwr/76W/jhj9/F2QunMZ8t8n5FkMoUcXVwFK+++gZeeeklzE4BTz2+FQ8/cJ97B/2XL7+MP/23v8KlgZNYYFh9+HghU8AVGmK/+OUveQ0vID2Xx9FDW/Dspx9DU62+QpR3BqpKRCJUMsH63cbN5Ks8bJHlNzmTQn1LF+KdW4H6Tv8IuVsv9o6iuyxhh2huArPn2J7MTaIhwWekThON8pjrrTDIdYXhgmUQpSTY1rHy/eX7SnFUkWrHK+Mo3+/WubKkx64bK1G3VKulA+z4ZNlpmsbo2CQmUyFs2HMUTYcfBzbs4LPbxA5rnKdR/CiuUTPl6+sIdTrda4djIxjKpzGf1BxVejVEBXJvFkqQ62CpWuLut9taHPGoFzYmRkdx/N132XkeQusDR9F7YA+irU3IsEMvra0vsy2MTeDcyVOYPPEh0LcFBx59GPXdnUiFNb5Qc0eF3LwhJ94/htlTp93XTg596fOsdvVuHosCO+5NjY2IS4dcvYrC6dP4+ORJnLlyBaNM9+QHH+LnP/kprrz+OutqCD1ffA5HnvkU6ql/9AlhNxks89vS2uKc6EMXLiBP/Xh8cAAj4xMYZJwfnTiJV6kvPjp2DIVchpfJB6i9FbsffwR1jEevimhki+Ya6+jowNmREWQvXcQEO/8nLl3CyOgYBvsHcJznK56TP/8FLp86id1PP+WcMporRY6fyeERnH3jLff54bHaBBq7OtDS3YUC9WdexgUL2ptvhUvVI4rOrdGPHQ0NuEBdmb1wEWcvXsDZ/n7q/RFc4r5XXn4Fp174MYZO0Z5pb8OmnduprxM0E0dd2c8d/5D1tIhETw8aujsQaW5wnx+eGhvHCMtjnmVxlnmbmJzE6bNn8BrL8u3XXscY7SjU0RCanUHzA0ew4cBexDtaMEud/P1vfgujP/0ZLp44gZPMy/DQEC4yrvfefoe210uY+ugjoLMNn/37fxebWC/Gp6fwymuvYvAb38Dl997HyYGrGOH96+f16PPGP/zWtzH34TGgtwv3PfsMDj72MHKJqBtB6n50kqNKNdA9W/cmyrt3f9U8u6txo4aLbH+jsws40L0BnXHaqTwiB5TCOfw6YRifKKqnXEjHsXeDkfQ8Tg32Yygz79qQOtrwMU1X4Dt2F191Uz0vrTq8p3cRhdePp7mFlPskeU9LG7a3daInVuNe2tfPrZ7jnFSr+tX2GWsac4yQkDPgNbbDG83grDGu5WlgxGkstLW2oqu9kQ/VBXx4qoB33rmAV195Az974SX85Efv4P23h10MO7e3U7axnBqRiIbQ1daMZLIGU9NX2PnP4p33L+HFX76P7/7oTfzgheOMa4odcuBrv/UQPs8O89beDoRo9EZpLCkfg6NT+PDEKRw/N4GdvRE8cGgf2huTKGYXeLxIQyzsZsM/fvJjvPPeZSzMssP+yFbs3LqRNkaUrUEGOXbQPzz2EU580I9kvIgD+zbj0IFdCGXnUcxn2AeLulENr7/2Gi6PAId3NuLgrk3obK5FjtZ4phBDor4No5PzOP3xOZy7MIdTH17Cu+9dwGvvXsSr71zG65SX3zyH1988hvfffw8jYzPo7OpGfV0NwmxxvElfhZxOLFuNdOEF1tfXYuvWrYjGpjE8MoSPzqTx+uun8OIvXsF3v/cL/PiF93Hm1ARqYlkc2LsFmzf2IE7DbmY+i/7+IRz/eBQD56aRDA1jY3cbOnvb3dcKkskkDafj+PhMER9+cIkG5Cv4IeN7+Ze/wlxqDHv27sGDRzbh7IdXsbevBof2bsPGzmZkM3lMTi/gysBlvMf79dOXL+KnP38H3//+y/jBD17DO29d0Gdv8OnHO/G7v/lFbOL90pwps3MLGJvUPCxpvPbWObz08pt44cWX8P0fvIpX3zyDKBvlRx/sxeeeeRJ7dmx2ji9/RhevVLjQWvA03Y1P1c3kqTysOUYq0Z2WpIG5cUydO4mFiREk+EzHs1mk5lOYm0shTeO1UjIS1rUsxS25nWXYJcLzS1J5zIl3frkorvS8v6Sk/OXKZJ4yh7w+V8r8RzRiJEZzQw+4WsXSSBOSyWBqYhJXB8ewoFfddh1B+6OfBbq2s/ltYHtVwyUlwHs8FlmX9cVjOcfISnC34i5FJoTy5/JIcQu1h9rnOnSuFmFhYQFXx8exEItg2wNH0bZtM4rUL3lWEjmn1YjmWOen2eEenJtBx6GD2H3oPiTbWpDTsCOG01dUcrkcxqjvhllXa7ZvxX52isMN1HXhEJ9IjcBkvezpRltnF2YS7PCPjGLh2AcYeuMNjJ38CEU5M3bvxI4vPodHvvQ5NFPXasJSN9WUHAzMX5jn1Tc3IdrRhkFdzKVLmPjVO+h/7z0MXx1ArrEen/ryF9F7334sdLQi2dOBLfftQ6yl0eVVk7grPzV1dejbuR3F9jYM6xcO6t+p19/AMHW1nAGFmRkNvUTr/Uew88gh5kOvmlLHUgc2siNx8twFZC9eRG5yDOO1Sew/chihRMxzjAiVMxf+uFO3DNck0Mnr796+HXM1NZgZG8X8Bx9g8I03McDlwgiNBF5X20MP4sijD6O1uwvRRNx97nhmehqDV64A585hgOc29HajrlfHY2jhNUyxbZjiPcweP4GBV1/B0PnzWMhm0HvwAB5iWW5/6AGcyy2g78Gj6Nq7AxGWU5a6c8PGDZhvasQ060D2zGle/+sYePlljLEMijyePLgfj/zub+K+Tz+JfH3SXWMTbbZMZycm0mnkmJ+RN9/CwCuvYvTYMTZHWYSY1oPPfwH3PfEIalqbkWKR5HivAofCvewUEeYYMe4pVE+5MMeIcTcQovGxtBYtgYeufojxE69g5MIH6OtpQjyiqsvu7ZIRANeJ4p4gwkvwHCPBZIS6Io24DWmS1BwwPbOAj/uH8dPX3kb/6CRymRQfJn1uNo8OGjQH9uzA/j27sZHGQCLqfU5QCml4agEfnR/A2x+cwIX+q+x469WPnJtQrKOtAYcP7sYRSi8Nh4QMXSptORM0Z8bA6DzeO3EBx6jM9+7djoceOIyO5lqEs3MunyFmWS6U9z66jNffPYM5xv3pxx/Brr7NqKuJsFNKoyAXwfvHzuHDE2dRWxfDgfv24ND+HTRk5njzs8ixaRgYmcLLb76DMxcu4TCNp6P7tqK3NYFsMUZDrQm/+vA8vvX9n+P46Ss4yGvsaEgiTOM8RSMxU8wxDu/LPRcuDWLg8gCaG5P42m98Bl/93CNoTmpkhH6xU4PmPgysAqcREqaBFkGa5X51bAZvvvshzpw9h1GWbSqddc6CBA2czaxzB3dvYp73oJ3GZiQSw8hkDu8dv4SXfv5TTAz347EHD+LpJx5E345NLL8iZtJ5vPHOB3j7/VM4f3kE2QzLOx5DV2eHG+a8eccO3oMMXv7FT7B7+xYc2bMNmzpolOZDmJrN4dQ53q+Tp/HRxSuYZ2cyz/wk2dnraK7Hzi0bceTIXmza1K45+pChRTw5m8algRHnGNIypcljeH2qH/WJMPbu6sP+vTvRt7kXjfX6fKOmlNV4FV4k/+kpUuMt3Lq3WgUFCuSTxf/99oY4w9ytePks5GI43z+Brm33oX7/00D3fh31LmH5C13DqP7z4ovT1P7nceXFb2Pi3Aeoz04iGosiE44iq7a1CkFxqa6sdtG5u+VHqvWAYD04FqSsZ9kZKWqB2AbouW5gR06vyIU7uhiCT7y+9KD2VMKO0/gwO6QjE+w8NmDDlt2oP/wksEGf5G3hcyvzhGaK3pIT5ZkIWO2LvhdwN4YGI6vEPFd/cPo4jqWnMNKaRDYaZfmqUK5fMK4oGaRakd4tBHkL5gRRfvUahkY/aNLS3PwCxq4OIjs7j+6uLsTbW5CtoX5SPWRgvSISXaA+ov4YHRl2ox462MEP1yXZ6WWEPO7ipS6YHx1HamLKTebZuLEHxdoa5yzIsA7rFY46Ns1hdh5TQ6MYv3AFV9iBn+Q5Gk3RwDa8ZdtmNG3oQaKtGXnNU6EcML+a68p9Fa5AfbdA3Ts1i9mhEVyhLhm7cpWxF9HZ3YUtu3eidVMPUtwzMzvDc/Jo6u5EqL6W93RxLrE4rzu6kEWKaWs+kjHq58GBq0hnM6htbERzbxfaNm1w15DoaGVeYtTEYfcIJeazuPLeh/j4vWNYYKdAaR5+/FGkE1GkeK16nl1LVLZ0HQ6uJ3NF1PD82YEh9J87jwGmOzk56b6o08ayb6cObN28AfXtrQgna/jMRhBJZTDF8Gc/PI7zJ05h27Y+9B45iLptG12cCcY51T+IoZNnMHLmnJtrq6mrA11bN6NzyybG1eZeg7oy0I+29nbUtbJNYNkWaXwV0ryvM7MYZxkOnruA0QHWg7l5NLCz1LmxF719W9Gi+co6W7HAi9Dkq2Hq7DzLf+rKAAbPnMf44JCrQ0WWkSZg3bR3F+9Br3t9CIm4u/fuNSzWE1WTexXlXRI4RnRfNbmunhHN3ZLn81MzOI7fO/QQDtS1wL24yHrmNSGqAFpxG4axulQ+WOXbbCTUs5SOG6ecmB7Bt999A+/PjCK+pZd2RSdqE0nPpmD7uvip8MAxojrMZ5fPb0Gtp55jXxQ+q69+jU9igv2To3078ezOAziabEY9z9Q372iSe1Sr+vY4rDtu0jGiYabq0KnBZW0pVc7rRHFPIKeInCO6Jj0hnmOkqCHi7KSEQprcM4JsMYwLV4cxOjmNdGreGTTxaBgt7LB3dbS7L63o6yR5Gi4xDavlucEneYfHJtzIjJm5OVoieSSpjFvY0e7uohGgkRVMq5DNMx0agrRsNEP6QoYd9Zm0MyK8r7h4I1FCBTUhmluEDQDvwdRcHhPTVO2Mt7WpHnU0GN0rLIUc71QMc3M0ctjB1zwXtQ21qK+N0Uj0vhyjL78s0Fgcn57HHJfJ+no01WqeDhoKbDJGJgv4d3/1fbz34Wl09vbhb/3Wl9FRR0Mov4AMjUAZE/lwAgu5iAvzwx+9gHMXJvHM4zvwX//jv4OOBk26WqB4nSgv3zI+mLrKJ8QOUTSBsYlpjI5PYGpqxg1DVrWspcHa3lqPDkqdDDCmFwmx41iIsVwyblLY6YlhNppN6KVh2dxU50b1h2MJN4pjYHAMQyNTyLFTFmWhtrS0oLWjA3WNTbx3+uVwiPHSUGJ51bgy10z2Sfdlm6tjY5RRpGRMyTES5/2iMdrR1oqW1iZeCZ8D1RXXiQ3rq6MYYN3QdSxoIjzWJTnHNGqmgwZ0c2M94nEZzlmwyriyFzJG3dJbOMrXl+JqpS+fLF6ebpyuQjgnimtWzDGyiFce3kVLFmgFjGHhzDHMDV1ALDXhmp/g09nVCM6UKCq3XAWUK0UW5NBtl+Mfc5/O5ob+jxSZSzmGCyka22PsrPAawkVsZGcn0tvjnlVWdobkg5FJYXZyDpeujiMfZZu3/SA69j8MbN7DiGiaF/Vs85r1NS5d+jUZ8FmtC76X8G+IHCPUHPjBmeP4ILV2HSP65S6o/RqBoR8XNMGn9jvnBy9EX5fJsDyoJWQCe2VAgznBYwlpPulSd4y72cDmeVwlpDh0fpzna5lh/ZzJZZyDROlr9GWMdTzOjSRz4b6okkpjfnYW8+yI61PzkYY6RKlD1cFOM7xGGQiloPzmczn3a2Zc6VDC7KSnZ+ewwI69dFqylvpXX7BhZrxzZbyz+usSeE3Sp0HeZazrizg1skGomzOKh6LOQYzpx2kTxOqZF9oS8/pqDW0G76tqcE4VOSvmxiaRzueQqGO6rS2gScG6pNLwylyitL2r8Ehwg1fJ6y8gxeueY95T6ZS7vhqmKYnWJNiRYYeDZaBzo7xmfdklS305STtHozYjjdTH+vwvL7CGdVWTv+Zm5pCljk+zoxKjTq9takSE+c8zbs2JkqMNo2bG5YuiMbz6YUX3rMDrURlolFohm6PtpTKoRYL5QU3cOZo0R4tGQJQ+M8xw87TXUvMaIcu4Na8I7YqapgYUmSdNdisbSvVMaXr/37t418D6qDpPUVlWc4x87dCDvmMkhCSfF1cjVB95jsIaxqpT+WiVb/PxN8eIcbewAsfIBxg/+QpGzn+ArT1NSPgjRtSp9YwycZ0o7gn4VMqc0GSBzjEi0UPlPS066p6+CHvPEhoacooojH7VosXkFQEfQGeU8bgb6qV9KieFkeJXUbs4XWCK4FLDvPQZYFoo4QglynjdK0sycXSeyplL7gpul/rjhSLvBY2csN7Jd8ID+Qyjo3nABkTh3ZSkyp86HS6KArOvVzlkbCpCF6l3DbEk0jTsCrk0G548Q9bjg4+u4n/8n/53N5Lic198Dn/8B7+LuuKsNKyXJ5ZHIZp0X9p56/2T+Dd/8dd49a3zePhIL/4v/4c/RlcjDRGm4YbYK0PuM7lal8kj9w1FZaRf23SE4dzkeCQWo/lKAzJPo0/DpVW2UTkvwjHeDpWN7kGOi6yKnpehGHWrWF5RHveTdNemABEuVdYsm6iO07jUvdT5LDBXqAoup5ScTnJ+qIw0aZ27B4onpPvPMmR8bmI53RqdqzJ0zwOFq3KMyIB3+WB565p0fR4KF/y/uLwxOj+QT5aV5lHXuCLHyLpCZaGapaXqrUpTZZQCe01AZoZ1RM+TYP1ytfgGKKrVZEU3WPmiuFub8SQ7DQyfx/AbP0dmbgIbOpoR6ung5cqBzmtOLSA/OYErI7OYztegZ+cRtB94FNhykM9fM58lXa+ErOSBWGlFXCu4sl5HjhGJv1Hax2t018kdbkQGG109TXrlxF2XlvznPpnOvzzbY3V29Sqsi4/r0jZeSflx8V+Wx+U00EgIl6YLz7A6rnS4L0b9JieE9/TSwJb+4DFPV7GtU1gXr44zX7QL5EBQPGoDpc/iiUQpHAO5/OnrKQ5/t9KSLpHz0cXNfW7JtDSvlrsG6ifNpaLJzPW1GV6lGzGj/CgvTISti67Vi1ZzlTgdpHwoPHWWLtP9qOXjtiXc5dLkUmWhH2oUl17LkZ7Tfuf4YTwqG+lTp6cZl2JVnLpGhfHulXdcQ9iD+LVfo2qijE/rciLpWJ5hFFaTxtL6cPlwI4eUPtedo4jHta35XzS5vZdE0c0xox9oVCcUj65X4dwPMQrkbAsuVQ5cBukFaWrb3XOF5/q9jitrirsXFJV7VcfI4QdxoLYFmgq+VreRZ+kHKxWsV+qGscqoYpZTvs3H0xwjxt2CdOh1UI1gxaus0A7tDORGePGsvqwm3oO19Ho8JeEeMCpS6NclTeTBpSb1dMPJ5SRJp9hHSMN9uYVKyBk4Lh4e1wSnOR7LLDBsmgekhRbjyi+wKWA8mlw0SiMkwqWcLnIEFNShZjg3SRs7GkWlpY4886NE3J/LG80Jxp9fmGMfnGnJyKAhIAPEXZPOVx50jHG60SQU739FRwNLDcfcNPKZlLs2GQvavzA/j3Q650ZE6Be2FBuZ+YJGz8TdazALuSJm9asay+DywCWMjQ3qlWts3tjlrslLQa2OlLNEBPfOmZIuvQLzVnBfv0nTsMkhpleFChmXH43AUVQqH9cIqkxZlgrr4uY+GY5u8jtdM+MD74f7Zq9znKgTpyX36Zdu7sunWe4s/0KKS3XiZDgxP3KEhHQPuc99FFjx6YYqDn1ykPnR/XL3VwaH6oAypXV3bzzRa0ouj0xHr10V8lnu884LROkFS0/WCrpJFFllwbqT9Uq1cuCdV/VMNAKNnUDLRqB1C2XTCmQz0LbKojhXKi688trnrTd3IKxfiGN8PjWisKjnkm1hegFzNEYuD01iMhNBp5wiD3wa2LqfPU6aJPp5XI5m+Yokxg1xLQWLbcnyBlKqcvcQLt+Cbav7RZ+r6mJn2C7r86+ea4Kh+M/roDtN4HWs/fCuk+7adb+V5X45EhSHOtQaKeEplMUCUjidW2Cbn6fSyYSp76hPZqlDp6lT9GlXVVvnFFf8PN91QN25nr5wjhuG8UZThjDH82aoH2e5nKPO0ifeqazcl1BcWjqXYaXW/avyssR49XUZOSPkwElR5qm/Z6lP9BUZ6WOVhXN0yAHglsqL06puRIvyq6W+6uNGo5Ty6kmAzASXJJfar+vXl3k1KkTp6hrmqYcXmL4bKcr9Eu8+eOfI0SQ7YF7lxHBy2Cg/oiBHisIwL4pH8bm8UajNnf4N4pIeVzlqS6N4dJ6O63PGeuVlgbp0TnnhucqfylFOMoV190TbPMV9JpjhU7zfCu/uAUXzmuj+K4zSzDEedw9WQe401dKslJXgWY/ePV/8z7tXhmEY65kbOEbEYgNavdlcaXNcHstqyJ1g6XW4X46E+9VBTgYtachz6RUdlbWzaGhs8NTAQ6kNtyyVjS/aRyVMS8eLK5ag4aPPz3rGin6q0Xne71sa7KvfPrjOsC46Knyn+BU6pw6I4lTUjM+dx2iZFzeYlkvaItrDVc841F/pk73umHbrmiI0RqKIcqkPuyi0RsvIQdPS0oS29kaMzwAvvv4GvvnCz3FpfAHz4WYUku2YDyVwdmAI3/zhj/A33/0uzl9YQG9XCA8c3ouamPKvlGV2BGaIkvb2euuCBiWvLRL1fk3SL2Pebo0nYUkwX94Z+l9n0OyjBed+CXIReNfnykjoXjnhfp0SmD0y1Hhduq0Rvc/ip+vQsQDFo9FDGtuc4f4Cl5oUMppgfCpbL5jQKBZ5sVXGXjl7y9I2RfOihJUfdwXBNQR3vSyyNYGur1wEl3pOSttkrV32DfHqRjmhOOtUke1JQZOV1nLJ+qV1jaIIpKDRTpSiwvjipgyTMPw1Un58FaWUvkZZMV/FJC+nCYg1umdDHUB2mfg8zPLCUsxzCqnRYVy5OoLpXAxdu+9H1wNPAz07eQ7PCzEujeAKKK8Pyz0WZdXH8Akeq+sJudsft7KserefjblXDdihduveX1iONAYM2nrt0ygE5xTwCeIK9gRLd4rae9dOS19Iv3hPZRBGysFLyQuvtJ3jhUj3evpCeSrTF6Is/XIC/aVXa6M8X6M49GunHBDBZ/Q1OsI5JhSHjpUL09c5Meod97oK45SzR5o0eP2De7xzfZ2vfU7Hah/P9TRNIMHxRQnQFZRL+f9RxuN+qeUJykNQ/sLlk0tdl0Z0xBhW1ktQrsFxiRuNoiVF4ctH8yhSN3JHo0PlPOK6jqgMVD7a4eqFbBMudQ+8OV0KPK/oykjnaTSIF46ie8d8u9ewGIcTxulZV/66dDMzIBV1W+Jy+AlItbQp7pWoQBhuJTCoB1dcHVrcYxiGsS6Rfrohlc2lGt5bI4jpduVOEKidAC+t4M91dFlcpaUvXhEuhlvMXUmN+eITrEoJ+XF5aYkgbBBTufiUVr2Igk3P5NFZfnylm8SlNktbDMFj+nO/NGkpBwzz4gwVBnTGCe0JHdm8sRef/vST2LajFh9fnMG/+rN/j3/x//qf8S/+3/8S/8P/91/i//n/+1/w//lf/iX+9N99G5cuz+O+g/X4zS8/i727tiCu+VBokLjU3SSMXi4CA00pBDhHh5buzz+i0/jnDCeXZ39nSQT3Mt/etXi4o9xcGrJ8y9uzBOWzJNpmBHKIaO4DdV5pQtGUo6h8AzzDVL/OaRC2J7o2T5Q3t/TL2ZPytQDFcjdTnv+VSED5duWx9UjF9ateyNEmJ0GohjtqaMNr2L4nRchpKucBj7slRXPyuLoY1MdKCY7dCVF75dV117l0tzTpLPL5TAZZjeDSaJHMPAqDgxgZHkOkpgmb9t6Pbn2St3Mbo2nmSQnkGV+eEbgnyLURPkE1qSiqa7bXMa55ukm5l3D5dc/GYt5L11Ha5/3vtEKVuqFdgQhPH3jtdXAgOO70XYB28D/tCiTAUzHuvyUHysOWhw9waZSJ5xTxljoWSEAQhzuusFx34m8LLfxVH8bADOrP6R8XoXcdcuFIAp24HOX5En5pKWYn5fl30fvIAaFnWLq+lFdKeRgXh3+eW5aLC+GtK/3yPAjvqoj2UUrNhR9uSTw6RvEXpTBBvJVSOs8LeluiiKrtX025Xho3g645uG7DMAxjEemv66DesYacure2Sh7pcpwSdnIvU577iiuhsVHe6f5143LnsqP/mDdn7Xj5K+VymZtR3v9QaM/cCM7y1t2vO+z06Ji6QXWJMB49sh9fee5JfPrhDehpjmFm5BKunP0A50++i/5zHyE3M41dG+P4wtPb8ZtfeAZPPHQIbY21iIbV9ZFJJhZNpVI+l8vodfByvRiDi6MUjVZuPs7SKc7Acyve+i3EtbKzvLJeKvcAQV1bTm7IzZfnmkfFtppFF1TA1Rah28zF0ludp5oouF9i44UIQimuDM/h6lAauVgXOnYcRcvhJ4DNuxhAb/R6DhY5ZyWL9Ye7Fe9yss5x5V4m0sWus0tZc/j3PLi2a5xn5aygbgT1tTKGYCRD4AAowZ3lWsZ1/Kugvcvk6iZQKkvFpcxMezlYiZRRZdftEDg9yvEcTLd/5XcTt1tk7vxPokiYxkrzquwEIoJmVt6gxR+i/P/8Y0FYwzCM9cp1HCMyu7w5GvRGaeAcWdLQBkvXut7rXKsWrt2zStxmxIunl1RbaRnsKT9SOra4wzvOSNyusv0K5P5CEff7M7IL2NzVjM8+/gD+8He/hL/7O1/CF595FE89fAiPHt2LJx48gOc/+zD+3u99FX/3t5/n/sPY2KFJejVZ2qJjZHGEjZLzlPJSrt2zBB5WiGtC+eXoXHO6oFtFpwanB+vLRueZrFW57nliuTOXjfEuYSX5Kw/D9cpTrlsu65iycvEck554RVhZiCsgqIOrKVpwWdosZYvPd7GAuIb656ktphYwOTiNbKEBHZuPoGmvJlrdD0TbeY43UqRYDPNR5ZUxIvfIMq6S0W4sUlYgWg2k5BS5hapxt1N+neVUbq/0yVguvhKBUnQBymLUqn/sWsdI9ZSDqALcI1w9qGPxCrSm9UWp3L6xeJRfb2Wub5XViueuhhcZtEe3Ip9oIVWkXU38YIvCKhIsxdJasxT/dMMwjHXJdRwjfpNKzV4IR2mMsZvsXv0IurWeVOviGp8Ei/fAk2rQvOL9K3W0rgnn7fOMMK4pnP64dJOZhikhvb+bRmtDHId39+E3PvcU/v7v/xb+wR/9Pv74j/4u/sF/8nfwtd/5TTxy/33Y3N2Guphmzc8hzuqi2iK8muTVlcX6IxbTvT6LeVyeyjBaD6QSv27fjjBaL+Yqx3xZdCPyihXenaBtrVTKvUC1fAdCdGnBwt/lFu7igw1jWVRMLKvyP/0rya8T/95WJ4IsEphKRTAwVcBoqgYt246i/tCngI17mfcmhtErQPqgavVLWXw+DEd5eatsuJCjOsY1jc7RnAnuVQAXYB2iC1/NCuPi81aXo9w/otVy8fAiWAy3GKlzKvpSgofc8/4JVX4vLX9jFbix3r530JWsBamGO8Z6p/lh1Ha4eWK09I8JbhqGYRhkGcdIMEiXzWY8gWhNHSLxJKJc9yY/Y5eXSnGJkjfuWtwkZCsUEShZjfYI6eswyFChUvLzyM9PoJCeArjEApepWS5ngPQ8QtkUwoUMQvmM+8qMfkkOfqlYnHvDe6Vm0Tlyc/mrlGoExmZ1Q5Dn6LTbECW7ElkuLP/Xf2sIXZiuzb8npQtl+UejiMfjiLlPHV/HD7ueWXzgFkUst78cFXOl3AmYtkveT6OUjFZCMaRCScyiHoWGLdhw6Gk0Pf48sOkA9UcbAyQYLuK+TOF+zSy/nkCMRUqFu4iKSK6lRurgWL6IwkLavZRkRXd7OB3hr1+Pcp1zp8T49aD778r/VsWP406Jo1q6FaJrKIX3CeKQ5nWOEZr2EbYf4bxG9HrOEe52bbNYkqZhGMY65AY9Fbai4Rj/JZEt6JNo6tB6DanaYmtFb45yIyiQXy+lu1kmIrix2tbXZHKsKFnE5BwppBGmwIk+T5zzRJ/IpXifMZbIuebHSuOzJIw3cI7cmPJ8VRP+X6VMl4oLVkFlPHdG9Hft/jUKb2fwC2LpKlkH9BnoXDbrOaj848Yd5A4XcfDkeveY/7t7GsNCKIlwyya07noQycNPAV3bgXgLjyWRK8bZekT5/PtmuHso1T5QnKdkOTECgnJvqa1HTSiM3NyCGz3i5mkxbgtX06y6rWs8B9mt/t1ZFL/7eg+f++tL9Zxoxjh9VUiOkUi+gEQ4gppoDPrWX9DSui/8GYZhGM7eqoJ2y4iNclWflK1DKJLA3AI7OTl9Kk1h+N+vsS1VHlZXyjvTqyE3E39l2Gvlk0TJeeJ9gUIiZ0awXf452kCCcIHk3ZKKV840f9iIu5byP+5YXvzw1xP+6f8biluUrf9aCa6t/Fp/7Zm6TdQQUPhPBlrJVOR16dOJMjrjdfVAjb68YqwIvwhviF/0JRGV+1ZDfLQqG9pTHNqKIBtKING2Ee17jqLxvkeBnj6qDt7rQrE0SkQhi6EC8m6uKs1WVQ2FkhiVqFRU5m11DWiM1yCcyQEU76tfxm3hitDKcT3jWp2g+blZucO4ZOS44cr1hf9VoD16bUav0BTTGYSzebTWN6COuljHVOtdGIphGIZxvfbQ/RIVY4tai9r6FtQ3tmF6eg7pTNa1pGqEXYfu12aYKd3VlHKqHb8ZEeXL1ZBPBjkblJr3CdqlEjhH9HLNteI5QzyJsE/kOUjcCBFG6DlItJT4DgE/xWtFVNtfIaU4lselpz93in/er50gH4v5KT1L15NfF0raJR+sVEoZftvgyOWQSqXQ1NQEtLYACXOMrAgVXyA3S/m5qy0+ZaskAtQ0oL1vLzr33Q9s2cf7rDlFNO+IvmSmXzp1jp5CzylSKI0SKac81qUprDuqXL4UtaSlthbtDU2oj8SQnZtHyB8C/2sluJ3lcrezJJ9leiTYXyZarAVuRo24cLd64cG55VJiycZdg8tVeX5vJAGV23cKd/O0vJ7ov6UEc4sgl0duIeVepdnY1Y1kKOHak3Xe0hrGIvYwGD4hdsiubU25R7/0hd1PfWlgdhQL59/HmXd/gc56oLmhBvEwDdxcxk3QqU9/uYZ5WVa7ximxQG4TFwXz57ncuc0dtx0tI3BDE4O4biNCd2pZ/lYFPz/uWqvlTd0Yt/BDeunqSxLCX1SwdKccIh5aBluKzY+R6S7uq8Zy+2+VpflbTVxOq0XPA6uf6mqXy0oIrqLK1bg66e/nIq8RAtEo24YiZmfmMDaTx3aNIth2CKjfzOeCnebAHVslOuMuRlUvqH6l25538wshnwVicVrhcdngiHA9TyM8wjAKlitow7koefu9V0DcyCIXh/vPqEZZeeulRmpjHJufxqv953B6fASJzjZka1jm1Dc5htELSgq7XCux2q1HNfMhoNov2KvB7cbqZXnlJaGQ1UIH1xe4VVSfS+XhDulGsD2sUg63ew2VLMlLtcwGKH/XOy6UbX9V3Ox9rKwT2tK+8tc1lpTVDbjp9P3cu/ZlpawwL+UoX8E13Gweb5ry/C2XVWbBHWJelB9JnA1CLFdAaD6FyNQcepIN+Mzeg+hDFHrRUbk2B4nxiVBZb8u3WQlpQYCWBMYpJ6ZH8O1338D7M6OIb+lFZ3snahNJFGlU6MeASOl5Uz3XkpGxH6rn0Y1I5TIQhc9mMkiNT2Li8gCO9u3EszsP4GiyGezOIkmJOMVJqj0I9nCsO6o7RoTbq/80j0QGmBvG2Psvc3EOyVAGzbUhxEI01TTPhMbqyfDVr1eRoNfjE1Rgl0wgJMxwlUkr7DLZWYTHFaRMyd42SlP50RNww/RvQHB+kD+3uQpxBvlbFRhfkE8t3aq/vYSbSW+lYaulU8lKwtwC1T06N89q3Yab5g6Vyw3hBbuk/Qt3C+3jTj2zeubDEa5H3K75bBFTsylocFl9Rx/aDzwGNG6ghdbKsDWlaEpL494gqH5a6t4F909zDGlnSG2UhJQMFx8e9h4/OUTtxq+YoMyJHCNyfoxweWZiGK+f/QhXFmaR6O0EGuowFwkhnc/xNuj1RndK6fRAzbv/b7H4XRR+PAHqhFbscuj239J95omVVaeEn84tZn8RpeEWSsuTcgqyZYh3uZ5xLZZ7AUzHFaPiKWhuLQXzowzidimWJ6M4q0fH3f4xF96deX0qAywTr1jO3KtE+fZCVsmLKzNvy+W1HAVXmfmbopRmWT5d/NcpA4fS8MvvRpSHW+k1LqHiFBebrpMLXU0pSv/a3HwewTU4FMYL5x2S+3f1cakHSVawWNe8/CkHNbkCojML7G1Oo6+xFUc2b8Ou+iZoTF+tH7ZqPpXGnbgAY/1SWW/Lt2k2mGPEuFtY3jHiai1FhyX5WWBqAPMfH8PYldMozI2goSaM+poI4jHWHNXO8qhcZQpqFPe7VR33wwSHAlztlpTFIUoPgE8pjcoIbpUgP2XxVWTh5vgE4lsNgnLUUoZg+b0zjCX4dS/obWmh+ujqDJdap1BdYWh6DtNpGmNUOm1dm9G09QDQtg2ItTAMVZAL62JZXBr3DuXNhN2/O09ZecsxkmeZs5uDKRp6F6Yn8O6VC7i0MIPZRBS5pjqEauIoyjHiziDuHvE/LX0dcqstfXmnLDAbKvd5SXjprKhTyyB+d9ujcruCa44wzVxOjrmbhHlz6Xj/llAo04XuGMOW9rjwS88olYF2B6tBOL8M3P/eqh/GD1hBsF+HFHyljoEgndLJPi6+cpYerkp5uuVhSx1vLrSuv2rmo/Yt3etvceGV7eJ2CRc1/wviK0ujfLsEgwWnu/wE4YhSr5KtW2BpBl0K5VnQYT+h8v+FHCMe3Le4+xquuT8VlF/XYgaqn+PCMj8Kod8qi9kswlNzqJlJYVdzBw72bsLO5jY3UiRB0VetHNfLQlnyhnFbVNaz8u27zTES5G0xGWMdsQLHiBasFcUMV1LA2ACmr5zF2NXzyLLS1iCDmnDOKS3F5H5tYfBSg+7W/aVb8eO9Bu3zz1ly3Nunc93eaqcat8WyVcAwyGL10EPom3JaUmTo6gkNRyLIRxJUbDEkmtrR3r0JtRQ09VDrNPLUWkrUO5cneE+1YRjXpaxp1qocIzIgJXOUCxOjODU04EaOTITySOt4IU/T0HvG3HMm5akRjFpKT2vfCnDnCk9xe/iNQaAzSv/rn/aVwupI2XlVcEcZvtThDrbd1o0J0s7TWF6iw8rXqxAcDdJx2zwn2F/UyFdt+Xlz+fPFW3hnesl4Zy2uL4bxwnlhK6nUuQqqXdofSICf3LIonfCSEaXBudpemk4lSkYTZC8NF+R9Ke6a9Me65EZElMLw3LLTXf799UW0h/qC9qF3fcG+RRRfcNmK2qXnOxgWt7nCMEqhMmyAXgMvFivqxLIozuB8L45SVC6dYNsL54VR/LoWLx1HeVLB+QEuEm81uIby/IpqWQ2C6FgpnevBcAU++xGWWTwUQYJ1oqkYQW+iHns6e7C1qQXtDBanlNeWJXmvpPJaDONWqaxn5dt3g2Oksq4rf4vJGOuI6zhGWFPcEU8xeev6ZYYyP4nZkQFMDJxDYXoYkcxMqRLKSCnV2SDmoOIuEf7vJ+0tvPWApVt+FBXKxLg1lpQiy9RK1biG8mfNPYyL2+XPq573MA3lWCyGULIRieYutG/ahlBHNxCT2okwqEyxOAqMQia4WpQlhplhGNegJ8w9I+XKkDtkw+k50lJzjgzNz7vRI5dmpzA2P4v5TJrHi+5XYz1n+ky6nr3iTbx+6rSCgjOOPDtbWnrZ8P/3dfcSuMt1+lzH2ZMboXQUk+v4aeUGpwSpekvvBM8psMiyJk0Aj5dC+OuB/SLcjzte1KXr0OtJXKm4rsV0giS9Q97xIFhlfrTpUg12Kx0uFoOVHXDrStPtWAZv5Ma1Ya57UgnPieBvEO/6mGb5+W7V2y5bJVrhyWXnu7L014XmoCsvMy+txfL28K4x2KX1oKwXbcrFcihPw9vl/+8C+MfKo78OOmUxL0E8brGUUuJ++u6c8msr59p9ClYtbCnpqnjlFVzXdeHhQj6PWCSK+ngcTcl6bGxoRl9zOzqpnxsYZMn05zeIzlHt0gzjVqisb+XbbF7vBseIxgAE0TlZTMZYR9xgxIgWZTXCVRYaSWEKKyEKKWBqGJidgL5A4VpwF8Y/l3iVs0DllnNLt+1MOh+3vUh1JePhFLVV0NXBL3cVp3fLyu+Csd7Rc+g9ap5xGgpHtObt4bY6I6FoRL0IapWo98WZWqqZZCMQ9x0iqln6iTsc50kR99T7+sccI4axUpYoSG+hCW7lHNHUPlrq9ZoZylQ+g9mFhdJILolO12OoZ2/FrbyfjkZPzM/P+3qbZ/sRVNMXahcikQhisahzlGoU2XVhHMqnHBHZbNYtXbxV4hba6474eRNKMxFPuCX/078b4qLnf26hNN0mt/10nWPER9GVnCJlDh+XXgXBviAuxVMaveAd0D+Hl5a/QbSp0xVHJBpFlGXn2tgq6VSiMlyYX3DplBNcz/XQiIxkbdKbM6NEcH0VaTO6PK9JtlyOFTCw5yqp3KeonOOcK3Kia7ncdVWeq+10Ol11fzVUZlGWn8owovu2AhSXvp620jRK+df1UIJrK2e561N9CMpPozuWS6McxVWTrLxH1yKTXPHVxOKoSyRQH/KcIfpZIsFjMVYPrQeqeUVcP0nDWDmVda58+y5xjOgHBEWnZ8nlbzEZYx1xHcdIWb24JoR2sCYVc1ywOrvJ94gb9hjULC392iSFreGaWjrlvWyS18ePzlgF3M3179Ut3g5jjVN63rTiS7XmwtUjdR5ocfmTsLqwgbh2wDNSg7O1xzCMFbBc+1z2MMnxIS2sXdKw5Whbx7RcqfbV81n+jAbr5ftWQpCWltdLdyV5Ko8ryF81uRHlealcBlRui2DfStO4HtXSK493JWmUo/NvlOZyrMx9sDSNlaYX3BPfMnSs5NqWS+tGaZanEUg5ldtB3MFzcaP4A8rjrly/EUE6lelVSzuIu1xuhMpaGlhziEjcOiNfybnXcEsnGUYVKit4+TYrrTlGjLuFZR0jqifCVRKtVA21DNUqkTs/qG03E5lx5+CNsgfeuCGlVsB/fCue35KSqmDJ7vJzrNIZxk1RqTJvpEKDRyxYVjx+Nzpd3G1PaZDnYFl5iTdDZVxiSZlogxGXx+3vWhWWpHWPcDt5vp1yC869mfRvNr27/X5c73qCY7dUxje68FuK1DCqUFnXyrfNMWLcRaz0x4JrcbXHW105wUlK1uTXLm6Ej4nJjaTiQZcmKpcVoXCBGIZxXQLDLBBR/ggFj2UglQTnLTNEpPzU5eRuI8hXeat02/n0y8kNZC2X8rLzyy9Ib71KUO43LSy/avHdrFSNexmpdv71pFocK5Vq8a1UqsVXKeXhDcMwjDuL2t2bhy10YDMsaa2v13oHxyo7VSa/PjGMm0XVZqViGMbN43fEq6FD0r2aV0S/bpWes/LnrlIqUSRrXW6AfhEsl8rOaCClY/6yWvHeipSncdeJrnU1JYjzZuP281Ot/O4mCfJZ9RquJ2VxLCt+WFdPuX1NHNrvi6v35Y49STWCY8sdNwzDWMeobb4l1EiXCFpxwzAMwzBundvRpYEuria3SrW4Vip3OdWyXCklVrsjWd5BvZvkTnGzcd/JvKw2t5LXoLyvJ+VUbldjSYUllfGtJI6AyrgMwzDWASt3jASNpL/UwtpNwzAMw1hlKpVrmd4t/UKtHSJQxpXnVFIe7mbkdqgW3+1IJdXCSKp1CMsloPyc5QjCXy/MrVCe9t0kd4pqad1I7gXK69PdwErKrbKcq4lhGMY6ZFnHSNV2cZnGcole+ASVhJIyuXm5U1RLy+TelxLVDkqu4dqD1+4xDOO6XKeTsowqXvuUl8m6LYQ7zJ0o19WOs1yh3EhWQrXzViqGYRjGmuG6jpGV2h5Lwqy2ArwO5Xk0WbncKaqlZXLvS4lqByXXcO3Ba/cYhmHcRZQ3UpVi3LtUc2ZUimEYhmGQZR0jwuwBwzAMwzDuKSodG6shhmEYhmGsaa7rGDEMwzAMwzAMwzAMw1jLmGPEMAzDMAzDMAzDMIx1izlGDMMwDMMwDMMwDMNYt5hjxFh9rjeZmU14ZhiGYRh3B6aTDcMwDMNhjhFjFSmzsIpl66V9XBiGYRiG8evHdLJhGIZhlDDHyHqkzFdxQ1kx1U6ukJCW/qa/8FcNwzAMwyinmpIM9t2uVFL+5Z3V/ArPnfiij30l6NaxsjOMqujRCLoppefEnpd1hzlGjEWqGUzVDKiqKGCBC4qWS6RaxBUEQW4QzDAMwzDWPNfThbejL4PRnNLVIV9Hu2WRa8Vro3S9hduQO0W1tExuLIZhVKXkFDHWNeYYWc8s1wj4dtOyBMdL4htX1xUGlEHmjDKP4PRrqLrTMAzDMNYnecqqqMaQ3zsOOsllneVldbJhGMZaxho+w8ccI+uZar8eaJ9zm9IMK0pynhRuIHmGLVSTwuK6i49x+w2QFoF46WrFMAzDMNY5vk4sUtJcXaDMa6ltWm6ZQLR9k5IKhZCi+Zd1JiClKAkhwgS1xzoJhmEYxnrE6UDDcNBg8pwTsorkxMh5Ush6ks8sSq5M8jpGyZU5SiTaDiQvUZwaPeJR7hgxO8wwDMMwiK8QpS2pWZ1jRE6RuTKZrdi+kSi8ZKZsn+LNVypiP23DMAzDWG+EisRfN9YbuvPOEeLjtvlffoHWGE2oNCVP00lOEVdL/BPKRn14cCNwqJTHJ0rheCAUByI1QLweSNQB0VoUQ6FrTjEMwzCMdQv1Zp6KUU6RFGXcSQE5asuiNKb0akkPu41rda/DBSgt9b9i0C9iEYZvKoTREYqiSacH51fGUzVewzCMmyBoigLKt9kgqa2T81dt3YnpEXz73Tfw/swo4lt60dneidpEEsV8AaFCkW3XYmPlraoBK7JJ1DxJBbcMROGzmQxS45OYuDyAo3078ezOAziabAZ7IkhSIsHvtdXaOmv/1h3mGFmHlN/wYF3Pvvf854HMGNB/GmffeQWFqauIZecQCYcQjUQRDoWRz3mOksX2QhO28Y87ZMypjdGxsCIvFBDlMs6WLxNKIFfTjM0HHgB23EerbAOPMyQNs9LgpcVIDcMwDGP9QZ2ZpS7U6zND2SzevHIB7wxeYceh6JwjeYpUpTdZoP6jLDtzoH/cJ8wz41wmqMs3x2rZSTiIbck61EgNV2L62DCM1aCyeSrfNseIcRdhjpF1RnCzy5cSuSU810QGmBtA4eO3cfLl7yM7eBaNxTlEIxGEwzSp2ArlNW+IzuK/oM0oqlHiX57rOe5kxXKOkRAbMhlg8WIIc4U45qKN2Pv4cwgfeQro2AEUaI2FYjzLt8pKjZC1RoZhGMY6hLpTc4HotZdLqXm8cPYkXrx0xm1nwiHqWHYIyvSvp8Ul1VBAih9enYpYLk+dDOyON+LvPfw09tU1oo4q2P2YEWAq2DCM1aK8bRHl2+YYMe4i/J/pjfWCnnFJ4AgJZAncEaYU81kU8mnUJGNoamlAc3szGtoa0djehPoONiqdLajronRyP7cbKQ1cb5Rwf1N3K5q6KNxf21yLUCyEbD7DJoytkGtsmEgo4i1LrU9l62kYhmEY6w9pxWIxjzT15nwujUy4gGRzA+paqYPbmtDAZSNFy+WFerlFupt6uZ36uqURoZoYUoUcFhhvjh0KDdx0fQMlGKhiwzAMw1hnXNMnNtYLckAUlthBgdMUEVaLWATRCJCIR9BK46ppQxfqN3WjcWM3mrls3SzpQusmCtdbfOnwpZPSvqUHbRSdV9fVhmRDDSKxECJRpujcvFrKORLkQChf5hwxDMMw1jfSjOFwCIVQETnq43AyhpaeDrT1dqG9pwudXHb0dKJDy+sK9bKWG3vQ2tuJmuYGFBIR5CMh5OUYYToa7VlCCZsaNgzDMNYZ5hhZrzj/g+eQ0P/eWmAJcUvHCkWEIxEkahJAshao0aSpXEpilHi51JUkHKtDiIJIkuEo8RouYzS8isjmssjr6zR5mmKM3zf9ggx46fr5MgzDMIz1iLSgxlNGI2E3glO/H0SiEUQpsZgn3noUMbc/uox44RbXowgxQjfUXMPP9eerXPOFGIZhGOsZc4ysR5z1I0uI4hwk/E+f0XWf0i1zVlDyuTxycmIUte2mbAMKcZ6i9RoGTTJYrS91TopcL1DyoRoaXAzj5g/RL1Mh5JhWQelE9PMX43IWmcsEpYyKTcMwDMNYF/iOCo3ikA4uFgoIUW+GqT+j1KN6x17LYD0SDiN6XVEYTaAeQSwadevS90WJ+zOVaxiGYRjmGDGIZxbpM36ek0Sb3FpiKUVorMUoceS5zCOOAmIMKgdJnMsECqEa7k9469yn9Zw+0et/dSbvonaRU3znyzWjQ7Rduc8wDMMw1h/uA71UxpoYNcx1TxY1pcRNdF6xb1kJeV+0EW4t2DAMwzCMdY45Rgznp1i0jQLHxdLVW4H2V1Wb65oobyMNwzAMw1hrBGpxddSjNHGlNtYXHartNwzDMIz1iTlGjDJkgi01w5zZdEuW2XUMrmuTuXbbbDXDMAxjHROoyqXq0RvxEfg0buzbCAKUB/TXNWKzUvcahmEYxjrFHCOGz+pbR870csNGPAmG8N6w0imQYRiGYRhLKOlUKkrfReL235BlVbwpXMMwDMMQ5hgxVh9nt7n//B0e2lKF0/vQ16CDgRiGYRiGYRiGYRjGJ4Q5RowKivy3OqNHKn0czu/BqN3+1UnCMAzDMAzDMAzDMG4Lc4wYSylzWDhHhl5/uWYUB3e4fS6EL8sQjBwpC3Kd0IZhGIZhXAdPL3viaVTvpRrDMAzDMG4dc4wYFcgzUjmcY6nJVeHnWDwjGGnibbjVxXAy3Mx4MwzDMIxbw3OGSI96/3smnHOQ+PsNwzCMm8QaT8PHHCPGbeP8IZSiVpY4R4RnwkmCv8VjRLPiOxbDGYZhGIYhPL0YqE0ti9p2o0VEuc68jv401WoYhlGd8n6Jsa4xx4ixFM/qWgGesRaseUuu+eeX3CDO8RGEIMH2kv1lxw3DMAxjrRPo2uWktOo5QZw4XRms85ivRv3gbr38NZsl4s6tToERFLgsxWMYhmEY6xBzjKx7btEUqrCxfPvMGV+eARZsEd96qzy2KIZhGIaxTliB2g2CeEtPVy46RzzcMe5bEdcLdotmgGEYhmGsJcwxYqw6zsZyr9W4TcMwDMMwbhKpUP2u4JZuz7XbhmEYhmGsDuYYMVYfWmzBVCOGYRiGYdw6gSNkOTEMwzAM4/Yxx4hhGIZhGMa9xgrfojEMwzAM48aYY8QwDMMwDMMwDMMwjHWLOUYMwzAMwzAMwzAMw1i3mGPEMAzDMAzDMAzDMIx1izlGDMMwDMMwDMMwDMNYt5hjxDAMwzAMwzAMwzCMdYs5RgzDMAzDMAzDMAzDWLeYY8QwDMMwDMMwDMMwjHWLOUaMO0iRf94SRa67DW+PYRiGYRiGYRiGYdwNmGPEuGPIEVL0/gv2+EvDMAzDMAzDMAzDuDswx4ixSsjpEYhhGIZhGIZhGIZh3BuYY8RYBbzXZBYHh5hzxDAMwzAMwzAMw7g3MMeIsYrIIRLMK+KvOW+JNuQ8CY4YhmEYhmEYhmEYxt2BOUaMO4TnEPFcIaUVwzAMwzDuIkIhf8UwDMMw1jHmGDEMwzAMw1jHmG/EMIx1izWAho85RtYjVRuAyp3BKzEh9+cdX5RQ0dtbnWB4iJbV1g3DMAzDWD2u1dOeLAf1ccgXwzCM9Yw1g4aPOUbWK4G9pDG0YYqWgQjXSIR4yHeMaLvA//gvrL9Q2O13DpJrGhTtqBAzvgzDMAzjDiC9XU1EsCwn0MeBjvaoFtIwDMMw1gvmGFmTBMbOcuKzxAryR4i4fX44tx4E0pJSdrrnSPFX3X+hsl06Pwjsx7fkZMMwDMMw7hy+gq7Koj6W9jcNbRiGYax3zDGy7ik3hwoUf7tY8L8iExwrR96PMoNLq9oVnOu2g3MDCShfNwzDMAzj14vpZcMwDMMwx4hBPOdF6TejYgEo5P39VXBOkUAC/HMdi+shOUhcsPLjhmEYhmEYhmEYhnF3YI4Rw6fMaaGRIoVg9EgVyv0h17B4juc/4X/+MlQ+ysQwDMMwDMMwDMMw7gLMMWIYhmEYhmEYhmEYxrrFHCPGTRCMBikf+VG5Hmzb6BDDMAzDuIabUI/FqoF9XVu8NT3rNLlOd1tVCA4sG8AwDMMw1h7mGDFugCyjQAJkjKnqlBtnYYbwlqFi2TFHsB5s3yLVsmIYhmEYaxZNa74o1+rRletWT30G4cvkeg6Wcn1broPL9xuGYRjGGsAcI0Z1rpkPpNIa0vFFB4hntHnb7s8ZWtoX4G17IsrjWgE3EdQwDMMw7mZKKi1QiTfAC1+uR8tlpSw6WAIJ9l+X5dS16WXDMAxjDWGOkTVLpcG01ILR1Kre9KqBgRTm/6oOEUqUEuNWlPv0F5wbLCvj9p0h/l/pmJt4VcJ4g6WOyWniolIOfPyol0z5qpXyJA3DMAzjHqek2q6j1xYPLa6VdKOPjqxMNS6GDMJ7eh/Ic1nwd7pFZSLllDJuGIZhGGsPc4ysMWSzBE6PwPHhEVg0NIL4vz7Gm/OlIANJr78Uo9yQxCgJhIox/7UYEZwfiFDcgQT/Ly6FP3CE4jlgXJVzGfPj0ed8/dU8JecvtasUxtsyDMMwjHseqbYlWq1cafroJ4rF3YEiXSTYIxV6ffyQLpwXh3SxsxGolwNbQHlycS0nAVzXF/1LlB8zDMMwjHsYc4ysOYolOyYQ/V8o0vxx1kyBxk/RGV3B2BAtw7SXwhrV4U6S8aS5QrhYwjU7iGdo6VAxsPYo3siRAK0vhkOEKYa1kuWS+VItpEQYJErR0oVWBlwmnCdFezz8qAzDMAzjXsNps0o9pu0yCbSeRnNIJUs9ez8W6DD/uNN7ZZXbZepxecrGc/K/onOKhJDheoa7slyW+zuuIUiD4VxeDMMwDGONYY6RNUgwNiMQ3Wbn9AhluT5PI2oaYUqEEipOcR+F657McJvL0CQimON6zhlQHrKMKM4BUib+oWBeEaXncuD26RjXC2FEGTZSTHPnPEVxMx1M+jJLmeeZaZ6Z4jqPhxa4pMlWcuospmUYhmEY9xollcilNLKcEtJ00rzSxtKKvhamRgRS0Qhy+jEh5P1YEeHJEr38yp2LUtK/1XFHeH6R4SQaKZoJU9sy/llGr/SmGGiKVmEg077MUhYoaUqO4izH5ZMyDMMwjHsSqTdjDXGtU8RHjoUFmj6TV4GJK8DYBco5ynlvffwi5RKtoH5aZZT5qwgVZJ7lnAHlLKplPRLlqS3mQKHdXhlslBjzENcIkYUxpsM8TDPNSaY9xTw40bqE+Ri/zGMDDDNKy1COlOulbxiGYRh3P/otIZ3JYnJuHiPpBQwWMrhEOV/M4mPkcY4a9xx15UXqu0GGH6X+m8/JhSJnSNg5RaKMQyrR04plWv9GKtI7wS30Go2cMor/ajaNfmbsEg94UsRl5uFyIY8r+RwGcjlcTWcxQfWtcwzDMAxjLRIquvcfjLVEcEOdU8InMz+F+cGPkR6+gHh6CsncPBL5NPIMVAjLsJKPLIZYmKZXfgqF0Yu48PEJ5DPz2LxlIxKdXUAiSaNOv1PFGFYv4JTBauTSpbHl/CDaCuURpnEVKuSAqSmMXr6CqelpdPRsRGPvFqCxnWH8n5/cXCZRnhVFlvHPM2PZaC1Czd2o6+5Dsmsjw+iKGM6NYCm/OsMwDMO4+8kUgMGJcZwfuooR6uC5eATzkRBS1L0Z6jb96U1T9wpNJIKJhTl8NDyACzOTqG9uRl/fdkSjcadvnUp0JhwjdUvpXS2rEUIkEkYun8fVq1cxODiI5nAM+7o3oitRh2Q0hkQo4iwBz+tSRLxQRIxSmy+igRna2tqJjS2taI0zlIa8BGrY1LFhGNejslkq32Zz4o1nB8YpJ6ZH8O1338D7M6OIb+lFZ3snatX/yKs/UUSkNIqdraVb9do9dWcL/NMyEIXPZjJIjU9i4vIAjvbtxLM7D+Boshn1PDNJiagtE9XaMWvb1h3mGFmD6IYGbYVDy0IKkx+/h/PvvISJ0++gJTeFhvys98EYWmEFxJDOhRGmoVQTziCSn8PswiwiNQn0bt2Khu4utiBJsF1yYWhi+fErJa6oEeKffoXyfr3i/1xEZD0V8sD0JPovXMDk2Bj38wCNQDlk9NJNhOfKEAyF4jwzgflwLaaKSSS6tqLn0CPoOfgQIs3dfloy2+SU0bphGIZh3CNQz6WousbSKbx07D28NXABl/IppGpirlOwIL1Z9OYCyef1CmlRL7O6V1iy8SjqauuxZ8duxOUYYSDPnpf+9eYOc+vLOkaoPal7C+woDI0Mo39wELmFBXYMItT33rjQaCSKaCwq9YxCLodkJo/aXAHt+TAOd23Cp/cdwpaOVtQpsvJkTB0bhnE9Kpul8m1zjBh3EeplGmuRykaIBk9zRyd2bNuGTV3tiGdmkEyNoSU3iQ2hOWyOpbG1rogNySK6kmF0NSSxoaMdbW3tqKlrcOc71wcbCTU8msxVTVDRzWmvJSWk1sVbKpzXnrCKyfuSqEFDWxtaOzsZZws6m5PobQxjU30Rm5NZbE6k0FmcRv38EGIzw2iNh7B3+zZs7NuKSKOaLzdvvovx2oszDMMwjHuDBPXh1l270EH9lkrG0a/XWajjxpNRTDUkMN2URKqtEbmOZoTaW5Bob0V9awtqG6mLw57jRFrwZjSh85e4E4qIxmKoq69DfVsrwq2NyLc3IdPRhLm2ekw11WC4JoyBUBYj7K6k4xE0dXZgG22HlqYmN2G7wzoMhmEYxhoj8s+Jv26sIZwX1RfnpJBzIhZBIplEUzKBXDqFXDZDEymEOm7H29ooHUi0NCPW1IBoUyNqmpqRrG9AhAYUYnFnkAURu1Ef3hr/L6IYltNEoj3BtHBeGPlGipEwIvEEamobUN/QhPqmOiQba5FoaGDUSUTDNUgVYpgvJlBo2oDe+x5Hw4FHgK4tTJvGoD4lHNJIEfnyvNgNwzAM414i+NGgriaJZG0tIkVgbnYeC7ksQvE46qlzG6mHW5op1I/N3G5oqEddXR3PqUUyXkNVLD1ISmrQG6fpuI5qlF9EulvLaFQjUOpQy3ibmppQxzQSNQnq4jDyCymEFzLoDcdxX2s3Ht26Ewd7N6ODNgQtAbjfQMq5TpqGYRjXhe2HmhSNGtFE1CPpeZwa7MdQZh6R5gbXTsWiMTZgGlGnrkjQ4KgvUlp16AfcchS+kM8jxzYtNT2DnpY2bG/rRE+sxrVlmhjAfSRTVGvHqu0z1jS+djXWGnrOJWpsvDEdJFoHtG1CdO+D2Hj/U0hu3I1MvBFzao1krTXUAq2NQHsrw3U4CdE4QyKhlojxMYxaIWdYBes6NXCKMMXSbv6naCk57kjToCrSAEswzkhrJ9NpZ/xMp4VSU888xpAOJxFt6UH37iNoPPIE0LWdeW5iJAnmP06JUrwv3gTtmMfSLcMwDMO4G5F7XwZ5C2VfQys+vXUPHtm8HZ2xJJDOokgjPkad29DQgKa6BrQ2NFEtN6GlvpEqutZ1Cjzjn8KOghaetl0J1J6hMGpqatDU2IimpkY0NzWjtaUFjQ2NiMfiKGZyyM+l0BCKYEdzBx7esA1He7eiOxpBDWNwnYhADMMw1gIrb0SNNY45RtYger4DEb7tRGiShWna1HcAh55A5/4nEOncgZFsDGf6RzE7Og7MzwD5DE/OUwoM74/QkOPEReLHHDhD5HLxE5IzxHNZ6H1luWK4VFD+aSa5fE6vw8hNk+U2lzlKOo/Z8Xn0T2YxG2tF/fajaHjoGaBnOxDTKzQauOt5hZWMn1Rp6bF0yzAMwzDuRqRR5RiRNFC21zfi0/sP4/6ezejMUnOOTGB+ZAzpmTlkUinkqDeLBf0c4GnA8vfnPaVMXcv1yp8LAtzvFRKt648r0UgENYk44vE4ovEoiuEQMukUZsbHMTs4hOT0PPbVt7mRIkc3b0NHNOzy66t1LzKzHg3DWCtUbz6NdYiptjWObnCURszijeZaMcGdrQjteQybjj6D5m2HMR9Oon9gEDOjI/qEDYPJMUJxJwYmlV6R8WLy2hDPOaJluBh24jZlOfHcYlFOkAIiPKsmFHOz3iOUY5wZIJcCJqYweb4fl69OYi7UgJad96Ph4c8DWw4xTB2lhuK90ezlYFEMwzAM457DU5lOV1ITu4lMN4Rj+MKB+/GZbXuxKVaLzMg4xgeuIpehrtQk5RFqUf/1Gencgq93NeGqExepdKMfeYVofyCFAnVzoeBJ0U1ViOnZGYwND2NyeATJVA5P79yHrx58AA9t3IZOpp9gNHrlx6FslCthU8iGYRjGGsHTtMaaZqkzgWuhOG2lJNDYC/QdQOf+h9C+dS8yiGFifALzco7MTTGsnCM6JYiB1UUjR/zYNF7ETbrqfrnS3uAvQIYY9/OweyfZhWOcRRp709OYHRzB5FQKkfpO9B35FFruexzo2MYwmmCO+VuMSFEZhmEYxr2P9Bl1YphSw/Vmbu6MJfDk1p14YNM2dMdqkR2fwtjVIUxPTSOb1fuu5WpQa54EGnklThGp8qIcI0w8HKaupszOzmB0dBjTo6NIZHLY09GDJ7ftwcHmTuhbcLUU9/OEogsIdHO5jjYMwzCMexxzjKxTCsWc97JzcxvQtxfdBx5E/aY9mA7XYWB8FlPDwwANJuQ8g0wWVfAXKXqiylNyjsjKCyynohwojFziXt+h9STPSIFxZdJIj0+gf5gyk0e6rhtd9z2Jmv2PAV19gN6zNgzDMIy1RrlDoUw0AaBGjvTVN+D+jX14sHcreqJJZManMDkyipmpaaSzWfcjhH5okENF+lcSRFkNHdNvGYWSUFNTH2s9W8xjYX4OU2NjSI2Oo5Umwf3tvXhm137sae5AB8NpTpESikxiGIZhGGsUc4ysQzQUNxcqIK/RGzGaPm29iOw8hN6DD6OmayumaSANDmlY7bCmywfymhuEFlEoQqNMTo+QNwpEI0AYj/d5Xu9XKBGSM6QYoRHnneONOGFauQzmJyfcKzuDk3PI1LSibedRNB15GujdB3DbMxGJGWCGYRjGWqVMx2lERjAh6+7GZjy6eQeObNiKpkgM89MzmBwfx8zMDPJ56tFCERHqXk2C6vSwIlgO6l59KU6aOc+AcoiEomHnIJlNzWNsbBRTI6OIZ3LY3dqJT/ftxqPdW9DD8HLUlEaKSIQSkwTbhmEYhrGGMMfIOiUcjtC20e2n6ROpp0W2EYl9D6N798NItG3FZCaGK0OTGB+b8J0jGjki84riXomRwaU4olyLevOLlP7cUYQ0wapGphR5bi6F/MI8BgaGMTKxgFyiA227Hkb7I88B3duARCMzVSOrjWcTM7wMwzCMtUQ1vcZ90pnSxnKO6OeB3Q2NeHL3fvc1mE7q1/z4tJscPbOQQqFYQF7ODp7kRFH461oqiWVFIz/DYWQyaUyNj2N6cBg1MwvY29iOx7buwv09W51zxv95wkMnMl7DMAzDWOuYY2SdIjtHLoyiM4H0+ko9UNOF+v1PYu+Dz6Fr21GkCjUYHhzF7MgQMDdDy0vOkbw7OR8K0yDT6BHPMRLi0nuFxrPM9BtVRON99QUaTeY6OYKh/n5MjM8g2dCD7YefQu+jzwM9+zzHjKuKvvUlQ8wwDMMw1grX02s8JnWpnwU0IWsTpS+RxHMHjuCh3j60UU8vjI5jYmgY8wsLSBfyyFFdutdi3KsxvqNEUfnLHMNo6b3oKqWsHzOAVCqFseFRjPRfRXQ2haPdm/H53ffh/q7N6GT4Gp5Ucowoz75admi7cp9hGIZhrBHMMbLOkE0jPLtGzo0Icm6L5liY5lh9L8LbjmDr4afQtfUAja0EpiYmMT02CsxNM5wMLL06o7lFNErEf71GcbjI9Z9njrk5TDILyE+MYmzoKibHJ5Gsb8f2/Q+jfd/DQPsOBqhlujTDlAVJkEHDMAzDWLNI2QXiw9U4pZaikSPb4wk8tmUn7t/Uh+6aOqQmpjAyOIipmWmk8zkUItThVL96kdXFFKhhLkMR7zVWfc0mwvVwOIyF+QUMDw1hbnwCjeEo9nZucCNFDrV0YwNPauSpeoVGr+m4iAK9LDEMwzCMNY45RtYZnn2jsSL6iG7YVQD5Lxz6HGAoATR2AX2HsOnQ42jashcL4VqMTWhC1nHvtZpcGpFCGtFiFpFinvHQLHOf9tVcJFkaVBl4E61mkKMhNz46hZm5PCJ1ndiw9xHU7X4Y6NzqzW8SEBheZoAZhmEYa5nA2VAm5a/BaJdeq9HXavY0N+GRTdvwcM8WbIgkkB+fwtSoJmSdwkImhVzRjQfx8SLTN2gKhWLpi3EFLjOplJvIdXZ4DI2ZIu5r7sZT2/bgcOdG9IYjnkNEgcutwiBDiwl4VG4bhmEYxhrAHCPrEJlO3lJ/XC4xciKsFfVA40ZgxxFsOPAQ6ro2I5MLY2pkDLMjwyjMTSOUm0eokEHYd4wUQjnkKZ5jhJLPABMTmNCrONMpxGpasHHnYbTc9yTQsweokckX8ceWaKgv14KMGYZhGMZawvNZlPRc4G+QDsxLuF8iB4kMswQPylnRSznY3IwnNm3Hke7NaAnHkJrSDw4jmJiaRDqXcTp0EUXCePPUqloWCkgtpDAxOoaxwWFE0jlsa2zDoxu24ZGePmyPRPWBfPcajyOIys9ndRioPEnDMAzDWAOYY2SdsqzN42qEhuDGgNo2YO9DaNv3GKIdfZjKRjEwNOFerSnMzwM5TawqA0kv1chBIscIpZAG0ikMDo1gaGIWC9FmNPYdRd39nwU27fXi1cgUnqF8eA6a61hhXiDDMAzDWBMEKi1Qb1K9wXqI/2kZoJ8RdjU14olde3G0ZzO6izEUx6cwQx2bmp5FMe/NJyKCL9Xo1RnFk81kMT05iYn+q4hNzmJvfat7PeehDdvQwXBLPslLikFE16U8d4ZhGIaxNjDHiOHZOM7O0U9AsqokESBS6yZkje97Apvu/zQaN+/FdCaMoaujmB4eRXFWzhF9PrDA0/X5wCytsBQwOYYrH59F/8g4QnXt2HjwMTQ8/EVg4wEgqjnvZYppslY/KW45x4iSL6eUL8MwDMNYWwQqLnCKaBms679AJWo0h5wjO2vr8MX7HsDjm3agO5RAZmQCY/0DSC3Mu1GXcoSEpYsZNhaLIpPJYGpyAhOjowjPpfBg71Z8cc9hPMxlN8NootUllA/crNTH5ShQKaBhGIZhrA3MMbKukeUTiCwiWUkSbhfl6kigEGkE6jci3ncYWw4/ga6+vUhlQxgbGcckBXKOBGSzmBsbw5X+foxNzSLR1IWdR59A48EngI6djF9OEY0UqSDIwrIEASrFMAzDMO59lvgafPUWaDrNA6afEzQh67ZIxI34eGDTNmyoqUNuYhpjVwcxMTGOdDrF8EX3Sd9MOo2J8TH3JZvQQhp7ujbgmX2HcKi1C11MqZ6qPil1H+CrfpeJQL0GmaoUwzAMw1iDmGNkHePZN4HpVUZpM4SCXnrWx/uaumiR3YdN9z2O+k17MR9uwNj0PGbHfOdIOo/M5ALGxuYxNh9GsX4jNh14GvHdTwId22nZBZ/k9alI8hrM+DIMwzDWLIGXoULZlenG0ugRHzlINO9IX2MDHty8zY382BCpQX50AjPDo5ibncVCIYeFXBajY6PUzxNoyGqi1S48tWMv9rT3oiUWc5/jDTPyUDCxCNNUsprfxDAMwzDWK+YYMYgzibxV4RtHbuYPN1U+rSc5Npo3ArvuR9+RJ9C4cRdyiGNqbByZoRFgbArTQ5OYmysi1tCD3t0Po+nQM0DnXiDa6sUhKpIyDMMwDKOCcl3pr0uLyqnRRtnb0obHNm13c440FyPITs9icmISw1OTGJmcwNDQEJDJYntLO57YshMPdm9FO8+rpeiLN4Hxp6g1+WtBql7i7zMMwzCM9YY5Rowq0DryZ3+LRLSkmaTp7UM0pxq7EDn8GDZTkt19mMyFcX5oAhevjGBwfA75RCu6dj2Azkc+C/T00QKr53mazJXRMgr/64HXR2ENwzAMY70R6D8tK9alPqWO5djQazV72trxqd37cKRrI3r148PoBCYuXMLU+YuomZrDrtomPLxhK+7v3ugmWtWrM3qZVc6VcsqTMgzDMIz1ijlGjOsgZ0jeSTESRtGNu6VJFWtEaPdRbDn6OBo278FYLor+6TSizd3Yct+jaDvyaaB9CxCpobCKRRiTjDpfrotZZ4ZhGMZ6xteDcoRINKJD33zTNCD6rUKOjSTFjRxpbMUXDh7BYxv7sDmSQO3sAlpTOTzasxnPbd+LB7s2YmM4htp03s0rEqUEalZxOzXPRSAiWBqGYRjGesIcI8Z1kNlUQDHkfQowy+pS0G9VxRog0Qr07kTXvgfRvusI4p192HLgYTRwHU29tL7qWbviSNPCyvBcN1TXWWG+MVYNs8YMwzCM9YgUI6VY1OSpFP9P2leSoyiI+5IbJUappWhK8y2JejzQvQlHOjdgb2MbDrf34Kmtu3FfUwd6EENjpoAGKljNURKkI0qOEG6XxN9nGIZhGOsNc4wYRKbQ8qK/CMVN2FZklcnJvKoFGjchsf0BbLz/WWw48lkkdz8KdGwFEkmeJieK+wivJ77BFYhhGIZhGMvgD7Es/6uGtHF9OILtrZ14fMtOPL/jIJ7dtg/3tfeip6YedTwW0UyrGr0pi88UsGEYhmFUxRwj657AVVFNhL8uA03DRty7MPpwYB0Qbwfad6F2zxPoOfoc0L0fqG0DognnFJFU2mHl64ZhGIZhlOPrXIpzhpQ7RzTSQ1KGXnDVhKpd0RgOt3Xhsxt34vGurdgci6OFp9dKCQeKWLISVhrOMAxjLWBtnuFjjpF1TWAp3Uj8ahJsxvhfmBLi/jDNslgSaOoAahq5L047zo0tWXJ2sH5rBGdXimEYhmHc41Q4O67Rdjwe6FHvv0W0KeeIJmStYbha7qmlbo5zXftLcQfnVTnf/VcuIlgahmGsdSraYGP9Yo4R4zqUuTT0lZqA8gakcj0UZWhJZIlDpGTUVSMIZBiGYXioPTVZH1KGU4f8LxD9BuGE+93vES7UItrWhKzuuNb5n8SFC+LWRuWJN6Iyj7cqd4pqad2K3CmqpXUrYhiGYXxiSI8axnVQFfEtquUMq0CBO+eJM80YNPjzT6s8NzhQud8wDGO9Yx2i9U2gU31Zoi4rdaaOB8JNaWA5UG6IH/cd55o0goRvVsqo2LwtromrPM2bkTIqNm+L1YzLMAzDuC7mGDFWQJmVtZzBVdqvFYlXtZYEDw4t2WkYhmEYxvUoqU3rKBuGYRjGHcEcI8bNU+7gCGQJ1+wwDMMwDONWCAYlrMQpUlUnG4ZhGIZxI8wxYhiGYRiGYRiGYRjGusUcI4ZhGIZhGIZhGIZhrFvMMWIYhmEYhrEWCF6luVteqbkTeVjNONdj/gzDMIyqmGPEMAzDMO5F1GmyjtO1BOWyHqWSamE+SblTVEvrVuROUS2tWxHDMAzjE2N1HSPlE4SZmJisDfGpdqhcDMP4BLFOU3X8cqnWRq0fCf6qHTO5l8QwDMP45FjeMXKzrbK14IZhGIbxibGsmjanSekH9/UnxWXW7xa51b9qcd0JudW/anHdvtwSQcNgdrlhGMZNUd0xUtGYFnwpZ0mba42vYRgVBG2ENQ+Gcedwz1d5D+qWe1NrhHXd4KzSxQcN92rJalMtjduR1aZaGrcqK2W5c8r3Vx4zDMMwlnCdV2kWW9HKNlVLOUqCbcMw1hPlLUL1VmDp0eXDGYZx61R9quxRW2xy1oOUWLKxPJXnV5PV5nbjv93zb8Ttxn+751+PlcS3kjC3NQTFMAxjfVDdMRJiK+saUbW2Ba4uDscU2lsuhmGsZ7xWoLJNULsRdu1HMOaMR8oDGIaxOlQ+U/aMrR+CNrVIC620fh25G6iWr+vJJ021PFxP7jTV0iyXapTtV9XIc5ml5LStnYaxxnF9Vv4XCoWcGMZKqOIYCZpMr8Utuo5N3kn5CzXeUcMwDOG1BuXtghwji3sowQFRvm4Yxu1T9qgtkfVKtbJYi7KEmzD+q8V1p+V2qRbnasrtUi3O1ZJqLHe8YlubsuDlFFlqyRvGGsZ3iDiniDlGjBUSKhJ/vYwCG1LvL6hKi1NLlflS3Jn8r8hm1uqcYawtgpbBjRwTlctKIr4Q1x7IBCsLW9SxsobC2gzDqM5yj1gZwQABdXL0KAWa2R+bVXq8tL6C6NYcuv71eN3G+iWo72oLJOVtgNoFifZXaGLDuPNUNsbl26yUGs00TxmnnJgewbfffQPvz4wivqUXne2dqE0kUcwXECoUESk5OeT00JKR0U5Vd7bgajn3qGtLkfmay2SwMD6FsYuXcbRvJ57deQBHk82oZ7gkJeKdUv2hsAdl3bGsY0R/3miRMP9UMygFimqhznBnqTZlKDlvf1BZ3bEq0RqGcW9SUkRlz3Xpeec+14zI3IpyXW0Bt8M6LtGxYD3ovhmGsSxlj9lyBMPjpYWDX4KDpy0g2A72rSDaqiie8uXdTuU13+p1G8a9RFDPg58opG3jWueBkrpmg+HW75WH2VgbVDbC5dur5RgJ/miPBl1bdnKRS5tjxFg5VR0jqlgFmlpayi0SVhNbHooV0+sIZbhc4HaaS9Ys7VfAIEp/YRjGGiVEjSYHSFjLGBCt4T7/9yg9/2oTIlGuyESThgnEMIxlWYHuzPMxCuYM0NL/iYLrReT9CPSkBVGtIMrroh9J7gV0nUuvuXzPWuF229GlJbQY1+3EuRIq010pn1T+hPJ2K/n79eYtmAlQdnucS2pi1FISvrinVx3AT7IoDSOgstqWb7Ny3inHSJgLb8TIJEYvmGPEuDHLjBjxhiN5I0YiFI0ZUc3J8xBNr+wCMDcNTA0DsyOsdfPI53LIUQoFnsOa6sVaJWrDMO4xqBn4KJc/zVI+es7D4TAlgkgkjGIkjmhDM9DaBWgZpcrJy2FCsywU41nSMIEYhrEsK1CdKT5GM1xOUTeP5RcwlprDTDqF2dQC8kXp7uBJ82b7uf3nbjHGu5GgyLR0olFrDrVWa5HgXgT3Zbl7UyoRt7W4XI4bxXezVKZ/u9yJ/FVb3ixBfiqXt0tQduX5q5JH6uNQiLY6l8lwFI01SfTUNmJDpBYtPCzniLSwYfxaqKyy5dur7BhRB9Rbek9hPpN1jpGR85fMMWLckGUcI6pPqimqWvr1V/VWA3VZddOTwNgA0kOXMD9yCdmpIUTkGMnnnRRpkEUi/i/GhmHcswQNg5bBbEPBvAb6LxSmUtJ+HeJ2gcZYrKYe7b1bENmwDWjbSK1Dk6yoUSQyyxQwEGPNElQcYbf61igvw2WYYtleyi/g3Ow4Lk9P4urCDKazKcyl0+6tVxmPEY3o0k1w1uPt3ozgB4+7jyBbWkrcLGm8XM88DvauJfx7qYt064FUUlYyzlFUXg6VZVJ+Ptdd3KvADdNdKXcofyWYrzJn2s3h56V0P1aRUvndOG/OMcK/GkpdNIFNyQbsa+vG9oY2dNCKb1QYL2gJxbbaJWkY11BZbcu3V9sxoj1UVjqkxyeX9R0j5y4u7xhZ7iGwh2PdsaxjRIaFkFnlKl0xxZ0zKF4+hasfH8fM4AU2vlnURwtIhHLsJOmXY09isZhXWXWaOz+galK/dtZrvbfn/Va5UyW3us/HasTm4uDDrL+iv9S/IG41Hzl/tFg2V8TYxDSKkQSaeraig8oH2w4yVAPPqaVEGIfnNLW6d+9TqgP+UvdURoi23f3Vf8HBgNKNLz/LWJby8mNRyX7TKzPUxrhazOCtqxfx3uAlTGbTyCWpd+OeIEI9LEdlJOJ0svTz7Za1ZymUx3H33LugmLSULE4fX0ShyK271aNzywRtaHAPlr8X3nih8hJapNpZwSsZq8nSPNwuq5u/pbmqXk43JsjP6pbbIrorQRlWz5sLwU5jLptDMZNFfiGFyMwCOqM1ONi7BQd7NmFrLOlesdHIEb3gWs6dyrlhOCqrbfn23eAYEdUeAnsw1h3LzDHCSkpjIswaF3WmmGQG2eOvYfD0O8inJtGYjKCpvgbhYo71pqxWBZXIxcr/StFfk4zx68ZuyW2w2q3lHboZq5ZNRqQsVosveMaLNMyKYUzNzGMmVUBtUzvaDj4GbNjH8xqo/GLIRxOMxs1atOolaHwCBNWUNy/QDF7rr7sacu/z6r6W7JZq1ToUnKVArAnL1at1jFem/g8Ti4+XMx6nKZfSs3jl/CmcmBnDfEMCsdqkc4hobhF3rpyYEq2L0g25Pu6zhnyeq922xV/Dg7hWFucnjfKu12jc0v9bi3ilv3iPF+9GxfVy0+tUL2X5u6fQOrp8iJvBi8m7G6tDkL/VYzFnt5PP1SuzShbL73r589PmYdcOqwOZzWNhdByR+TQO92zG49v3YnMo5pwj6hAGOb5zOTcMn8pqW75tjhHjLmJZx4gmcZNRFlF1zbG6jp3DhZe+hURqGHV1MTTUxRGKqntzzemqkd7exf/8ZZWwdwnrsu7fvbfjLsc1t97qqnEHno/VyuKKssXEXKeKrUaugFQqi/lUHpmaTnQ/8BzQvg2oaUAhnECe8UUZdrVL0LhdbnSjdX8XV8s/xqw5qSLUGDLIpVHcGxxERsk1hHSmRPrDHCPVkJ2mYlEJBYWcYxnJeLxQzOCdq5fx6qWzmGutxVxtHNGI5vmJIESRSr8zRaoYAxGrn8JqEFQ5LT0HSbBnbVG6E7y8xbvirtqtBQR3KVg6/HOqo254mLJ8iJvBi43La03NW0IjF91ylfInFktNBXOL+Sw5DleXRTdQkMvr5c/LQ5ATdSL1RY705DS6EcN9HRvwWM82tPOYXqvRfXH3xl8axh2jstqWb7PymWPEuFuo2haqHngmK2tUMQ1MD2P07HGk5sZRl4yiobbGGWAosDaxoqqyFrmuiVclztfilKBXQT1cFTW5W2TJr393qajFuxvF5W+1CeK9VyWAz3wsghq2EYlElG3GFGYunwNmJ3goywangCg1VfkZxr1CWXvO9l36IYo8JY04Moi40YNUKvxPy/LWvwQPFFgLcu5Mdb6MEioMX6SYS04RCctNrqQFypXJcZwbH0aOz1eyoYHPWcK9KuOpXP239InUurpKq/JHvSFDc3F590lp1BIlzHw64daaElf+vri/6gT73ZLlEkhQPtVkfcMSYJnektyFpVdkYxxJJlDT2oR5NigXpsdxOTPt2hH1BQMHrGEYhuGxrJPYO8AmM5NCemIQVy+fRUMyisZ6GmFxmWw8FjhAKHq30f1S5Rtm1QmUh4nJDaTkgLgLRYs7QkU6tyNl5Sc3xK1ItbiuK+7Rl6nFLhybiNraOOopwwOXgOkxIKuZEQoutB/YuOfQfZPwPusLZcUMMDdFmeT9/f+z959BdiVpdiB4nhahNRDQKpFZSJ2lsqq6qkt1VVfrYpPsZpNLNba2ZitszHbm147t0vbPjtnurBjO2K7tkDvkDGc45JDsrqquLtGVmZVaCyS0BgKhdcSLeFrsOe7XX9wIBIAAEEgEEH4ivud+/bqW3/ddv34Ddts2cHN5MN5DXaRGS5UrjExde6wDV29BBWlUaRfnPH9HFmYxXlhCksJOLJ1CPBZHTOeIBPUeRlDtgcLACtT3RIzNkuURtiKpvFKOOLtRHDDvjxQFf7Z0QRmb5V0hwdhZH2vv3Yq2N9arkY3Q1oNZjaUcacmi3pLGdK2Ei5NjRjEiRavuu2lGZBB2aDp6eHh4bA+Id7gRzQmRtynMVJbmUC/l0N2Ztac2iSGWBz0a1JcpSFEROTPRjQgvHp48PQKkfr7G6a5pXcfNIafgWKv0uB2Fw26MQjDScJ3zQgPpZBTl/ByqTcFZ7Jjnth56BG2MWhnlmVHkhs4Cc9fpznauL9GsmB0P6kVGKlOQgNRbwkLs2u7jEUJQNxJgSqTZpRwWSkVUEzHEMhlU2Q72YQTXYfcFmrXUkCpj5fre/u49hs/iz+RyjRLhUf2z7eqw+trY7PC7A4Tj26pw5dwu5LD2OgznHsy0gVZaf3XOwZFUAmVOysPTk5xLas2V+I67h4eHh8cjjPUVI4I4MaFaQaScRzbWQCKqqVRKkbudUt2k7umBEpnFdd23CgU7FMKC+laiTYcretNyjxSqv7B5J3RD2CDOdckY+hGcO+cGMmGZVATRehGl5RmA84i5J4bNc2MPKVw7B20oJfniFK5/8hYmT7wJTJ3nEjFLdynB3Fqhb4SskA7rjtOmV3HUw3xnCBAaQpqiw9O0lmNZ53ILWK6WgXQKZdabFCN1oxzRXaduWksuIvdLuGrfMDFk09za5JQhKq35c26PMDXLb2DLfvf0sGC9vD/qJKznLnKw86ojrbeVctnOvvEolkpF5GtSjdh5RcM6HNrDw8NjO0Nc0/pwM2WljGilaJQi2vxsGN2Gm07vBH7q3XpwC+rtaINYL+jd0APHeplaoRVxzpn3TibuG5O6OyJsnEH8dLsrslE0zXXTEtkfGk0Hi0gdMVKSc0ekSkGZzJiJralE8XiooE7hTGdX+6KC2vQwRk6+g/xHLwOTF9nWOXLdRfoz4jsZ8JplzBWEps6asV8zc9TsZdsbqloaqhH3+EHQtVCsVFGWMiQZN4ex1uXBtEVAYft61yQjTN/xnwkZsm9dEtyrI8YemI8uQqV34zK41hq16v6GaavjYcjjZmG9tlnr5sj9rsBxKeoaNQ6McqOGSl0zsoeHh4fHWqyvGNHM6u7UaqhVKdg0dFAeHfXVCSGYhx3j5kyPhxVBg66iB4v1cnSvdDvc6G/9kKuUI7y9iqwXA+Nn7X1H1ssjgnCBaA+ZsRhFYO0sqDtWjHOI8+Lx8CDcrFJuRWK2I5cKlNhzyE9ew/j5D1E+/Q4wfRkoT9Njnt4raNSlHHFni4QPXTWRWauHgasRrbSuZpy9Uq2iph1XsRjqbAMpm3THfGa3GTIgtU3zegWr5qA7IYV9CEhQfj1W4OpFcFWztt7CdD+h9MN0x7ihY94j3X1OHgDC+V1N7tfYQuUSj2Jes+McoZ1levWupo8k8K4QcPQGxm0lqCUPDw+PbYTwnLgabtas06qvzphrvTVuP+PWfM7HifN+L6Qe6+EeVq8bvN8s/B3G+xBgoyWy/sK+V+yhoWEV+0cLAAD5mUlEQVTs7qmctRurgbM797UUivIRga2H1cRfzjJkxWhRqa3b9oZp/YccWjqkGAFq+WUkayW0NAqILo5i8vwHqJx9D5i5aneORKr0Z99p18s1UpCsKBZFK33F4VGooXtBs0aCSnLXVT3p5WLc0FdozJdoJPRIFFJ7iJzPMAnWXKnzuyBG8bCQxwqa9UK7qsZVzw3tG9D9xHpNs57bxuBKsxn0MGG9/FsyO6XY2Pqzc2zoXsDu1+sN1MXTN+9YhPuAyMPDw2M7ws6UaxGeGaVlplGvu28I2Kl2BX4K/WwRWsr0lNA8KTQXAW0EYb9rw4dJWM/N9IjAfLjgcmx78mpaVUYxF3RcRfyzvd8KIK42XChHCusYkrWjZS1suvcXN5Rjg3RvWFUjRngzGpLmlHPrenn0EapgWR3dBcLB747M8XyBeZs/Npso1LSmXWPRODraO9Dd1YlqfhFn3n0V5QufAPPjnCryiKOMDCrm7G6p1e2fTd9ixeaxunoF1Y7qq0ZH94pNNMqxZOb/KNsk5DuoynD4zcPD004upw9Pju8Wa0roBmlAzbNIXK+Su7MbV2sqFvUxOy7ldm8Ip2IQivLeYldOSestWndDLr6HHuEaX012x4jlW6QYadTVyis+hHBNODcPDw+P7QYnpdwcZvHQzl19DjCYNhsNRDm5Rmgap0dgUQlKtuXJQEywvgjkYIROkbm40f+aK2uV5yAMwwY81CpqwlzID01j5aIacez5ncPl5kGQ4My1sH5sWS3ooq1SOlNHZAzLWIh0Wz71aUiNhagZD46ltDurbgUGMxHI3GxyuHUObo1w2PXSEN0aAbPNH1MXtw+wDRCuBFMxq7GBOpIXkVQZljbj71bx2HTcjg+z66MpULCVowlE42mkW9rR3r8Dgzv6Ec3P4dqHr6P40VvA+HUuIGLEK0g0ChwjOgiwjkpD546EimzOrgrTShrbHaoNU/ecg2usE80/tZrqJjwvs7bYLhp1modW199m1GM4rq1N+lvP/dEkwZnhWfv2aPpmcM3TOszXfOkocL4bGP7B/DF+xmV2JwRxunjDprNvGKavK9Ta+eJu6Y5zsIVh19xVJQpdNHkStofd/30jjI8bIvHw8PDYHri9YsTAzpJ2wuRCwklVWGG+BD+LfhYwNS4mQ++Irqp/IqIjDWnE4tauW2Kam1jbRobDuEnLBa6BUkRdpa44zVMH3SNZrRjh/NyebC96cGTEBqMIupEEy9AF5Qv6OfRk1oSlGaEQGEuRkqxa1rPqhb8mRCiYLacNdyuYFOjFmPcJtuR3ThvBqnyHA7r6lBk8qVq5uV2xppXN5TotL6d1nB3UE+XBmq73ybxb2kh468cpSawbRfV6hU0djI0ox0Mqg2RHB/YMdCNZWsTUhROonXgfmB5hFAXEIhUkAqWqPRfDQXF6rAtWk6tx7RiRvUmhOpRSZM3dEG0W1ot7a5N656NPKzOs3QOy8hd2YSdZ5dPco1uU/SgWjSFG3iEWi5mxaYle7gYMqFlf8SYYXyy4NtGJfxGt+VuTrZuTwY3tfO+0VbHxvFmf61TaqnYXbJ9ZixtS2srV4uHh4XEfoLVqg+A0esNMGp5o15tmPTYfWqnIRhjmQqwywarXdbVWRySeRCOaRJ1Ce4MC6QrL5FY4mmKgA+ebrnu8YT4BKaFWcUUTqMfSaJDqsRR7ToLxx3hPfgJqprU+ubw4Vu5WtDbsvdJ6aThq+jH1YsQPaxrOztZVPRpBjWVGvIVF70A02YFGvA3VaBpl86JAFFXWlQ6WrCtgI8pgTVbwkca6fcg4urr1WAXVjakf/hgtGvubIe0JqARU5vXNqMIhLGJv4xwQM9S4e2KPtST7emTvx0kp9vAUqkyX+ajnOVSWOVTy7OlFNjXzr51s2TQ6Bneio68H1fISRi+dQOXTN4GJy0Bp3pQhyRLGGUq9QyNO545YBZrmLGuavqM5qFlfHncyppzPjfl+tLAdy3wzNPsAx9DaetGSFyOlOMIzXM8zXLcSNe1+DDzcKZiAUcGQHxBphCv+NG0mbuUhiJtTT3No3wkJztwchGPdiiQ408PDw8PjfkLc5+1hhF5jCcww5Laeu8f9RVDnQdvU6jUUS2Xk8iUskIqVWqC4kKDhEF5czTOam8M0K38YhwT9AmWeHH8W8mWU61HUIgnUeU8nz0iwUVy3I2E997UkOHMzEI7TPDhxdmu1ZnChFwYaEvD0VDtQIJUpsBZYv/NLJVwfncOZC8M4de46ro7MYHapjBLrpxZLsE5YV6pzMplkB0lkC10ijzhuLKbpQMGNoNI9VuCkAjN6tIMiUIgYxUcpIH3uNkxys4oRo0QxJIUK47gX0vvm2l5mzJsR0xEpvTrTrTMv9QIpD1SX2NP1KWaVgX41b3S0o3OgD+3tKVRz47jy6dsonn4PmLrKAbVEf1K4CFY5Gf54r6rFVI35CWHt9TZHMMJuie088lz9eCJx7MhcCzGAGoe1QhGlhRxqi0uIlCqIcszbhy/G250hSEhKEaXbKFdQzi2htpTntKG5q2F2kgiK3iXh7Buhzcd6qWwl8vDw8PD4LBD7J0RgvxFau5amUZ4ZQmFxCp1tCc7RZMzNveCJ3rrL7Vps1N9WgMvr7fK7UX/3B+ZpjJ7OxsjWkNEol8qYzeVx5tIQRqcX2DwxtLa0Gj8RCj8SP1ZjA/lmG2sHSqlax9jMAi5dH8fI2Biy2SzSySRiQdzGa+j3ZnA5kK9bkeDMzUA4roAfWzctnaFjxTMhTnvcKIDy1QimFks4efYafv3ah/jrl17FO+9/gPGpKSRZF529feQCk1haLlOGjLHa7HZkcYUNswPFxbk+WIvN34cdzTIYpRp7XSOGxXwJ2Y5eJHt3Ay39vOnmju0Gltlp5sxrKEWgvAhKJHYnRZlUoV1mWSbvraL13Bzp3r2QS/NWFE5r1lJhGhg5j6XJ64jFI8i2ZMzcYz7lG4sjHY+iUS9jZm4GcwuzaEnEkMy0Aums6R9mC78VoYJ6sdDVuj1kXcdHH5yCjOrp4vw0JssFFNKcnzgH21fVRPJlZ1hZzWXI9Ni+WK8PuGkozi6T4vI0dvkqRi5cQmFmjnxDCxKZNGqxDfQeejEbS4NLa9FPw6ygUfIO5fkFXDt1FsUZzjHkGZKcI2KJBGdA+3BGvg2pH28IKytmM+w9kMN697YCCeu5ryVVpjHDCDkYBVi5gjj5xKd37MaOVNbs3JN7ONwNq/MNkXp4bDLYx8Ql69FKgTRVyuPc+AgmynnEOtvQkuWcFJf8SR6d/dwpVhUwZL0BchLV63VUC0Xk5xaws6sHh3r6sTORNv1fB8I3d8itE8e6bh6PNCINPRZYC7mINEOOn0Hu3BuYHT6FfTsynFmXeI89RecrUHDWg8bbL2i6/5D0LpbFLrfuacnq6pGbKe5t/H02sOlHolEsLizgrY9O4b/5H19DnDLHH/3Ot/GD73wD6WgN8XqJA19TjmsDmrYQ9vImEGuDWAqlegQvv/kB/vxnv8Lo8DL+V//oe/jyC0+juz1NxkfTmLAxYXcjtXT7nN05lK6jGyKno3XS3bqpmkhE02UCpUgSi5RK/od/9xP88ufvYPg60N4CtLUBnd1RfP8H38MLX3we58+cwYfvvo9njh3D5599Ant39jAqPeGvMG4KwbeA6UccU5td5gcBUwZVo61Ezg9JXJ9aRM+eo2g9+mWg/xhv6myWR6G0G4TpdCFIWVbLA8tTyF04gdLkdSTz80aBUGlUUTfKNIvw3Gpswbg19qaSZRMgbuOGjK5BQ2NcSowGEg37Alm8VkJpaQ7TZGIynR3o370bkZZW+gvyVi2hupTDFBkSKVfj2S4cPPZVtD75VaBjEEi20yvXFbHntmghKD8aOzbdNTe3B4ImKbDoizR/duUsTuRmMNPBube1BTX2B9tyWofYbwLG0dXUNqwxj3UQ7gdulMtM1ziWl0v48b/6nzD80ssAx+73/5f/GAdf/DyWk+Tvgp0j64KR2r5n4zdTCFFjP9SZIinOF7WlZQyfPINf/ef/N6CnF1/+4e/jGfIllUQU1Zh2nnJkM5xGt8NNUmuiuVJu1vwXlGMrw5T0NpmUn7U1oiCqY0GvMZVzy0iNTuHvPPslPNPWC7IywZfCrF+RUZSE01obqYfH3SDcp4TwNScASSjkijBLOr04hR9//C6O56aR3DeI/t5+ZFMZNHRcAIVOzS8WnA2MlZGx07o/46K1kKb6crVSQWF2HlOXr+H5A0fw3SNP4vlMJ8SpGO7DsVzr9XXf/7cdwuvRLWEWx2ZHfoR7CstZ58JeN8xAs8ABNAgtCaoT4+2BYSV9mYVyjcIHMDYHLBSrKJNx0KsugY+AAhirc1uf9KuDRxvROErVBuZyRQo4SqdO5sfGazfBb/yFGrtx/vZk/KtQd0JNyB6QcV8n7hCt3DMtzF8NC7EHcVRqcVy6Po33T1zC6DSw92Ab/s7f/yP8w//o7+Jv/e0/wYFDR3Dh0hD+zb/7CX7+q+v45Utv4uz5y+a1JsXu4WvBwHU3Bykqi/OYHz6HqXMfYPHc+ygPfYoiKR/Q8tBxLF+ztHT1E+REVz7G0pWPaH5Etw83iT5gnDRvR/S7THNZ6TMvC1eOY3boNHIzI0iQu06nU4jEaHG7CTVPUviJt6TQ3dOG3Ts6ESnN4frp97H8wavA1BDroczhRn8K4uqoWVeaU/SakShceR4eHneCVcMqMEVSSiQoaETyRWBukZRDslS1Z4FoKbwFXByiMLSG6k9xNyo1VHMUd2YWTNzRohSq9r7CGa7hNumsCwZWsM0gF9dWRTiPtyKHtW7Na1W4h8cjDtfv18L3f4+N4uaKkVDvcv3Jyp7h6fbRhFlErHUNVAFSRtAMBO4VevCQaE+eBkXKEeRHVnbzrFeYDTaffQrJf8aj+KqM1xzKyggsayOhZWNKEdGKEuLmtF64W1OAVZe0rGmjZhp0D1PYjyVB9RZFlUUbGpnE1eEpfZAGx54+iu9+52v4xpefw2889yQODnQijTxSFHRbJRzGGkhyBk4wuP1mja2pDVf4owTWrX3a6OrUYwWsk1od5cIyauUiUuwwHR2taOtsR0tXB7I0s50dyNBMd7QhI2pfQ22bRCa+1g1QC9LtWUNJ2pMd7Uh0dCDV3YO2HTuR7eqmlMVBwHI1u7sGTbwFqZZOdPf2o7u7G/VyDiOXjiN38h175oheH9Jhs5KkwsPE7FCRgjJQtHh4bAE8jD3RzcKOHFQWHYIc1+Kuzz+Tkry+OWO4ETAeRqzt7iYeMQ2aExi3Xt2Re3MnHA3lRyQ408PDw+OOYKcdA5kbtbtrDw+Hu1j/wt3pUelSK+WJ6FyNaAyR4JN1a8to5DzC7ByJyu/NmPbwcm/9r+9v86C9G1UmWSHp6ygmdabbzIXLwoayYT1VydRoB42upRDROYxSLyhem4IUI045soloZnojcJ5vUrBQXK74a8l6ChPBMlZZ5onpeSwsg0IksGv/Duwc6ERnOoreVAQ9mQgO7uzA9775efzu9/bjG1/9Ig7sHkRKfUOKFxsTEcrEdoAGiv7dgNnuWOkIK4hyDFEgySRi6O1qQ3JnPzoGB9A7uBN9TdqBvp07jFuvs5NkmnubQS6+nUzvljRA//3MRx96GK6Leeoc3GWodWAHEu3t0JlHVc4Xtt1ZaPNFqxSlrwziqRYMDPShv7sVkdIMrp15D/mzHwLT1zh96EDW0Dxiug3DB6/vrF+BHh6fLYyS26zlDw/WzsC6dm7SRcZZHqMY0VOAWgMcreZLMneNoH6MYkRxKy4pXMKKEe0S4384mXtJ0mMDsFVu+7CHxyMK28cDCiYVmavc15CHRxh3qBh5uLuQxkiTuDjXI1HUonFURLEUymTei7EMCpE0Co0UKYlKJIkqqYYEKYl6NM3rLMrIokSq0F6NpBhXkvG6TaJCKDWmo8/d1hRXNMP0GM5Qhtcp8xlYfc3EidFuZ4MNb9G8E1E8CtfCPLegxDjKvC6bfKXMIX3a0GEO5aNwYt4RVmgTP9NRGcj61FnGmvIebWU+2hiule5641Rv3K0cyVWpVM1OEZMjlYOuNneqP+VKJDR4v0438kB0F9U5G4n0jmtVblEKTco/y6x6qLIOZNZMXlS/TpkTkH7Ml15UP2wD+WMYUZ3UYJlBd7s3I3iybPJkc9lgehLK5K9u6iaFEusqzzLmaiksVNPI1dnevC4z7grj0YdJFY++xGNeEmJlLiwXTRkyrVlkW1rpVkexVEClVkKUnOVuCom/97s/wD/+R/8Q3//e97Bn925WAoU8w2gyJ6yUeiOOKuu1asqqMrMMNG07qA+w/UzfYD6i8qeDX5kHUw+mtkkr/cHjIcG6TWb7pxQjqFdQIzX0kmuS/TfBOSSRICURpRmlGUulEE8mEacpuyhKimwapTdOel0mLdNem3wkKUrFEqaXqmTR6MrZBPpzSrJ6vYY4w/UN9KGnvxul4hwunngL+XPvAtOXGXKeVOAYrpihb+vJK0U8tgbsqtewn5/lutDKybmd83srqYXDN1ttIFOqIlOoGLOlUkeW91JSNnARbaG9rcxVlvezpJZSDa0Mo7A6ADUajBczZkhSrMcYTq+6pEmKS2m2kUyapGwQNm7CrzNSGIeUr7qfJrUwbEc9ynwzHsXB62xDO0asX8FYZWn+6PO9isOWQ2m2khRe5RcpL2l6TdB3guuWTiKyHEfEKF4Ut1GWyh6QiT6Asyv/tyMDWmzO7p1WIt3C2EB5HW7mZtCsxJVCPwzF9/C4HUzXZkc3ypDAbHZ3Z4burcLaa49tjfUVIxucKbXQNbdEbnG4fm+VBqIoBYw0YmkK2nEKo8k21LI9mCnHcHJoGu+cvITzwzNYKEWMQC3FiATbRrwdS+UkLg4v4MPTIzh3dQaFWpKCTAuiMQrp4ipYJ2bZNyOTiTEtfbWkEW8hF9OFKNNBSy8iWdrTHcxDG+8nKCBR+DXVqUh0bodyHYgbMbIa8Ti9tdB/N2LZPsTbd6CW6UY50Y5KvA2NVBvI85jyuUZUDDUdgkahv1KPo1xjOSiUI9lp4oi27EAjuxONdD8FHOYr1sGgvC8lj1GmRA2/pFyouyg+KUREUmRY4d0K8GLorBJE7laUl1qmwgjkFkmp/K2IZLqYdg+T6aO9l/XRjVosS38xe0ypTp+mf7VRlfkos95LzFM51o5qopscGOsuw7Apbd1vZdpJljFQLDGMzSrbIJGhv25EWNcN1lEt2opipAVThRg+vTqHd0+P4vT1JUwuRVBEhmmlUFU8rECnFNH5Kol0C02VVzuJkkhlW1iMLIVCPQ1nWmybdCaD1vZ2ZHgvmaCgqK9ysBkj9BCLUrBV/0i1s95Zv+wDyrvaMZ7uYhnaeY9mqhMN9UP6VZ+sx+KmnhtmFifn2ewTDzPUOKJtgHBTrWo2XmhQ1atokGqosI+7z/CynSl8BIOOYF05U6QJ4j6RlKm3Jo3/YE4QmTFqr034oF3Da0Iwkmhj3+UYMsWKxczrQjsHe1GYG8Klj1/CwievmIO+gRwpUI5oABH21T0PjwcH16WlNk9zvu8m7zDIdWEH155+rt3dXN9byzUsXxnGzOnzKFwbQWqpiA723WSpYpQJHRwGmYVlLF24iumT51AZHkdbqYZ+zvUZ3lfc6uqGaDcjqkquo2YVLIqrP57CDvrviyTQE4mjm6S448GhhI7hFy8hVPVgo1RGrFxFCxfnXvIxe7kG74yl0F1lORhPF+NMKpwGJ8dohelXNTdxLmrUa6jXaK/oTKSSSauTa2Ivy0wOBAMNSz10aydlOBfEGY+ZKRhdQnYz6MkDKF90D7J4A+54lCvAZhBxszxtBTTztl7eQyR/YTKQ8l2d18zfdA/8OfDSw+Ohx9p+HL6W3V07+yoKDwgPD2JDn+stmc/1TqKzNUknMay8IQFUCDHBN4frgg8WdlEQuxHFXG4J739yAu9+dMJ8jjXe1o13j5/GT3/5Cn7885fwymsf4Pinn2JmdgHpbCu6e/pQqkVx+sIQ/uqvX8Vf/uIV/PrN9/HpqTMYHhlDkoxSWzaLVILsTYOMREQHlJKbIeMRJSMjpcro9BI+PnUJr771Hl5+/W28/9GnuHZ9BPlCEYk4GRwK16pV5dAiqDfWtQTyej2K4fFFfHTyMl5750O88f7HOH7mAiaZxwrvLVWieOWNTyD9zHOfO4SnHtuLZCzYwaL2ilHYjqaxXKzj9PmreOv9T/Dq2x/h7Q9O4Oy5yygWKkjFKfinEubTm0q7QmarTobn8tA4jp++hLnZCr764mPYv2cnMmmVlQKdTcDUrVGSGBbPOJHoTqaxyMqfmlvGqXNX8C7Te+O9j/EOzZOnz2FufoHpxZluHHFFyTQbDcUTZ29LYLHYwNXRKbz53nG89vaHps3OkrmcnV9EOs06T7Pegs8W65O7EqhqtA+NzeOdj87g7fc+wY5d+5DLV/DOJ6fxFz9/BX/10husK7Yx22NyetakPzDQz/LHTO6X8mVcuMK2fvlNvMZ8XptYosxaRmFpEdcuncP5058gxXpu6WjDcn4Zb7M9fvXy6yhXGuwHZHTTenbGCojFyR2mTd8ZnVky5X/vA5aDfefEydPsO+OYJrM8OjWP4clZDI9NsJ7mGLTB+OOIsR+pJiRgWth22apYnTPlOopcobzO53q3KUzzsS3rFP7zs5i/dBKV/AzasxSg2tt4M8a5w9WPrU0pGjS27hc0Ysy8aJjnOye7Bth5xuXSKc3NLdN3mYr8m3RopXCZSkaRTdRRLS5gaXERiXIJ6c4uSp4ZeuC4kUfWR1PR4iLfhrjl53qbsOuGXJzrNq6yTYWqWb1Xh5Iuzczh1Nvv4+yb76CN832jXMHl8+fx1z/6MV7/8x/j9Mu/xvGPjyM3NYN+9ucdfX2ocY2/Qn7jjb/8GV7+Dz/C6dffwMlPT2BuYhJJjveevl5UOOeXOfQdo660MhwDyUoNecZ1/fRZfPjam/iQYc99/CkmhoZQW86jJaM1MG3HI8NJiW9f8QXijLstnkC2HkFpahYXPvgIH77yGj5i3i9x/VmemEYP19ALn57C6KWLQDKBx3/jRXTu24UiF0IpW/TqS4bxdKcyKM/MY+jUWRx/42189NobOP3+h5i8eo1juET+heseqSpFCHOivEcKJcwNj+H8q68Bra3Y9+xTGHj8CCrkS/S5Xj1QUR9Vbpt9lsFlvxkFkwpDW9PDwk0FzVqhxc7R1i5FVa1cNp/rfXLN53rDCLeFwaoLD4/7APYxcQmSLu/0c73S/VnbahKMnf4bdfIZ+SLylDUGu3pwMPhcr14b1H5zM3GGA4axnpvHI41HXDHink7YxUF2CdvaATI5l8evXn8fv37nOMqNJKZmFvHOOx/g0qXLZNLzyC8BI6M1XB8dMyXW0/6RyXn85Gc/x8XLV7CQyyFfqGBiuoAzl8Yo/OXR0UEmqL+fiz3Tjeq1EgroTGsh38DZS6P4y1+8itcp2B8/eRaXrw0z7nGcu3gVl66NYGGphFiqBa3t3axSvZKjZy4ytYsihWItg49ODeEXr76DX736Fj45RaF6YoKC9BiGro/h+tgkpuaX8TH9pNJSjBzEU0f3I0EGxLzTG9G7/zGMT87h1Tffxc9+9Wt8RMbo0tUhhh/GxUuXcJ5lz+ULyLam0d3dRuElhnK1xrLEcWloDMdPX8TcXAVfe/Ex7NuzEy1pCi31UtC6djnVn2zaSmvOa4mlkCs1cP7KOH7x8pv41Wtv44NPz7DMwxhi+S9cuIwzp08in1tAR1sWfd2d5oG5Xp8p1qK4PDKD1z84gZ+/9Bo+PH6C9XYd10YYjnV2hmFHJmYQ5QSXTqaQjEcQp8ClPtlgHZ4fmsYv3/wYL736AXr7d+DUmfP4iAzltaFrKJeqKObLmJpcwsjYCBaXS+jv7cUA04+zzpbyJVy4dBUvv/k+zl2bwRz7A5uUjMUiFmbGMD8zgr17BjAwuBvzZDR++vNX8IuXLqGrJ4s9rJvuzhZUORnXYwkwGZy8cJ3t9r5Rnpw5cw7Xh4dxjQzjuUvXcPzMRXxC+vD4KXz8yXGMjoyhs60NO/t6kOSsb2tWvdc+qdfVVsXqnHnFSBN2kAQIFCOFeaMYqebn0NkSRVJndHCMNudWAwb6rJr7jtNZVahVV1YxwuuV20TApNOUsiMejyLbkjavEuWX8ijO55CikJls76QXsivadcV5QP5tZAq7PeEVIw8W0jNISSBhP8e19t2f/zXO//JlRIpVjHAuP378OEYuXgYWFoDlZUAK7usjqHAdOTi4C2c++gQfvvE2Lp07Byzxfj6PGtfdyWtDmFtcQh/5Bh20XOf6JUFVM4Ben0lx7rz28Um8//JreP+V13D9xElMc31QuOvnLmKCa2BhYRF9Pb1GQRJN6tVg5pX9Qq/QZLl2Y34JoyfO4K2f/wrv/OplDJ86g6nhEYyPjWP8yjXkxidx9fRZLHE90ud6n/3al9G+dxAFStLiQNLRGDLVBmYvXMFHf/0K3v3rl3Hlg48wzbV4mmGHyDuMDF03n4LtaGtHKpsxFZZkXdWLJcww3gu/fs3ELcXIjsePoLqOYkQI992botnnb+tzW+GGWpGFdWXn3NWKkae8YsRjK4F97G4VI856s24qd6MYKVjFyE6vGPG4DR5hxUigFGGyVili0zfnhUQzmJgv4dV3j+OtDxexXFqgcDxlDk8/sG8/nnnyGPbtG0SpuoizF4sYoyA8lavg8nUu8Bcv4uDB/Xj62adx8NA+w4h8dHoW1yem0dfbhSOHDpudD41ohbx9A0vFCE5fHMNPfvYq/uqXpzC7uIz2rk4M7t2Drt4dmF0q4fyVWQr7IxSgG+jtG0A7mYs4hQIjEjeiKNaSOE0///5nb+Kl1z7C9bEiOnpbsP/gIbRQmFpcLuPq9QnmbxTj0xW0tADPHbOKkWQsRh6FRAF9fGoeb77zIf7dj3+Fi0PLSLelsXPXLqbZQyG+gTMXJ3F9/DqSqRh27uxDa3sbytpCy7xcujZmBPj5Oe0YOWp2jLSkoyHFCPPLvJr3oo1QFGW6CZTrMZy9PIaf//pd/OQXJzA0XkYsCwwM7jHKinqtgkvnSwwzg327djLeXWyrGHtZAlfGZvDSWx/iL3/1Jk6cmWd+EhjctRvtPTtQqMdxdXgcn5wYRb6YR2smhb6uVmSzOneE9RZL4cLILH79ARnCkznUy/MYYv3EYnE8duQwnn36WRw6dBQVNvqVIdb/6BQZyxSOHTmAlmQUpUodi0sFTLN9Zli/U/NFtHAWPbhnB44e3ktGNMt49qNnYBAzC8v45ctv4b1LVRze34XHHzuA3u4sSrUaarEM63oCP3/5bfz8V+9iZLSAvr527Nm7F+nWTkwy7Kdnc/j08jLGJ/NYWiojk2jg0P592L9rEGkykAZBH9bfVsbq3HnFyPpwipE5zF86ZRUjWSlGOnhPdfOA6uceu5aCuyj0NSstDXZ5sFyHnYNZNnI2pidHG4hyrknEOdNVqqiSaZmdmkFXKkN3juMkJ4q4do8ojCJTXNsTXjHyYGF2P3Fda+EaVyCv8NGvfo36m+9hamEJs7Oz0Of9jxw9ioNPPoneAweRy5dRuXAFE1eGkIkl8ek77yM3N4+9+/bi2c9/HrsPH8FkvoDqxUtY1LrU2YF9jz+GSCrRPCskWaxi7PQ5vPbnf4nrr76BGnmMjt5+PLbvIDrTXF+mOX+cvYDhC5cQS6TQ3duLlNbsJEVd5ieq12uKZVw/fgrv/PhnuP7zvwZmuY72D2Dv3n3o7uxCbSmP0QuXMX3lGrCwiJaeXjzzlS+hlfxPnuNSZ4TEqnUURifx6v/8Fzj1y1dQGRlFJtOGfXv2YXDHTuQWc1i6eBnDLKt2bu47coh8UcKErZRKmB0Zw8XbKEbc8HZ0SzT7/G19bivcUCuysK5uVIwU8LRXjHhsJbCPecWIx1bBI6oYsSy4fcou0z11l0scdQrsUlCcOHMep87NI7dQwUB3BH/zD36Av/G738XXv/QMnjh6GNmWFpy9cALnh4Gr18aRXxrDH/zg2/jh7/4WvvG1L+Ppzx3FwM5BfHLqI4yMVzHQk8DRQ/vR3d1BRqnK2o3j2sgCfvHye/jXf3GGQi7wnW++gL/xB7+D3/vtb+NrX/4CjpKJKBUXcf7cBC5cHEUyUaPgfRgpMr0R5lUlmc5V8N/9+5/ir379ifnq3de+chB/909/iN/9/rfw4uefxcF9+8zTrDNkkuZzYL4DxQgF9EQizmwkUalFzGso//Nf/ByXrgLf/d6T+P3fYz6+/x18++tfwlPHnuDEVMKJk9cxPzeMrq4OHDhwALVqzShW7I6RC2t2jDjFCOtXT3e5AquGta/BPPGNZTAyuYCf/vXr+NHPTiC3DHzrmwfxR7/3ffzu976Lb3zly3j2icfQkV7G544cwBHWXQ/T1Vke+WoUv3jlTfz4Z2+xDut48YuD+Ht/6w/xO9/9Br70xefx+JGD6O7qxJkzF3Du/DRikSXs27sbfWT6TOszz1cn5nH83BVcGFrE8swinnxiJ36f7fcH3/9NPPf0MaMAi9Pf8OgQ/eRRKUzgK59/Eu3ZGBnNBHr7e3H0qWcwX6zg3OVL6O/O4nd/+7v4B3/3j/GFZx/Hjr4OJCi8Tc/m8MFH6idlPH9sN449znK0x9lWrAfWwcuvv4uf/vx1TM4Av/PbX8Df/7Mf4vvf+RpeeP55DO7chUJxDtevz+PJZwbwg2+/iO98/atkfgfR25ZGIlJlfeqkFi0bbhR9lmPpzrA6Z14xsj7WU4zEkOzo4BhS3Tyg+rnHbrUquFGOOqZFSmpadGHIGjJ1SGuC81M2njLnEeRzecxwoPRkWhBp7+Zk1sYxxLnFrDcKtD3hFSMPGKpn9tUWjs3C9BxOv/cBapeuoVYsoZNr2Lf/6PfxW3/jD3Hkuadx5KljSHCIX716DfVLV3D53FnkuQ5//ptfx7f+5h/hua+8iM9/+YtIZdI4de06cOkyppNxvMB5P5bNGEY9UWugNjOPn/yL/wHTv3wJoN8nv/89/PDP/hRf/d538MTnn0P/zp1YLBQwr90qJ04g1tuH3l07jXIkRkYhVW1g8uIVvPmXP8eU4uD4evwPfw+//Sd/E9/4nd/GM1/9Mg4/dgTFfAHDzCvm55Hs68PnvvpFtB/ayzxHkK6x303N4tPX38bJf/4vmbEknvvOt/AHf/q3GMf3TByDB/djdmkZC6dOY/TqFTzzG7+BbGur+TJbJdgxcjPFiM4kC49smbfts80+f1uf2wo31IosrCunGNHun3qlYneMDHjFiMcWAvuYV4x4bBU8IA78/qLZjyWfh0hPYnRUYMyIaxJOuEhwVdi7C/iHf+eH+PLTh9AZLyK6NIaWyDKePXYAn3t8F1roJ5MBfkCB+nd/6+sY7OYFhdlEbQk7etrwGIX0JJ3GJycwPDLMmPUllTQK5Tg+PXUVr7993Az6733rKfzBb30TLxzdhz5yHN1JCtJHd+NP/uC7ePEL+7CYA1769Xu4OjKO5RJF4XjGvIZxmgzYK+8cR45Myhe/cgh//MPfwgtP7jN57Y2X8NzhQfyN738Tf+eHvwPK0maikFAiYcIclhhLmbNIXnr9HQxNAt/4zmH8w3/wv8CLLzyJgY4k81HF0X29+OHvfRdPPbUDs/N1fHj8NKbnlxDT1zGC95UNWIcbAxnIch1vv3ccb733qSnHb3xtP/7xn/1t/OYXjmFfb5Z10MDhwW78nb/xe/j+d38T+8xuEU6O9QjGpufx9gfHMcH8Pvm5Nvy9v/1H+Mqzj2FPRwQ7MxU8e6CTZf4a/vRv/xay7cAHJ67izY/OmC/02MNyY6jVaqhW2J6M8/nnuvFD1vPzrLdkbQax4gSipWkcO7wDTzy2T3wnpmZLWC7mGVYHRdYQjdWQSmoiZhzqO7EKEomGXsNGgveTZO3Ul8yZKGpgQsoQHaipKV7KsbmFBZw5fxHkcbF7Xwa/+c0XcfTgDnSx/XuzUTz/+EH80Q++i4EeCj+lIgb6uvHCM8ewmw4pvbsTHMiplrT9WjW04Ubw2OJQm9rxaq8fZjgGXAj3UNNjeS/cc6UqscqSBO+lEKHQ1LqjHwcG+yigTeLyu69j8fj7wOwEfXM86bwmD48HBNN/g/4tw0z3tQoGvvQFfPuPfg9HXvw8piNVjNaKWEjH0LFvF3bu30eP7LvRCL79g+/j87/1LdR29mAEJUxyfRh8/DEcICGdRmV6BvncEiLVGlqjCcSWirj88aeYefNtLjYpfO5b38J3/vgP0fPkY5huiWNpoAMHf/NFfOvv/i20fuNrAMN//PqbGD5zHqlKDe1cmXo4toY+OYnpj45rYcLAN7+B3/p7f4KOZ5/AfGcGs60JZA7twff/7p/g8a98EejuQKFWRZ351Se3Vc4o45q9ch3v/dUvTMm//P3v4Zt/+HsYeO5JFLpakWtNYpD2b/3+72D/l78MXBvCG798CdW5RWQi5D0qVa6f4dnAw8PDw8Nj6+KRVIwY3GQt1gnpoggZFilH0kmgrytNhrwX7QmK06UFRIuzSNSX0cVFv7e7DR1tQFcncPTQPnS1kJmIUkCuF5GgwJyK180uh2gMWC7kkVtepljNmCNJTM8VcGlogkI+02Ac3/z617B/Zzda4hVkGsvIooBspICDu7rx7FNPYNce8hXDwLsffoKZXIGSeBoLyyV8euYcRmeAwf3tePa5YzhyYAAt0RIy9TwytTxaIxV0pCJoT+uwTsu42V/lI4ZSrYEPjp/C+auT6BrI4lu/9QP09PSw7DHoI7KRWoFsVNW8PnTg4D7EWSfjU3MU6pfMeR8mPpph/samsRbyYANo38gCmbuzF4cwxbz3D6Tw4pe+hIGuNrSzzjIN5h9FZKNVdGbjaMskzBkhEpeKZKY+Yn4vD+XQynp76nOP4zDz1p7Uh4YLLG8eHdECeloivHcEg7t7sFwGzl0bx9DEPEp1taxVJdg9Qqw7MqTtbQmk4/rGzTLitRxpCX0dKbZfq3hP83XdQrmEsk7hjzQQizJsTCWpkFQsMrkRtm5Eqi+pXpiK+pJJy+yTMWkK2iuhU/0XFhYwra3WdO7q60Z3TycZxTKi7D/JWA2drSnsGuiDzmqdnlzA4uy0aYukPt8q/bl2Hlk23JRlBWG7x0MLdRejFSE9AtoRpwBxWLFrZNtraxM4cigEamecCRiPItaaRX9rBrXFWUwOX8Xy1Bj9qf+HY/Xw+Ozgel64Bxp7LIoOzt3Zvh6UOIHPc95e4PqwpDWjLYtkWyuncM7h/f3YdXA/0gM9RmmykIohxy5fzya5xHPhEfNQ45rCSPX0PlGpoTg5jXPvfwxMTKP7wEEcfeoYMjv7sJCMYJbr8yTXjrl0FOm9O/Dcb3wFaGtD5ewFDJ05j/LcIlLlGmqzi5i5PATML5AB6cfTn38BkZ4OhouZOOZpFvR+aGcL6hmaLI/WKe3i0E4k7RQtLixi4uIV4BJp5yCePHYMvYM7UUpEUST/UOSYjbe1oGfHAHbs2MHcR3H13HkU5xbIH0WQYBy3mtXC927lz8PDw8PD47PAo6sYWbXKrmZtYjp3Q2d4NLio0182lTFfY9HHIqwMSvaE9xKJNOJxEmspTUamjcxDgnHEGxK7lYT9S8Tt4l+lQF2u67DSKKLxOGZm5zA6MYa8eKPBDAb39iKdVS6KZDzKiMS0mbSCFBmlwb27MLh/L8jC4NLQdXMIapXMyVKxiOGRERSZr90DeqI6iO5sBol6HXFpLVQkCuf6CoteuBC0O8bkTjtGyJzklgsYGZ/EXI58WiOGmYU83v/kDN7+6DRe/+g8XvrwEl56/yzePn4eE/PLWC4Cy7klFBlO24ctKPJLM2KTCKDS61wRlZ43zLYc1ow+M0uGaHJ23pydUi6Bwn8PjhzYi1RCHKG8sg4Zt929I1VSjfnVV3xqqFTLOHXmrOHnBvqSeOLwIXS1tqFRU/oRq6BheJ1j0Mc66SNTVqXb8NgshsenyWOaBKDPg0aYD7VVMkkmVNesU7nZz+BSEEummd8E648MIf0VK3WzY0WKjijv23NTbPvShXaGJ0Xl1pDKJc58SCmikqhoMg17a8LryxttLUybjOhytY65IpneWCsZyw6U41nk6SfHCqpUGZb9pFYvMy9l9gp9xlX1yZSZ15V4lROPhxtqQ9uOGjKGzNXGwSCbRoIZwvcdUhvqSbRMjhgpFTlfgvOm2XKlQbBUwBKNWroD6c4BpNv7GI6Dx4xiD4/PHhoa2jFoz/6wf5qTtdbpLI2otp1qnqZ7jO5S9UkhENcrYEImjUQqxTUxijL7f12vkZj1miFMOILXMd7Xq50oV7E8NYsRvd5SraBv3x707Bk0yotlXpvXp0gVjplISwb7uD6iuwdYXMI81/nS/CKSXNDmxiYwevUqUCqhg3zDfvrT19ekmKwxrEhxhecBQfORdkGqDLVCGYt6B5T5iXBdXBidMIfBXnrjPVx78wNcff09XH7tXQwfP43FCfrjOM2TbyhzLJs4GYf9Qk5QzptAaXp4eHh4eDxoPNrcpuVVgjU5WHnFU0jENYoRsjjkTiQ6662FKK9jOivDfCpSTI2EXgbgPfmLkCmRUkQKAjH1NjqZvElDiokaGZ1GjAJ0LI6F3BLmFhfIEAE9A12Ip+gpWkRDFBGLpE/dlsk41NDS3or2nh65YH45j2JNX7SJoFStIZfLGaG9I5MhpZFilrRTwSStMgRpa5eDg2Xf7E6GpXwRBTJb/MfYZA5//fLr+Ld//lP8m7/4Bf71T17Bv/rJG/jvf/QK/sW//Qk+PnWB+WZ8TL9aZm7IIDnB7QZS3YgM6I9Ww+gFipFpMmiTM8tGkTHQ044dPZ1Ikkky8Zl4VZcSlERVklWMSMF0fXgUSr6/pxd7BvqRZJ3WmCfTHkqtTgaT1NbeZg6z1VOu6fk8ZuZyag3mI/hRW8q/0mHCyp/d3RFjOzCfNKtk+CpMWjtGdBZL3bQ9+wfdpTGxyhFGJdP86ToekPXrdowYlZn5ooYUIzF0drTi8OE96Ohm3c/O4uOzFzGRq2KhmsJUsYYLo2P46OSn5jWqXvrR+TTRuGqD9UBOXGcLVFkO7fyRIoe5UXE8HmqwDdVZwriDZnVB3fDbDLr/UK7DJIOmlCJ63aAqpUge4xPTWK5F0bvvMHY//hRiA3vpT4NZ5OHx2UPDQ2SWFFHzxykYtPbqK0txJDhH6/O7WhXkw2zhpD89MDFEu1QGJfZ7o5jQGJAin/1fr6yad+crFVQXl1DWohCLoYULQ7KzHSWuC8VGzZ7LQb/iNWrJONq6OxHp7aFjHNWlZdSWC8jGEshNz6AwNsG4a+ji/e6+PvIl4m8YjutvpVazfIPyGYJhI7SDRescF8a6npQs5tEYm8K7L72Kl/7tn+O1f/MXeONf/zne+B//HC//d/8Wr//or3Dx5BkG1MOAJNdZrYlca1UercMGpkZuilvf9fDw8PDwuP94RLlNt8TKDChgZMSISPDWKfLacKGdBhKMJXiKsTCCrW4QOnhUUkMQ1IYxbIR92iNo8deWU5ekEZsNIxAlf0MmhtK2Nkm0t7UhTkYmRq7DiNBkkqrlEoX9qvlsZTwmZYwEbz04ZbqMMyo3OtTo18TIjJhkbBZsmQzZ/Qr2tQ4HuVtBXnmQEkMPZ7UL4+zpczjx4Rmc/vACznx8EWePiy7x+hIKMyX0tQK7dbBopMbQjnGyKiALpXITChRLqsdiqYzlPLNK55b2NrR1UOiXYkSMoDKjWpTGScoUlsMK/jEyjFEsLumMDiCdbUE6kybfWAlyQhIzSVKdZDMZZHhfD6VKrM9iqUgfQbysl5U8K0kpXSwjy7tMl+kpaYZVNSpbJgztgpKRMiYM3bKtYFq66WJJMC1l7qms2WwWTz/9DA4dPICF2RJ++ctf4813PsLJs5fN60K/fOll/OjHv0SJ9fS5wwdxeN9uZJMx05723ewgXlmDwljDpefxcML2GfNHq+lTshCuqW9GDhJgNoNWRXoDbD5XkebEEDUHzBo4ZyMcMZxGt1XtcXwYhSLHioaXxhiFr7n5RYzny2jZcwh9X/w6cPBzFAwzMNpik7bHDXBtF25DX1X3Gaxg17dJUnDUSYl43KzRZncJF5Xm2Vx0M6sITe0oEV+hdV9ri5T7pv9rzScsX2L5FHoAEgmk09q5Kv7AxqGzs8yuSCJGPiGZSJovzCCe4DpZNQqPZCpF/qOiRVGZ4TqaMWTyp2iklFEcSkfxCqv6DddjlYt5axg+iE6zMxg6cxoXP/kIIyePY/T0p5gkjXz6MUYvnEF5WQdpDSC7ox/1dNIo9RWlSYfpKhJF42gt1nPz8PDw8PD4LGFX7vBq5eghhi2CBHlL2o9goMWZFI/HzKIvpYg2BTTiXMRjZCqMcoQUi9FbEEYI6sO89EH3GqWJuki35E9PR4x3MkO0aGeBfWak7bTaOQAUCyXdNfdFcTJOKT1hMmlFUS1XUCmWTahkkgwMmZwY86ntuC4r8WTSuJv8NAV2XpC50U4WbZINLg3sVyHYxLxXKZeg14g//+xe/B/+0/8d/vk//T/iX/yX/3v88//Hf4x/RvoX/8//GP/qn9L+f/3f4L/6v/xv8Z/+r/8jPHX0IBLMvBQUhlljnKuI+bLl1oWI9a3tMRR6ZBrmjZeq52W9N02mTYxWlPlRbTa0Q0Q90ARh7qMqARlAklE28b9C/zr3o9qosT4oUBklivlnoAaWcznSIkoFXtbpRy9qm5dQRLaO5GJ+jRRoIZuhQDJ0xZDd/oXh7jph0LnodyWkbIYhVr3TrjrTluKDBw/h2ONPojWVxCefTOD//l/89/hP/tP/Av/Zf/bP8C/+5fu4fAX4jRd78b1v/SYO7R5EtFJAjGVpvrpEM6LDJ029CerXHlseK13jJnD9x/aXBwWTdtChTHdbh5qD3Qx4Syt/N8J4k2nu2gs394nM4A6oOLeIy8OjGJpbQsueg9jztW8D+48C6U6F4r/8eayFaRf+GiHa1bRbLDw2H6pbQ6Frwij7SVJYuLVhZY2w0Mytay1PWuGSXO+SCZ2rxfVcSg/aXTxa5xM6e0QtnNfX0oqol6vmgYJZLskTqMW1MMdI2n05MzUtJsPsCImmEuY1GzsG6ZNx6tVehTWv+nCNIldh1hdRVQoUQbwC72v1s0XlWCW5EZ75/PP4x//n/xP+k3/5z/AP/tv/D/7sn/1X+LP/5r/GP/j//b/xj/7Zf41//P/9p/iH/+V/gT/8j/4+uvYOGsWIHhGI1zFg/sUTaOVXnzVlCODmCw8PDw8PjweJYMUitEqFV6pHAK5IWnRXiqYFeWVhFsOifRHak2FfWTAcgWEGtFY7MqC7ebuCXI9MCzISwcIvoVmMgG7Vyax0dXahva3D7BRfmFtAtayDO+OIRcUa2eenen2jznCFfAmF3DLIJqHVfJqKfshEiE1Jp1KmoXLLS8gXSmhExUyRTF6bpTSMjJGdTWF5j/HqT5+66mhvN/kqFfNoTSewf2cPDg324PCubhzZ1UnqwpHBLjy2u9e4D3RlydDY11tsjQWpKFq6OhJMckpLN+kmRYrcOjra0dPNGHgxOjGF0bFJ5pGMmxRJvK9nZKpvKZsqbI9ylUwa6yoaTeLQ4cf0ZUCMT05idHzCvJqkeMS8Sdmjrbp6X1o7RHKLC+bhms7y6Ops5X1WglEkMN82ixYKbwzlnWao7lS/thVdBQaegzIK8m6feFuEfa3ypz+1Dc0Y20mvBV29fBVJssS/+cXH8PWvPoUvfvEwvvyl3fjet3fj7//pc/i7f/q38Lmjh9BCpjZaqxrlkX0az7IykSDHJv6VND22PGw3WKEmVi5Wbq208e0g/67P3iu59G0/Wwvb38PUDBf4F9mJIaAAriSKQUphCWjGN/0YhS3nguXZOYxMTCJXi6L7wFEc+eq3gb2PAalu+g2UwAom00Xo0YSvkvuPG7se+7CZ3wO7HQFNP7py48Mg8CpDihGzo4RXzp+LS4oVrbQRfWI/mwayWbOTJDc3j9JyHgmGi3N5MmdzMUwqFjNuywuLwPQUl64aMh1tSLW1YrlcRLq1xRzKqldzZqemsbyYQ5z+jXKG4y9JPkT5SEppQjeziDJuC+UpQjYjYXaagPkpMf6kdn7u2oGWfbuQ3r0T2f270LJ/t6Es3Vr27ESqrxsVlqHM9VdrsNIwSheu4fZBD3mEZjorUBYMbNIeHh4eHh6fOcy6vB3gFl2ZOlhM501EDdGhrq+OSDWywhSImZdgGiOJaXAMjXnK0vRB4rXOG7HPPsX+mzdzKZeX0d3div6+LiR4c3RkDleHRrFUlFIljVokRcZBO1VaMFeo48rQMK5fu4p2+j12aB960gnEqxVkyUzs6OkF2SRMjE9ibHoOSxQiSjGGJ2NToXBRjCWRo9g9W7DniKiQ2rViDgWlvZ2M0t49g+hoB2anp3HmzEkU9R6zdmiQ8dG7PnpfGfEU/1sQS+mEeik4aszryu4LRhVAJTesnzGtEoB1py+oNCpMs8TrCnb09WD34E4yYMz78AQunL+GUi2GMstfjWVQi2eZB31al/kwr+BIYGogk0nimWefZP3FMD2Tw+Vrw1guMf14C/1nUImy/lR+ts3QyAhGx0aQSgJHDu3GQTJncXGkAeMl9lM5ddTkt2gxdjFu9L5CLA9NszNEZdNf0AesKkvtbp55sW6cwmglZl1LaWZ2Ihm3GM6ePo/ha9dYH5344e9/D3/nb/4e/vSPfoA//UPR7+KPfue38LknDqKlPYU6O1qF4dQbbZ0wbtaL6l/pulg9HiLYTmLJYG2P1A2jJqTV7Eu7NXFc2h1Em0OKy8Udoz2+huQWhZR1lvRFLxOW/pVflSAYKebPwowEYzbdTPn5o7CVIspLCxiaGMcSx0j3wWPY88K3gUPPAUkpRTigm/Xl4fHgYHqv1n32R9m13Nk1z9q5PNzQVeVXPIMZAiTZRS6OVZA/Q3Y9qZJhiPV0YsfRw9DnyoaHhzE3PoFMpWE+w5vl8MtUG2ijXYcVnzt1Wk9ewAUGvfv2IN3VgRKnlq7BHejau5sxRjDDNXSWPEa8UkOKGdajlgQzrx0nsRrT1cHHYhbIB5gVhvf0qk8snUZbfx/Q24P6xCRGrw6huriM7niavEoSmViC/E3cHF6fTaTMDhhz0GxMD5pYFqZuHmhoDVVarIskSQoarakOgRdXXeb6xory8PDw8PC4vxBnvm1g12GKmAEzr8+xkrUgs2IVI1bwFKzAIsFY277lxypGLIsv1iFYyunDKkbMkxiFCATrWq2EzvYMDh7YjR0DCYxMAr9+/R1cuT6JpRLlgkYSJVK+Fsepi9fx4SefYnK8jsN7gC88+QR6MglEy0W0p1N47OBBdLcAI8OzOHHmPC4yMqMcicZRjscxV67h0uQcTl26hgI5EXO8hnLJ/GrnSjKZwGNHDmLf3h3ILwNvvPUaTp07h+mFHEp1HQFbZzgdDhfBfK6AucVFFEp5NHQiLSNrGOWIyutK7oQ6kmMQTZ1KWNLZIGXaK+SlOnD08EH0dgJTo2V88P5xXBuZQq5MX9EsqrEs049hYmYB10fGMD+/YFJIkxk8duwo9uwZNGeUnDx1DqfOXmEepVSxipFlMoZDZBbffOcdDA3nxbfh2acfx+6dvaZdDSOrHEbtS01yMtuHaVcZLORHDK8UYEEby49pZ/qUSXKlVTubnRwM02C9mE3B8mZjIdm4RZa5oxvrdHJimnzrIjLJKPYO9uLZzx3CF555DF98+iie/9xhHGa7xONVhimirniZ56qUWkYxotwLitH2W0ceDxnCHUS9Uv0rGD+2fVeUDbekoC9sKq2XTpOUJ5e3EJmwLAz/7TjReOFIMeXjGGFYYxVkkbJSwle1jNriHOe7USwW8ujctQd7nvoScJSUHKRHfbrLxePhsXVg5l72S/V1u/bZ8WvWgYAEu17wR35JVhGgtUarggu1Ygp6bUUjqszAsb4uPPbCs/rOPJaGhnDh5Cksjk6ghcOulYlkpMzI5TF+8QreefNNLqhlZD53FIOPHUK0JYMSI5ZC48Djj2nrJirDIzjz3kdYGJsgX1FFUvmp1lErlnDt4iXMTpBBKetLecF6w/tV8gSJbBb9B/Yh9vjjwMwcPnr7XVz69DTq80vIcG1LcX1SXdQrVeQXc5ianEKZ4fRyjpQiVjHCUnHs10sVNMoVxGt1pLTjk/fC5WeStg4Du4eHh4eHx2cNrd+PMLTsWuFWRXUCrBh680y+UbECcb2EOJdwc+ClWZIVRttN9cSUCznX9QRJdns+Bn3wvlWKkHlolO1TkHqZ9xkP/UUqBXSkYxR8H8PXXnjKpPrjH5/GK6+/g/NXxjCVq2J2qYYLtP/0Z3+Njz+6js5W4De/9nk8fnAn0jGdOTKPdAZ46thhPHGkHTrb7K3X3sVLL72NkfEcyJsYOntxGK+98Q7ee/eMEa3E9MSZJ5UvwrI1ysuMcw+eYzzdTOPkyQL+pz//Cd4/cxXXZwvmKymTi2WMzuTw3ocn8P5HxzEyMc6KsYKbqT2a2lQieSi/nEepWNbOXdaDXvkRi0NTdgk02pFDj9lkFC88/TieOroLrBq88euT+OWvXsGFaxOYyVUwvVjB9ckcXnnzA/yHH/8Cn5w4i2LZMlF7d/bg6cf3oSUFfHp8Cv/hL36EMxeHMDFfwvRyDeeHZ/CrV9/CT396HPkcWD878PQTB9iGOqeF7UgGNMa2MO2n/OtpN9tTZVB5TE9gW+rpe7xRMu1rlV92v4ZYVEs19g/bBxSf2lZ+zFN73tcuo5jrS4w3hhLd9QqSVSWp6+mrOdpBcuHSMF5+9U2cOnsJV4cmMTQyg6Hr0xhiWUZG5zA9W0SuABQbKVQiSYbRK0dBnxUTTlKcHg8xbOfTgDLtqR4kZWpMZ/PoMB69W1elWLEVSWcRrLqm2KN33xxR4NG4twrEoJiycz6w79fRhQOhnC9hZGoOIzPL6Nh1FPue+Tqw70kGCHaK6FGzJrJwZ1dkIg+PBwD1ZzFLevWzwn5YMls/GmZnRlVLnhnLtstq1SjzXlEBdI8kZYe6tOvGxh8tikvxiBo6O0Rxa1ZozWL/k08g84XnuSDkcfzNt/DuS69g6foY4vPLSMwuYfjT03j7ly+h/P4HQF8PDn/xefQd2GvCL1aKqCRj2PO5x5E5cghYXsKbv+Aa+9pbKFwZRmRmEbXJWUxdvoaf/fgnmD53Vgs7l2+Wieu+zijR45BoWxb9TxzBF773baCjFdffeQs/+clP8Ok776HE8JEFhpnNYebKEE6+9yHe/vVrmJ2eQb5YRJEMQpHlKRvGgbVTLGBhYdG8FiSFipRFdl0N6jcgUyUkDw8PDw+Pzxqxf0IEdovwiiT70jRKM0MoLE5ScE/SiQyxbmiLvyCB7baQn43421xYkT5MUS78McQSKUxMT+OTjz/GtWtl7NlRwze/+iW06XyH4ImO8UvbB++/h/OnZ7WjFb/x4uewZ7CHRZZArX0TZIDKVXx64jROnZxAWxp46vG9+NyRfeR4loxQ3tHWiZ7uHjRKEzh3eR7HT47hkxPv49T5C/jwxBn8m//wM7z1zhzaW4Dvf+dJ/K0/+B76O1JINApkb8qIJhrItrYhnWnBxNhlXLlaw7lTV3HpwjmcO3cZr/z6Lfz8V6/iytB1HDk0iNnrOXQwH889OYgnnziEZLSOeqWAbCpuPgXb1hbB6PgwPj61hJOXTuHUhSs4ce4iPvj4BH72s1/hRz/6BENDF9DdmcBjjz3GsurJdgyjk/M4c/Eqzo0WMD98Cd3tafR3d6JD7x+TuTGfroUEedYKK1B1p505vT3d6OxoQ6MyhQuXlvDJp0M4e/FTnD5/Ge99/Cn+8q9+gb/86SVcvbqAXYMteOLoE0jqc3+MtJf5rVeXcOXKJD48u4CPP3obpy9cZLgT+OUrb+AXv7qM5WXgG1/N4ve/9y08e+ww4qyzuBQVzMTw6CTb5hQuD5fx/NE0nn7iMMvVBn0ZSA+v9YUayWufnjiBjz4eMwza9751FAN97UjF9SSMTF2lxjyfxIlPx9k/wDh24eihPUbhFGU/iMXTmJldwFtvvomrEzU881gHnjq6F/2dGcq4jDCZRTzTzv6Ww6enJ/Dhx5fwyiuv469+9ir+8mevs/xv4Mc/fQ2/fOlNpnMCY+PT7KMJ9PX36Qxgo8wxnxlmXszeFTGOGxpzDwarc2YF/1yhjGxHL5K9u4GWfroHc8d2gqsY25BsxzI71yIWLp9GfXEG7VK6sT/WlpZQLuRRofBQYecu87pCoaa8lEMpd5+IcRcVf4h0XcwtosD7xdwSKYdyiCpLy6gvFxApFBHNlzSYWChNBCqk+qvpqBwntLNc5gbnknJuGdfGpjC7VELX3sdx9Gs/AHY/yXHSw2CcuHTQqiRJB1dfjrYppCvSC4oX56cxWS6gkOZ8y3mStbwuXFVt4yrbNBiBnRWpNV8Hl85MTeP0228Dly4i8ewzOPD0MWT7e1Gp18yGqDj78NL0DM5pl8cnnwB7duLIi19C664dRumgNonWaqiXyjj50SfIfUw/mRSe/r3fRoLrU4WJ1RP61HsHdu/YiaHFRZTIL1x/9328/cFHGL9yDR9yDXnzP/wIc2+8pXdlcezv/z08/51vINPfgyXOJTrEVWdwtXe0mzE4RH4HZ8/iKnmV85eu4Mrps/jgzbfx4Y9+gtz4hD2LRE86sins/8qX0bZ7pzknRIqaaCaNvp07MMU8L4yMoHzuLM5zXT3JPF05dQbvvvIq3vnxX+LqL/8as0PXsOfLX0CKa76+pCPlSpnz2HmmBdbbeLWIEpmpHXt3m90pOrze1IfSoWl0RDJJN0Vz/bulr22HG2pFFtaVeS5I6MFNrUz+KJfHUwO7sSOVlRrauIdh2sFaLVZdeHjcB7CPiUuQdFkgTZXyODc+golyHjHOiTonMWE+PEF+wszHrlNy/gisN+umcteXsarkVfLzC9jZ1YODPf3YmUhDR1zrwalZSOVxvUhuFrHHI4sNKEamUJ65/lAqRpSm+9N0L6HdsOxchUulEmr1Kvp7q3jmc4/hySOHkdFXT4JwLr9LuQV0thdw7PFdeOapo+jpJgOhZz8anPyR7FssFtHRWsGxo7vx5OOHMdjfZXZsiC3QZ3hTiQT5jjYM7swgnixiMV/A9bElXB+dQ7Ylghee202B/AV8/cvPY/+OLmRieo9fn52tMq91hkmgt7uPee1HT5sEhwomJqZx/foUsxnB/oMH8LWvvYjvfOOr2NFVxrEjPXjqc4ewa0c3Fz09zS0hQe6uJZtGb28X+gf7kelIYpGc9vXRMVy+NoW5mVmWoRWH93fhiy8cxTNPHkFfby/LqYmHDFIsxZjiWBi7iNERYN/OuPm0rJQjetIdvLBi6swJSPr6jz5R3NnWwrww//0JxFMVzC0WMDQygZHxKU5YNTz+eC++8uLjrIfnWHd9SJB51MGvqXgD3V1d2LWrg32vinkyiNeGFxhuBpVaBfv3t+KbX9+PH/zW1/DkYwfQmmJea6x3ZiNGxlBKDX3OcFf3Mp5n2x0+sAdZHWrHSdIc4Mr86hA49YW21iI+d7QVn3/+GBnSrPliELNhHuBL+dXdHcFTT6h9Va89RjFiznlg3eh+qVzkhFtl+KdxeO8A2jMJE7bSiOHK8DhOn7+KHNv92LFDOPrYfvNa0569O7GHTPPg7gGk0imMjE3i9Nlhlm8UvT2dGOjrZF3oKbzrjRafvWJE6W2E3K+DV4w0sVJFFlKMLM9h+vJ5LE9zHCzlsLy4jJncMmYXl7BA+yLtMnNLhSYtLW8+mXgVv+wBmevAfWmpaM3lIpbZlou0L5PypCKZ7MLcPGq5JSRZvkiGrLbZaUZ7MMZMwTkYKvQ/ynkrX4+hZ88hHHzhG8DepymM7aSXFtZJwKKLSQkzKmHaplhPMRKVYoT15ASfMJzTNq6yTYOUfOrFZoVjx67WaljmurWwcyeefuE59OpVk9Ysl0H76pjm61qpbJjxSc7jB7/wAvYfexxxKT04NhSHHiPoM7iVYgnFjg70PPsUnvjiC0i0t6FKPwUpKdi4HeQbent6kCCVEykU5xcxe5lryfgkotks9jz3PJ793R/g0BefR3JHL2rJuAlvDjrm2qsv3HR2dqJvxw5Uu7qxVK6gMDqOhclJ06f2HD6Cr3772zjy9JOIsxwdRw9hP+0p5rsai6FGP8qzeJCBgQEO1Z3It7Ubnqd8fRjzV66iOLcApNPIHD6MA+RDjj73DJDhOsty6iDZFuZhejmPxdkZRlZCmXE//tSTiKUSVjHCNNRPHQnOXBcKYC2B6SHcUCuysK7WU4w86RUjHlsJ7GNhxch0qYBzEyOYLOXNvGk/SLFRxcjqDqurDStGhNXBb7z2eOQRabjPs4iEcCeQffw0cufewOz1k9g3IOY1T9IN+zRhZZG6FYxHa/1M4dIVa2OpTmZdu0bypQqmZ+ewsLREgTqFfTv6kY5pSWBF2H/zxF9fRVkk058gY9DX14uu7nbUKJTbT+dFUCb/MjY9j0UKDSlK5J1kbHo4kPWqRaOucyNiqNQjWKRAMb9cMgqB62MTmJ3PcYzXsKO/Bwf27sKugR70dLSgJRGFXs8B09DhnlUyN5FYinWdxNx8HmNjs7h+fQKjY1PIc6D39vdj3/5B7Kag3dWexdToCOrVIoX7VjJErcwjS1KxCpp6PIkS8zK7XMHQ+BwuDY1jYmIchUIBbWRk9u4YwGBvFwb7WtDbmSRvw3SZ/yoFloVKDNemFnH65EmMD13BU0cP49knHsNgTxfTY30E/cCcR2KItS7GihaxlWVW1NTsEq6OTOLK9THMkMHTga9dzKcOTJWyoZ/5b0/FKFfZya5CBrTAmXJhuYzRyVmcv3SNcZAJY5G6OjoxuKsbu3d3Y3BnF7JkwFRnerqnssajCYYrYWpmgULcAusmYxQNKTKX0mYpTzoUrsKf6fl5zCwscLKtY8/gANJkLhPBif3FapT3SpinUJeM1sy5MWonKZv0Kk49lmZfamB0agYLrMeunm70834727FQi2J0voh//Rc/w6enLqGnfx9+5/vfRldrDPF6keVQ7epLSAkKxEX86tev4/U3T5uH5v/wz76NH/7219GRZg9iPzKHXhopiDnf0JjbTLj01kuXeWpCI8wYAShENOIYmVmiIPw4Wo9+Geh/ku5mKdo+UH2srboa239xHJMn3kNx7CqylRz91FHhFFTVyh+qVjO2gvAcGdayiVBSJrk1UZvPwIbyoUGpvDQ4LtUfE5zdMvUKSlPjqCzOoq2nHW27BgDtIlNYjkOrOaYwtLiMsZl5CpRRtO8+jF3Hnkfk4LMUoHYy4lYbvzijsKn8uDyF7dsJQf0XWPZFmj+7chYncjOY6Ugj2tpi5jAr+MijLmTYQNuxuu4HtFPEvHLLytWaUCoWMTs+gXqhxLW+C4mudtQzKbNeq7+bHSb5Ispzi5hbmEc8k0Eb19V4S9YcrKr5O6HWKVexzHWjODuPKHmQbvIBUrBol0WJa2q0WkNar6YyriX6mx4excT1YeRm5pDk2trd24vBvXvQs28P6u0tKDLuOnkQHXyqfCoNs4+T6ZQXl7BIvmPs4mXM0Swzjfa+Huw9cAC79+01Sp157VDj4Gule7SlxSpYCP3qVeF0lfniuq18jF+7jqmxcZS55rW0tKKNfIw57HXPIFp39lO4YQDVWTSKVLGCiTPncfXUacwUltHL9f75r3zZ7EThEtmE7bUWYftaSJliTJMzjzCaNcIKVDWprsjyGegVa+1ATI1M40+e/hKeaeuBHvNJOSK4adcoSsIN4KvZ4x7hupPpSuG+5eycB6QUoXSJWdKZxWn85Ph7OL4wieTenejvHaA8kiHvUTc74BwPrF9DqyIORFqzDlpFSrVcNvPs1JUhPH/gML57+Ek839Jl+n9a3tbyHC4qd+2xrbABxcgpLBnFyCnslWKkrq6rGw+rYoRmJIZInEx7RIdcckRUKlw0pMIIYAZUHVUJpGQOImQ09CxIp7Qn01lz0Jh2HVCuN3y/jgaIk7GRoFyr6uBRMiOUbqv0VzfbWhmagnY9liDTE0O5FqFAHiVzo0WJzA85KbP7gOmZz1gqUmVBQpIS4cjWs3cjL1HQbNSkbImiXGc5GGeaK552WFTLBcSNcofpSTFDUwxdhFHTI1e8BBoxe3aFyUeljlKZeWZDitHKJuMmT2gUKLgtMxoGjCaYDlCKpVGIkvkjw8ZfxGoVkDVHUu3PulA/cAy60pVdNhVDpLqOJShKkdFbLhRRVHGZn3giwvzr04F1xGslxCsUGA1UDwyrvEbihsznfLnKS5mgk/BjCbZBvMKoK8wCy0uBLUZ/rGy2DeuJ9aimZNFoctplnYhV1JNpHUorhkGv+zRiDBuzii4xcpp8WUFKnEacVUDBjfVQrxXQqBbI+EpZIeGQ4dmupl4TcQq0EaNMS7A+kky4WI/jw7NX8Z//v/5bkDfE7/7B9/D3/uQPWX85RCoLTENbs8luJ9vJMHfi3//0Jfyrf/1vMTpex5/98Yv4+3/82+jirB2l8GnOrVFhSA9GMXKrNE0LG9P4cpe8WqUYeezLwMAxuifs7e0C1YerPtkNsYNVOMYWpsgN5NgXyqbLG1qpQAvT3req/3vEulEzD2YedAh54jxFFptONMtL5GI+xtiZT5DOxigY9QOtHC8aP/qseInjeXYWo5MzmC1U0HfwcQw88yJw+Gkgs4OeOuUxqBOS4EyX5FpzOyGoi5spRrRUcLYiaNE6If+r2s3jXuEUI3rIoFW1Fly3pzJmTi5wLSyKj9A45bXWD33xJaUnnFx88uQJSjWt7VxfeC1TpHlciouEYuY6n2c8jUCpobWsTtIaFueaJH86qydaqSHB+M2OE631ca6PjFOHrZYURmNEPANh+AX9MU96tSbLdSpaKCFa0gMbxkUeKJpKUCBhmRjEvNrCOCtVxqNyBHGYKEkxruFJ8jX6RLAObtUZQzUdpso8VLVTRYoZUpnrn8pr0mW4JPObIq8Rp7vqqsKFM55JmzIrH/q3ObZQureCV4zcHqoZ0bqKkdEZ/O2nv4hnW61iRE/NBTuPqL8HFgdfzR73AHUn17cEzSmGzRF0U0SHMvuZdosYxUhuGn/5yfs4vjCB5J6d6OvrR4ayV1gx4rqlTDslrHRcE63mMDMHUW4IFCPTUozsP4zvHLGKkXb6M4oR8SsmIlIY67l5PPJo9s+bdgDLaamX2Wvn8aHqLLYMGiBiZIwSQgs3GZYoTR3W6fw0ieWLxyVg80r+STFzEfIbDDot7/VykfKClCIcuCY8GRkyI9r9oEo2h3VS+InVy8hQCG9PRdCWJLMS530J7VKKNPNBmJHOwa+oOBFoh4ryrSe18WgV2rHeliHzFaPATGG9UcmzHFIOUGAxcXHyaMYlop35j3DVk6AdZRi9stPOVVHUkqAwr5PQKPzXS4pPwo9ybuOJVMVQLZEpKyEZIXPGeGLmqzWKN4if+ZdSxMLVja2fCPNdrzAOlj/F8rex/F2ZGDpSMS7YTIv3zAGOYZjqZrhq0ZSvRXWWjiDDvOrA1EY5j1oxz3ssDydMs6CzruqMp1IucTIsmTSlzDHKDqutMcxmVWmZidMqVHRafqVIIa7G/NKf/NTJIJozZ1hfUog0GFeD4ZSOmZbd5Kw8Kr0C88K608GUco+SkVyYWzByb5Z13NPVZWpDu2By5SgpglwlgmU2WUXKMjKPyie7BOtX2hxF7mBSMljl/JlCeVhLQtgkuctmTpsOxIPL/QNDuPiCqSYOmkQGGNgDHHiCdAzYfRTY8ziJ1472OpPu94tMmko7TM49oL10U15EOij1wNPA/meAQ7Tv2IdGPG14CzsXaF4gcc6oLi5idHoGY4tFpAcOYuC53wQOPw9k+tkVxJIzgLqE6xYyTf2YqxVzm0PVoKq1AjqJplkbgnuaiewh4xYrc6/I497AWmQlNmuU874UCUtc8wvkH+yq5WqZJu/LTfeWSkXjt0FewK3pYqW4vBgFi5QIy7UK8uJH6EcKCb2qYxQTmiNiMXNAqxQvOp8ErRlEOtpQo1lKxVEgj2KUEuoMtEsBYsDLat3Go4dBtVgUNe0myaRQayHR1OGsOhx1mWnnuYZJgZPnOmbOSlFJGYeDVnW5LnMNVH7LcV5nEmiYuJIoskMuM3yxUkaZpFdkVVsmN0y7kUqgzkUw0d6CVFureTClerS9c4XC1+b+OmThTI9bwdQk21Hzg9oixo4sU26h5jVwNW+w9qaHx+2gPrOWAsiqOUSk+UxKEJn24GoYxa6UImSFLVFW0Y5yM2dyDjNyG905A/DXkv4EZ1sh+QqThUw7jzFtXunVVJE5AJv50G7dAskcqK1kbYJNuHgMXGIejyTYBQjXAdZ0hJWuFPQAGWZhsp7MFu8tD9uD3YAyQ4VMRoSMQJSk1xRiuqa7hHpDXDXMH4OIzAixnJF5R1OLvi6sH70OoRpRvCLdojuFY3o0dWT3OOgVmYg9iV3KGAn75YIR3BtmP7TCsTlk2gv+r8SpOKB38BmH0qzr6VKtxDhLjFmKENseEsa19Bkm2byzzzgdUybmy6Sn3Qdk3WhGzVko+oKNlAjLzHLZyGwRbYNnGCZl4k7RrZVOrYxSu1wSzJQOoTXTjBOEbOGNXQeGyq56MTsxGJfZisw6SXLCS/K+dohEK0VTH3FyivocMl0Zztao0tdTLD2RSpCp01P1iPnyD/MdrSJBb3GVV5wnKVpXuVlcpSUiQyYyNRKNs1wJxsl4lA8piZRShPFH4ixPCqkYBVXt7SXpGV08lmBOFC/7CutKOUuyXkwdS3GhXTiEiYfppuieZl3Ln5Qt5ZK+kBM3SpH5WeDi+cuYnF7iZNyGRmYXIq17UEnvwEI5ibffP4lXXn4Do9cpK3dT3ty3h+VTXkNQQiLmX7W7NWAyFJhqvwDmMpxL509udvxsK6i44SJr0dduI41RfdUpkmRnZv+L6N38EEHEDiQlwv0i88wwRBwLltbkw7hlme8WXgekA1NTbWRwEhSoWEDNK9qixnFamZ/GyOQE5it1DBx9Boe/+8fA4S8BGX2St4P+FAcRrpfV3ckjBM02cU7ITeUIyVWTJfe3FpqHPe4FqkEx8DJNDXOu12u5XOUNh2TWV92hqQciWh+k6ND6pbVYOwPjpMCXMbWWK6y4jxrHjnakihfQmqtP7Rsv5pd2xiW/hWoVuWoZS+RBtLeyRM/5StnOqLQ3VwYG0a5V5cU8Xa3XUSbvop0c+qJOhZ3JvbYX0UHj9CulivwaecTEY9dvmwsbd4Q39cqQvjijHS4FrvV5jnlyFswjfXN9V7+0672NR8oZ5bDYqKGkfJCqJMVufNBwqTgExb8JbK48boSrR1M//FGfEBwfab4Yxr5meEjrxYKWG6q8edPD4w5hh3bTqm6o7qQ+pzlT7x0sBWaeE4ZMKUakUJZiJG/mKM2P6rcKbE3Xn61p5yRnMzvAaZc4ZVgR65UWzUu6jpjdcFVeUAoy82eTmAftylymXXmRwtgobmhXfJpf7Vy9Bi4Nj0cKNx6+2gRbXMLu8iTK00MoLEyho1WMs7oKe4wYAdGGIH8b9Xs/YNO2v1qO1ZslsFvS9e2XWoZ2RaDXla1cCmtvhcmlY6/tnxgGPekzX7QRAxEoZFZgQ1rTurvwllNw92VT3GJCbByr7wo2Tevq7ijOcL7CcVgyfszNlbCyqp7iJPuetcjeNautIV3QoN10DWMPmzY3Nn0bnyHWhWGgTBT2ThCKZOGuXH6lkDEUxGXj1p9UIHQxdRW6ZzLAVOQezJbmntxpkxpEfyY8/az+ow+1l8mvfDdd7T/jcC6mfe0dA50dEk+2YWh4BNeuzePKVZrXL+PcpSF89Ok5fPDJabz7/qd49fV38KtfvoTLF2ZwaH8Kv/O9b+NrX34ebdkEGcwq01cb6QkcoR+la/5CDveVhLB9LW68p7YR6hT8c4WKPXy1ZzfQqgN9g5oy9b/NEK4q0y9VDyL2zwdKeoLL0S0yozywh8nMALbtzCtpGrlS8A5dwgwpEaugrTNpB8H8AkZGJ7DciKNr7xHseu4bwOAxe6aIUbQwrHADpxFgva6xDbuLg3S/WnmvzE6bk/rz6YT5Ko1hAEP1IquZIzlnWbt+nIeQR4+7AOdcM2ataXYw0HWlpoNZOfCzdnVq/pnbuie4ONaDDe9I8Wm4iEkPngUEyhreDfKyCgoWGIHV+DECRECuDE0PhLHSMeRkoUWasHFYwVpxKB839sEVkn/dD+fXxBSqA/2tCmXytcatSR63Q7OmjMXWrl6BapTLiOUKeGJgFwZSWaN210xuQE8mTBgmvLV6eGwYa/qMdptJqVsgL1uOxjBbr2CeM0jZKJcjRhkhpYSUJZP0fX15DldnJs2ZRKnWFrRks0gkdPiqVCXBDBL0VzP3NOcxcyGbvTY/NGp1VEolFJbz6O/uwY6ubrQmW5rsh+ZUlwcpZmwwznFGiag0eWUTMOzNKtjkPB4hkH8KJMUwjAt/9ORv4iSWz75BxvcM9vbrjURtPmJPIKMs48bA62Glsz4YhNNezUDcPFfOlx2Ga2GXGmFjNbC14Nrj5qW/Oyi+zagPxeHozhEOZXPEyYwT8NqevtafsJ7b3ULHU5YaKbz1/nG8/PrrOHFmzBzWGyc3UgoeNWp3tCZa7SrZu2cAX3zhOXzhhWfMF4UiDe0I0g6ZGu12a7KDU+Dcey43ilul5fIl05LJK/8rjQRGZ/Lo3vM42h77IjBwlOXWzh2yY03G2GNrwLaj/V0Ptr3sr3yxMxengOOv4eobP0U6voQdu+znu0fHF7BYiqFtzxPY9eSXgP1PAak+cucdJrSB40rWw3pdYzt2l6Ax9DRLjNsvLp3G8aVZTHVkECHDqNur57WgXUKO7vUDK2h63ClUa073v6qq14Gr4Vv5M/eabdJk8+8aJn8byt2NULi1HI7JGZ1cWe4VJnZGtjZ3Lu2bpXPnpdneUH25OhNPYfRYqnf2NdWxzhipLi0jMTaNP37qC3iqrdec8GTOWFgL56aAN2sgD48w1vajUL9ZrlQwsTCPyYUFzJAzniAtUYTMxpLIxBL2tULyuHrFZp73RpYWcGl8xChGOgf60dvbi3Q2C31FUl+YcQ8knSJEhk3eXuvCiLYkPVisVspYnl/EyLUhDPb04vGBndjT2oFUPWJ2euuBdZk/okytjtZyHe1cRrtSafS3tqOPpG+yyl8TSipsejwyuLlihJ0JUasYyQeKkT19rQwhiY7TbtTqzW4MvB6CzvrAcC9pb6yEDxdcezzINrkVTAcM6N6hHq4nq+YVGFPkYCLdnOhvCm21jiRS5nO1F64O4dNTZ3HxyjDmFotYIDWqDWTTrdjR14HHjuzCU587iH17d6O9lQtArcQMljnSpBTR5O4yK5P5N4qRG3TX9wm36i/hfK1QWDEyEihG2h/7whrFyGeVf4+NQW13O6y0sdFsFKeB02/j+qs/Rqwxi74uYG6pjNl8DD17j6Hvqd8ADj5P7ps39NqOXtETguAG63WrjbptE0gpoqdpUox8smwVI7FWvcrEalFdNkFRkwymrWALrxi5N6jWVtfxvcFExUhlumjvJXqTP2vdFJi4mKHNijNcXo/7B9Wvnp7LtDuTadE1x7/aUjNveWkZSSlGnvwCngkUI5n1Gsa5KaDIw+N2WNuPgn6jZT5frWBoahLnrw/hk9lxXEYJszpjMZY0h0JLDK1UqyjVSfEo8pE6csWC6bv9AwPo6u5GMpM2ihEH26tJwfpmYd30pziNeFuvoVapILeUw6VLl8yh2L2ZLDrjSej8RilatCekwkm+ykHTXougs1TDzlgKh3v78eSuvTR3IqPoV5K3SYVNj0cGt1CMkLnS4ZoT+irNm5gdOotdPS2IxdyrNMbnDWNhfdjO6rFV4Npjq7aJ6YAB3Tv0bmGVk679IoCUI67civ/+1YFRDzA9HX4XT2dRo31yZoETdAlLyyVUS1W0pFuxe2cv2tt0dknFnB1Tr3GMGeFGpG3xNrYwVnaMfBbYSF9x7WXJ+S7Wk3bHyN7H0Xnk88DAY7wtxQjpM1PseGwMq/vYjXD3ZYpDIBWmgRNv4tobP0UxP450ooDpfAM9+5/F/i9/H9h/DEj3BG2epKk2D+LRODTLD81w9wqcbsB6btsEbpvvL0OKEX2VZhWjZuAVI5sNU2uszs2qPdMyjEyma6WV1rpzKF+b2bL3s7we9w+qX0OsaylF1H6mDTn+ZWrFNYqR0Wn8zSe/gKfbetDBe37HiMf9hrrTdKWEC8PX8fKlM3hvbhxjsRqSsQRSyRSi5M0LpRKK1TI7agLRTNKceRSPxdHX14f2zg7E9eposFvEYr3OGfDF9GNEWylHpBjRazyFAi5fu2ri0FiI0ayZL3DZV2Vk1ui3s1zHYC2KY519eHbvATy1ez92t3fZz1prvQ0nuTZ5j0cCt1eMTJ7B4rm3jWJk70C7Ed7MbhIRPd4YeD2s14E9Hhxce2zVNjEdMKDNgCZJ/poJ1ZVZAoTcZL+f9WDjrkdjJH2+NsKJWfsptC0vYg6PjUd0JWWIlI52XAkaXfozMRgnXgUXn61iRFBaN0vPtZNMNy+ozqMomFdpCujZ+zh6jrwADBzhfZ1VpOdXXjGypbDOUrAKKx2RRiB861WaT17FhTd/humpa2jNRtC57xj2fO2PgN1SirTSn1OC6VwRUjMd15/W9CvdXq+r3az7bQPoYDrzKs35k/g0P4+ZrhagJWPPGDE+HDj2vGJkU2FqjdW5WbVnWoaRyXSttNJadw7lazNb9n6W1+P+QfXr6ti1nUyRPvmcJq9RyS0jPjyJP33uRTyR6UAbb+oVmxsgt3AkHh73CB1yulCt4OPZcfzo9Ec4mdNLNVzGOjrQM9BP/jiKWnhrHtctneWYiCeQSCUR05esyDsYPp7e5HMty2J2UQfrnQE9mB0htSoqpHJVVDH2GtdJ082VDtPOLy5ifnoaHYsF/OauQ/ja7kN4bGAnBsnDiGMNc6taYZWKI49HC7eXTPQ1j1gKJQpzlTq9S6gzB9KwS4U7oIfHFsZqpYgQue/d16TY0I6Puv2yDSmBCtIxfbK5jGy8hGS0yEFYoJ8SqYpIPThPxITT4bSKI4jL/AUwC4iUEJ8FKa2bpyc1iNWvctEyn4ykjZWrHTJVzhelGssSo3DMBc6WRH49thQ20iTGj5YMtWGwdEjRxzWiwHaOZLoxcPAZ7Hnx+8DuzwHpAXrIsG9IEWg8k8RSuL7jEt1I4tsbrsZb0xnOGVHUdYgiq605H3h4eGxraC5wpBnVkYG+eFQmD0LBMB2LozWVRooeg1ncw2NToFXdrfBrV3Vxfy3kAXXGx7EDh3GwfwdaEpQtyyXzWfN4SwbZ7k60dpHa2pDNZpHhepdIJoziQhAfb/o4f1xfXw2myv+mu/yTFD4ejyOdyaC1vQ2t3V3I9vUg29uNDNPUF7oq1QoyzN++/p14cv8hHB7YiZ50i9kpEh4n4TJ6PJq4+byonicks0i1dAGxFgo4cQo7afLCiWbH1xNsQ8azh8fDBPXx5hR6HxAeFZqwOWoCkvIDddlpys34oADJcWe/gbMaLpdOSXKDhwcJkxf9MGdSnDbsF0z0RZpypYFYLI1MSwc4kdCP2ylyP+vd446h5rgZNcELNbMmfLf7I5JEMd6GRucedB35Ivqf+R6w//Ns61573/QH9myjOAv6u+srbo1ZnYhHGKa+m7WN/o5OtJGZbOQLZiuwvuplPYWh+gyT4OvYw+NRh74XZlZXDnczTWtuIH9hGP1yGfFyDb3ZVrTGks19fHcMN+WEycMjhPW6hbqj+lx/LIMv7NqPr+8+gmd7d2IASTRmFtBYXEakUEai1kAqGkc6nkAqkUAiFjeKDaMUCXgG/dq+TmJChi8OyPT/IHFj0LNey9HnyxORKJI0M4wzG6HJtKLzS0hML2JHOYLPd+7A1/cfxeM9A+hNtyDNwC4uVyilJ2WJOFmbG49HDevPi2pt+9iXDG4WyY4+yjTdyBUaKNco8EQTvBVFjRNu0FdWekiT2fXw2N6w44K/JPcXVo4YIbEuxUgDdZL9nKH52CZ9Sjlix1JzaDlTUQb2BwOlHiJjWHudC41RjDTiRimylC8jnW23ipGE+0yrSP49HgrctKnYjrE0Gq096D70DAaf/iZw+GtcMwZ5j8I7u7iUY+YZj4lDI4KOxnTw/WAj0EIt6uvoQHc2i7jejS4UOReoPgVXp6rPNWQlpIcf4W7j4eGxChrlbp4wI158B0mvI2jFbRQpdFZq2NnRjQx9bPhlVo279cbezdw9tiVcd7hZl1BfU5/Td+mOxFvwtV0H8dW9R/BEVz9aSzVUZuZRnJ1HZSmPCNc3KTD0qnksGjV92HZqa1i22j5wMdeGIs2+LrvcXF7MrhFHXDIjlSrHQwnI5VEYnkBmPo+j6Q785q7D+Pq+I9idakM7Y2i+QuMicqZjY9y1xyOF2D8hAvuNcBIYjWp+CRPjw4hHa0jEG+ywVSPUmS99yKsh/tEi+2o4lxvveDw4GEH9Hkji+3ru906bDdfvbPxry32/ymFTlT0AHZSW3O2Ezns05WB86b69DMjF4bD2+rOCy5FAU/8c6EZ7b/6tXZcqjw7SqtWjXHMqmMlV0LnzINp69wEtvVwZdeaEPHpsPahdbkVrEDglY3F09O9AamAvkCHbo00hQRDTLwxn4VhwmuZT77peJ06Htbdu4fWRh+YElt9+Dy6KpXoV80tLyC0vIZlOoxGzT9NUSWZ2C00iRiciU5FsYQSz4W1IZVvt77OASSuoy02jIF5B16697pY2sy7uV3k97idUw3Ydtu2nscLllheZaByxUtk8Ge+pRfH0rn3YmcqYr2zQi6F1sfaGu17P/aaReGwXhLuA6xLrdQvbU4FOrmXZlg7EknEUC0UscT0rVXSGJfttPGYOW9UpIA0pRhhCYczro+ZgLbuiiX2WqQVSfT9On3H6dNyGGQ0aEwxseVRaGnXUiyXUl/KILeYRmZzDoWwnvrDvEF7YfQh7yZ8k6U+7Qkz+zQ+hhJzdmULY7vFIgPKZutYaOBezzV8dtQwsjuD0Kz9CvDSFvvY4ulrJ3JJBc5ozs11aHcR0vLVR3oeeYxLbPKxXDfcCy6huHjaav42kq5juubRBBC61+9DCmwpX3ma5XYbXlMNhc8qzupbDV5Z9cbCpObWHu7o5bnXvfkC5DWrEDnKXyWZ/M6eFmy0CNXOeyOJyHbNLVdQy/Tj0/DeBnn3k0Lq44kkH7/FQ4sYuSzc61oMDufUJZjLhN0CCugssw/Uhh3C8gvFjrQZh+3aDqzrWQZmkA+xGGlV8OjaMty+dRbmrFejuAJIJlNkWVS7IhmU0dWYZQkHrx2avcZsFU0T+3Cp3YosjUZYnVAZbxKCAHh7bFI6X0EjQg8qGmYuNE+LVOpKVOkrj09hZj+OFgT34EgXAdt6TYkQCpJ6wG5iBaK0GiiM8vNw9uYX9rvXnsa2hbnHT7sCbOnDVfGaAnnI0pylnXpqfxisnPsalhWnU0gm09PWgrbcHqfZWlMVTVmtGySeI19QOa+2s1g5r1w3V96XQiAeLnpQqVfqrsZPXuHZo/TCcbKWG0vQslscmkV4s4DeOHMMzg3uxt7sXPQyn0BoTq141c4msB9/3HzncRjEiizQfpOos6tePY+zih6jMjaElUkRbNo2kPrUU1RNA9Q6SjHWi3HRsMkO02UzjVlaMCAH7TNxduU0qDCpzc0tKmIltE2MNMmv/7LUrdXDrhtQ2MfVHAKoNuwAZBUmocqLx4E1LLl7VShnVUhGlUhnLVc4NbQPo1ZdoBj8HpLjkRNOhlYbwlfxoY9UguwPcbbhHEXbQ2bog6es0YibHinl8PDaEk7PjmImSRWzJINbSQm4uxjEZtau2nox9FmvxPUJzita3pvJ1PfCW2NpVMG73H64JNhPK92eR97vBdivvowAnHppXDjTm9V+rIVoooT6Xw0A8jWe6d+K5nkEMpFNG6BNJALxBMRJuKEVnDQtdyAjNK2Zcrgnj4bEugm5jThpjPynRXCKNVkr4ZOQqPhm+iqGFGSyTrUz1dKF95wAaybg56yPFAHrGojVN0ejV81qos4m1TPI3wZvqnnV6rvJ2ORpBJWaVItVSCcszs8D0PLL5Cg6lO/C9Y8/hSEcv2tPxlV0iATQ2zHWQ71U3PR5ZrFaMrNgszLV+SA1239IkMH4Rs9cvIjd5HY1KEdlUEnFOxhLIzWs17IT3DcyGi90oADYrKRUvVA2bgc82f4HAH8a63q2jfIdOhwmZdwe3c3vzoNg2N0aV2WwxvwVMiptelkcBRs9ue0moctQn4/EE+zpQrdZQLFdQrtaRyLSirWcX2nYeAHYcAjK9XLX0Co0UqFy+fAVvD7jhdqftfbfhHkWoLkSqC5JepxEzqU/3jpWWcXpyDOenxzFHxrJMBjLC9RhSjHBQrhqvgamxutWguUW7o7cqXBNsJoLm3JLYbuV96NHkDa1qUQJiVF+Cq9SQqdSxI92Co32DONTVh53RuFGI6HGGhL5V+/vCjR40VtOJFuOkH9ptkvbuKoWlrKFLD48boG4jYkfVeqZdkHOksUoBp8eHcer6VVyZmcRsjLzkrn6goxUdqYz5ok2MC4U5cNWsb3bd0GvpOhBVB5HHGvY1Gu1GqUohwgspRkpiOysV5CenUZyaQTsT3t/WhWd37MWL+4+gn3ypXtMRxZuawjWKEd+vtw02oBgJ0CA71likhSzZ9Chy1y9jYWIUiUaVPa9EwUibo9iRYjH7aaVN5sBc55RpiPFvZgr3RTGyibhV/ta7t75/W4FGSdBwe0acv/X8bwyuTTYPQYx3n6XVcGW+TYSuDJtblkcBIcVICOpjGu/q69reWKxHEc20oWvHHrQM7gctXGWyXLFIkRSJNSvFiIGv7UcersPcaRPfbbhHFaqPoC5k1dM27QgRQzldq+IC1+Grc9OYKhdRjpEJbNTM0zSzRjpFpAm/dgRvDRgGN7DfDmZd+4yLoSebm52kaZKt2RzbrrwPOxxfY1dp8uAc92lKhjpgtTeeNmeKHGjvRhvvSSmij+HFOC1oJW62iQIGdrW/G49ylrtpv6YDIb8urODchbDdw2Mtwn2HfUW7OpZp1U7I8UYF50av4/iVS/hkZgTzXVlUetrQ19aBjnQWKa5nSXZQfV3GBGY8MfVndmopTbQ+SDKsch0sx6NmPSyyNy/XKmjklrFwZQht5ToOdffj6d378dTAbhxJZKDvJeo7CFKwaBO0urCyqFREHtsLG1eMGHZMG3nFjtFepZlbABbnUV2Yx/JyDpVKBXEKSvpetBGCQlh9dfdw8ajzK4m1Wb5bbCrDxXzdF8XITfJn01Ki+nfprr0mmqug/QqKXVBX3O4FoVQ2AYrN0WZgbVlvjs0tx6MCx3K52tECxCv2O3W9WCxuxnwkSVasfxBo7aQXzgF6uTMpxUiSnoNnU6sq2Ne2xzpww3S7dw/Vw9o6oJucNf4qvFcilXk926hhsriEpVIJi/llVKX41hxv6pKmmfvNxZaDUboyazZ3t2l0lSmwfmZgljY7TVPKrdkc26+8DzHWjpZYlEIj1+O2RBIdmRbszLahNxIzgp/8imoUJI1cyfZoPhHXj2sf2tcqRoSmP0FuIf9Ndw+PjSDcfwjt6JBiRP1uijfODF/Fa1fP4URxHgttSXS2tqOrrQ0t6YxRithv3bHTMQ4dthpjp47WG0ZKNc6JOCraMcJ1b6lUxPxSDvXpedRGJvBU3yCeP3wUnxvcix2RhPlKTibIi3vhwXVnDRPftbcfbq0YEcJuEbFg2vwkR5L73KgjRXWzXrTJigIT32ZGGaqGTcFml/eW+VNaLr219vWgtnPxbXK5NwW3y/+dYiuX9WHAbdrD9HWSvjYSTVhqcElpBGyXVheHm0Th4dGEG6bbua+Ep6pwPYSnMrpry7CYQffIQozl2urTtSV3Z+tAzO16uVqv6ddz+6zg6nAzoHI8yLJsBNutvA8zXN2G61grr5ZdfSDffX1GENunvd2lag2xeIxC5vqv06zX9qva0HmQ46obHh4bhPpQsGDV2Vn1iqiepek10flSGWcL8/jzMx/i1OI0orEount6MDCwg2ymPuFrVSMKq76uXSPq79p9Upd2QzuZ6a9ULmNqagpjY2NIzy/jW4efwHP9u3Gwbwf640nzOd4UF1CNE7GvQrg7+669PbFaMSKsvloD3oyIDVN3CXcZBXIs2XoR3I/utdlx3rLgd4HPMn8uLZmOhM3Ow81wP+pus/N+s77pcXvcWXu4mnYziwu9KoaNR+ex3eCG6XbuI7eqAzfAdM/5I1eoRxZyCtSRq+CCbCWE87jV8rYWm52/9Zp1K2G7lXer41b1d9u6VWOKPZfkSM9SjOgRp5x12KTmC33IRq/X3NDwipxuzbU8SMx5M5e3zYCHxzpQJ3Jio+t7NM3X1+h+rVHBW1PX8e7YVYxNT5lXRFu7u9DZ24NEJo1oJGaD8Edngwg6V0Sv0eg4h1q5gtmpKSxMzaBWKOJQuh0/fPaLeKK1G13JJHTqnb50I3LP9jw8hBsVI2vRvKveI6WIm2HXYb9MVOtEt9m7Jww2O85bV8Od40Hlb6Pp3qSt7gmbFZ/K4Ggz4Mq62eXdLthYe4RrOVzThh+jw6rQm9W0Ho8eXOfZxn1Eq6yw7qgLDy4HenIr83owY3K9cA8QYbZgi2VtFVzeNiuPrtg3tOsWwXYr76OAW9axGjJoTD1RL5IW6zUsVUvIxpNoj9qvcYjM/BFueBehc+O15pGwF/f6gYfHncKJjO7VLvUvSZlS3s2QhlDBiekRnL52BZcmRrFUr6J3zy4k2luR0BdRzVcRbTfV+qf+rddn9Hnf3NSMoVS1gZ3tnXh+YA++c/AYBunP7BQhOYWKge/HHgFuqhgJ+mvAaKnLidRl5arOuGoDnsdDh3Wb/a6gLdpum7brN/cOzVL3NlOtxGDeYl83NpfXtXnevHI8vAi3gH2j88YatPVkt8Pb+nK/1k3zh8grRjw2DNuFtm0fUfHFGMo024RJG4arO5mqP5Jx0g+X+q2kHLFP6Wwjm2zRaq+2FkzVWeumwRTdWrcctlt5tzpcW9ysTcJ1u24dB1pWzSmihUYNZ8aHMbm8iN6Wduzp34H+RApZ3tPhrM0OcJNG05dATF6Ce2Z9t1YPj5tCfSboigbqM7qWu9Y4K2uu+NMrNQukMZRxcvQaPrp0HucnRpHq70a0vRWZtlYksy1GOaIztWoMWaZZrFZQWy5g9up1pMs1HOzux1N7D+L5HXtwLJ5FJ+M06a3NjO/EHgFuqRgRbF9x3Tfcje+IXfN4hGGVIquVI/cGN0Pd20y1EovN0fpvs6/kd+3dey/Hw42V+rO22ylGLKzNqaH06xQjTdwYjYfHClxf2ab9RMV3jyDCDOOGcJNxZp/MhW9uDWhOcV9B2ejG0s+6W7ha26zac/n/rMuxUWy38m513K4d1tZr2L/7HKpendEZDkXenSwv46/eehVTS4sY7O3H4/sP4vCOXdiBpDmkVY883Ss26809NSUQJCrDt6/HRqBu4ygM9Zu1/Uzrn/rrMj3r1ZrRYg6nhq/hg8vnMFkvoZBOINXZjkx3F1JtrchXyjZMuYTl5WU05nIoj0/jcGcfXjhwBM/uPYi9kZR5fUZfZ9LrM82MyDRMqrny8Li5YuRGhHuSepDvRR5hrPSPDXao2+De+9fqGO48V5tTjocXq+vv1u2x/n4ci3tvSQ+P7QU3m96RUkRYO2m5wbdVJzPm604UI34u8fAIITyuOTjco0tH+gzqFKoUMuOYRB4Xxkdw5vpVXBobQaFRQ0sihb6OLjy2czdePPgkemC/YKPdIzqQUq8baBdJeNzdTDHisPbaw8PB9Uu3WUPKt/X6i/Oj3Una5ZSnp/lKERfmp/HzT97DtWIOpXQC8d5OdOwYQCSdQqlWxcLUNGbGJpBcyOP5nfvwxT2H8PTgXuyL0C/jUX+WaR7UiZS4M33H9QhwB4oRj4cFt2vQ+zf+fVfa3vAri4fHloRj/rYSQsuFlCO3g59dPLYlNspWcYBImNSTcyNUkuZJ06QxVHBuaQzHr13G1YlxxFsyqOiT3vo6DePvT7fg2X2HcLhnB3bF2tHFMPqaTXdghseeFCNuvMpYOy7XXt8p7jW8x9aGurNTjNx2o4Y6szzQo3aQDJfzePPKeXw8PoQrS3PIpaLI9vci2dmBheUlFGfmEc2XcCDdhm8ceAJPde/AgZYO9CquMNYbU77jeQTwipFHELdr0Ps3/n1X2t7wK4uHh8fd4cGtWx4eWxgbZas4QORVsqReodHrM3OkIRRxdnkKp8eGcX5yDLlyCf07d5rPmVbLFRQLRcQLFfQnMzjcuwOP9Q9ib2sPhcmoESi1g0Rjz4w/JiChtpklOobHZdPfPeBew3tsfbj+c9u2lseQJyn6rpUW8cnIVRwfuYarS3MoJWOoZ9PIFQtorUexu70Lzw7swRd27sOehM4UiZkdUOui2ZEJ3/E8AtzxTl0PDw8PDw8PDw8Pjy0CCnmS7URSjkgxskzblblRnL1+BVenxpFrVJDqbEM8k0amtRWtnZ1o7epCLJvB2Pwc/V3DuZEhjC7NNs8mUVxmF0qdFBYkhbXXHh4bgOunt4N7zdKhnXQg1Y7n9hzAs7v34UBrJzL5Mgqj40gsFbCvtR3P0/253XuxL9GGXsTMjqebwmVkI5nx2DbwihEPDw8PDw8PDw+PhxR1Cnf2gFX3RY8axms5nNKZIhOjyFWKRhnS3duLaCKGSCyGRDqNts4OdPT1oJFKYHJpERfHR83XP0YrS+YJfS6Ir0BpQQdhSkkiadUe6LyGPDw2GeFuJYFVio4DiTY8t2u/OUfkcKYD3ctVPJbtwOd5/fzOvdgbbTdKFB0i3NR5+L7qsUH4V2keQdyuQe+fctR3pe0Nr3b38PC4Ozy4dcvDYwtjI2wVB4eUIov1MuLRpHmF5vziKN69egEfjFxBviWJbGcn0u1tiCaSiMXjiMXiiMcTiESk8ahgcXIaxblFRJaL6Ign8UT/IL72+JPYlWgxwqgOrYzXG0gzP8lGxByWbD+5TQpg3AL73eJew3s8OnCvba39BqqUcznenSsXMJXP4dTVy+ju78PBgZ3YGWs1X57RQatNuIhc55LpO5rHTeAVI48gbteg928+8F1pe8OvNB4eHneHB7dueXhsYdxqYHBQ6LaoQNJXaJZIl0vT+PTaZXw6eg1T0Roi3e1obW9HMpUODr6M8j/G/+C7INUaasUS6oUSKgsUOZcL6I0m8dzeg3h8YBf6s+3I0l+iXkMnw0k5ImhMrhqXvFh1fRe41/AejwDUv9gR1FdFppcGbmGUKb4uVcqYWJxDqqUFnZksWuh71U4RwQ0SF4cjD4914BUjjyBu16D3bz7wXWl7w680Hh4ed4cHt255eGxhrB0YwUCQszn7I7BLITKNKq7kZ3Bu7DouTI5hqlIAutsR72xHOplGJBJBrcpQ2iVCakSjqNMtUm8gykiitTpq+QLKC0uILxXQF03hsf6dOLBzEDvau9BOoVOvKGgHiV5rCH9uda15t/DjfJsj3N/ZGXTpnNTn1kJfSapwFNTYj3U/ykDql+G+aRCOaLM6q8cjCa8YeQRxuwa9f3OB70rbG36V8fDwuDs8uHXLw2MLIzwwQoOgGpB7qj7H3zOLE/hk9CouT41jtlZCrKMN6V57uGpcipBKDZVKFfFonHFFUYtGSBIlKVBSsIzRFqWfWqGI+lwOtak59CUzRjFyeM8e7G3tRSf96isf5tUahSMpvMvavY7Tew3v8ZBj7ULADiEn9XVB/cMoQOQokkPQaXTpFIUyhQSp2afCYYTmDQ+PFayngPPwuEu4GcrTo0UeHh4e9xfrzTxh8vDYlrhJ55d8px0jeoVmjrax2hJOjQ2Zg1Mni8uoppJId7Yjnk4hEo1Cz0Dr9ToaJHcWSJO0a4RkZMZEHMmWLFLdHai0ZzFUXsLJiRHGPYyxcs7sTNF5JkrbhGUgmYIzBSeDOsWN7EIzzZuQh8daqF+ElXCmL4U7WIW9sd4w99xuEae4W9WndLHKwcPjRvgdI48gbtegfl7wuHNsZJrwPcvDw8PDw+N+QquxPqVbIU3QdmlqDCfHr+P42BDy6TiSne1ItLcgmkpROoyiod0gFCCjlB/F8evAVcWh1w/0Oo0UJ0Y5onsSMOt11Gt1VMplLC8sAovLaIvE8ETPDrx44Aj2ZdrRyfW+RXEyjOLS8s8ojKnrtSSh1rzeoIvbwbMS2xuu07h+EOoPTmJd1Y9Cj/jDwQzCDuEwvo953AR+x4iHh8cG4FcRDw8PDw+PBwEj0+mnDlTqDRQaVSyggpH5GZyfGMHZ8WEsRRuoZVOItKSBdAq1WMTs7JAwacJzGZcCRKaUJcZuLhpmR4n+9NlfKUyqiSjK2SQavR0AaTkZw5W5KXx86QKuTI1jsVZFnRKESEeWRBWtSOkEUJpBlo0ZvndLmMx6bFuoo6zXkYhVt1ZdOE+hzmO0KCE3578ZxsPjRnjFiIeHh4eHh4eHh8cWRViWs6+9RDA9N4uh4esYGR9HqVRGW2sb2tvbkUql5cketBqSCXWaiM4SMVcmwog16Mc8gScZw3iJIBaJIpNMoaW1FcmWDBZqFZybHsfxyRGcmp/C5UYFc/RbJJkwASRYODJRBeThsWGs12HUOZ37WjOA72ce9wqvGPHw8PDw8PDw8PDY6qDkp90Z0UgMS4U8ZufnsbS8jFgijrb2NrRKiZFMUohsoFqrNiVFqUCcYkS6EfPqjEwbpSEH7RoRJCDo0NZEKoVkawsirRnMoobTc5P4aHIEJxanMcbrPP25XSH2x8a3Vjni4XFHcB0nTMLa6xtg1Hu38ePhsT68YsTDw8PDw8PDw8NjCyIQ85owCgtSWyqDnrZ29LS2IRtPGCWG+bIM79lDUe2BqtrNYcLLbBJ/jHLEUnDbkFGgkFxc0WgUyWwGLX29iPa0Y7xewsnZcXwwNYyz+RmMo4IF+pOCpMIIpCQRbFz2bBEvbHh4eDwM8IevPoK4XYPaJdDD407he5aHh4eHh8dnCbfymtddpHWI2tdX8rwzWljAhakxfDp+HadnxtHobke2pxPRlow9XDVGzzQTdZI0IrTLXWePSENi/gLFiMSB8Cpe1zXvxWIxxKI2nlwuh+npaeTm5xHj/WOdffjOwSfweGsXuuIZtDKGJMPqM6lSiAjKdjPe27ERDuGMeHjcFp4/9dgceCWuh4eHh4eHh4eHxxaERL6m2Cf5jhfRWg0ZXnRnWrGntx/7BwaRJEtfyC0hN7+IUr64IgrSIp2IdCqOXHwm7vDzUcUdkN0xEjH3a7yh3SDRtixS/d2I9nRgMRnBhfkpvHPpLM5Mj2MKJfP5YH0xx+0aEZr5EFZdELpe6+bh4eHxgBD7J0Rg99gm8GuQx/2B71keHh4eHh6bCae2CK+wtUoV0VgUkUgM8UQSyCQxW8qjEKmjUq+hrK/GMEAylbSf4w1CG8UIrWZvSMTuGDEIdo0ExgrkxzlKYaIzR2IxJBmn2RFSqiA3t4B6vYFYPI5ENoVEJNHcNbIWKouJzqWzNj2HlSTNzw358vC4I/gO5LExeMXINoSfHjzuD3zP8vDw8PDw2EysUozoQjs8qjXEpLSIRaE/xNOotyVRScZQKJcxv5RDvlhAa3u7UaBYROz5IiamgIziQzZ7rV/Bmea+roJ0I/UGEnRLx+PIJJKIR2NYXFpGrlhEtVJBnHlpy2bREo0b5YiN1WZZChm3k8TEb27IEjLNDWsqjHnlx1565YjHPcB3Ho+NwZ8x4uHh4eHh4eHh4bEF0dQZyFLjTz1QL8SiKNGxFAWWETUHoF7i76fXLuL4lUsYz81j72OHEctm6DeGOkm7RyQkKiqr8uBfJGrjlpsxgwvCKEUkU9LJiQvRaARRE1cEtXIFM5NTWJiYQrZSx8Hefrx4+Ak83jmAPsSQpf+0gjPLVgEDJPgTfo9fpamSpARRClX+Kl0dMBtlmnqtRwHNF3XkRvLw8PC4H/A7Rjw8PDw8PDw8PDy2GFZUFFapYLQLUm7ESVIUkLSDQ6+tSAGRoS2bSiIZjaG4tIz5uXlUqzVEpMhIJqxixIRTZIozsMvNOpg4jaO5Ec6BA93NN4MZVyyKhhQkNBerZYwtL2Iyt4BEawti6Sxi0Gs8QKXaQEPbVQij8JCFl1KIFJlEgfYS7Tqf5NLsJEqxCOLMM3OMOvMgZYnZPeLySRg9DS/ctYeHh8e9witGPDw8PDw8PDw8PLYQblCKOOiCJD2D0U/wUoqRFCnNq1RCypGUMefnFjC/sGjOHImmk8i0tNCXDSsEht0NYi6s4kHKkebZIkYZQTv/tVtEO0X0uV/t9JCyoi57PIpyPIJcpIHlShnLxaLZpZLOZJGNxGiNSIeCFInemjtUdKCrSIe2TjO2a0szOD88ZBQtLckUWmMJ+0oN/TQiemkoyJ8JbbLWtHt4eHjcK7xixMPDw8PDw8PDw2MLw+kppAlwSpOwUkB2KUm0SyOTSKA904JoHaiWS1guFJCvVpBIJs1rMEYxwkgUj9l5EUTodos0lSIO7lKv3QT3jDKFJFVFPBZHIm7PHEGlar6Oo9dsEtEo0uksMnTXmSNS3ujQVkVRYnApRbRLZApVXJgaxbkrlzExPYX2tjb0t3eiI8ZQ0qIoXf6pfKJmdmhxdg8PD497heYXDw8PDw8PDw8PD48tCuku3AGmsjsKQ6+ptCGC/kYChzNdeHH/EXxh72EMpFpQmlvA3MQUSoUiarWaUTbodRi9qqK/JqRpMBqH1QoSm17wJ4VI3ZLOAEnFEmjPtqCnvRPt7R1oJBIYnp/F6ZEhnJsaNbtBpACpkNyBqjUmr1dpcqShmSmcunoF565fw3x+2fiJMQ4pUazqxas/PDw87j+8YsTDw8PDw8PDw8NjC8MpQkIqjBvVBbwZk6KCd9KNBvZlO/HMrv04tnM3diSzqM0tojg7j0axbHZzJONxhmEAF2lTKWJNvTJjyNyzZl3+g2s5mJ0cjCsRiyObzqCzqwtdA30oxYBrc1P4dOQaTk+OYqhewTiDzZCkDMmTZkkX8vP4dHwYZ2YnMFUpop6MI5VOIQmnGPHw8PD4bOBfpfHw8PDw8PDw8PB4COCUIUZ3IUtYc+Ac6Var143CIpNIId3WingmhaXlZUzOTKNYKSOmsz+MYkRB3O4QkonURqKoDfHSkb1PQ+EYRsHMl21oGgVJImF2tkQYd6VaxUIuh5mFeURTScRbW1BFzChFpCA5uTCB1898iuNjQxitFRCNx5CNxrC/dwB97W3Q8a1K0CWrK/8qjYeHx/2C3zHi4eHh4eHh4eHhsYXhlANC0+40FwIdzCV/RAmy+MlaAy20D6ba8NSOvfjCoaMYSLegnssjPzuP8lLevAqjT+Gaz+EGCUglold29JqNfdXGxm2vZadHo5WwJB+1ahXVcgWVWtV8ASfd2Y5Udycq2RSGizm8fe0CPp4dxVWUMcY4LtYW8faVc7iQm8VCJoZqbztqbRlUdLirScemG2SpibXXHh4eHpsFv2PEw8PDw8PDw8PDYwtBCoBbURPugqa5J22CUSnQHuzkiPOnNZZCS0vWvApTKpdRKZVRrVatUiQaJcUR02d9GUZniBhFiHttxoBu62gqpCSR/1qjbvzrfJBIjOlGY+aTu/qKTalWwfTSAvKNKoqxOhaqeZyfGMWJocsopmKI9XQg0pZFrFpDtlzFod4BDHZ0oQNxW6aA/I4RDw+P+wm/Y8TDw8PDw8PDw8NjK0LKiJuR0xis0Q5YJ7sDRMqEVtIO0sFoC76w7wie2XMAOzKtaOTyWJycQWlpGQ190pdhpCgRpOQwfzINGWdjWkWIpWqthkq9ZneSmO8Ha8eHPufLX+0c6WhDpq8HxWwS5+an8O7VC3jj4hm8f+0iphoV1DvbkOjpZCbTKEYaKNetgiVIzpRlrensHh4eHpsJrxjx8PDw8PDw8PDw2Gpw2oE7hhQcNBS+Tma/BnMoqxQk++Nt+NKeQ3hh9wHsSreiOjOPynwOtXwR0A6SRsPuyqCp8IoiTA6Kvl6vm10nMqWIScRiSMbiiEXsuSAKEU8k0NHdhR2Dg+bckZGpKfP1mcnFeXT09qKjqwvpVNrksVosmbikcJGiRVA8yo/bLSKE8+Hh4eGxWfCKEQ8PDw8PDw8PD49HAdIkmHdMrHJEZDaBNIA0jW7SoUgWz+/ch68cfBxPDe41X6uZGx1HbnrGKCek3DCqDaMcCXaMuL/ATVHq1ZtkKoV4PI6YXseRxqJWt5/x1ed85ZVmvVJFIhpHd3snenp60d3Xh4HBXejt7UN7SyuysQSyFEkyEabLMM1zTAgJKvoMcSKwKwnBFDGwe3h4eGwGvGLEw8PDw8PDw8PD41GBNAYBNZUHDdrrQIamlCO7o2k80bcTT+/ej/1dfcjwXnk+h+L8IurlCv3WzWs10ail5h/dRHrtRnHbQ1ut3XypRkoTkgQMl7bup5NJdLZ3oru7Gx2iri7EE/arOFGmnUYM2XjSaEXqdLNqGAv7bRpLcnPuHh4eHpsJrxjx8PDw8PDw8PDweBTgtBEBzCd2hZC7mP8MqT+WxtGBQbxw4DAOd/airQaUZ+axODaJSLmCGAPFI9GmEmQlKmszihCaui80lRnaVULInw5fNTtLkkmkM2lkslmkSYlUkh7sQa9SpCitKK/NAa4NnVBi4dIUZA+Th4eHx2bCK0Y8PDw8PDw8PDw8HkFIwVCPWDLaBDmQUjTaSIPRNJ7csYe0G7tbO5AsVrA4PonKcgGNarWp/Ii48I6cNbQ7JIh6lTLG7CbRazaxGImmXrtJxI2blCaKWH82jgbqjTpq5gBWvVBj4aITwnYPDw+PzYRXjHh4eHh4eHh4eHg8arB6B2NKWdFUWBASAHRuh3aO9CKOo707cGzHbuxv60KmVEVlfhGlhRxqxVKg/IgYJYeNkJAhuzQhARrmfnAh/8GfdpDoUFXjSj/mM8JGMUIy185n4Fef/pVyxITw8PDw+GzgFSMeHh4eHh4eHh4ejwqknGgqKCwaDXt2h9k9omuSDjXVzpEsaSCeweO9O/CFg0fw7P6DKE5NY3p4GEszs6iXqzYC/UtxEYQ3L85IGSIYBYdTfFi7zQN9MYz5M1HYkCsKEUF2t++Ed+XfhJFPDw8Pj88GXjHi4eHh4eHh4eHh8QjDKSq0a8S8VtOgEEBKkHTwagedBpNZu3NkcC/2dfeZL8UUFxaxPDdvvjZjPsPrlBmB1sIoPGS1Wg8D+Wj+0X9UO0OcXbtFmvE404bihY0v2DESROfh4eHxmcArRjw8PDw8PDw8PDy2GqzG4J6gKNxejHB0UjqYnR+06L5eq2kh9UUTONDVh+cOHMGhngG0NKIoL+RQXlxCo1RBrN4wpM/xmngVESNxcdvrID3+BOqP4I9p0VGf9pWSxXzRxrja0Lo2GTNKFhunvePh4eFx/+EVIx4eHh4eHh4eHh5bEU47sB6th0AxsYqIsHfjTAeRdBExknutRgey7oil8OTgfhzbvR97OruRqjWwND2LYi6Hekmf8tVXZChEMCLFa5UbNN01f5o7Qsz9FTKfAI5EA3IhrRLEXa8lDw8Pj88CXjHi4eHh4eHh4eHh8QgjrGgI7yARSTEiRYdICpJ20j7aPt+3B1/adRCPt/UgvZhHdWoOlYVFNEplcyCrFCBRaOeIJb0Io/gUf5isu70nU+mt3KNpdoeQAmXKSs7cbwApXkgK14TR8tyCPDw8tgc2Ybyvmls8PDw8PDw8PDw8PB5SrNIkBAgEhrDKwZFRTrj7NHWtL9X0kB5DDF/o3YVvH34C33zsSdSn5zB3fQTLs3OoVsqoVStAvYZIvUqqWwVHo24IIRO8p/vWT6CEYeJR+VF4mgprdqBIOeJ2lNDfKkGFYZTnO0JQNg8Pj0cYbpzf43j3ihEPDw8PDw8PDw+PRwW30B7oliOh6dUJFDp4hBSpAKkqsLMRwZFsJ54a2IXn9x9CTyqDUm4RszMzyOeXGL5hXoGJMiKz68MoR0Ikt4DMuSFGYRLcC0ify3F+7fkiNivhfBoob7oX3N8wAv8uqCdPNyOPhwub3WZeMeLh4eHh4eHh4eHxKGGVRmE1dMvtxljlzUmHRjlCSw2I094Ri2F3Syeef+woHtu1C9lIFLmZGeRm59GoS4uiwDeHu20UHw5SgIRMvZaz+kUaa28iFNTDw8PjfsArRjw8PDw8PDw8PDweNaxoGdaFcb7hvjQQJG0BQd18fUav1nST9mf78PjuPRho7wBKZeTm56xiw2g1RPQk8wasKDmad10Y3TPWKCImTUJRiuyVh4eHx2cCrxjx8PDw8PDw8PDw2M6wOgppKKxSRN/vpVnnX5VWUQU1tGTb0dnTjUQ2jXy5pE0laDCM/cqNNevGHpiM1Njlj2Tv8Yf/Inct0vkiQqNRp1/59vDw8Pjs4BUjHh4eHh4eHh4eHtsd0ku4d2ykyYg0UCEVGjUs8TKPGobmxjE8PYnlagWxTBp1+pVyQwqSWqOxmuTG8DU0rAIkahUgUpTUArJuNOnXEMPV9RoPTTpbuJseHh4e9xFeMeLh4eHh4eHh4eGx3dGAOVpEH5LRro26dozE42hEYsjz5vnp6zg/ch2Ty4topJNo7+tBIxplmAa0x0PKj1UkN0Ub7AgRaReKlCHB+zNWGRO8RhNhXCYbSptxbqYuhNHdlExCnjyJPLY1vGLEw8PDw8PDw8PDY7sj0FNoJ0eJVI5GkOP1cCOPM4sj+HjoEi4vTGMpBiR7OtDS04WGvrsbSJTa7WGUDYGLkzPtJ3gt6TO8sYCiTM1eRxCLWlM5MLtGRLwSWeXJGgojnOA65KzrwUQVeDDnmnja1tTsLJ62Hn0G8IoRDw8PDw8PDw8PDw+ziUOvtlSjUZR5PY0iTo+P4J2LZ3B2egyzqKLR0YpkTydiLRnUTQB6JFnDSjBOjrGvxtRXqFYz1HBUDa5l8n4kiEHh9CqOUYwI0mA4CsMmuj4FCFlXwUTFmzdEG47D0/Yip43z9OBJ7fEZwytGPDw8PDw8PDw8PDwMpJAokeZIw0vzOD86hLNXLqNcLqMllUZXOoM2xBArVBAplM0XalCuIFquIuKoxHvFMu+X0FguoL6UR21xCZX5HKpzi6jKNLRIN9JCDlgqIFOPIM0MRGv1pnx0SzitxnpE3E62Cryt4AEIYx4eHneHG8av4JRct6KbINKQStbDw8PDw8PDw8PDY1tDQsEiaZK2E3NDOHHxAi6PDWOxXkEhFkE5EUUjFjOkl2FiFE0iDX29BvZ8EooVRrQgmdcT6B4m8/qMyEk0ISmko1LHTiTxzM49eOrAQRzo6Uea7kmSnuSGvBq7uzavQISw9tqA6a11Nnla67heWA8PjwcDN0+YwWqt6+Juxu068XnFiIeHh4eHh4eHh4eHkS+mUMNH08P4dGIYV0eGMb0wj0YihlosilpwSGo0GiPFjWkOTY1IdbEiacgmBYjODXGKEHeeSJym+zQvY7MHr/KvowYMxtM40tWHvQMDGOjoRIp+4sbfaiifIrk75UYQpfUbeHBuQuCtibVx3uDBY/vB94GtAzdA15prcbdttk58XjHi4eHh4eHh4eHhsc2hXR96jWaRv1fnp3F9cQ7z+SUUalU04jHUY1FD9vDUmDkw1ao9pPiwpv7075QSzlX/UTqIFL6pGJGb4qGZrjfQUm2gL9uCjkwWrYmE2S0SMz4ZZSCxKGSYmoKRjfLmuN19LxF5+D6wtXAnYzrcdnS/6bRwi/nCK0Y8PDw8PDw8PDw8tjmqhhooB5SvllGNAvVoHDVKESJJE3qJRsoKp7DQXpEwrYUEDUeCjcVCpsI4U4oZt0vEkYtTr+oIUZrNV3EEF7FD+F4YN3P38PDYulg7vteDxjb9mTNbQ+NcQXUZplvBK0Y8PDw8PDw8PDw8tjmklDBE0aBSq6JOKcKcJ4Jo856EBilEpKxwplNehJUYYShMOPxaOGElLLgoHtnD8SlsOP0m3A0hHImHh8cjh/U0F8EGNKs8pV2Xblpw04FMZ78ZvGLEw8PDw8PDw8PDw6MpTNQpHkhB0pDEEUgdxp3kBAwpKBKBfaNYT+hY66ZrF6fNi82C8+fSd8qTjWJtOsKdhPd4sDC7AazVYL32vFd4qXjrwCk71CTrjdPw+Jdp+gcbUOcYOdws7M3gFSMeHh4eHh4eHh4e2x1rJAIpRwRzHkggXYS96JUWg7WSxFp3hXW01q9DEL8B7fLmvGqniSDBxwnHjqScEbmow9E4uHic6bCe3/XcPB4s1rbf2nbcTNzPuD3uHGqP9dpE41SKEbd7TH6kyNVBzHHOV6tetbsDeMWIh4eHh4eHh4eHx3aHkwgoVEgBIYVEWL5wt51plBK6uJUkoXsbEVKcn1DaLqhMuVVIRYotxXoN9VgcZbo2RPU66iQn0uhX5wy4cIrEuMkegrtumkEe1vrzeMBQuza3D4Ts9wFeLH7wWN26DdPccpOC1vwZU+cc6YPhEWT420ZTZxMZJamakBQP3rdz8cm83S4zrxjx8PDw8PDw8PDw2O5wEgElBx3E6nZqCO5W2DRPbGmRKQWEziQJQ5dOGNHuEiOw3FIqsYbiKpOUvkmDpPwskeaXlzBdymMpUscyfdZqNdSqVaMYMUSxRk+OpTJRcoHqxMjTMsMw95mmzLV2jy0C0yesMLxyqWtzublgw3ux+MFDbWsUIGwQNbOupQCJRkUxey+iT4bTlW7t9Sj2ZtqxM92KLN111lGDk0hCk4fCB6TLm52D5OAVIx4eHh4eHh4eHh7bHU4ioBQhpYTZbRHA3QoLDRIwJHAYgZKWtQKFE0hExq88mADrYM29AknKESlEdCtHmqgsY3R2GmOL8xiem0aRd6L6fDAFJCcpS6ypUSoy56Pw2ihGaBetzZ+uXb5vsJPWw82yf7e4WTrrYSNp30l8G8GNaYZT2OzaWA8SgkXuMrgOLm/Mw73VgJWKN6MWXb42q0XuX12vF/PdtLILY827L7fSc2kaO6NS++tT3/qrS+shN417IlNtYDDThsN9O7CzsxtdiSxa6E87SPS5bylDdBaS+5qVi3s9eMWIh4eHh4eHh4eHh4eVZyg5yNgMAcEJIbcSRgzCidGzFCPLpHnemEUdZ+dGcXl8BFP5JUTSKSRaMqjHooHQbMnBKUEM0dler68YaZr0F77ftIcUKk4cj7h3bu4Ra9MNpx+GUjN0Ew8mh/Z/VXz3Cj2xN2YgKprfsNho6l2Gcufg2sNeGe8kG1Y/Fi7PG0Y4iRBWp80ow/m7C9g6Zu5o2qhd/Ou5rY+wn7W7lO4GNrpbp3m3sEqH9eK+eXlXu1l/xkYn1b8uzW/gfqdQ/Ipd+YoyUtuf3Lkhtm8p/kZdadcRrdYRKVUQKZbRFU9if+8Anu47gF76bidJQZJWWZQfE0fIXAOvGPHw8PDw8PDw8PDwuCs05Y1bSRRhQWQdf00nbVOJAnn6X6T1ejWPUwtTOJ+bwVRhGYU4BZ3WFsZHDwE5wcnBCE3GJDUFNYJemulsFKEANgWmtaowdw8XtcmfolQ5jMtqmFuiW2TeiXPNuDYBNk0To7kWwmKjrX7zE7gojG0L5yTvLkgzqNz0F4rrbmBqS2kF1za2u49T8YhMvhSNid7Gvp7brRGEM3/3jpVSbi6aygZztQKVNyjuuuVdVS8BNHTNa2s0rfu9lFyv0egkEb1EE+SPP0rWJM34jcKzwRTrtFerqBaKSJdr6Etm8XTfLhzr6MdOxNFG71llTtmxm0xMXOvBK0Y8PDw8PDw8PDw8PO4vbiFxOGlEhs76yJFmKexcKszjzavnMRGpopZOotGSRiyZQLVWs8IXpSTJOGHhTXGYp9cyJTwFbvJozLuEdorYVFbSuleE87Yi9a2GFCLmVSR7eSOCMhqrfjYre6ZRJKC62IWwnfXh8h3A2HjtasqKmYwhCGauWY8rOb43bExJsTGYosiiLDp7EL3Nt72+kzQVRLSp2MQI7espAULFsu1lC7y2uCaEc6RH15b6NcoK3jLVZSO5cxgNoL4wEyhGFKFJ0sa3kjTTMgnpoo5GpYZovohUuYa9yVZ8efdBHEi3oTsaRbuN0sRj4Mw1cHoTDw8PDw8PDw8PDw+P+wMJI+uRjNC1FCMlCjG5Sglz+TxmcksoUwCKpVKIJ5Oo1ev0r9do7NPkVYHvKwnrud87GfWDE97Wkgyajqyb9W8oFM+mk0kjSMskHL5/I+Rj5cdYGNbaV/IrhOPZPLrV3838hMMbYn9quhspP7CvdVt7b437/WgXV3+bQYJrExe/VBGW3HXYzZL167CSN0OhsSgF0l1R6K8ZlzFd2jJdfmIMw+tIHLFEEol0FvV4AvOcN6YXc1gqV8w5RSaY6DbwihEPDw8PDw8PDw8PjweDsMAS2CuU1haKRcwuLyGaTSHemkUkEUe1XkepUjWHq1IiMmSFpg3ASYN3jQ2m84DhhN17JYuVMpt61mWYVltvivXi22zY/N2c3N8N7uZeALkZP9ZoEn+c0G6w9p4szesAph6bBb9nbGZc62OlDGFFRbNcYXKWcJ0Q1q5wumXDbxo147dwe5nqrlqiUSSyGWQ62xHJpDG1uMA5pIBSLeTnNvCKEQ8PDw8PDw8PDw+PB4sVmQeFWgXTuQWMzk0j0dFGQSeFWiyKRjSCZCpJCYZCUcj/owL3esCtKSQkr3LfbLJJCJRLLa39a97Q1R0gKMO9kInG2UN5vRXoe5Vf5dnsPTA7kIISyFB5TJmCv3DhaA/dsffCbqs833s5Hd0PMOaV+I1pDFtPzfuBW0DBrc8UJo8y9Rvkw+Xb/hGs9zrnhVoijkYqgavjo5hbzqGqtiHVw98fvwm8YsTDw8PDw8PDw8PD48HBCJZG5jGHOJYpxSzXKijQrMWjqMaiqElqkYQTpRBLatBu3lqg88MKJ9hJ0jPC6QZgQjSFwvsMtYsR9B0JStWSyXJA1u7yFlybm+tA8d7Ln8mTzZux89/UhsnD+uRqK+zP5NNcBKUL3Nz9m8KkF5Dz13QLHEyEWxuqS40pVxZXgqYDaeWuJfPLQofJ3TZW565DUdfQWv83huP1zRDcbP6qfoO+6fpDje5ShFRjEc4dVSxXK5xL6mZO0Rs3t4NXjHh4eHh4eHh4eHh4PFBI4BFJiKlSCKo26qhRyLFfu5BcxLv8d6cLGD1JQDeH8xFQ6AyIOyYDZ947VFYDFat5YWGKan9uT/cRRnBeA6VoknWWVWTdnAAsJ+u4GorV6DPWkL2xAboJmOJN/1bDZNSSMXTYJ/sWzRhJpsh8lccQ/TBd2w3CqgIb8w0U5HHde1uJgjKJdLZPc6zpblAHcrCfxjVOJFtq8yd7QLqpmlGdNb+gFLrv3PUJXo1dN34deFu/1gzI+JezLpVPmeYvAN2sYsy2iV61q9RraEhxGo+hRLuUrKZM4cRuAq8Y8fDw8PDw8PDw8PDYEpCAo89+OkFNT4Hrjbr54oW9awUqs1tglWi1Fu6e8b1JtHloxkaLUQqsAsvpirvaegMFEuUDgcm20ifJ7si5WaFYDjdCQm+YNgM36w83uttrmzZ/SDKjtMYCkt3cNz7pxfzyKhSVdbOwdiu0h2mrQnlzipDmOJNdbUZTxTTtoi++0E3u7nO8Dua2sfz/23vvJzuPK0vwPO/KowooAAXvLUGCpAwltlqiREmUbZlutaSedprpiDX/wERsTOyPGxsxP85s7MTudPesuqWWb3nbIiWKEj08CO+qUN4+7/acm9/36qFYAGFKAlud5+G+zC+/NDdv5kPEuZWG3xTll9PSyip9Ccyhycku25p9g3RznOhBlYV18cGcJ+352kSw/wGilJZjpG6OEW2piSQTqDK1qv87+E7yRs4R7xjx8PDw8PDw8PDw8LjvaCc+LeGXiNMiYSIhCpwiFhqjWoow7Q2Y0H2E+iY2aPoHYv0NhUnhX8mFG94tESEM1eOVEuF1cTa0NK0d7e+WovUuVLYdbfW28t0GbijDr/ZnQaEIb4wxly6bO2JuxJsitNtP0HO7/ZU/rjJBQpguKG5OIPf4rwJmC/2eGk5iCoPfmAI5EmxbCh/MWWLvgr62STtUp2zqrgEOLMlyLt2tFIlZ3NnRHC+E6RLkd/HFd0vbWITGUY4W1hYUUt5ATcTjcWVqOXpuB9LLw8PDw8PDw8PDw8Pj/iAgMyEUd3+dVix42RJHtBwDUoJDy0kiseTg+U2IsCstMrdEhNZz2B3FA2n9BVzS9l5Qj1dChBvSQnsHsuis4kuFJNYmiiuJYmPYnlep/BfW3w5LC7KEsly+EC4/M7VJsyGruHQlCbaKgQ8i/iLnwT/EODfijOmjrJbd6nHxcBuX4pafkQRFzhHZQh/BYmFjSm8TlXszSuiYUJ8i9Tqi9Qb7FkGCb8O+ySlSpdSjERtHZwmCaTbnVFFL3G8tfGzLaulylMje5oySE4ahOUgYmnNGmdvsJf1UzuzIT+iYuUHaPvpnIrACva9WKmiwb3y44fWt4B0jHh4eHh4eHh4eHh73HS0CI3KjOEmNIiFhkhjREQHWO3t0YYiQnllew2LszYB2bRW/UXuH0NnRcn7Yx0HvjIRS+MWUxf4txu4db1SXrRwx5UhoFVeaXgRpocbhd/tY3gxhHe11LU0LRXDtLxV+KdSXxZ1+RraVHGBpXZaXCJ/15MbBpat8a4uNctm7VjGGi2P0ZoX6Fo6bxSnxSBQJipxEcfZS/bOO8KW2pOgmqAjfm1MpeLVUgld8COaCzU+XpMCtFnErRmyFSp2iUMazChyUt6VfkB6+bsvmECS0muYn/F1YvS6xhVCfW8E7Rjw8PDw8PDw8PDw87jvEYxx/4TcfHJkm4WGKkSo9a1WChP9arHRZqFTIhsL4vcpvEdZE2AbDIGo95Jf9tZ3RONm6/touIquwtTWBYlWskAhheEsE42Nj0RI9KzHEbdXUajsU6xfruZmE+W4A00MoGsrSFTYSQQQ8zvmUYIY4Rc4P5yRgG0EhrZjQba9aRaGVJOacarXsHCKhLAflfDOIFGzFLWRMtzzFnESj7Dc7l6A9ZAtnB7fawznigoJLEXT+RhvIQcFvSiwS5TxlPXU+1GjJRsO9C3K2Q2NuK1mC37a+Ze9WPJQlhcP6pKfeC+GKpduF2vbw8PDw8PDw8PDw8LhvaKcv7ZzH/gKsUB+Rn5B831DiZnAlV0aEMFw5LNbs+qmvMC0kfwqMMDJmzhB2PXSO3OAoWGG5lYmlUyhuPG4NI9a3wNK3Yd3t/WsX09FyLim7tCLCbcty3QkldJRom422x0gSfFZozhEa326mCfLJISLHiA4FNihRwZJ+Bcmvw1Lb3heRHk4dF4YJ5vRw8y/aaCBeb9jWI7NDNOrODAn6yaQbxND2e2w5LIJQQVwOF5bXNppGtYpmre4ceUGbLbAKjW37WS6yt6LB47JYbNJ9wvzuwNjbh3eMeHh4eHh4eHh4eHjcXyzDfBzNcQTq7nEvZduxUvUEaLE59lH903MrTf/cg30H6XKG6BwII/FkoEbig5chGRQxvWdRhQzDdh2cnu1kVluaaiS55XIZ9eA8h/YioT4it3ZmxxtJWIaiuMmSPK/TkwhDwbTjvxBhvlbZIC6RTvyHSLmG4vQs5ienUc0XEWGfbNWCyit/IPVI0/VD6fI0BFAsFKE9Ltgzy70ZxHSnhH0y4bjVtT2tWkNhbBKFkXFUZuft/BFb7bHEOfI6MN3qVag2rJ2mtac5oW00kXoD5YU8psbGMT87a/NlcSa9Hu1vbmbX14GFpKLE2r5DxP4TEcQ9PDw8PDw8PDw8PDx+9yCRCYnaRK2Ca/MzGC8sAB0ZVONGrYwstcjZEuKzSNqCpfT2vLis/l7haltBsLIbiCbj4bN6anrrq0GCSRIpkVMkSZqpwzLtL+5BlnB7h0mQdjcSIlSrXT3hhmcS3kKhgCtXr+DcufNIxOPI5TqQ1DWptRq0RYNs2pFlhtJWbpOWnktFdS5JC59flx5CCukMDH0Yb7efFdK30igq5wi7TBqQdiJZb+LK6TP40n/5r3jlS1/GJNNW9fejo6sLVTl+mE8HkKq6UH9zAlBhW4fSbrilz4E+gpLfDGL9CMTd2MJeBY6PwvgU/v5/+99x5J+/i2kO38Yd25BIpdjXBiWw2WKXWrBuBjZWGw0lUPTRyo8058b1y1fx/W9+Cy/+5/+MYwvzWL9xAzp6ulGTNa0CVa0rk524eqKuriVwzd045rZlxprlb4Rj2pjLY02mA+u7ejGQSJhTMfzNuK/Xw68Y8fDw8PDw8PDw8PC4rzDSFoRhfDncyZkBgpEoF70ZH7o/sI7yK+hPeBBluBBBJE1nO8jhkCSxS8QTRjIj1RqitTqapQoilZr9JV5ljbiyzJ2KM5Ao6ZJ0gZHFLRiMNJqos/14LG63fpw7exZPf+ObOPG3f4vvffs7OH/urOmRIpnWKgOrgoWNhIfCtGWlPU8g4eoMne8RSnte9Tjst8Ck1hhbPCDNgvKE+dRfrWhQXWbvUhkYGwcuX0F+ZtbOwdAWEisf2Mbp6cq4evjNf2Gb4fjdDHr1ZhDXDwr1DVeKyPGhsW2WK8D1MeDaKIoT06jTLpqDNkdb4vprcT5Y3GIUPti4SPhsjguGcmuiVkNpfgEYHUNzds5ujFHVljFAWzSwffBwSyzNpOfbKvg6eMeIh4eHh4eHh4eHh8f9RTsrakdAru4YxtRcdJHc3y1lWh53o1lYwnShXnJ2SOzcEJJNd4aIO/dCK0R07oVWiaRJ1CeHR/Crf3ka3//Gt5Cfmka0UrNDQ1NkotpaY44TVmyENBBhaVq78E2QxzK5dH5EEkNxujm95IhJKA9DcyJcuAC89hpw+TLys/Omg5wKItR2JgqfrY+qKwyXEaeFg9PAwUh2IO2ZLMr6nA21yiCI843aDcNQByfuMFFJhHbTu7jK1vhQrgHFChJyiui92cM1ZO275tradHXqkNLwGt9QwvbC/rpq+HBXcvcI1G+JYN0KEhTGKDpoVgfQxtl3FMuUEudWFdG6bEFoxVLTOeBka5unyk9xc5XCbBYPwrD/grXJvHLqgXNWjqcY7WZjpvct7W4Gl+v2hDDTyeLB821CY+Xh4eHh4eHh4eHh4XH/sJTDiNwwzSUvQ3D4nvzrBhgfclGDSoVOkZA4ryiWUet2YHpRRMTCw1TNQaCQItLoSDvDuoinSxu5dAUv/fgnOPe1byA/OY0oiaa2DZhjhPkdsVtOqVsr6hwkDqFuoZg+lJD0yykiR0IyEsWqrh5g63Zg916kNm5Gb1cX8zfRoF7mHGANclC0+nUTCd+HYyVZDnx9w/iazShOT+ccMXsGYvZl2uvaDvKHthfJDytPNaNmS9kkSHIIlWI55yBwZc0pwLEx22jcgvRQN+tXWJN18A5lUYO7wuvt6VK0dUYOLInGMsnUZJ0dkOOCkqzVzeETY/vNhtvKFWk27Dl0hiRMwrnh0t07Z1PZ2LUtRxTjcryoDc4f51ThK0o4/fQoLO8ocXq3xLxViodwz2rRJKzM8t8eNF4eHh4eHh4eHh4eHh73De30xbZI2KeN/yi0d24bQPgJtwRYmtgQxYio/sLNMGoSElQnek7yOUuOlqk3kWGYVpxkTWkdbDBLDpfluzTTUhS7wpR1txwEFNWRZl6Vz9RYltLJcl2B9NQj6CHP7GC6HBi6lSO8GjYVSLoRlGf+DONKU1tJ5WPdcelHjZMkq9GZBWBsBpheQCJfQqpSt3whCRX0rXiCBDQV9k39UJxtqJ/SW7qIrMoW5iBoNKzdBPOpnPKbDZSfYlfZ0nrJWBy1SsXC3Tt24OOf/CTe+YW/xgc+8AFs2LgRVbZd4XvppLZcu66+JN+ZzZieY1+z1ncK+2kknLKo040rPkK7SReJ7J7iOzmFkiovos/eO8eEs4lsp3qtXxQR/9AmOUqH6lF9zIMorRBPIBF1ToNIcK6ISHtI3GXd8KN3Wh2h9tN8sL6yDdXbyT5JOtRH6Sn9NSbSgaL5pLHIUTqCULbWO42L5rC1QcgRIQeE3knUhs1RlWWoeJpZtbJIajY4793Bpyqv3wLrMNs4G6uODMMc9epqRtEbiaOLFtez9Aw7qzlhzg7pI6dIMD9cP11fNQbqu8ZBYyJbhPNafdSYyTFmvWnUXd+kEeuyOcswSn3125TNwwNe2x0jKtEeCoqrf/q4/wtcqn1atlss0V62rerXwTtGPDw8PDw8PDw8PDzuK0LyslwYimAhyU17mrAYZ4zkSA4RkTm3koAEj8+hkyQeIxGMx9EdiSFXa1jYSVKXqzXRQ7K4NtOBLhJoPWerJNPMI0JtDgILKWxGhL4vmbLyzhECrI4mMRhPY200hfWxNNZHkugskxQWS2hWKnZwqgiknB0dEtYjcptju13RBIl0FHG2qXbCfDnTL4ZsoQJMzDnHyGzBCHWOxDZJUh+NsHe0SzQRMydGolxDhvVkayLqrJvSw7z96Sx6KNrWoFtHEiwrR0+jWEGS9YnIZ9k/kXrl76ZIBxHrcAWIyKvsmEmlMbRuPQ7sP4C169chlk6iSlqeSCasTvVFDqNUibrQhuYAYvku1rmKduqPp9AXo/1iSWSjbIHt1itVa0eOl0w8gTTDmFYZlCpIVGqIl6tIsV+9yQy6YnyvcYhqqxFtwHxxjnmEddQLBZOEnsu0OyXO9FStjm62oPY7aZs0n7XyBsyLUtEddEuyXm/WnYNBRJuieaVPXe/4JhaPUUf2j+320g6hA6qPY7ie82ddOofBDKWj0/S0rSnUPVGt23h304L9zDvAvmve9NDeelcrl9HQCg19SP5lC829BMsn2IcU88j5topv+iMJa6+b9ed0Bg3Hv1DMo1gpoUY9NR/kIJSTI5dKOscUx6GTba+m/VSH5qvqyNH2Cb5DMmkeAq2KcdtiWJ5xOTA07zU35DCMF8ucs0BXPGlty6HWqXpYpxwnWVbSwbr0u1N/wt+kgTZ2ThH32zQfFOtXm1JZom/ZILS7OULahXnNBcRycga1CgbinEMsrefF5FvC30rj4eHh4eHh4eHh4XFfIQJDemMHbI6Ht9KQ5EWCW2kE+2M2xdElBwuZFp4J4bKQYLFCldKz/UVa+YgECaIOfowXSZbni3YtqRwemUjUzpeo8nn88lUMn7+A4vSMORBEztMkf6pLh4qKMEpEuotTM7h65qydy9CXyqCxkMe5o8fx8i+exekXX8b88Cg6OzuQ7e5CI+b+ci8CX8sXMH99HCPnL2L8yjWU5xaQErkn4evIZBmPo16tMl8Rc6NjmDh/GZeffwUTx06bE2Pthg0oVyq4PjWBqfwC0l0dqFG3OsvPD1/HxLlLKE/NYnVXD5qFIi69dgYvPfscXvjNbzAzM4uu7m70dHWbA0JbYxrFIuYnJjFx5arpNHzuAhbGJuyAVx0Am0hpTQLB+nVNb5N20fWr42OjuHb1mpHTaIJ5kgnbmiGn0czVYYyyb1X2rTuTQ7lQwPDFSzhFu7zyi+dw7MWXcObESZRpi3Q6jVSGY80+pVNptsF2OB5ybslpIueMzr/I097T10cxevkKJkdGUKEOcqjYIaFygjAeJ9OWwycZj5lNM+xjpFxFfnoWU9evY+raCPLjE6jwWatWGrTxy8ePo8H6Vj94CBv37ESitwuVZr11448mmvqovuuqWek2OzKKac6VOu0rJ450G+G8Of78C3j2X36Os6dPY35mxhwBKdolSzvKzhdOnsIrHIuXnv4Fzrx6zOZCOkZ9s2nEsilEYlGTeq2GmJw5/FHI+SAHT2OhgPLkNGauDGP4wkUU5xdQLZVMtwjriPC3Ek8mzTEi50OCY6G52iiVkY0lbJ43F4o2Ntc4J0oc8wbnbkROGdb17I9+Ag4CVh/cix2HDlKnLCp8jrD/Mc6FCMcgxnmp1Tsag6uXLmGC41GYm7fDVbPUM0U9tAKpxnkuR1mUz7oG+NKxkygcOwps24ZDDz2IzlW9YI+oN8eA80qwbUg0uJ50G1DL/kvBtDA5DK0GPmgbUG1mHoO5Tgxx/utWGtlA+cK8yyHSdC4wDw8PDw8PDw8PDw+P3z3IRkSAaoyWKSdLC3h++CKOT44iMtiHQorknemLBEifgAgFcOdkaBG+nCIiOW5Bvq1wsGeSQyZEU0kRIJSuT2D42ClcPHEKh/bsw0BPLyYnJnDm7BlcvnQZBRLYRCKO/oEBbNq8GUN7dqB3ywZEOrLOQSPiSTJ55shRPP/MsxgaHMSBPXsxTpL44x/+EPmLlwAS/D0kgO/7xMfRu20T5tjDOZLxMeYZOXfRHCcLJOgN/bW9swsD69Zi4/at2HVgP3r7+80mhZlZPEOyevXka5g5dgaNc5eNuK564ADqnRnkUzF0bd2Ad7z/fUboS3x37OlncfY3L2OgtxdPPPFenD59Cr+WQ0SHpNaqyL71ETz1yY/b1pf5hQUMs7/nT72G0atXMTs5ifpCnm1U0dHRhaH167Hz4D5s3bcbXf2rjMjqGlvdYDI+PIKXXnwRZ86dw0OPPkIifQAdawaQptV7ScJ/8YOf4MSx4+boeeTRR3F1eBhnzpyxq1trUzPmTFJfcnt248HH3oZdJOKZvh4000lHmGlfbb/Q1ozCxBTOHT+B105Tz5ERcwZEo1H09/dhI4n29r27abttaMRjqHKwtYJGTiytKMFcAeeOncCrJOUXrlxGnbrL0dVNvXYNbbItIT/+6U9ROvIK9v/VX+CtH38KWdp0vlFFjRNPV/YKxprrdTQqVXMYnXz217jyynFsWj+EAwcO4Cz7duXCBUyPjSMvhwh1jA/0Y/8DB/HA4UMYWL0aL738stls5toI9VoA8pS1g9h18AB2vvVhrOU8i+Wy5pSpsJ10pWHbbOSUuHr+Ii6fOYfrV65ibnIaJa1A4nzuWtWHTRz7bXv3oGtoELVsCgvNmq200cG9Ga0Z0YqlQgnXL17GuZOnWNcFm1u6Snc15/j69evQlUjh6//XfwNm57Dtjz+GJ/7iT9FF/fOcI8lYDPEK+z6fR356Bmf4uznH/o5PTds8TWdzyHV3Yv/Bg9ixezf62ddyPIrZJm2VTGDq+Bk8/aWvY/gfvojY+5/E577wV1i9cxtmdWFvMo6aHG78JPgjlajOaizCsaTdA/svhZL1K2+9Vl4GuVId1UvDODQwhLcMbcFeORqZrpUzN6nK4FeMeHh4eHh4eHh4eHjcV4j8vG7FSIkEXStGEnJvLEIEVQRIZSxUonkrCHvQoyNM+l50qriXqUQSs8PX8eLPn8H5b3wbNZLP/OURnDtyDGeOHscsSWtlZg6l85cw9do5jF66gkq5jHVbNiPRlUMiFrU6Y7U6zh45iqPf/wFGxiZQK5VxnM+zrx4BmB9dXdiwaRN27t+Ljr5uFCtlnH/tLH7zq+dw5tlfofz8y2iOTwMkm5XRCUyT9F68eg1x6tfDslppEqk18OIvf4Xrp8+iefU6SSttImTSWCjk0cjPo5JIYNPGTdgyNEQCXMHxnz+LSz/8GWYmZtCTSuP5p3+J6RMnwQJAIo4sifDe3XtsJcXFE6fx9Pd/iGG2UTx3Ec2JKeYjWZdOw6OYINGfyufR09GBdYODiEdjSESjtspG5P6XP/kZyr/4JdKDa7F582b09vbZO20Lev5nT+M02564dJVl4jj18qtYYD+7Ykn0dXZz/GKokKhXrw1jkrYb6O7B1q1bSZU5TiTiOtNCKz20QuKlnz5NeQZTtG1DTgXq1yRBz1+5huHhEbtGeP369ch0daISbEWJRDhK+RIuvPgqnvvuD3Hm6WdQo421wqO8UMTc+CTH+jomqMM07Y7ZGax95DCGdu9ErE8rRrRZw80a2z5EsS1F9aZtjXnl6Wcx9YMf4zrrKZRKOH/mjK3g6Katent6MTs6hsZrZ3B9ZtbOHqnMzeM5zrmZ66NY1dGJgZ4+zM7OAcePY3J8DKV0Cn2Dq9HJ8o16DXG2p61N6sM4dXzuhz/BsWefw8zJ11DkOFWpQ4V9n79wEcOj44iWKsjlcujsX4V63K0+kjMgQzvLOXT+1aN45oc/wsWf/BSFc+dRLZRQnJrCxPgEJsbGMDlyHXNnzwHVMroO7sWmwweRzKTQqLBejp9Wq2gsT734Cp7hnJ/h76M6NYP69CzKY+Omx7XpaWSSKQysWoVULotCU16dKKqc59eOn7TfRmrnDhx6+DA6+vtQinCk+F5Oy6ZsrKGnje3/Az4rPfjxvg7m8FTIfIponCTJWhP1YMXI+u5eDMTdipF25+py8I4RDw8PDw8PDw8PD4/7iqWOkeH5GYy1baUxAqSMhMiPoY3luBUjirhApxWY4yRMDwqJLCdJ7LXF5ezLR5D/1W8wOTOHS5cuo8RMm/fuxjve+wT2H34QDRK7CZLvKgnf6LUrWP/AAXRrRYRWnbBenaswdWUYr5HsNq9exejsLArTU1j71kdx8H1P2CqILSTZvQP9yGUyGLt8Fc/97Oe49tN/ASYm0ffIwzj87nfjwbc/hvVbt2KuXkfx+ecxTCLaT3Irot/Z2YnO7i6s27gRtUoNM2MTQFcH3vOxD+PwHz6ObW97FNtJYDds24oOkm2R2POvHMXYS6+iMTODs+PjKNKOgwf24dCTT2DLo4/YyoINW7egyLwvv/oKRn7wfSCbQdeDD2Df4+/Avnc+RjvsRS2RwJxWz4wMgyOBrdu3I9WRRTSZBC2AqZExvPD0L4Bjx9Gzbz+2s96OVb12donOSTn58qsYOXocGL6OyVrdHDmPsO73ffCDePw978bBQ4dwNZ/H7LlzJNhTiHX34OBDD6GZiBup1mGh5dk5XD5zFk//l/+K2uQkMjt34hDLvuXd78LuBx5AodHA7PnzmLhwCWCZzeyXxkYHssqpMk7y/tX//veY+OVzZL4RdNDm7/zQU9TjHVgztB4L8/NuK9ToiK2SWcv36/fsRDx0jNgcIqlmnRHOG22okkNJh+me5/yZ/9XzLDuGqesjyGwYwjup13s++H4cpp2zXV04e/06+z+CKxz7M9SzUC3j4Xe8HU++//142zsew4YtW3D03HmrYzaZQO+a1RgYGDDS35FK23kqckC9zHl6+hvfNB179+3FI+/+Q7zlDx7Hul07McE6S6dO4/qRYxgpFbFn/36kOEd1+Gmcyuv8k+HXzuEn3/w2Zn/5S6BWw+Bjb8dbaMddDz2IHs7p+WIBo+cvABxv/YjWPPQAdlK0FUd9lWh72a9//jRe/vFPbAXKpgP78RDtuPctj6Bv4wZcn19AlX28NjePzmwO/WsHUY64LT618WlboTX16qtI79mNBx4+jCznSlGOkagcILbWy5wi5hihyPa3dIwEIQf8hjyJlmOkC0PeMeLh4eHh4eHh4eHh8a8FyzlG2s8YEaEJSc0tHSOE1cVnLcevt9JFtRzB1RkYRZ15cPQk5p9/kQy0E+/6yIfx+Eeewu63P0rCtwdDu3ZgM6W3uwtj0zMonTuLqyTWckD0ruqjniR0pTIaM3N45dcvUOlxYP06vPuPP4n3apvKwb1YvXkDOlcP2PkX+YlJPP3P38WJn/wcqDTw6Ec/ig//yaew8/CD2LJjG7Zu245tW7fizOQUiidPYYE6btq0Eb0s3ze0Fj3rBjE1No6rJMBo1PDuP/1j7Hz0MFbv3o7shkEkclmzS6NcxeUTJMmvHAHGxkCGird+4mN498c+bFs1hnbvwMDGISQ7mD8RN0dGx4F92P2ed+HhP3ycZPgQ1rHOLdu3YfvmzRih3rNnz9oWm55NGzBA8q/VCNqmMTc2gaMvv2IrOAYPHsQWEt7cQJ+R+s5ECsdfehnDJ07Zioe+7Vvx6S/8JTYfOoDuwdVI9/Yg29ONTEcOR0TIZ2eR6F2F3dQF6RQiybidu3KU4/Ojv/17gGOw52MfxQf+6GPY/9ZHsJa22bF7F+22BSWO7MjFyyTu57B5zx4MDPTbihU5S+QMGP/BDwH25W2f/gQ++JlPY/fhQ+hetwbrWHbL1i3IdXbi4sg1YH4Og4cPO8dIbxfKdgArbdrU6pOIiQ6V1e0t0VIVF146gukXXuXUauDBz34WT3zog9i0ZxciXTk7m2Pjhg24PjyCCY0Zx65n53Z86DN/jN2PPISe1f1IsO8D/QN24OwlOZBKRfRs3oQHH3zQzjDpSGdQGJvCy888ixflFEmn8eBHP4wnPvoR7Hv7WzhHt2OIdh3keC5Qp2n2t3jsKBoDAxhauw59Xd3UrYkFzvV//h//iJmfPwP09OLQxz+KP/mzz9v2m7Xbt2ADx3rHvt3YvnU7jv3q1/qVYHDfHmxi/SnOwzR/lDp754VfPosjcorMz+Ndn/8cnvjwUzjw2FuxgWWHqPfGoSFcGZ9A/sJFTBQK5iiLZlKIxePmGLl27CQmjx5FZu9uHAwdI7JxVE5MOUPgbhXieCp+u44R++235VlcMXJnjhG99/Dw8PDw8PDw8PDw+FcPEaqQVDnHiJwtJEpKY6itNTFSoGQkhpSokA48XbsW2/fvJSHegcTafuSzCcwkSIIHV2EjSdzO/STr3d1YsJUjwyjli8awdINJeT4PlKskrRmsIxHec/AAEn3dKLGOYiqOQjKKQr2KkUtXcPXYKaBYxf69B/Ch974PgxuGEO3O2ZkS3av6sH37DvzB298BZDowdX0UY9dG0Gg0MF8poxBjM0l+JUTf6liINjEfaaBAxldNJdBIJ2xLgvTS4bLQTSvJJIn+Q9j5wAH0bh5CpTODqUYVeVqioO0myTh6167BrgcPmiMoS7Jez6WszhKbGtiwHmvWr6M+GepdxMLcgm1z0RkeOuQVOvTUqCZt1aApmRQ6EOo6fFM6lMrUOYk9u/dgcPNGW4khu8yRAZfYn0RXB+vXCRDsVbmCWrFsW0B0iKrO6njt2Ang9GkkDh7E4Ycfxpad29FFPZMs10jE0LeG+u/Yif7Va4Ar1zB65SpK1FMHqhZGJzGqs15icWzdtQt7HjiI/s0bUKatSpkEov3d6N64Hqs2beD4dkl5vO74TT63p6i3OthVh63q/A5EKL2rsH/fPgysHUS0I4si+5Vn/xrpJFIdOXNoIJPF2nXrsXXPLmQG+lDTOSrUI8K+yzmCJPNwHtULJduK1J3K2IoXbeM6d/wkwPnQuWunzcXejetQziYxWa+gyPnQx3HaS/v07NhhW6kuHjmB8sg4MtWm3YRz5bVzmPz180CtgTXU89AjD6NTjpmeLtR14GtXDl2cB0Pbttg8tz5x7OK1Jrqpl84eGbt0FdfOy5YJbHrn43js8cctf6a3G/HuDnSvHoDOF3nowQeBrm5Mj45hfOQ6YuyLVp3I4aExlT3lnHSWFMLQwZ6WDMFyaC99Yw13D/2yPDw8PDw8PDw8PDw8fq/QTprEtfTXf6O5TLTzIkTQdEBnZw65VX1GFKskzPkYsBBtoEry2rGmHwPr19oqBoyM2OGqxUKeHDqKeCxmZN6cEClHcLX9JanbWdiI1hvodpBao2HlRodHbBtDNptFtVC0A1i1uuPi0RO4wnCK5LMjGjdlKzOzGNdBqCyr21Z0CKkOjbUDVqi3/ZVcrfDRXXvqiJ3dzqI87BdWrcLb3v42DK5bB8TjdqBpjQVKNcWaTIrZdo01Hd1Ym86hp9xAZGQShZMXcI3k+vzpM5iYm7X25QSp1KqoRiOoxCJ2IKnq0OocwbZCUOSQUqjbf6JsU6spdF7IwOAas7NWqZSZlq/XqA/15rO2WkjnWrWCSrlk6lerVXOMTF0bBso1bF61GqlSFTOXruHaiddw8dhJnD9J2509bweRolrXXbW4NjaKedYzVyljeGIc+StXbUXQ5i1bsWbtOsSSSRQ5BhU2wpEzu9htOnIGqB/BrNHhrbZOyewrd5pLl27i95pLOvxVThdJV3cP+5xGlX1faNSxQFvV+T4aZ92yA9/pkNOO7m7EOFd0IGmT/a7WdfUv80RpA91WxPnUZF90W1CjUsP1q8MY14oa6rB/zz6sW8f5lcqY7WTHMtvK5HLYsGEDtmzawnrimDp9FvPXRhEplFHPl8wpB50d092LjVu3YtW6tc4GnLeNWt36loglEJcd1CeiSmkwHmF6jLroQOJrcjJxLAZ7+lCdXcD1MxdxgfPk4qsncPnUGVy/cg3NOo0jW+YLmJqcMhsmInKfOdvJhvZe89TiLgxvkbK024GaCaKCfgdCENzw0rXwxnDte3h4eHh4eHh4eHh4/B7AyBFZWDshEoFXugitIAdCPCBoWsqv7TrleMRWZsgxor/E56Mk/tkUUlpNQCKLfB6F+QVUSV7lWNEhrkmRXpE7EttkKmnXzoZt6zvcCqCbPVAoAAt5XLxwAd/91j/j21/5Gr7/la/je1/+Kr7zxS/hO1/+Cl7VVgaR2HIZxUoJdZJfHXiq7T9G/sQuSahjEhFvJdUadn2u6KeIqBF66dXVZYeZZjtyqJJAi0jrFhOtntF5GfYhkY2VKnb47CgJ7umf/gIvffN7+MU3voPvfPNbOH/iGCDnCNuVLnUdpElb6bYW1zd9EVqtEly7WqvXETOHh7OvyHaEpFvSYNmKnDPNOqrSR46JwDHS0JWxcjLRcnKM5GfnUJqe0wIZTFy4jN/86Gf44T99Dd/9x3/Ct/7hy/je17+Fb3/jm/jFv/wcE1rNwL5MzM6ixGaL7O/oFO04Ngrkclg1MIBUNouSVvk0GihRFioVlGo1t/qFoSaITCynV0z21scIu5Pwo2to5bCyw10DR1Y8mTLnkGxcZEKRdTZ1AKrGgaWVL5vJSUVzONRZVuPgzsAJhC/rtIG21jR1AwzHZXaSfdB8SGewdbM7R0blaiyns160VUzOl+7uHgys6gcSnH9Xr6N4fRLNeWpSKGNejiPWGenpQS/tEM1l3SokXfNbY23qd4NjIiefVhtpLKhjU3qqH2xvZop1jE/SnhO4cOI1/JC2/y7n7fe+9FWOx1fw7S99Bf/81a/jhedfcFu4WFeevxXNyXhEa7RYn/oom1HCeGhTF9M3k/VKkTDuoq+D5W2TEOFvXWKOQ4WB3ArK5+Hh4eHh4eHh4eHh8a8eyxEgR5IWVzcYFROhDBiYCGC5UUOJZLxKYqjtFE0S32q5bMv/s3J25DpsS0hS5fheVck5kU6lSexFfh2ZX8gvoFAooE6iHWEd2kLg6B4j+os834+9+ipe/Mcv4ewX/wHX/+mruPjVr+Lol7+E33zxf+DID74HLMwA3Z2Id3WAFNkcDUbu2K4tV6AOWolSrtfIPyuokOTW2F6cJNxWkkjUJt+LwJvjQf0koVe6nCKyiQ5qLc3MYezCZfz0W9/B1//+i/jx//t3OPb/fRFXv/0dXP/5zwEdTDo3b/qLZKaiMTt3Qk4lI7NqK0ryy77JHma3KustlqiXrckwp0mNuthqEsa1QiTKUDpIr3D1i53lwbrkcNDYVLUNZ55tz85i+qc/w9EvfRlHv/hFXPzyP2L8K1/G5a9+BVe/9jXM/MvPgMsX7QBZ1ZWOxhGtNVDJF2zlApIppFIpW7mTL5fMIVMNbKetSnI8GQIngOowsU+I4InpmkdaZyEHhZ61Wiiby1r9ciTEU5wnWmHEftgKjMBBpDGrss06x6HCuVLmmCUz1FnvlU/g+GqcKiXqWa6gVqm6MU9nkOvuQp32KTXq5lzS6hutSrHrhOMxZLJZoLPTti+V2e8a52+jyn7KjnxO0Q65bI7zJGH91rySWKept64Htv4wQU6eBvWSrfT7iGnuCmPjGHvmF3iF43D0K1/Fa9/4Bi5xHC59+cs4x/jcM88Ao9dp87itLpINbK6wvpb9rAVGKXJQhvPI5gElXH1kukgs5xvD6mXWsH7D7RU1BCPg4eHh4eHh4eHh4eFxHyD+44IVQasuEV0ju/owTYQreG5vz0gUyZ8RMz7YthSS03hdt3rAbiIxcqq/uldqtspC23BE6sr2V3etcmAWFha5FOnVX+K1/SXRIGdleTYLZjbyvuahB/H2P/s8HvzzP8f+P/9LPPDXf43Df/Pvcfh/+hsc+pu/woH/+W/w2Cc/ig27d5JcioQHjhiRZwnb1eoNnfcRITlOk1ynM2lruy6i63pk/TfyToIbJUkV8RMtrcspQNI8OzGJV559Dv/P//F/4vj//d8w9/KriKxahaGnPoiHv/DX+PR//I/Y+alPA9u2WUk5etKsOsNKkwy1lcRsFjhkRLbVdCIWbxFeszKfM9RRt49ohYOcH1qRYXZWPvWJkP3kxNGVs9rKYo4VrSAh2c++5S04/PnPYf9f/gXW/NnnsOY/fAHr/uyz2PDvPofNf/0X2P4Fyh9/Eu94+2PoTqTRyBcQ1QoIbbGhDolE0hwWMXNapJGSzVJ2yow7k0XbWaiLLKe+WN+kVPDs4OaR3Evu3Bo9URp15ItFc/jI6SQ7aPuJ6luUppWTHZJRt9pHY1nWlhubHATzKavedWRztiLJnHcCx7BQrdi5MJIix3C2VGQ8hhrtqRVB5uQQOB5uSxWnLOvP5xc4YEmb++qr3iUSbuuMdJZDK8X+JxiGQ6bDb5OcqwnOKzkq1L4pN9CP3U89hT/4wr/Hw3/yJ9j9qU9h0+c+h01//u+w63OfxZY//RMMffYz2PORp7CJ81fzUm5DuZ5icpSwb6YHlVNTsabmFRWVDZTOxPBsoJYjk6HGIJRbQZZsiepQ4m3CzUIPDw8PDw8PDw8PD4/fE5BCBd8uFLsSSWroL+AkYBJzdjC1TlIpkpgQoWSKOUPIYrMkizpg084RKRRt5UGWou0zcRLfJImrsTbVLBIm0kfyZ1ssmCbir7q0akQrFGybQkcOu/bsxoc/8hE89aEP431PPol3vfcJvPPJ9+KdT70f7/roU3j7B9+HXQ8/hO7BASO9IpPqhzk9VI/aYRv6K76t1Ig7Qm468CMCrrj1mWFIvKVPhC+1ekLno4wNj+DIb14AdCPK9p1428c+jj//y7/Epz7/Wbzj3e/Crl27sEYHg5LMq01z9LDCFCVOu4QrbsisZQGS7oYRb61sCcWgPCwv95FWPEg/bd0whHnaUCwWTL++3l4kVq2yw0t1S84f0k4f/uQf4alPfQIfYPiBP/o4PvCJj+P9n/ojPPHpj+M9H3oK27ZvR39XNzpTGXToQNNYwrbJVHU+SrViK2tkGo2pxiYdT9p5HnzJVL0J4eaLzRP+c29cWo1pckqZXQNxq0XYf8blGNE8kwNIDgA7Z0WOEZsbzqGmdzQg37oVQdYAReMsp5BgdchZwfHVjTXzhbytaNJ8VT+0CqdQ1EHALMV8csjZChvm10qUqJwoao9zxOqgbmomwbHQKhmbN3KaMY+cIjr7xvrDTConZ0ue7drqJDn/NPcyWezZtxcf+8Qf4eOf+iTe/9EP4w8/+CTe/UHOXc7h9z31Qbz7qQ/goccfs8N2K9S3VnO3+7htQ+yX6je70QR81nYbrUZyoE1kF+ZtJd0l7rS8d4x4eHh4eHh4eHh4ePzeQTRMXCzgY0aURNBEVkVgjTiJyJK8aQuIHBhJlkqEIWVubhZXh4dtCwzWr0XXwCrE0ykjwRVKPU46FWMDInMiu/rLus7aCNoyh0I8blfCojPHRJLNcglJxnuGWN/GdXYzSs+GdehdP4i+wTVYvZZh/yqk0hkSepJRVivHStFWUFBqJPgkwXLi6MYPOTy0/UL90ZqBulim+kxVtEJDKxtCYqpeixRrRcuVy5cxc/KkEd4H3vEYHnvfe7DrkQfRs2kInYOrke3uMiJvlQWrQhQ1YmsfZ1M5HkTiBSO4FOO99uUsoa0fOvjVtrFQWIL1sA7mcYTUrWiRC8jOvSA6urrQs6rPbDuv1TbJBO3Sb9fgrtswhFW0W9cmCm3Yw3jf5iE7QLeWpK6ZFLpUdnU/UMhjZnoa9VIFGTl1SlVk2YkcLZhiexp3yBlhziX110xHu8q5Y10O7OD6q57bWSrqW9A/9c2cJXqnkPMpzGd5GLJpc6bIftYORQ4tOaq0qkY6WCvsr2zUSMTtSlv0sx/FPC5dvIjC1Awy9QhWxZLoYpgp15Fj9dWFAsYnJ4ByEVg3iNTaATRyGSCT5Jxabdt9yjojZ3YOjeDmm1RUjkC2SBVta43mmmxA0XO9yh7JgUV9+gZoRxsLYGxhDhHO317Ok9Xbt6B/6yYbC10DvXbLJqzZtMGuZI51ZFGiXUz4m9C5PYhHzEFmi0TsI1vYPwo/FpdzSN+MW4bXw+VflBDKLjtLQizNczNozD08PDw8PDw8PDw8PH5v0CJDIfNSlIFEVNYg0kqG1iyXsTA3Z2daaKWIJE2i2qxUcfXyFZw4fcrIdeeWzehbO4hYmiSzWnV/TQ+dIQy1GsIOrGTVIshG+/g6TkK/aesW9G7eBNSqOHbyBF46fhTTlRIWSBR1bWuVBLbM8touUam78zhUrxwwcmjY+RRWH4V1lMslW8FhW3rUiPqhLvFZzhDpIwkJu+qzVQoC+11hn8fHxt1BmdkMNu7cjoEtG4HOLGZYYoE9GJ+dweg43+vgWBrOncXhVkGYDVWdhIRaplT92rJjrcgBoEQ5BaSDHdhKws+ScijZrSfKRgk3ragfbguIyjXR2dWFgcFBc4hcPn8Or5w8jmujI86RRdvoSuG5aBPTjaqJDs0t8HmBcTlG+jlW2LjBzii5ePEiZscnkao1kak30ZNIIcs+VefzWJiZ5YBx1ALdTdi+TC2yHBJm6WpziPlkT9kVTZZjXjfm6pMbB1s5ovQGe8lQsC0ijNuT+knR6iI7sFcOCeXVK8Z1bkg8l0H/xvWIb2EfWOr4seMY5XyMlyroj6XRizh6tFFroYThi5dw9uxZNlBF954d6Ny4Ds2OjF0FvYFzD12dwMQE7XgBMyNj5hDSeTFaLcOmsJDP48q1q4CdC+N0lw20kkR92Lx9G/op6uEvX3kRvzl5FFfmplHg/K1z7lYSMTSScdRiEZRpuCKlrC6lEqgl3FjltaeGabru2T5mULeKReJs3eYUaX1uApbXGJkESYJVG4jeqd6b1tEG5fPw8PDw8PDw8PDw8Pj9hZGtRZrlVjNQRIinZjF27hLmrwwjNptHMl9GptLAwvVxnDl6HNe1qoJ512/ZjI7VqwCSvVK9hvlKyQgfkqRUDEUItV3CtkAwv9qwFRGJBHYfPID9hx8COjtQPnkC3//e9zCmq2TnFpCtNtChP9bnWd/UDGZHx1FhurbxiDTrBph6KolEbxfQ1219KfB9hPkT5RqSlTpidV00SyLO9uU0gFaymCNCqzQccZduShM517Yc2woTJ1slHy/PL6DKOmOVGtI1EtuZOTz3q1/h9NEjwPURstky85L8kviKtNelk5xAIvRsSytndGNNzYTt0hZaJWJOo2QCcVsVwXgA6RpCzhwNi10BTP10qKzisvXg7u3ApiHg8gX8y7O/xImjx1CcnEGqVEOuVEeaY1WfnEXh+gTKs/Oo6ODXBvuWSdsKnPU7SOaLBRx79VWcevUICiPj6G7G0El7N6bnMHzuAs6dPg3MzFCTYKWPnFHB2LVWijAu2LaTqG5ZcekaC741ezTUPT4bGVf2xS4arM7go1Kqq8kyFZVrVM2pYatQtO0lEUOKc2X1xg3YuHsnsHoAVer52pFjmL5wBcmZPLpLnDe0wfiZ83jl189jgfNK10pve2A/cmtXc84kkOjIYr0cI5vkIJrGqVdewaljx2zVSLRUQUoONcZHLlzCC7oRaXKSY1211VLZaNz6WiiXsHbzRmzbt8ccZ2AdP/rxT3DyyFHk5WziWMSLZbsBZ47PU6NjtjJFTq5U0l3brPlXMcePcxbpoGKddXMryPZm3tDWt4ElJr8jxP4TEcQ9PDw8PDw8PDw8PDx+5xChEW0SVRqvVTA8P4PxYh6RjoxdDytqFNKjFvlp40shgV1E+LyYLv4pwqpbSyrjU7hy/BTGn38RKJVw/vJVXL02jPz0DOYnJnGGBPQn3/0eLvzop8D0LPrf9Tg+/PnPoGPdGruGNUKyp8M7x8fHcfrXz5H1lZDauRMPPPqwc0BQH+PJ1qZWdkSRTCQwW60ZcSweO4GzY5MoUioTM5i+dBVHf/OCXT374vMv2PkPGzZuRITkVn99ryVjtrXh4tQ0miTIF2fnUSehHR25jpGrV9mFEnLd3XYuxGtHj2P6uCPJD3zwSaT6ulEn0a7EnC10M0pPrgPxSg3nh0fRPH4SF+RUmFvA2MgILp07hxOvHsGLP/qRu2K4XAZSaQwdOohtFNVTK1cxfv06jr7yMnDpEjoPPYChvTuRWNVjjhcdHHry+HGMaRUDyfXWtz6Cvs0b7CrbZrWOeDOCTCRuzoxXnn8e9fEJJAfXYB/t10FSr/7KjumuDnQw/TJt3LhwEefY37GxccyNjiM/MobLR0/guR/9DM/+5Ke4TD12H9iPeDZj45xJpzG4eg1ePnYMYNmLV65gUlffFksYPnvB7P2rn/0c5194yVaVaJtT78EDduhtqrcbC6WiOXNat8ZQH61q0ZGtzVIFF06cwuzpM0A2jYNPfQCJ7g5z6GgliVZk5Jjv4snTGJHjpVLFhgcOYNPuXWhodYUcILSTDvIdHR7GyV/80uZQju8PveVRcybJ2aR5lsrlUMpkMEN9x85dxKXLw+bgKdJmFzl2P/jWt3H52Wc5sk30PvkEnvrMp9HIpe3q4BjryXDs5Iq5JgcXx/bcmbO4zLK69Wbk8mW88Oyv8LMf/BBjv/41dPOSzmUZ3LcX+2iLNG0ZTyZtW5UcHJPsx9zYKApHjuDU2IRdBTzLcbh+7hJ/M0fxo+//AM+//DJK1Qq2b99hh/xqpVFhZhZXzp5H/gzt1dWFeFcnMgwzDDXOtg1NMGeIc5stlXYod0v02+c/reKRJHXt8cw81ua6sKmrF4M6h0eF3gDeMeLh4eHh4eHh4eHhcV8h4nO7jpEW2hJuxzGimGpKk6hVxqdx5dhJjJPMRXftxt69+7AwP49Tv3keZ189gksvvIjSayRxHZ3Y9/g78Z6PfAg9W4Zs24ttSxFhZnj12jWcO3bUVk107dmNg4cfgjtq0jlGyIDt/A/FdRNLIplCNZ3BFElx+fxFXCVJPf7SK3j11y/g4onjmBu+hgbJ6JadO7B+00bUEnFzjFRjEbt6Vde4Ts3MkehfwlWS8nNHj+Dc+fOYr9ewdc8uEvMmrpKATly8bIT9wSff6679JfG0K161aoH6pGIxdEQTyDUjuDg9i+blK7hMfU5Th/PHj2Fs5DqG5OwgOS5S3wptNrhlE9bu3oFaPGbOnoW5eZwh0a5PT6PvwAEM7tiKZH8P+5iwW07OnD6N61oVk81h1yOH0T201lbVxEhcdTZKnLaZJUHXKpA6bS/HyI4H9iPV14MFzgEd3KkbWNLZLIrd3ZiWPSenMEU9zx8/iZO024UjxzBPXVMk/1t2bseGXTvQ4BhpnHW7i1YsFBmfYtH69Awmz1/A8dOv4QTHV9ukenp6sHX/PmQ2b8JMs4HNjK/bvsUcI3Yzikg7dZVTRM4FnUciveUYuca6JtS/jiwOPfkE4p05Wzmi7TY6o0aH1F7m+F67NmyOpe3792It65aTqqE6WJfOUxkeHsFZ2l1zqGfnTnPuaLxKjRqqDTk3UljV3UP9IpifW0Dh0hVc4Nw9yb6ffOVV5MfHEaFtt7/rnXjbk+9B36YNKMZYt026qM27zlwHxy2OsWKJP7AJTI2M4NRLL+HU8y9gZGICq9cMYsdDD6GSSKHIObeZttQcjGdStgpI552wS8h2dCC5ejVGpzgaHP9xzsMLHD/JVUqZ6bH+VSy/A+uGhmw1UJxlq4USJsfGaK8r5mwra5vU+rXoXT3A35PbmmQrhwKYM0TzNYwrMYBySez3RbQ7Rsz2gWNkXa4LG71jxMPDw8PDw8PDw8PjXwtEfORO0JL7iXoV1+ZnMV6YR1RkU44Rx31M2kmSEpRmGdyjew6+F1PcFgeRRJ2tUJqYxsUTpzF59CjSu3fhnU++DwMklAskrXUS3WZ/HxJbNmHv296KR0g41+3ZiWo6aQ6KsEqRsHyxgFI2g44dO7CD9awaGAjOoFAmgXRaKwNYQDet6C/vfWtWo2twDUqdWVTVv2wa0e5O5DYNYc2Bfdh5+JA5GWI9XW51AevQSRAi29lUCpmuHp1MikRnJ6oDfUhvWo91u7Zh3ZbN9ld9rWjoXNWPwb17sGnvLls5IsJuZ5SQkOt6VDkmupJpu8Glp28VGl2diHR12FadLOvbSD3e9q7H7ZaX1f0DWL92LYZ2bEPn2tUoUiPVodUTSeoTXbfeyHwviS4yaTtWRPo2SfqTJPQbt2zB5j27kGLf5fjSag7j7DSgDr2NU+fcxg3Yvnc3hrZtIRlPcx7IDUHReFH/waH1yHJMGr09qFHXJscolsuge+0g1u/eib0PHcK2Bw4gu2bAOW5Y1s6qSCbQsbrfDrpNrOlHkzaNdmQQ7+3CepL37Q8fwqYHD2KQtsus6rMbg3pYZ4NjXW5Q26i7aUhzTqI5JP3NQUL9c719WLNvDzbSzk2WkTNCBF391w0+zVoNPbTBls1bMLSd9qN+VTkaOCc031WnwgrnUBf12bVvH/pp6wrfFO1QWyCRSqK7p4dzqx9d/f1I0QYZjr0cMZ3r1mDN/l3Y+bZHsO1tD9thqNLD7Kf+037SN5fJoK+vDz2rB+wQ1TJtV+O8A/XZvH8P9r31Eex+8BCyfT3o27DObNo9tM4cczobRlt8dH6OViWtGRpCkmMRoR6Njhya1CPZ14sk5/UQ583uRw5jiOUTWg2ic0dY3q6Xpkyw71XWsXHzJru1ppPl5IDSRjDZgYGztX4+QTxEkGTQ/LHn8HemvEGGZI22nZ3H2g6208XxiSc4Hm8M/k7lq/Lw8PDw8PDw8PDw8Lg/ECkSaS5TTlTy+M3Vizg+OYLY2n4UU+6ASDkYBJHKkDxZSssJYbzIRLTaEc8whWSKCUmSu85oAjOnzuGZL30dZ//274B3Pob/8L/+L1i7aSOGJycwk5+3LQxRksJeEreenm7qVUclBlTJyESTRbq1ImF+bs7OSiD9NMdHlKQ8TiJrevFLBF0EOV5vIsb2o9GYrdrQ1avTM7OYmplGuVCyrTY6bFSOlRRJcontlGPBGQ1kx7paVuehNMpVO4skOpdHaW4es0kSzZ6cOVxy2ZxdxZop15Ap1e2sj2IyhnIqZisQdBimOWnqDWQiMTu8s6PaRGUhj5mpKUxMTrJNIN3XbbfBdHZ0IKJzIRaKtu2G7BpzbG+ettBf5VN8FWFddkMObVXJJFHiezlNcqw/VeeY5ouIlCuIsE/VTApFsnTddELKbo6euMqz/zpQVfZLkcDbSg0RaBLpSqNu5DfKd+ViiX2eQ3FmHlXqHKFOvR2d6CZBl+0a2RTybL/AkZd+aeonMq/zYETM67LZ5DTytJsOie1ZtYrkvQMN6p1pcqSmZtGbzqHakcZCIoKCHCNsV1s95OwwhwfHQTe6pDmmGged8QL2q6ADRllGNwJJ0sysm2+i7FtS48F4RQeVdmZRIEt3541oLnE2UbdSoYgY0zJxjncigQr7oG1R6rscR0nOG9la26ea0/OoTc7ZVb1pObRyadR7O20e2PW7rFh5BZ3zoflnBwpzjoFjMc9xvnL1KirNOlIdOXT1r0K2t9vaqJfKqFF0eK22JOm3pnluHhr2P0Z76NyRcr6AqfFxFOfz5vyRk0zj18PfS5R1yelSoS5NbeHS74NjpTNspkdGLRzo7kXn6lVI0v52/k1gX7MIQ9mm3SFl9rL39uCca1JJmQkrH4TZMn+rl0ZwaPUQ3r5+Cw6mM5xrpv4t4R0jHh4eHh4eHh4eHh73FSI1IkiLjpELODYxgvi6ARRJ7PWXetEkMRejlCREKtMiSy24BFFvkRyt3IgEmeSYEDnsJPmcPHUOP/unr+Pif/9b4J3vwGf++q+wZc8u2+YQy6QRTSVJTOWqYR0kqPPFgpE8kTVxMTlGRK51rWmDJLShq05FIklitX1BbQu2qiK44aauGz/YfkxXsyqP9YGaWt/cR2dP1FhnmW/0l3aRzRhJaYPllS/F+jtiCWRZc7NaQykdt2tQdUCmrb5gXzsiMXMK5CtlkvGoEXL7qz/1liVEmpPUI1uPIF3T6g+t2ki4l8kEqrGm3VIiZ4XWXiTZboZkGLTJaHHBHAE67FUOlo5M1s6QKLL9YoQ6J+N2k0m0WkdnKm3bZupFviM51uqDKttw9JN9kw1Zh9q3a2GVzjSzIcm4rvSVLTTOxVIRmWwW2UTSVrvIJnJSuC0SbkVCvl5FnrNIWz/sdiG+l33HZqZtO05XMmXbW8A2pYNItFZm1Diu3ck04oUK4rRHWTcFpahDnP3imCmfiklrkXFzjjAhXquzPupCe8xUy+Z40vYPtam2Uywop1BnImX1l5p1zDWqKFldqk2QY4R9oc40n42NTVfNj2B+6aBSOZ9k5w6S/BziSNGucgokc1nM0jYLVEy/E5uPmiusR/NWc0bzD5wrumkpo20lbK9QKLizPViHbKBtO1rhI0eTyhS1lcnmRZyqsB8tdaU8+8i8Ga1eSiZNL5UtlzjfqhUssJ81baeS04lli5yHslmK8zKhuVwsI6stZWy3WKs6p0ZgX/0G9E9Q/y3UJ2yfkL20lUursEwdpTEe1pMt125wjOxPZ5FinqDam8I7Rjw8PDw8PDw8PDw87itEfu3mCsrJSh6/vnoBR8eHkRhabaseRGocOXPEU1AZR1gdQVqkPnI4kCwzppyuLEkkH/SX/p5EGiOvncP3/+lrGPm7v0PiAx/AZz7/OazbtsVIcVR/7WZJrVgwAsaGbMUBGzHHiGplpaq3TvJpjYhSKVlkjqReeklf5dFf28mZLY8xL0t0RE6PS6E09U3vbTuIElmHrfbgS60u0VYO5bQrcFUP3ymfbdnhOzkO7PYZnU3CPHZVrFXEPHxnf+FnIzovQ0qpHbMlQ6140EoB64/VSWFc9Wglg0L7az0l1E/5rQ22p3Tp6Gwnvd17lVO/BJF6ldPqEoXOEPriE/PpvZVhmlKtf0xT/6SPrR5SWvBeE0DbWHQVsPrgdGZd/KezSlRWThTZTe1ZGcLINMM4S8iZoe09ciC5s0KcDqpbhVRGZdV3q5+6K658OnBVNwJZPulFsXVO9YaFCebRfFQeWxHT0kA1qhIXk60UkU5hDvVTH1nMVirxhfQ0sL4a32slk8SSVFB6B7BfD58VagWJdJMTzbIFbUmUbqtD+EJvLY3v1WYIq1bllVdjrPrcK0uTvZz93G/FslOUx+xGsXaYEtre1AvyCcprZYL+hOntUB3WT8LKqg7qYo6RUh2VyyN4cPUQ3jq0BXtTWaSZJ6jupnij9x4eHh4eHh4eHh4eHr8TiBSJHYpSSURWxMvCZ70PJeChDMN0x5QWvxfpp+IiU1qdoPUcOoOhrD/Ra3tMtYRKowa7FlerQlIJlMm6dI2qnA460LQhZ4cRPZIvCSuuU6ShDuc0YZ4GQ0c0RdJEhkWE5bygaBVEjMJQW1tqeq+QoudFYfmg46qrRagpyqttNgtxYD7u4uZgYd6QGEpvbdcoaaUIn1WH7GA2Mp1dmtopMl+R+fKUYszVJ11NR+qqFSdFyoJWpfB9TVtL2Mfwfdn00TYdp1toH60G0OofvVO92lZhjiWK+hXq0Oo786g+hdJZ1/226+6cTc6poDFRH0uxJnVqsn6G0QZKGie+06hbPo6hxjTCOjWR5OzQdihtF1IoMQcIpca82rpUoB106450VdvSlaXNbo7UO300JtK7xLxaKaKxaeVTjDZSHTXaTuMwr7opFb5SWZsfJi5ueSmq0+YFxR1KSlHfozG2wfHge9lz3safQqV00KpspbZD/cL5INE72Vl66iDfIsOSxlb2Zp2q1+Yux9bNU821xflsczgQm9NBGc2fMuvWChgTtcH+6tpmG+dAnxvs1qaLxtGcaWaDQO8gzqYCaEbdKG61iMvisqlyCUtSInJoKl9QR1iv5FZQnR4eHh4eHh4eHh4eHvcN7eTFCA9ZirhVmOpIUECMFDLBVh20ZDGvSfCs/IIeFas16raCQOcr6MYT9HTbrSLNTApIJ+1si7KW95NoKb+ItpE3iiOqjsg5cUR8qTii5/7ibuEyeST21/plRKQybOsGMcIqWZJOWVqXI8Vtz9TFLMG4jBW+C9taTpeb6bec2LYP1aV2lMbwhjzU2dnQhYs2fb3YO5Z353Usn8+luTbDPBqPG+NygDXMXq30ZaS9nqXthG3dTG6WL3wO614uT7uE7xfLLZMWjHv4Pix7u9Jepn083kjCMq2yLbmxX/eqnySsz+YRJYQcK6G0wHzh79xEjk8J41rJYqtZ+D54a3IrUH0PDw8PDw8PDw8PD4/7g3bCYnGSmWg0amd4OPcCU8mI9GSi95SI0kwUd7JIgZRXVTE0siQ0Uas3UK7X7LaSvrWDwKGDGNyxzQ7h1GoFbRWxcyX0F2jmV+st4qa40timk0Uip7/wh8ROjgGVvpVTRGL5Ld+N6TcT06GN5Ft6UL713Ca2wkWiOEWwXgXPEpfv9WUld6pfe52hhLqas6j9+TYkdFbcngSOkHZhb22Li2S59ybL1fXmE7Mdbbjcu7uSuxiPW8lK6Bfqo1DzNASHyf2W+WWieCCCxZlJK8diLCkHB3/KWmRkL91vMaizveIl8I4RDw8PDw8PDw8PD4/7ihuIED/mGIlF7TDJMK21OiSIG+tREKL1niSHFcYU8sn4UdCAiLuuDdU1oQcfPozDf/QxHHzLo4h0ZDCnq3fLZTuHQec42FkdFJUPxUia6loiTht+L/PuBgng8juE8bsVoT2+HNrz3ypfiPZ87eXuVu4W4ZgvhaUE9mxv527EwLpa8Tc5Qj3b+3A7IoThvWK5MQnR3tadiBCGrwNf6Pdln3BOtIfBL11i3xF+B8vOWk6RN0CkqVNSPDw8PDw8PDw8PDw8fscQExEZCf+CXWV4pl7AS6NXcGx8GNW+DpTSCXeDScBa7NhIER6KrVJwyQYdM2AhyZGFlkGrRoLy9Ya7+lTvtKWmUUcjHoOuZbW/MjOPiJUrrXoIPth5EHzQs24eaT+95I5gJC6ox57b4ncB1WW6soJWfAWwUvqFkF52KKl7vGfYCLA++9zDeGg0NDfsY2OzUhquLMLehWOhaX03MMeeQve4Yr39behnq8JYm6VZ/MZKb3RjuLhy5MoNNEYmcGhwAx5YuxFb42k7fDVBkbNzSTUtyPHp4eHh4eHh4eHh4eFx39BOcURQdTtGLBZQFRHgNmmxr2UgAiXHhq0WITvTig/d4GGrPYIMcsDovA5dxxpNp9BIxlGNO0eL2lZeESjdUqLQVp8EodXDUHXdlbSVvee6Qgn1WmFZMf0Ckf2svpWSsG7Gre62tm5HWvqEaeHzm1CW9s/m4l3I0jqWa+tuZLm670YW6+CD/dad06v999/6fyCAe1ZkUWJR/rZt1Yhquz1ovnt4eHh4eHh4eHh4eNw3hPRFoW1lIamx60CN6PArJEI38JwgLYTlDSL8p7NFVE5hSLr0pRUndpUtHyW1QGyxiZVzomt6Faoad5gqhQ98XBGoHqsrjNylhFGLr5AsrfdeRDa0MHA8rYSE18RK3HkzjtjeiVgZlVVcaUHdb1oJPraiabn3tyFuNVTwWeb9PUnwWSn9FucQv4JJ6T7u16iPew6zME7RWCaiUUrMrkq2sQ7kVlA+Dw8PDw8PDw8PDw+P+wZyohZ5ETnS1hlteLGDU431KJdIT1vGgAwtQnFLbEmrLEMjTow6p4gTHc4Zip6tvkYTUUroWFGac4iIjrnq7hSq6nUI67/HT6ijxVdI7LMC+ll9QT1ubNvFEeG7EX1aN4/oo/BuZEk9y7X1ZpAb9FQYpN3Jx8oEdax0f62usF6FQdqdfKxMUIerZ/Gn7r40j/gL1JwMpGF759w8s+/gKx6NIalVZ3xs1fEG4O/dint4eHh4eHh4eHh4ePxuIa7DwLa3KKRcaVZwcuI6ZRiziQiKqRgiJDpkS6jHIqgyb035gzKCERrRGkUoIlqOJAWUKAjbkwRdf6v6VFeKlSUp7Yeuqh27NUP1KZ9qtiUQy5AtJojYhQhJmoszbJE9l8fInSJ8dLnuHFaTqranlcdK6BeYy8iuEH63meqOoSrdyoHwc3cw/VofUfM3J8L+aQ624kF4uwj7Zn0OCq9Uf1daP6HZ5vSQWH3Bbyb87eg3GuO3/V4Dh2ZnpYnufBUH16zHjr41GIzFkWI+nTGifDfrtHeMeHh4eHh4eHh4eHjcd4gGaWvLDGW8WcZwcR6/OnUMjVwGyY6sHZK60KxhIdJAiYzoRscIKU3IasjOXLTdOeLY0FLiY84OitK13SaukHlFHFUifKf1Doq7VFdLi9jL4RFEbwYjcgHtWizmyrnUu8fSOlaivhD3qp/KhyRcsGfrNz/tDd0hVOWiYyTU8U41dfZ3oo93jNwtVkI/oV2f1moQKuscIYs1hjE5MePMlo7EEK3WUC+UkC1W8ZbNO7Ex04n+RBa9zCfHSJLiHSMeHh4eHh4eHh4eHm96iArlKfOUyUYRL505jfHSAqo6DCKTQjWXwiRqyMcCEiaSTQkpjQITxR0FtGfHhm7CiNpgOZbJZnUZk5e42lvQqxsjDpYloHNBdnsd6Oq2G6wMrEZWpjCUu4H0CUWVrIR+S+swJwQT76X3sqrOmHCxe++vvt1Fr3ev028TrT5SvRXpLytoxVcAK6XfjSUDZ4gcI+3p4W+dkuAUSNabiFVqiJYrSNaaWJvM4tGtu7AmmkGOCmWZL3SM3OpWGu8Y8fDw8PDw8PDw8PB406BIkXNkFjVcmBzF5akJTBedc6TelcV0pI58nOzGTs500k5pFNU1vS1nhr1ieA9wDpioq1OEvL291veNtDrMsbRle+ZLbQNYMbBStRfKvUD6hXLPlYVo08/q1bjcA4wqN9tWjNxldeHKII2cxvfN7BgJQ4tTzTDtdmE9a/XXYaV6u3L6tdyZemjFw+1r+p27nx7DRhNxSkb+sWLZtsL1pDLY1NmHff1D6EPMrukNt9FI7DDnm3TaO0Y8PDw8PDw8PDw8PN40KAWyQPIz0yjj+sIsRmemMV1YwGy0gRlKIU5qJIeIOSwWHSOOMy3SqpBa3ZQN3QlInFWPHcHaak9ELaBTQdACmzSiHTRt5NtFLQy3M6wU7nUbg/Db0C/Uy7kxHO61atW06BZZif66jTSLI/TmgvoXOn8s7qJ3DBtXF205hVYCK6Wfcz02zWkY5e/KQtardKHRaJjoN9doNJHSmSLRBLKNCHoyWQx09WB9rgtDiS50s6bWFppAbE7fpNPeMeLh4eHh4eHh4eHh8aaAiEmFUqWEDpIyZbqWx7WJMVyaGMVMvYISGY6ImP5YLLQcIy3vgJwlIUETE7oJG7otBGWDVQ5GxoP2RNIEewp1CL6NZqtMUE7fdr4GMzjXjUtbCbjaXGhylxU73RbdA/eqX6iXnQdD+4TWcnqGb+8cKhmeQdEa8ruA+mdkmbGorRh5cyLsn8KV6G/Yz5Xq70rpJ2eIfi7OidE0p4jibnFYBNVq1f3WlY/pKUTRl8lhsLsXa3r7sCrXia5oAp2I2zYaOUVspQjlBqVUeAm8Y8TDw8PDw8PDw8PD4/4gZCIBURHV1QGsCuUckZNEUmJKoV7BfKmIucICqqQw+jhqLJ7kKjJKb9G2MKy8Fd4+rFqKC4KHNljtgeNDMPJfr7f0WQrnclCFjtgtqe7uwcrCqhTebbXWH33kwFFcFTHink3j24YRZPbTfdy4hvG71S+EqyNcM+Jqu1NnkHOIBP21z5vXMSKEDod7tZ36aHKvFS3BSujn1niFv42GOUfCFSSRKEcoGkUiHkcqkaQkkI4n0JFKIxWNI4MYUswdrhKRQ+SmfbQGboR3jHh4eHh4eHh4eHh43B+ETCQgVW5FgYOIdCg1ihwlosL1BlOMcN+Y31L4LxIwtFq1Zo4NI/S2DebOYWX1bc4PkjSSM1ef/eOXy7EYmmrB140IHShG1vi+Ui6bniuB0ClgVQfiFLoDsJCKmFDXJImnVSFb851boXEXUL9pN217snhghzvW7wY0zQllY06DWngXsFGj8fRx1wnfk1K/VaiH1kuprPAuYL2TycL4CmIl9FNJW03VaKBUKiGdSqLJ33utVnX6cozSqRSS8TgSiLrVJEqm6EYpd6sU0VKmDe0dXqbz3jHi4eHh4eHh4eHh4XF/EDKRgEzd6OhYfJZzpP2deI2e24mM4koPOU/9Lnl8iJC/t8N4vUL32AqFZbLfgLCcRLrW9NXegXtEqzo2cLfVWh9YWFsXdL6tPQdYKVVV573WpfJL5W4gXZbKmxVL+3qnfQ779tvq60rpF6LK328y6uqptyptIs7JKQeI8ssJErapeMsp0h4KSytfpvPeMeLh4eHh4eHh4eHhcX/QxkS06mE5X4Y4jLIt907pS/lPyHmW4T53hLBdodWGInxxN20ob3v+Oyl7O2i3RUvfO0R7v1ZavxZCRe9WyTa0+nuXyi5up/lXgkDRuzVdq58rYPtlcY/6taPlmFxucMIG2t8tbVTPy5UVlkn3jhEPDw8PDw8PDw8Pj/uDNiai6HLERBymlc4HsZeQNLXKBBna+U6Ypz3tbmBtBG2GzGlp3UHyG7Z1r7rcLkJ97hS/E/3MoIHcK1ZK4ZXQ5XeBN3t/V3IChXW117lU71u9uxWW0dM7Rjw8PDw8PDw8PDw87h9uxUZEYPi+PUu7Y8TAeDujCV/dkGcFoCbCZlai6hVW75ZmvBOstF43YKWUFFjXivb5t9pxjzvG3YzH7UyIm9TrHSMeHh4eHh4eHh4eHvcXd8BIlnOMWPmldawE0V1Sx+87cVoJk90Mv++287i/sLl7q0n2BpPbO0Y8PDw8PDw8PDw8PO4/lmMlIZkJ3+m5PR7iZozmDciQh4fH7xlu9f/ILeAdIx4eHh4eHh4eHh4eHh4eHv9mYTfaeHh4eHh4eHh4eHh4eHh4ePxbhHeMeHh4eHh4eHh4eHh4eHh4/JuFd4x4eHh4eHh4eHh4eHh4eHj8m4V3jHh4eHh4eHh4eHh4eHh4ePwbBfD/AwhRO5f/1HjCAAAAAElFTkSuQmCC)"
      ],
      "metadata": {
        "id": "y-Ldo9uNbMpT"
      }
    },
    {
      "cell_type": "markdown",
      "source": [
        "# Configurando as Classes:\n",
        "\n",
        "    Para configurar de forma fácil um modelo, seja lá se obtemos esse modelo\n",
        "    por checkpoint ou por uma pasta local contendo a pasta de configuração,\n",
        "    podemos usar uma classe específica para ajuda a configurar."
      ],
      "metadata": {
        "id": "Ih27mITsd0Xx"
      }
    },
    {
      "cell_type": "markdown",
      "source": [
        "**Pytorch**"
      ],
      "metadata": {
        "id": "EXVWMbwy0YLP"
      }
    },
    {
      "cell_type": "code",
      "source": [
        "# Dependências utilizadas:\n",
        "from transformers import BertConfig, BertModel"
      ],
      "metadata": {
        "id": "rnI9luKK4lM6"
      },
      "execution_count": 31,
      "outputs": []
    },
    {
      "cell_type": "code",
      "source": [
        "# Instanciando a configuração do modelo:\n",
        "config_torch = BertConfig()\n",
        "\n",
        "# Construindo o modelo de sua configuração:\n",
        "model_torch = BertModel(config_torch)"
      ],
      "metadata": {
        "id": "-8XzsPtGxzqT"
      },
      "execution_count": 24,
      "outputs": []
    },
    {
      "cell_type": "code",
      "source": [
        "# Visualizando configurações:\n",
        "print(config_torch)"
      ],
      "metadata": {
        "colab": {
          "base_uri": "https://localhost:8080/"
        },
        "id": "CVaLIAcb1Lnd",
        "outputId": "77e0b325-b217-430a-86be-55d05153047b"
      },
      "execution_count": 26,
      "outputs": [
        {
          "output_type": "stream",
          "name": "stdout",
          "text": [
            "BertConfig {\n",
            "  \"attention_probs_dropout_prob\": 0.1,\n",
            "  \"classifier_dropout\": null,\n",
            "  \"hidden_act\": \"gelu\",\n",
            "  \"hidden_dropout_prob\": 0.1,\n",
            "  \"hidden_size\": 768,\n",
            "  \"initializer_range\": 0.02,\n",
            "  \"intermediate_size\": 3072,\n",
            "  \"layer_norm_eps\": 1e-12,\n",
            "  \"max_position_embeddings\": 512,\n",
            "  \"model_type\": \"bert\",\n",
            "  \"num_attention_heads\": 12,\n",
            "  \"num_hidden_layers\": 12,\n",
            "  \"pad_token_id\": 0,\n",
            "  \"position_embedding_type\": \"absolute\",\n",
            "  \"transformers_version\": \"4.38.2\",\n",
            "  \"type_vocab_size\": 2,\n",
            "  \"use_cache\": true,\n",
            "  \"vocab_size\": 30522\n",
            "}\n",
            "\n"
          ]
        }
      ]
    },
    {
      "cell_type": "markdown",
      "source": [
        "**Tensorflow**"
      ],
      "metadata": {
        "id": "V8IJ-Kvg0euO"
      }
    },
    {
      "cell_type": "code",
      "source": [
        "# Dependências utilizadas:\n",
        "from transformers import BertConfig, TFBertModel"
      ],
      "metadata": {
        "id": "PrezGyfk4zUY"
      },
      "execution_count": null,
      "outputs": []
    },
    {
      "cell_type": "code",
      "source": [
        "# Instanciando a configuração do modelo:\n",
        "config_tf = BertConfig()\n",
        "\n",
        "# Construindo o modelo de sua configuração:\n",
        "model_tf = TFBertModel(config_tf)"
      ],
      "metadata": {
        "id": "FWgewZnB0XGj"
      },
      "execution_count": 25,
      "outputs": []
    },
    {
      "cell_type": "code",
      "source": [
        "# Visualizando configurações:\n",
        "print(config_tf)"
      ],
      "metadata": {
        "colab": {
          "base_uri": "https://localhost:8080/"
        },
        "id": "WrIFvJNQ1HEr",
        "outputId": "464da3eb-b670-410e-eff6-d4d78a55e4f1"
      },
      "execution_count": 30,
      "outputs": [
        {
          "output_type": "stream",
          "name": "stdout",
          "text": [
            "BertConfig {\n",
            "  \"attention_probs_dropout_prob\": 0.1,\n",
            "  \"classifier_dropout\": null,\n",
            "  \"hidden_act\": \"gelu\",\n",
            "  \"hidden_dropout_prob\": 0.1,\n",
            "  \"hidden_size\": 768,\n",
            "  \"initializer_range\": 0.02,\n",
            "  \"intermediate_size\": 3072,\n",
            "  \"layer_norm_eps\": 1e-12,\n",
            "  \"max_position_embeddings\": 512,\n",
            "  \"model_type\": \"bert\",\n",
            "  \"num_attention_heads\": 12,\n",
            "  \"num_hidden_layers\": 12,\n",
            "  \"pad_token_id\": 0,\n",
            "  \"position_embedding_type\": \"absolute\",\n",
            "  \"transformers_version\": \"4.38.2\",\n",
            "  \"type_vocab_size\": 2,\n",
            "  \"use_cache\": true,\n",
            "  \"vocab_size\": 30522\n",
            "}\n",
            "\n"
          ]
        }
      ]
    },
    {
      "cell_type": "markdown",
      "source": [
        "\n",
        "    Embora não tenhamos visto ainda o que todos esses atributos fazem,\n",
        "    sabemos alguns deles: o atributo hidden_size define o tamanho do vetor\n",
        "    hidden_states e num_hidden_layers define o número de camadas que o modelo\n",
        "    do Transformer possui."
      ],
      "metadata": {
        "id": "HxgIERU01zYg"
      }
    },
    {
      "cell_type": "markdown",
      "source": [
        "# Instanciando modelo pela classe AutoConfig:\n",
        "\n",
        "    Podemos também utilizar a classe AutoConfig para, assim como a\n",
        "    AutoModel, para instanciar o modelo."
      ],
      "metadata": {
        "id": "GwRwxQNW9tRw"
      }
    },
    {
      "cell_type": "markdown",
      "source": [
        "**Pytorch e Tensorflow**"
      ],
      "metadata": {
        "id": "FUUrDZEhfEgJ"
      }
    },
    {
      "cell_type": "code",
      "source": [
        "# Importando dependências:\n",
        "from transformers import AutoConfig"
      ],
      "metadata": {
        "id": "V0WMDNDEa9g9"
      },
      "execution_count": 15,
      "outputs": []
    },
    {
      "cell_type": "code",
      "source": [
        "# Instanciando o modelo Bert:\n",
        "bert_config_pt = AutoConfig.from_pretrained(\"bert-base-cased\")\n",
        "\n",
        "#Instanciando o modelo gpt:\n",
        "gpt_config_pt = AutoConfig.from_pretrained(\"gpt2\")\n",
        "\n",
        "#Instanciando o modelo Bart:\n",
        "bart_config_pt = AutoConfig.from_pretrained(\"facebook/bart-base\")\n",
        "\n",
        "# Checando informação dos modelos:\n",
        "print(type(bert_config_pt))\n",
        "print(type(gpt_config_pt))\n",
        "print(type(bart_config_pt))"
      ],
      "metadata": {
        "colab": {
          "base_uri": "https://localhost:8080/"
        },
        "id": "P5wwKgQyeDoh",
        "outputId": "48b385e2-de22-4f31-b132-8782bfea01c2"
      },
      "execution_count": 16,
      "outputs": [
        {
          "output_type": "stream",
          "name": "stdout",
          "text": [
            "<class 'transformers.models.bert.configuration_bert.BertConfig'>\n",
            "<class 'transformers.models.gpt2.configuration_gpt2.GPT2Config'>\n",
            "<class 'transformers.models.bart.configuration_bart.BartConfig'>\n"
          ]
        }
      ]
    },
    {
      "cell_type": "markdown",
      "source": [
        "    Também podemos escolher a classe específica correspondente ao Checkpoint,\n",
        "    mas teremos que modificar o código, toda vez que quesermos experimentar\n",
        "    algo diferente."
      ],
      "metadata": {
        "id": "tdloOkCxfvsg"
      }
    },
    {
      "cell_type": "markdown",
      "source": [
        "# Instanciando modelo pela classe de configuração do modelo:\n",
        "\n",
        "    Podemos ainda instanciar o modelo pela própria classe de configuração\n",
        "    do modelo. Já que podemos instanciar pela classe AutoConfig, por que não\n",
        "    pela classe de configuração do próprio modelo? Claro que dá!"
      ],
      "metadata": {
        "id": "-ADP06a7-CmK"
      }
    },
    {
      "cell_type": "code",
      "source": [
        "# Importando o modelo:\n",
        "from transformers import BertConfig\n",
        "\n",
        "# Instanciando a classe:\n",
        "bert_config_pt = AutoConfig.from_pretrained(\"bert-base-cased\")\n",
        "\n",
        "# Checando informação dos modelos:\n",
        "print(type(bert_config_pt))\n",
        "print(bert_config_pt)"
      ],
      "metadata": {
        "colab": {
          "base_uri": "https://localhost:8080/"
        },
        "id": "JbUfLAiyfi-5",
        "outputId": "11210788-e028-4298-91be-ea239c201819"
      },
      "execution_count": 45,
      "outputs": [
        {
          "output_type": "stream",
          "name": "stdout",
          "text": [
            "<class 'transformers.models.bert.configuration_bert.BertConfig'>\n",
            "BertConfig {\n",
            "  \"_name_or_path\": \"bert-base-cased\",\n",
            "  \"architectures\": [\n",
            "    \"BertForMaskedLM\"\n",
            "  ],\n",
            "  \"attention_probs_dropout_prob\": 0.1,\n",
            "  \"classifier_dropout\": null,\n",
            "  \"gradient_checkpointing\": false,\n",
            "  \"hidden_act\": \"gelu\",\n",
            "  \"hidden_dropout_prob\": 0.1,\n",
            "  \"hidden_size\": 768,\n",
            "  \"initializer_range\": 0.02,\n",
            "  \"intermediate_size\": 3072,\n",
            "  \"layer_norm_eps\": 1e-12,\n",
            "  \"max_position_embeddings\": 512,\n",
            "  \"model_type\": \"bert\",\n",
            "  \"num_attention_heads\": 12,\n",
            "  \"num_hidden_layers\": 12,\n",
            "  \"pad_token_id\": 0,\n",
            "  \"position_embedding_type\": \"absolute\",\n",
            "  \"transformers_version\": \"4.38.2\",\n",
            "  \"type_vocab_size\": 2,\n",
            "  \"use_cache\": true,\n",
            "  \"vocab_size\": 28996\n",
            "}\n",
            "\n"
          ]
        }
      ]
    },
    {
      "cell_type": "code",
      "source": [
        "# Importando o modelo:\n",
        "from transformers import GPT2Config\n",
        "\n",
        "# Instanciando a classe:\n",
        "gpt_config_pt = AutoConfig.from_pretrained(\"gpt2\")\n",
        "\n",
        "# Checando informação dos modelos:\n",
        "print(type(gpt_config_pt))\n",
        "print(gpt_config_pt)"
      ],
      "metadata": {
        "colab": {
          "base_uri": "https://localhost:8080/"
        },
        "id": "l_qMsMxZgV_h",
        "outputId": "e90c68a2-3892-435b-aa7c-40b87c0ef61a"
      },
      "execution_count": 46,
      "outputs": [
        {
          "output_type": "stream",
          "name": "stdout",
          "text": [
            "<class 'transformers.models.gpt2.configuration_gpt2.GPT2Config'>\n",
            "GPT2Config {\n",
            "  \"_name_or_path\": \"gpt2\",\n",
            "  \"activation_function\": \"gelu_new\",\n",
            "  \"architectures\": [\n",
            "    \"GPT2LMHeadModel\"\n",
            "  ],\n",
            "  \"attn_pdrop\": 0.1,\n",
            "  \"bos_token_id\": 50256,\n",
            "  \"embd_pdrop\": 0.1,\n",
            "  \"eos_token_id\": 50256,\n",
            "  \"initializer_range\": 0.02,\n",
            "  \"layer_norm_epsilon\": 1e-05,\n",
            "  \"model_type\": \"gpt2\",\n",
            "  \"n_ctx\": 1024,\n",
            "  \"n_embd\": 768,\n",
            "  \"n_head\": 12,\n",
            "  \"n_inner\": null,\n",
            "  \"n_layer\": 12,\n",
            "  \"n_positions\": 1024,\n",
            "  \"reorder_and_upcast_attn\": false,\n",
            "  \"resid_pdrop\": 0.1,\n",
            "  \"scale_attn_by_inverse_layer_idx\": false,\n",
            "  \"scale_attn_weights\": true,\n",
            "  \"summary_activation\": null,\n",
            "  \"summary_first_dropout\": 0.1,\n",
            "  \"summary_proj_to_labels\": true,\n",
            "  \"summary_type\": \"cls_index\",\n",
            "  \"summary_use_proj\": true,\n",
            "  \"task_specific_params\": {\n",
            "    \"text-generation\": {\n",
            "      \"do_sample\": true,\n",
            "      \"max_length\": 50\n",
            "    }\n",
            "  },\n",
            "  \"transformers_version\": \"4.38.2\",\n",
            "  \"use_cache\": true,\n",
            "  \"vocab_size\": 50257\n",
            "}\n",
            "\n"
          ]
        }
      ]
    },
    {
      "cell_type": "code",
      "source": [
        "# Importando o modelo:\n",
        "from transformers import BartConfig\n",
        "\n",
        "# Instanciando a classe:\n",
        "bart_config_pt = AutoConfig.from_pretrained(\"facebook/bart-base\")\n",
        "\n",
        "# Checando informação dos modelos:\n",
        "print(type(bart_config_pt))\n",
        "print(bart_config_pt)"
      ],
      "metadata": {
        "colab": {
          "base_uri": "https://localhost:8080/"
        },
        "id": "R5RSWbvYgX37",
        "outputId": "48f61a63-943b-4629-b2c8-8552af017d11"
      },
      "execution_count": 47,
      "outputs": [
        {
          "output_type": "stream",
          "name": "stdout",
          "text": [
            "<class 'transformers.models.bart.configuration_bart.BartConfig'>\n",
            "BartConfig {\n",
            "  \"_name_or_path\": \"facebook/bart-base\",\n",
            "  \"activation_dropout\": 0.1,\n",
            "  \"activation_function\": \"gelu\",\n",
            "  \"add_bias_logits\": false,\n",
            "  \"add_final_layer_norm\": false,\n",
            "  \"architectures\": [\n",
            "    \"BartModel\"\n",
            "  ],\n",
            "  \"attention_dropout\": 0.1,\n",
            "  \"bos_token_id\": 0,\n",
            "  \"classif_dropout\": 0.1,\n",
            "  \"classifier_dropout\": 0.0,\n",
            "  \"d_model\": 768,\n",
            "  \"decoder_attention_heads\": 12,\n",
            "  \"decoder_ffn_dim\": 3072,\n",
            "  \"decoder_layerdrop\": 0.0,\n",
            "  \"decoder_layers\": 6,\n",
            "  \"decoder_start_token_id\": 2,\n",
            "  \"dropout\": 0.1,\n",
            "  \"early_stopping\": true,\n",
            "  \"encoder_attention_heads\": 12,\n",
            "  \"encoder_ffn_dim\": 3072,\n",
            "  \"encoder_layerdrop\": 0.0,\n",
            "  \"encoder_layers\": 6,\n",
            "  \"eos_token_id\": 2,\n",
            "  \"forced_bos_token_id\": 0,\n",
            "  \"forced_eos_token_id\": 2,\n",
            "  \"gradient_checkpointing\": false,\n",
            "  \"id2label\": {\n",
            "    \"0\": \"LABEL_0\",\n",
            "    \"1\": \"LABEL_1\",\n",
            "    \"2\": \"LABEL_2\"\n",
            "  },\n",
            "  \"init_std\": 0.02,\n",
            "  \"is_encoder_decoder\": true,\n",
            "  \"label2id\": {\n",
            "    \"LABEL_0\": 0,\n",
            "    \"LABEL_1\": 1,\n",
            "    \"LABEL_2\": 2\n",
            "  },\n",
            "  \"max_position_embeddings\": 1024,\n",
            "  \"model_type\": \"bart\",\n",
            "  \"no_repeat_ngram_size\": 3,\n",
            "  \"normalize_before\": false,\n",
            "  \"normalize_embedding\": true,\n",
            "  \"num_beams\": 4,\n",
            "  \"num_hidden_layers\": 6,\n",
            "  \"pad_token_id\": 1,\n",
            "  \"scale_embedding\": false,\n",
            "  \"task_specific_params\": {\n",
            "    \"summarization\": {\n",
            "      \"length_penalty\": 1.0,\n",
            "      \"max_length\": 128,\n",
            "      \"min_length\": 12,\n",
            "      \"num_beams\": 4\n",
            "    },\n",
            "    \"summarization_cnn\": {\n",
            "      \"length_penalty\": 2.0,\n",
            "      \"max_length\": 142,\n",
            "      \"min_length\": 56,\n",
            "      \"num_beams\": 4\n",
            "    },\n",
            "    \"summarization_xsum\": {\n",
            "      \"length_penalty\": 1.0,\n",
            "      \"max_length\": 62,\n",
            "      \"min_length\": 11,\n",
            "      \"num_beams\": 6\n",
            "    }\n",
            "  },\n",
            "  \"torch_dtype\": \"float32\",\n",
            "  \"transformers_version\": \"4.38.2\",\n",
            "  \"use_cache\": true,\n",
            "  \"vocab_size\": 50265\n",
            "}\n",
            "\n"
          ]
        }
      ]
    },
    {
      "cell_type": "markdown",
      "source": [
        "Note que:\n",
        "\n",
        "    Aparentemente não mudou nada, mas a ideia principal aqui é que\n",
        "    você pode acessar o modelo pelos seus checkpoint, ou pela classe.\n",
        "    E isso é uma mudança sutil, mas, de forma mais profunda, isso pode\n",
        "    alterar algumas coisas, acredito eu.\n",
        "\n",
        "    Dito isso, podemos também construir o modelo repois da instância de\n",
        "    configuração, o que pode ser muito útil em alguns casos."
      ],
      "metadata": {
        "id": "3w9CdlQGgpYh"
      }
    },
    {
      "cell_type": "markdown",
      "source": [
        "Vale ressaltar:\n",
        "\n",
        "    Como você viu anteriormente, poderíamos substituir BertModel pela\n",
        "    classe equivalente AutoModel. Faremos isso daqui para frente, já que\n",
        "    isso produz código independente do ponto de verificação; se o seu código\n",
        "    funcionar para um ponto de verificação, ele deverá funcionar sem problemas\n",
        "    com outro. Isso se aplica mesmo se a arquitetura for diferente, contanto\n",
        "    que o ponto de verificação tenha sido treinado para uma tarefa similar\n",
        "    (por exemplo, uma tarefa de análise de sentimento).\n",
        "\n",
        "    No exemplo de código acima, não utilizamos BertConfig e, em vez disso,\n",
        "    carregamos um modelo pré-treinado via identificador bert-base-cased. Este\n",
        "    é um ponto de verificação do modelo que foi treinado pelos próprios autores\n",
        "    do BERT; você pode encontrar mais detalhes sobre ele em seu cartão de modelo.\n",
        "\n",
        "    Este modelo agora está inicializado com todos os pesos do ponto de\n",
        "    verificação. Ele pode ser usado diretamente para inferência nas tarefas\n",
        "    para as quais foi treinado e também pode ser ajustado fino para uma nova\n",
        "    tarefa. Ao treinar com pesos pré-treinados em vez de do zero, podemos obter\n",
        "    rapidamente bons resultados.\n",
        "\n",
        "    Os pesos foram baixados e armazenados em cache (portanto, chamadas futuras\n",
        "    ao método from_pretrained() não os baixarão novamente) na pasta de cache,\n",
        "    que é padrão para ~/.cache/huggingface/transformers. Você pode personalizar\n",
        "    sua pasta de cache definindo a variável de ambiente HF_HOME.\n",
        "\n",
        "    O identificador usado para carregar o modelo pode ser o identificador de\n",
        "    qualquer modelo no Model Hub, desde que seja compatível com a arquitetura\n",
        "    BERT. A lista completa de pontos de verificação BERT disponíveis pode ser\n",
        "    encontrada aqui."
      ],
      "metadata": {
        "id": "BVykpLac3fk9"
      }
    },
    {
      "cell_type": "markdown",
      "source": [
        "# Métodos de Salvamento:\n",
        "\n",
        "    Salvar um modelo é tão fácil quanto carregar um — usamos o método\n",
        "    save_pretrained(), que é análogo ao método from_pretrained():"
      ],
      "metadata": {
        "id": "47ljkGmH_kqK"
      }
    },
    {
      "cell_type": "code",
      "source": [
        "def nFolder(name):\n",
        "  '''\n",
        "    Função que cria uma pasta para acomodar\n",
        "  os arquivos. Não que haja necessidade, mas\n",
        "  só para ficar bem organizado a coisa.\n",
        "  '''\n",
        "\n",
        "  # Importando dependência:\n",
        "  import os\n",
        "\n",
        "  # Diretório (aqui usarei só a pasta):\n",
        "  pasta = name\n",
        "\n",
        "  # Verifique se o caminho não existe antes de criar\n",
        "  if not os.path.exists(pasta):\n",
        "      os.mkdir(pasta)\n",
        "      print(\"Pasta criada com sucesso!\")\n",
        "  else:\n",
        "      print(\"A pasta já existe.\")\n",
        "\n",
        "  return name"
      ],
      "metadata": {
        "id": "N3U8tDQOGMfU"
      },
      "execution_count": 55,
      "outputs": []
    },
    {
      "cell_type": "markdown",
      "source": [
        "**pytorch**"
      ],
      "metadata": {
        "id": "5qk6B9jVF5eR"
      }
    },
    {
      "cell_type": "code",
      "source": [
        "# Criando pasta:\n",
        "pasta_torch = nFolder('models_torch')"
      ],
      "metadata": {
        "colab": {
          "base_uri": "https://localhost:8080/"
        },
        "id": "urbR9xdQHLFs",
        "outputId": "0f8c15cd-4317-4dce-f782-8cd0c69c9858"
      },
      "execution_count": 56,
      "outputs": [
        {
          "output_type": "stream",
          "name": "stdout",
          "text": [
            "Pasta criada com sucesso!\n"
          ]
        }
      ]
    },
    {
      "cell_type": "code",
      "source": [
        "# Salvando o modelo:\n",
        "model_torch.save_pretrained(pasta_torch)"
      ],
      "metadata": {
        "id": "p588BQCR3MCy"
      },
      "execution_count": 57,
      "outputs": []
    },
    {
      "cell_type": "markdown",
      "source": [
        "**Tensorflow**"
      ],
      "metadata": {
        "id": "1gK6alXGHhUV"
      }
    },
    {
      "cell_type": "code",
      "source": [
        "# Criando pasta:\n",
        "pasta_torch = nFolder('models_tf')"
      ],
      "metadata": {
        "colab": {
          "base_uri": "https://localhost:8080/"
        },
        "id": "nbJlqA9RGEZi",
        "outputId": "8872a210-dea3-4b70-cdbb-ac0e04f079c0"
      },
      "execution_count": 58,
      "outputs": [
        {
          "output_type": "stream",
          "name": "stdout",
          "text": [
            "Pasta criada com sucesso!\n"
          ]
        }
      ]
    },
    {
      "cell_type": "code",
      "source": [
        "# Salvando o modelo:\n",
        "bert_tf.save_pretrained(pasta_torch)"
      ],
      "metadata": {
        "id": "iqwYSP2dHl7i"
      },
      "execution_count": 59,
      "outputs": []
    },
    {
      "cell_type": "markdown",
      "source": [
        "\n",
        "    Se dermos uma olhada no arquivo config.json, podemos reconhecer\n",
        "    os atributos necessários para construir a arquitetura do modelo.\n",
        "    Este arquivo também contém alguns metadados, como de onde o ponto\n",
        "    de verificação se originou e qual versão do 🤗 Transformers você\n",
        "    estava usando quando salvou o ponto de verificação pela última vez.\n",
        "  \n",
        "No caso do pytorch:\n",
        "\n",
        "    O arquivo pytorch_model.bin é conhecido como dicionário de estado;\n",
        "    ele contém todos os pesos do seu modelo. Os dois arquivos andam de\n",
        "    mãos dadas; a configuração é necessária para conhecer a arquitetura\n",
        "    do seu modelo, enquanto os pesos do modelo são os parâmetros do seu modelo.\n",
        "\n",
        "No caso do tensorflow:\n",
        "\n",
        "    O arquivo tf_model.h5 é conhecido como dicionário de estado; ele\n",
        "    contém todos os pesos do seu modelo. Os dois arquivos andam de mãos\n",
        "    dadas; a configuração é necessária para conhecer a arquitetura do\n",
        "    seu modelo, enquanto os pesos do modelo são os parâmetros do seu modelo."
      ],
      "metadata": {
        "id": "3q-pymOMI3eO"
      }
    },
    {
      "cell_type": "markdown",
      "source": [
        "# Usando um modelo Transformer para inferência:\n",
        "\n",
        "\n",
        "    Agora que sabemos como carregar e salvar um modelo, vamos tentar\n",
        "    usá-lo para fazer algumas previsões. Modelos de transformadores só\n",
        "    podem processar números - números que o tokenizador gera. Mas antes\n",
        "    de discutirmos os tokenizadores, vamos explorar quais entradas o\n",
        "    modelo aceita.\n",
        "\n",
        "    Os tokenizadores podem cuidar de converter as entradas para os\n",
        "    tensores adequados do framework, mas para ajudá-lo a entender o que\n",
        "    está acontecendo, daremos uma rápida olhada no que deve ser feito\n",
        "    antes de enviar as entradas para o modelo."
      ],
      "metadata": {
        "id": "NPrf8aDUIRUW"
      }
    },
    {
      "cell_type": "markdown",
      "source": [
        "## Preparando o encoder:\n",
        "\n",
        "    A ideia aqui é só dar uma palinha do funcionamento do processo,\n",
        "    vamos atacar de fato essa parte dos tokenizadores no proximo\n",
        "    modulo, cuja é especificamente para isso."
      ],
      "metadata": {
        "id": "vcIf3lPXLkz0"
      }
    },
    {
      "cell_type": "code",
      "source": [
        "# Sequencias utilizadas:\n",
        "sequences = [\"Hello!\", \"Cool.\", \"Nice!\"]"
      ],
      "metadata": {
        "id": "Qkhjl7bXHxxK"
      },
      "execution_count": 74,
      "outputs": []
    },
    {
      "cell_type": "markdown",
      "source": [
        "    O tokenizer converte as sequencias em índices de vocabulário que\n",
        "    normalmente são chamados de IDs de entrada. Cada sequência agora\n",
        "    é uma lista de números! A saída resultante é:"
      ],
      "metadata": {
        "id": "WfJBu3MHJh4F"
      }
    },
    {
      "cell_type": "code",
      "source": [
        "# Resultado do Tokenizador:\n",
        "encoded_sequences = [\n",
        "    [101, 7592, 999, 102],\n",
        "    [101, 4658, 1012, 102],\n",
        "    [101, 3835, 999, 102],\n",
        "]"
      ],
      "metadata": {
        "id": "bkZPZkJSJeeD"
      },
      "execution_count": 61,
      "outputs": []
    },
    {
      "cell_type": "markdown",
      "source": [
        "    Esta é uma lista de sequências codificadas: uma lista de listas.\n",
        "    Tensores aceitam apenas formas retangulares (pense em matrizes).\n",
        "    Este \"array\" já está em forma retangular, então convertê-lo em um\n",
        "    tensor é fácil:\n",
        "\n",
        "\n",
        "\n",
        "\n",
        "\n"
      ],
      "metadata": {
        "id": "mmwADVqLJzJ1"
      }
    },
    {
      "cell_type": "markdown",
      "source": [
        "**pytorch**"
      ],
      "metadata": {
        "id": "rGILqde5J3it"
      }
    },
    {
      "cell_type": "code",
      "source": [
        "# Importando dependências:\n",
        "import torch"
      ],
      "metadata": {
        "id": "1Y5wEmP1J89R"
      },
      "execution_count": 62,
      "outputs": []
    },
    {
      "cell_type": "code",
      "source": [
        "def print_features(array):\n",
        "  '''\n",
        "    A saída do tensorflow é um pouco mais\n",
        "  bem explicada que a do pytorch, então a\n",
        "  ideia dessa função aqui é resolver esse\n",
        "  problema criando um print especial.\n",
        "  '''\n",
        "\n",
        "  # Extraindo informações:\n",
        "  shape_tensor = array.shape # Extraindo shape\n",
        "  tipo_obj = type(array) # Extraindo tipologia do objeto:\n",
        "\n",
        "  # Prints:\n",
        "  print(tipo_obj)\n",
        "  print(array,shape_tensor)"
      ],
      "metadata": {
        "id": "mdHl4nAiKaBS"
      },
      "execution_count": 72,
      "outputs": []
    },
    {
      "cell_type": "code",
      "source": [
        "# Convertendo a matrix em objeto(tensor) do pytorch:\n",
        "model_inputs_pt = torch.tensor(encoded_sequences);print_features(model_inputs_pt)"
      ],
      "metadata": {
        "colab": {
          "base_uri": "https://localhost:8080/"
        },
        "id": "DLwncAOJJuvr",
        "outputId": "d791f2fa-565d-47b9-cfad-da66beb6408e"
      },
      "execution_count": 73,
      "outputs": [
        {
          "output_type": "stream",
          "name": "stdout",
          "text": [
            "<class 'torch.Tensor'>\n",
            "tensor([[ 101, 7592,  999,  102],\n",
            "        [ 101, 4658, 1012,  102],\n",
            "        [ 101, 3835,  999,  102]]) torch.Size([3, 4])\n"
          ]
        }
      ]
    },
    {
      "cell_type": "code",
      "source": [
        "# Importando dependências:\n",
        "import tensorflow as tf"
      ],
      "metadata": {
        "id": "X4JxO2nfKBTj"
      },
      "execution_count": 65,
      "outputs": []
    },
    {
      "cell_type": "code",
      "source": [
        "# Convertendo a matrix em objeto(tensor) do tensorflow:\n",
        "model_inputs_tf = tf.constant(encoded_sequences);model_inputs_tf"
      ],
      "metadata": {
        "colab": {
          "base_uri": "https://localhost:8080/"
        },
        "id": "x7aXFd7zKHbK",
        "outputId": "537619ef-4221-46d3-f3c5-6a44cccff277"
      },
      "execution_count": 66,
      "outputs": [
        {
          "output_type": "execute_result",
          "data": {
            "text/plain": [
              "<tf.Tensor: shape=(3, 4), dtype=int32, numpy=\n",
              "array([[ 101, 7592,  999,  102],\n",
              "       [ 101, 4658, 1012,  102],\n",
              "       [ 101, 3835,  999,  102]], dtype=int32)>"
            ]
          },
          "metadata": {},
          "execution_count": 66
        }
      ]
    },
    {
      "cell_type": "markdown",
      "source": [
        "## Usando os tensores como entradas para o modelo:\n",
        "\n",
        "    Fazer uso dos tensores com o modelo é extremamente\n",
        "    simples — apenas chamamos o modelo com as entradas:\n"
      ],
      "metadata": {
        "id": "7o8kQYyiLegB"
      }
    },
    {
      "cell_type": "markdown",
      "source": [
        "**Pytorch**"
      ],
      "metadata": {
        "id": "A6M0EeIRLyE3"
      }
    },
    {
      "cell_type": "code",
      "source": [
        "# Gerando a Saída:\n",
        "output_pt = model_torch(model_inputs_pt);output_pt"
      ],
      "metadata": {
        "colab": {
          "base_uri": "https://localhost:8080/"
        },
        "id": "ht3HOirqKRqj",
        "outputId": "218e53d1-a3df-43a8-b476-b7f173ab913a"
      },
      "execution_count": 77,
      "outputs": [
        {
          "output_type": "execute_result",
          "data": {
            "text/plain": [
              "BaseModelOutputWithPoolingAndCrossAttentions(last_hidden_state=tensor([[[ 2.0599,  0.0356,  1.6738,  ...,  0.2644, -1.0605,  0.1328],\n",
              "         [ 0.6770, -0.7025,  0.8816,  ...,  0.4333, -0.5927,  0.9702],\n",
              "         [-0.0974, -0.1539,  0.4939,  ..., -0.7967, -0.9248,  0.4247],\n",
              "         [ 0.2922, -0.7723,  1.7519,  ..., -0.6368, -0.4844, -0.4151]],\n",
              "\n",
              "        [[ 1.1505, -0.7288,  1.6206,  ..., -0.1385, -1.1165,  0.0340],\n",
              "         [-0.7694, -0.8466,  1.4340,  ...,  0.5844, -0.8076, -0.2701],\n",
              "         [-0.4427, -0.8952,  1.2373,  ..., -0.0314, -1.4024, -0.2163],\n",
              "         [-0.5743, -1.6076,  1.4926,  ..., -0.1637, -0.1491,  0.3057]],\n",
              "\n",
              "        [[ 1.2614, -0.4132,  1.5417,  ...,  0.8658, -0.7897,  0.9500],\n",
              "         [-0.5109, -0.6718,  0.3202,  ..., -0.0600, -1.1387, -0.4238],\n",
              "         [ 0.2276, -0.7078,  1.2075,  ..., -0.1907, -0.2499, -0.1402],\n",
              "         [-0.3120, -1.4281,  1.8034,  ..., -0.0838, -0.7863,  0.6349]]],\n",
              "       grad_fn=<NativeLayerNormBackward0>), pooler_output=tensor([[-0.3008, -0.0159, -0.6663,  ...,  0.7170, -0.1043,  0.7168],\n",
              "        [-0.2087, -0.7235, -0.5070,  ...,  0.8492,  0.2474,  0.3916],\n",
              "        [-0.6554, -0.5346, -0.2488,  ...,  0.8099,  0.1318,  0.6689]],\n",
              "       grad_fn=<TanhBackward0>), hidden_states=None, past_key_values=None, attentions=None, cross_attentions=None)"
            ]
          },
          "metadata": {},
          "execution_count": 77
        }
      ]
    },
    {
      "cell_type": "markdown",
      "source": [
        "**Tensorflow**"
      ],
      "metadata": {
        "id": "PXAf_MvvM5xj"
      }
    },
    {
      "cell_type": "code",
      "source": [
        "# Gerando a Saída:\n",
        "output_tf = model_tf(model_inputs_tf);output_tf"
      ],
      "metadata": {
        "colab": {
          "base_uri": "https://localhost:8080/"
        },
        "id": "ozoxAU09McSL",
        "outputId": "f77c9de2-08c9-4305-a9fc-7fb9a0e34cd8"
      },
      "execution_count": 78,
      "outputs": [
        {
          "output_type": "execute_result",
          "data": {
            "text/plain": [
              "TFBaseModelOutputWithPoolingAndCrossAttentions(last_hidden_state=<tf.Tensor: shape=(3, 4, 768), dtype=float32, numpy=\n",
              "array([[[ 4.94783938e-01,  6.40581310e-01, -3.52354586e-01, ...,\n",
              "          1.30441821e+00,  3.92337292e-01, -7.91517913e-01],\n",
              "        [ 1.85526274e-02, -5.47876477e-01,  9.65177834e-01, ...,\n",
              "          8.44770312e-01, -2.57452670e-03, -1.58014286e+00],\n",
              "        [-1.17283881e+00,  9.70191181e-01,  5.68226576e-01, ...,\n",
              "          6.41680777e-01,  1.24943800e-01, -5.58642745e-01],\n",
              "        [ 1.10847525e-01,  8.58124375e-01,  4.17652950e-02, ...,\n",
              "          1.84986985e+00,  4.21109349e-01, -4.55341429e-01]],\n",
              "\n",
              "       [[ 5.01373351e-01,  6.90891385e-01, -2.60040820e-01, ...,\n",
              "          1.10315955e+00,  4.17088568e-01, -6.10922217e-01],\n",
              "        [ 7.59497225e-01, -3.71918768e-01,  1.58556890e+00, ...,\n",
              "          7.15949774e-01, -2.32091531e-01, -3.54559422e-01],\n",
              "        [-3.65410089e-01,  2.61021924e+00, -1.07211605e-01, ...,\n",
              "          1.24949658e+00,  3.62020463e-01, -3.69092971e-01],\n",
              "        [ 1.39111236e-01,  1.15701842e+00,  1.35605186e-01, ...,\n",
              "          1.60503185e+00,  6.33563519e-01, -3.07235450e-01]],\n",
              "\n",
              "       [[ 3.55594963e-01,  6.60403371e-01, -3.06177139e-01, ...,\n",
              "          1.39206350e+00,  2.83152580e-01, -6.83020115e-01],\n",
              "        [ 1.20380890e+00, -1.74486697e-01,  1.23728287e+00, ...,\n",
              "         -9.65692401e-02, -2.59648323e-01, -5.14435768e-01],\n",
              "        [-1.20588338e+00,  1.05191350e+00,  5.24396122e-01, ...,\n",
              "          6.32564008e-01,  1.00180529e-01, -5.54643035e-01],\n",
              "        [-3.83489653e-02,  9.61501122e-01,  7.42229894e-02, ...,\n",
              "          1.87347198e+00,  4.81917053e-01, -4.10421640e-01]]],\n",
              "      dtype=float32)>, pooler_output=<tf.Tensor: shape=(3, 768), dtype=float32, numpy=\n",
              "array([[ 0.28806594,  0.1551406 ,  0.3190577 , ..., -0.72542274,\n",
              "         0.7102522 ,  0.13994548],\n",
              "       [ 0.15009867,  0.19845586,  0.4079539 , ..., -0.6500357 ,\n",
              "         0.7293205 ,  0.19073461],\n",
              "       [ 0.4019018 ,  0.08120298,  0.37936568, ..., -0.6898167 ,\n",
              "         0.70701385,  0.21348391]], dtype=float32)>, past_key_values=None, hidden_states=None, attentions=None, cross_attentions=None)"
            ]
          },
          "metadata": {},
          "execution_count": 78
        }
      ]
    },
    {
      "cell_type": "code",
      "source": [
        "# Checando igualdade estrutural entre as saídas:\n",
        "output_tf == output_pt"
      ],
      "metadata": {
        "colab": {
          "base_uri": "https://localhost:8080/"
        },
        "id": "FGe8YekjMmC7",
        "outputId": "86dc8671-967a-4cd3-d6c2-df1f9a5ed855"
      },
      "execution_count": 79,
      "outputs": [
        {
          "output_type": "execute_result",
          "data": {
            "text/plain": [
              "False"
            ]
          },
          "metadata": {},
          "execution_count": 79
        }
      ]
    },
    {
      "cell_type": "code",
      "source": [
        "# Para o tensorflow:\n",
        "for i, array in enumerate(output_tf):\n",
        "  print(array,'->',output_tf[i].shape)"
      ],
      "metadata": {
        "colab": {
          "base_uri": "https://localhost:8080/"
        },
        "id": "EpMoPMrAM98C",
        "outputId": "2ecab3b1-c2df-43fc-da5c-12f67d3f9307"
      },
      "execution_count": 105,
      "outputs": [
        {
          "output_type": "stream",
          "name": "stdout",
          "text": [
            "last_hidden_state -> (3, 4, 768)\n",
            "pooler_output -> (3, 768)\n"
          ]
        }
      ]
    },
    {
      "cell_type": "code",
      "source": [
        "# Para o pytorch:\n",
        "for i, array in enumerate(output_pt):\n",
        "  print(array,'->',output_pt[i].shape)"
      ],
      "metadata": {
        "colab": {
          "base_uri": "https://localhost:8080/"
        },
        "id": "O2Jr1bXpNnbr",
        "outputId": "86237e9d-3952-44d0-fba1-1cabb7e085ca"
      },
      "execution_count": 107,
      "outputs": [
        {
          "output_type": "stream",
          "name": "stdout",
          "text": [
            "last_hidden_state -> torch.Size([3, 4, 768])\n",
            "pooler_output -> torch.Size([3, 768])\n"
          ]
        }
      ]
    },
    {
      "cell_type": "markdown",
      "source": [
        "**Note que:**\n",
        "\n",
        "    Poderiamos simplificar a ideia em: Enquanto last_hidden_state\n",
        "    mantém a representaçãdetalhada de cada token na sequência de\n",
        "    entrada, pooler_output é uma representação agregada da sequência\n",
        "    inteira, geralmente usada para tarefas de classificação. Porém,\n",
        "    se quisermos elaborar melhor, teriamos que:\n",
        "\n",
        "**last_hidden_state:**\n",
        "\n",
        "    Este é o estado oculto final (ou \"hidden state\") gerado após o\n",
        "    modelo processar a entrada. Em termos simples, é a representação\n",
        "    vetorial da sequência de entrada após ser passada pelo modelo.\n",
        "    Cada elemento nessa matriz representa uma palavra ou token na\n",
        "    sequência de entrada, e as dimensões da matriz geralmente são\n",
        "    (batch_size, sequence_length, hidden_size). Aqui, hidden_size\n",
        "    geralmente se refere à dimensão do espaço de representação vetorial,\n",
        "    que pode variar dependendo do modelo específico.\n",
        "\n",
        "**pooler_output:**\n",
        "\n",
        "    Este é o resultado da camada de pooling, geralmente usado em tarefas\n",
        "    de classificação. A camada de pooling é usada para resumir ou\n",
        "    \"piscar\" o último estado oculto em uma representação fixa de tamanho\n",
        "    (hidden_size). Isso é útil para tarefas em que você deseja uma única\n",
        "    representação da sequência inteira para alimentar uma camada de\n",
        "    classificação final. A saída do pooler geralmente é uma representação\n",
        "    agregada da sequência de entrada, e sua forma é tipicamente\n",
        "    (batch_size, hidden_size)."
      ],
      "metadata": {
        "id": "fLXxlC1fPCdk"
      }
    }
  ]
}