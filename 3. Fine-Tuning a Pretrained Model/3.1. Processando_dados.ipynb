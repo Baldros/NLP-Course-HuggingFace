{
  "nbformat": 4,
  "nbformat_minor": 0,
  "metadata": {
    "colab": {
      "provenance": [],
      "collapsed_sections": [
        "zvm7b8REap6j"
      ],
      "authorship_tag": "ABX9TyMc+GRj0zDOnUT3H9R6t4dO",
      "include_colab_link": true
    },
    "kernelspec": {
      "name": "python3",
      "display_name": "Python 3"
    },
    "language_info": {
      "name": "python"
    },
    "widgets": {
      "application/vnd.jupyter.widget-state+json": {
        "58db9f56653b44598ee2aa84c680ab76": {
          "model_module": "@jupyter-widgets/controls",
          "model_name": "HBoxModel",
          "model_module_version": "1.5.0",
          "state": {
            "_dom_classes": [],
            "_model_module": "@jupyter-widgets/controls",
            "_model_module_version": "1.5.0",
            "_model_name": "HBoxModel",
            "_view_count": null,
            "_view_module": "@jupyter-widgets/controls",
            "_view_module_version": "1.5.0",
            "_view_name": "HBoxView",
            "box_style": "",
            "children": [
              "IPY_MODEL_ade2202614254cc09e369e11f8e0bc04",
              "IPY_MODEL_a6394a151faf48c48e3a9eb14d1372c8",
              "IPY_MODEL_5d338df4e09840db8e25e7eb70b692a6"
            ],
            "layout": "IPY_MODEL_726acb77655843c8a937e37a42911b00"
          }
        },
        "ade2202614254cc09e369e11f8e0bc04": {
          "model_module": "@jupyter-widgets/controls",
          "model_name": "HTMLModel",
          "model_module_version": "1.5.0",
          "state": {
            "_dom_classes": [],
            "_model_module": "@jupyter-widgets/controls",
            "_model_module_version": "1.5.0",
            "_model_name": "HTMLModel",
            "_view_count": null,
            "_view_module": "@jupyter-widgets/controls",
            "_view_module_version": "1.5.0",
            "_view_name": "HTMLView",
            "description": "",
            "description_tooltip": null,
            "layout": "IPY_MODEL_7affa5b76f6e429b9947b2a94aee81b6",
            "placeholder": "​",
            "style": "IPY_MODEL_09c1e6a6a3f64459bf8ae6f25d96068b",
            "value": "Map: 100%"
          }
        },
        "a6394a151faf48c48e3a9eb14d1372c8": {
          "model_module": "@jupyter-widgets/controls",
          "model_name": "FloatProgressModel",
          "model_module_version": "1.5.0",
          "state": {
            "_dom_classes": [],
            "_model_module": "@jupyter-widgets/controls",
            "_model_module_version": "1.5.0",
            "_model_name": "FloatProgressModel",
            "_view_count": null,
            "_view_module": "@jupyter-widgets/controls",
            "_view_module_version": "1.5.0",
            "_view_name": "ProgressView",
            "bar_style": "success",
            "description": "",
            "description_tooltip": null,
            "layout": "IPY_MODEL_225b2cf0ca47404490894a95a3933eca",
            "max": 1725,
            "min": 0,
            "orientation": "horizontal",
            "style": "IPY_MODEL_e9b2bd429406486895220ef70891a4d9",
            "value": 1725
          }
        },
        "5d338df4e09840db8e25e7eb70b692a6": {
          "model_module": "@jupyter-widgets/controls",
          "model_name": "HTMLModel",
          "model_module_version": "1.5.0",
          "state": {
            "_dom_classes": [],
            "_model_module": "@jupyter-widgets/controls",
            "_model_module_version": "1.5.0",
            "_model_name": "HTMLModel",
            "_view_count": null,
            "_view_module": "@jupyter-widgets/controls",
            "_view_module_version": "1.5.0",
            "_view_name": "HTMLView",
            "description": "",
            "description_tooltip": null,
            "layout": "IPY_MODEL_766c4b1afb6f468c9ed0e37c65021200",
            "placeholder": "​",
            "style": "IPY_MODEL_8a454ccf2f38403d8f562efe38137a3b",
            "value": " 1725/1725 [00:00&lt;00:00, 2013.17 examples/s]"
          }
        },
        "726acb77655843c8a937e37a42911b00": {
          "model_module": "@jupyter-widgets/base",
          "model_name": "LayoutModel",
          "model_module_version": "1.2.0",
          "state": {
            "_model_module": "@jupyter-widgets/base",
            "_model_module_version": "1.2.0",
            "_model_name": "LayoutModel",
            "_view_count": null,
            "_view_module": "@jupyter-widgets/base",
            "_view_module_version": "1.2.0",
            "_view_name": "LayoutView",
            "align_content": null,
            "align_items": null,
            "align_self": null,
            "border": null,
            "bottom": null,
            "display": null,
            "flex": null,
            "flex_flow": null,
            "grid_area": null,
            "grid_auto_columns": null,
            "grid_auto_flow": null,
            "grid_auto_rows": null,
            "grid_column": null,
            "grid_gap": null,
            "grid_row": null,
            "grid_template_areas": null,
            "grid_template_columns": null,
            "grid_template_rows": null,
            "height": null,
            "justify_content": null,
            "justify_items": null,
            "left": null,
            "margin": null,
            "max_height": null,
            "max_width": null,
            "min_height": null,
            "min_width": null,
            "object_fit": null,
            "object_position": null,
            "order": null,
            "overflow": null,
            "overflow_x": null,
            "overflow_y": null,
            "padding": null,
            "right": null,
            "top": null,
            "visibility": null,
            "width": null
          }
        },
        "7affa5b76f6e429b9947b2a94aee81b6": {
          "model_module": "@jupyter-widgets/base",
          "model_name": "LayoutModel",
          "model_module_version": "1.2.0",
          "state": {
            "_model_module": "@jupyter-widgets/base",
            "_model_module_version": "1.2.0",
            "_model_name": "LayoutModel",
            "_view_count": null,
            "_view_module": "@jupyter-widgets/base",
            "_view_module_version": "1.2.0",
            "_view_name": "LayoutView",
            "align_content": null,
            "align_items": null,
            "align_self": null,
            "border": null,
            "bottom": null,
            "display": null,
            "flex": null,
            "flex_flow": null,
            "grid_area": null,
            "grid_auto_columns": null,
            "grid_auto_flow": null,
            "grid_auto_rows": null,
            "grid_column": null,
            "grid_gap": null,
            "grid_row": null,
            "grid_template_areas": null,
            "grid_template_columns": null,
            "grid_template_rows": null,
            "height": null,
            "justify_content": null,
            "justify_items": null,
            "left": null,
            "margin": null,
            "max_height": null,
            "max_width": null,
            "min_height": null,
            "min_width": null,
            "object_fit": null,
            "object_position": null,
            "order": null,
            "overflow": null,
            "overflow_x": null,
            "overflow_y": null,
            "padding": null,
            "right": null,
            "top": null,
            "visibility": null,
            "width": null
          }
        },
        "09c1e6a6a3f64459bf8ae6f25d96068b": {
          "model_module": "@jupyter-widgets/controls",
          "model_name": "DescriptionStyleModel",
          "model_module_version": "1.5.0",
          "state": {
            "_model_module": "@jupyter-widgets/controls",
            "_model_module_version": "1.5.0",
            "_model_name": "DescriptionStyleModel",
            "_view_count": null,
            "_view_module": "@jupyter-widgets/base",
            "_view_module_version": "1.2.0",
            "_view_name": "StyleView",
            "description_width": ""
          }
        },
        "225b2cf0ca47404490894a95a3933eca": {
          "model_module": "@jupyter-widgets/base",
          "model_name": "LayoutModel",
          "model_module_version": "1.2.0",
          "state": {
            "_model_module": "@jupyter-widgets/base",
            "_model_module_version": "1.2.0",
            "_model_name": "LayoutModel",
            "_view_count": null,
            "_view_module": "@jupyter-widgets/base",
            "_view_module_version": "1.2.0",
            "_view_name": "LayoutView",
            "align_content": null,
            "align_items": null,
            "align_self": null,
            "border": null,
            "bottom": null,
            "display": null,
            "flex": null,
            "flex_flow": null,
            "grid_area": null,
            "grid_auto_columns": null,
            "grid_auto_flow": null,
            "grid_auto_rows": null,
            "grid_column": null,
            "grid_gap": null,
            "grid_row": null,
            "grid_template_areas": null,
            "grid_template_columns": null,
            "grid_template_rows": null,
            "height": null,
            "justify_content": null,
            "justify_items": null,
            "left": null,
            "margin": null,
            "max_height": null,
            "max_width": null,
            "min_height": null,
            "min_width": null,
            "object_fit": null,
            "object_position": null,
            "order": null,
            "overflow": null,
            "overflow_x": null,
            "overflow_y": null,
            "padding": null,
            "right": null,
            "top": null,
            "visibility": null,
            "width": null
          }
        },
        "e9b2bd429406486895220ef70891a4d9": {
          "model_module": "@jupyter-widgets/controls",
          "model_name": "ProgressStyleModel",
          "model_module_version": "1.5.0",
          "state": {
            "_model_module": "@jupyter-widgets/controls",
            "_model_module_version": "1.5.0",
            "_model_name": "ProgressStyleModel",
            "_view_count": null,
            "_view_module": "@jupyter-widgets/base",
            "_view_module_version": "1.2.0",
            "_view_name": "StyleView",
            "bar_color": null,
            "description_width": ""
          }
        },
        "766c4b1afb6f468c9ed0e37c65021200": {
          "model_module": "@jupyter-widgets/base",
          "model_name": "LayoutModel",
          "model_module_version": "1.2.0",
          "state": {
            "_model_module": "@jupyter-widgets/base",
            "_model_module_version": "1.2.0",
            "_model_name": "LayoutModel",
            "_view_count": null,
            "_view_module": "@jupyter-widgets/base",
            "_view_module_version": "1.2.0",
            "_view_name": "LayoutView",
            "align_content": null,
            "align_items": null,
            "align_self": null,
            "border": null,
            "bottom": null,
            "display": null,
            "flex": null,
            "flex_flow": null,
            "grid_area": null,
            "grid_auto_columns": null,
            "grid_auto_flow": null,
            "grid_auto_rows": null,
            "grid_column": null,
            "grid_gap": null,
            "grid_row": null,
            "grid_template_areas": null,
            "grid_template_columns": null,
            "grid_template_rows": null,
            "height": null,
            "justify_content": null,
            "justify_items": null,
            "left": null,
            "margin": null,
            "max_height": null,
            "max_width": null,
            "min_height": null,
            "min_width": null,
            "object_fit": null,
            "object_position": null,
            "order": null,
            "overflow": null,
            "overflow_x": null,
            "overflow_y": null,
            "padding": null,
            "right": null,
            "top": null,
            "visibility": null,
            "width": null
          }
        },
        "8a454ccf2f38403d8f562efe38137a3b": {
          "model_module": "@jupyter-widgets/controls",
          "model_name": "DescriptionStyleModel",
          "model_module_version": "1.5.0",
          "state": {
            "_model_module": "@jupyter-widgets/controls",
            "_model_module_version": "1.5.0",
            "_model_name": "DescriptionStyleModel",
            "_view_count": null,
            "_view_module": "@jupyter-widgets/base",
            "_view_module_version": "1.2.0",
            "_view_name": "StyleView",
            "description_width": ""
          }
        }
      }
    }
  },
  "cells": [
    {
      "cell_type": "markdown",
      "metadata": {
        "id": "view-in-github",
        "colab_type": "text"
      },
      "source": [
        "<a href=\"https://colab.research.google.com/github/Baldros/NLP-Course-HuggingFace/blob/main/3.1.%20Processando_dados.ipynb\" target=\"_parent\"><img src=\"https://colab.research.google.com/assets/colab-badge.svg\" alt=\"Open In Colab\"/></a>"
      ]
    },
    {
      "cell_type": "markdown",
      "source": [
        "# Apresentação:\n",
        "\n",
        "    O processamento de dados é uma etapa fundamental do processo\n",
        "    de construção de uma Inteligência Artificial e precisa-se ter\n",
        "    certo dominio no tópico, sobre tudo quando o assunto é NLP.\n",
        "\n",
        "    O objetivo desse tópico é justamente aprofundar um pouco mais\n",
        "    nas questões de processamento dos dados e começaremos aqui\n",
        "    voltando num dos exemplos do primeiro capítulo do curso."
      ],
      "metadata": {
        "id": "50Xl5zuC3oAt"
      }
    },
    {
      "cell_type": "markdown",
      "source": [
        "# Contextualização do modelo utilizado:\n",
        "\n",
        "**BERT - Bidirectional Encoder Representations from Transformers**\n",
        "\n",
        "    BERT é um modelo de transformadores pré-treinado em um grande corpus\n",
        "    de dados em inglês de maneira auto-supervisionada. Isso significa que\n",
        "    ele foi pré-treinado apenas nos textos brutos, sem nenhum tipo de\n",
        "    rotulação humana (o que é por que ele pode usar muitos dados disponíveis\n",
        "    publicamente) com um processo automático para gerar entradas e rótulos\n",
        "    a partir desses textos.\n",
        "\n",
        "**Objetivos:**\n",
        "\n",
        "    Mais precisamente, ele foi pré-treinado com dois objetivos:\n",
        "\n",
        "    1. Modelagem de linguagem mascarada (MLM): pegando uma sentença, o modelo\n",
        "    aleatoriamente mascara 15% das palavras na entrada, então executa a\n",
        "    sentença mascarada inteira pelo modelo e tem que prever as palavras\n",
        "    mascaradas. Isso é diferente das redes neurais recorrentes (RNNs)\n",
        "    tradicionais que geralmente veem as palavras uma após a outra, ou de\n",
        "    modelos autorregressivos como GPT que internamente mascaram os tokens\n",
        "    futuros. Isso permite que o modelo aprenda uma representação bidirecional\n",
        "    da sentença.\n",
        "\n",
        "    2. Previsão da próxima sentença (NSP): o modelo concatena duas sentenças\n",
        "    mascaradas como entradas durante o pré-treinamento. Às vezes, elas\n",
        "    correspondem a sentenças que estavam uma ao lado da outra no texto\n",
        "    original, às vezes não. O modelo então tem que prever se as duas\n",
        "    sentenças estavam seguindo uma à outra ou não.\n",
        "\n",
        "    Ou seja, o BERT base é capaz de aprender uma representação interna\n",
        "    da língua inglesa que pode ser usada para extrair características\n",
        "    úteis para uma variedade de tarefas downstream, como classificação\n",
        "    de texto, análise de sentimento, resposta a perguntas, entre outras.\n",
        "    Ele é particularmente eficaz devido à sua capacidade de entender o\n",
        "    contexto bidirecional das palavras em uma frase.\n",
        "\n",
        "Fonte: https://huggingface.co/google-bert/bert-base-uncased\n",
        "\n",
        "OBS:\n",
        "\n",
        "    O \"uncased\" do nome do modelo, significa que ele não faz distinção\n",
        "    entre letras maúsculas e minúsculas, como em \"nome\", \"NOME\", por\n",
        "    exemplo. Acho isso importante de se ressaltar, inclusive para o\n",
        "    melhr entendimento do modelo.\n",
        "\n",
        "Entendendo um pouco mais do modelo:\n",
        "\n",
        "1. Experimentações: https://huggingface.co/spaces/exbert-project/exbert\n",
        "\n",
        "2. Artigo: https://arxiv.org/pdf/1810.04805.pdf"
      ],
      "metadata": {
        "id": "8LPUVhQS7UIi"
      }
    },
    {
      "cell_type": "markdown",
      "source": [
        "    Aqui utilizaremos o modelo para checar similaridade entre sentenças.\n",
        "    entender isso é muito importante para entender como os elementos aqui\n",
        "    irão funcionar."
      ],
      "metadata": {
        "id": "h0PzkhWC_Vg6"
      }
    },
    {
      "cell_type": "code",
      "source": [
        "# Checkpoint:\n",
        "checkpoint = \"bert-base-uncased\"\n",
        "\n",
        "# Entradas:\n",
        "sequences = [\n",
        "    \"I've been waiting for a HuggingFace course my whole life.\",\n",
        "    \"This course is amazing!\",\n",
        "]"
      ],
      "metadata": {
        "id": "PNxWDjuJ9W2w"
      },
      "execution_count": 159,
      "outputs": []
    },
    {
      "cell_type": "code",
      "source": [
        "# Importando a classe de tokenização:\n",
        "from transformers import AutoTokenizer"
      ],
      "metadata": {
        "id": "Q1sJm1tOHLRn"
      },
      "execution_count": 160,
      "outputs": []
    },
    {
      "cell_type": "code",
      "source": [
        "# Instanciando tokenizador:\n",
        "tokenizer = AutoTokenizer.from_pretrained(checkpoint)"
      ],
      "metadata": {
        "id": "eXX9G7qFHWjB"
      },
      "execution_count": 161,
      "outputs": []
    },
    {
      "cell_type": "markdown",
      "source": [
        "**Pytorch**"
      ],
      "metadata": {
        "id": "6tldQq7c9LVP"
      }
    },
    {
      "cell_type": "code",
      "source": [
        "# Importando Dependências:\n",
        "import torch\n",
        "from transformers import AdamW, AutoModelForSequenceClassification\n",
        "\n",
        "# Instanciando elementos:\n",
        "model_pt = AutoModelForSequenceClassification.from_pretrained(checkpoint)\n",
        "batch_pt = tokenizer(sequences, padding=True, truncation=True, return_tensors=\"pt\")"
      ],
      "metadata": {
        "colab": {
          "base_uri": "https://localhost:8080/"
        },
        "id": "XDOf7NLbWvn6",
        "outputId": "d096dd27-97b1-41eb-cbbd-a9ed9ac821a7"
      },
      "execution_count": 162,
      "outputs": [
        {
          "output_type": "stream",
          "name": "stderr",
          "text": [
            "Some weights of BertForSequenceClassification were not initialized from the model checkpoint at bert-base-uncased and are newly initialized: ['classifier.bias', 'classifier.weight']\n",
            "You should probably TRAIN this model on a down-stream task to be able to use it for predictions and inference.\n"
          ]
        }
      ]
    },
    {
      "cell_type": "markdown",
      "source": [
        "    Note que a própria biblioteca já alertou que os pesos não\n",
        "    foram inicializados com o modelo e já sugere um trainamento,\n",
        "    ou seja, no nosso caso, um fine-tuning para que o modelo\n",
        "    possa funcionar adequadamete.\n",
        "\n",
        "    Ou seja, a questão de comparar os modelos pos e pré fine-tuning\n",
        "    pode ser que nem se dê pra fazer, porque pode ser que o modelo\n",
        "    nem consiga ser executado sem o fine-tuning.\n",
        "\n",
        "    O que daria pra fazer é pegar esse modelo fine-tunado com a menor\n",
        "    quantidade de entradas possiveis e testar com fine-tunado com mais\n",
        "    entradas. Obviamente o modelo com mais entradas vai funcionar melhor,\n",
        "    mas dá pra tendar fazer algum teste de performance."
      ],
      "metadata": {
        "id": "GJsUa_b4c_WT"
      }
    },
    {
      "cell_type": "code",
      "source": [
        "# Adicionando novo de rótulos:\n",
        "batch_pt[\"labels\"] = torch.tensor([1, 1])\n",
        "\n",
        "# Fine-tuning do modelo:\n",
        "optimizer = AdamW(model_pt.parameters()) # Inicializa o otimizador AdamW (descontinuada) com os parâmetros do modelo\n",
        "loss = model_pt(**batch_pt).loss # Calculando a perda do modelo para o lote de dados (batch) fornecidos\n",
        "loss.backward() # calculando os gradientes dos pesos do modelo com relação à perda\n",
        "optimizer.step() # atualizando os pesos do modelo"
      ],
      "metadata": {
        "colab": {
          "base_uri": "https://localhost:8080/"
        },
        "id": "rZMTqiUkBM9A",
        "outputId": "3316a6f1-071c-4a83-e4d4-6db44b72e258"
      },
      "execution_count": 163,
      "outputs": [
        {
          "output_type": "stream",
          "name": "stderr",
          "text": [
            "/usr/local/lib/python3.10/dist-packages/transformers/optimization.py:429: FutureWarning: This implementation of AdamW is deprecated and will be removed in a future version. Use the PyTorch implementation torch.optim.AdamW instead, or set `no_deprecation_warning=True` to disable this warning\n",
            "  warnings.warn(\n"
          ]
        }
      ]
    },
    {
      "cell_type": "markdown",
      "source": [
        "**Tensorflow**"
      ],
      "metadata": {
        "id": "gqlycmdUWu2C"
      }
    },
    {
      "cell_type": "code",
      "source": [
        "# Dependencias importantes:\n",
        "import tensorflow as tf\n",
        "import numpy as np\n",
        "from transformers import AutoTokenizer, TFAutoModelForSequenceClassification\n",
        "\n",
        "# Instanciando elemetos:\n",
        "model_tf = TFAutoModelForSequenceClassification.from_pretrained(checkpoint)\n",
        "batch_tf = dict(tokenizer(sequences, padding=True, truncation=True, return_tensors=\"tf\")) # Note a diferença"
      ],
      "metadata": {
        "colab": {
          "base_uri": "https://localhost:8080/"
        },
        "id": "rC1f0pOTDJqz",
        "outputId": "df91e38f-41d5-4250-c07c-31260e2aeef8"
      },
      "execution_count": 164,
      "outputs": [
        {
          "output_type": "stream",
          "name": "stderr",
          "text": [
            "All PyTorch model weights were used when initializing TFBertForSequenceClassification.\n",
            "\n",
            "Some weights or buffers of the TF 2.0 model TFBertForSequenceClassification were not initialized from the PyTorch model and are newly initialized: ['classifier.weight', 'classifier.bias']\n",
            "You should probably TRAIN this model on a down-stream task to be able to use it for predictions and inference.\n"
          ]
        }
      ]
    },
    {
      "cell_type": "code",
      "source": [
        "# Fine-tuning do modelo:\n",
        "model_tf.compile(optimizer=\"adam\", loss=\"sparse_categorical_crossentropy\")\n",
        "labels = tf.convert_to_tensor([1, 1])\n",
        "model_tf.train_on_batch(batch_tf, labels)"
      ],
      "metadata": {
        "colab": {
          "base_uri": "https://localhost:8080/"
        },
        "id": "2vRZxsASWh9l",
        "outputId": "e5549381-035a-4b9d-8c87-22765615b66f"
      },
      "execution_count": 165,
      "outputs": [
        {
          "output_type": "execute_result",
          "data": {
            "text/plain": [
              "4.172324281626061e-07"
            ]
          },
          "metadata": {},
          "execution_count": 165
        }
      ]
    },
    {
      "cell_type": "markdown",
      "source": [
        "**Conclusão**\n",
        "\n",
        "    É claro, apenas treinar o modelo em duas frases não vai produzir\n",
        "    resultados muito bons. Para obter melhores resultados, você precisará\n",
        "    preparar um conjunto de dados maior.\n",
        "\n",
        "**Nota**\n",
        "\n",
        "    Apesar de executarem o mesmo procedimento, o processo de fine-tuning\n",
        "    entre as duas bibliotecas, pytorch e tensorflow, é bem diferente. Mudando\n",
        "    até a ordem de execução das coisas."
      ],
      "metadata": {
        "id": "ltmA--rvDxPD"
      }
    },
    {
      "cell_type": "markdown",
      "source": [
        "# Datasets para fine-tuning de modelos:\n",
        "\n",
        "    O Hub da Hugging Face não contém apenas modelos; ele também possui vários\n",
        "    conjuntos de dados em muitos idiomas diferentes. Você pode navegar pelos\n",
        "    conjuntos de dados aqui, e recomendamos que você tente carregar e processar\n",
        "    um novo conjunto de dados assim que terminar esta seção (consulte a\n",
        "    documentação geral aqui). Mas por enquanto, vamos nos concentrar no\n",
        "    conjunto de dados MRPC! Este é um dos 10 conjuntos de dados que compõem o\n",
        "    benchmark GLUE, que é um benchmark acadêmico usado para medir o desempenho\n",
        "    de modelos de ML em 10 tarefas diferentes de classificação de texto."
      ],
      "metadata": {
        "id": "9AdpcwXkFccm"
      }
    },
    {
      "cell_type": "code",
      "source": [
        "# Instantando os datasets:\n",
        "!pip install datasets"
      ],
      "metadata": {
        "colab": {
          "base_uri": "https://localhost:8080/"
        },
        "id": "hrSPES3IG7Wi",
        "outputId": "968fdb85-fc02-4a4a-e085-d4c3f673ec6c"
      },
      "execution_count": 166,
      "outputs": [
        {
          "output_type": "stream",
          "name": "stdout",
          "text": [
            "Requirement already satisfied: datasets in /usr/local/lib/python3.10/dist-packages (2.18.0)\n",
            "Requirement already satisfied: filelock in /usr/local/lib/python3.10/dist-packages (from datasets) (3.13.3)\n",
            "Requirement already satisfied: numpy>=1.17 in /usr/local/lib/python3.10/dist-packages (from datasets) (1.25.2)\n",
            "Requirement already satisfied: pyarrow>=12.0.0 in /usr/local/lib/python3.10/dist-packages (from datasets) (14.0.2)\n",
            "Requirement already satisfied: pyarrow-hotfix in /usr/local/lib/python3.10/dist-packages (from datasets) (0.6)\n",
            "Requirement already satisfied: dill<0.3.9,>=0.3.0 in /usr/local/lib/python3.10/dist-packages (from datasets) (0.3.8)\n",
            "Requirement already satisfied: pandas in /usr/local/lib/python3.10/dist-packages (from datasets) (1.5.3)\n",
            "Requirement already satisfied: requests>=2.19.0 in /usr/local/lib/python3.10/dist-packages (from datasets) (2.31.0)\n",
            "Requirement already satisfied: tqdm>=4.62.1 in /usr/local/lib/python3.10/dist-packages (from datasets) (4.66.2)\n",
            "Requirement already satisfied: xxhash in /usr/local/lib/python3.10/dist-packages (from datasets) (3.4.1)\n",
            "Requirement already satisfied: multiprocess in /usr/local/lib/python3.10/dist-packages (from datasets) (0.70.16)\n",
            "Requirement already satisfied: fsspec[http]<=2024.2.0,>=2023.1.0 in /usr/local/lib/python3.10/dist-packages (from datasets) (2023.6.0)\n",
            "Requirement already satisfied: aiohttp in /usr/local/lib/python3.10/dist-packages (from datasets) (3.9.3)\n",
            "Requirement already satisfied: huggingface-hub>=0.19.4 in /usr/local/lib/python3.10/dist-packages (from datasets) (0.20.3)\n",
            "Requirement already satisfied: packaging in /usr/local/lib/python3.10/dist-packages (from datasets) (24.0)\n",
            "Requirement already satisfied: pyyaml>=5.1 in /usr/local/lib/python3.10/dist-packages (from datasets) (6.0.1)\n",
            "Requirement already satisfied: aiosignal>=1.1.2 in /usr/local/lib/python3.10/dist-packages (from aiohttp->datasets) (1.3.1)\n",
            "Requirement already satisfied: attrs>=17.3.0 in /usr/local/lib/python3.10/dist-packages (from aiohttp->datasets) (23.2.0)\n",
            "Requirement already satisfied: frozenlist>=1.1.1 in /usr/local/lib/python3.10/dist-packages (from aiohttp->datasets) (1.4.1)\n",
            "Requirement already satisfied: multidict<7.0,>=4.5 in /usr/local/lib/python3.10/dist-packages (from aiohttp->datasets) (6.0.5)\n",
            "Requirement already satisfied: yarl<2.0,>=1.0 in /usr/local/lib/python3.10/dist-packages (from aiohttp->datasets) (1.9.4)\n",
            "Requirement already satisfied: async-timeout<5.0,>=4.0 in /usr/local/lib/python3.10/dist-packages (from aiohttp->datasets) (4.0.3)\n",
            "Requirement already satisfied: typing-extensions>=3.7.4.3 in /usr/local/lib/python3.10/dist-packages (from huggingface-hub>=0.19.4->datasets) (4.10.0)\n",
            "Requirement already satisfied: charset-normalizer<4,>=2 in /usr/local/lib/python3.10/dist-packages (from requests>=2.19.0->datasets) (3.3.2)\n",
            "Requirement already satisfied: idna<4,>=2.5 in /usr/local/lib/python3.10/dist-packages (from requests>=2.19.0->datasets) (3.6)\n",
            "Requirement already satisfied: urllib3<3,>=1.21.1 in /usr/local/lib/python3.10/dist-packages (from requests>=2.19.0->datasets) (2.0.7)\n",
            "Requirement already satisfied: certifi>=2017.4.17 in /usr/local/lib/python3.10/dist-packages (from requests>=2.19.0->datasets) (2024.2.2)\n",
            "Requirement already satisfied: python-dateutil>=2.8.1 in /usr/local/lib/python3.10/dist-packages (from pandas->datasets) (2.8.2)\n",
            "Requirement already satisfied: pytz>=2020.1 in /usr/local/lib/python3.10/dist-packages (from pandas->datasets) (2023.4)\n",
            "Requirement already satisfied: six>=1.5 in /usr/local/lib/python3.10/dist-packages (from python-dateutil>=2.8.1->pandas->datasets) (1.16.0)\n"
          ]
        }
      ]
    },
    {
      "cell_type": "code",
      "source": [
        "# Importando dataset:\n",
        "from datasets import load_dataset"
      ],
      "metadata": {
        "id": "FtT3qw_eBMvb"
      },
      "execution_count": 167,
      "outputs": []
    },
    {
      "cell_type": "code",
      "source": [
        "# Definindo os dataset:\n",
        "raw_datasets = load_dataset(\"glue\", \"mrpc\");raw_datasets"
      ],
      "metadata": {
        "colab": {
          "base_uri": "https://localhost:8080/"
        },
        "id": "cefz9d-7GrJl",
        "outputId": "8a06b5d0-5496-4515-bfeb-df625f1dbb8e"
      },
      "execution_count": 168,
      "outputs": [
        {
          "output_type": "execute_result",
          "data": {
            "text/plain": [
              "DatasetDict({\n",
              "    train: Dataset({\n",
              "        features: ['sentence1', 'sentence2', 'label', 'idx'],\n",
              "        num_rows: 3668\n",
              "    })\n",
              "    validation: Dataset({\n",
              "        features: ['sentence1', 'sentence2', 'label', 'idx'],\n",
              "        num_rows: 408\n",
              "    })\n",
              "    test: Dataset({\n",
              "        features: ['sentence1', 'sentence2', 'label', 'idx'],\n",
              "        num_rows: 1725\n",
              "    })\n",
              "})"
            ]
          },
          "metadata": {},
          "execution_count": 168
        }
      ]
    },
    {
      "cell_type": "markdown",
      "source": [
        "    Este comando faz o download e armazena em cache o conjunto de dados,\n",
        "    por padrão em ~/.cache/huggingface/datasets. Lembre-se do Capítulo 2\n",
        "    que você pode personalizar sua pasta de cache definindo a variável de\n",
        "    ambiente HF_HOME."
      ],
      "metadata": {
        "id": "EqsJGIh9N_v4"
      }
    },
    {
      "cell_type": "code",
      "source": [
        "# Extraindo informações:\n",
        "qtd_dados = [raw_datasets[key].num_rows for key in raw_datasets.keys()]\n",
        "qtd_features = list(raw_datasets['train'].features.keys()) # Todos os outros conjuntos repetiram o modelo do treino\n",
        "names = list(raw_datasets.keys())\n",
        "\n",
        "# Printando informação:\n",
        "print(\n",
        "    f'''\n",
        "\\033[1mNote:\\033[0m\n",
        "\n",
        "    Como podemos ver, obtemos um objeto DatasetDict que contém o\n",
        "    conjunto de \\033[1m{names[0]}\\033[0m, o conjunto de \\033[1m{names[1]}\\033[0m e o conjunto de \\033[1m{names[2]}\\033[0m.\n",
        "    Cada um deles contém várias colunas (\\033[1m{qtd_features[0]}\\033[0m, \\033[1m{qtd_features[1]}\\033[0m, \\033[1m{qtd_features[2]}\\033[0m e \\033[1m{qtd_features[3]}\\033[0m)\n",
        "    e um número variável de linhas, que são o número de elementos em cada\n",
        "    conjunto (portanto, existem \\033[1m{qtd_dados[0]}\\033[0m pares de frases no conjunto de\n",
        "    treinamento, \\033[1m{qtd_dados[1]}\\033[0m no conjunto de validação e \\033[1m{qtd_dados[2]}\\033[0m no\n",
        "    conjunto de teste).\n",
        "    ''')"
      ],
      "metadata": {
        "colab": {
          "base_uri": "https://localhost:8080/"
        },
        "id": "MCwwDuPfHv2w",
        "outputId": "3a6c46fd-1613-4474-f30f-fddbd5523e3b"
      },
      "execution_count": 169,
      "outputs": [
        {
          "output_type": "stream",
          "name": "stdout",
          "text": [
            "\n",
            "\u001b[1mNote:\u001b[0m\n",
            "\n",
            "    Como podemos ver, obtemos um objeto DatasetDict que contém o\n",
            "    conjunto de \u001b[1mtrain\u001b[0m, o conjunto de \u001b[1mvalidation\u001b[0m e o conjunto de \u001b[1mtest\u001b[0m.\n",
            "    Cada um deles contém várias colunas (\u001b[1msentence1\u001b[0m, \u001b[1msentence2\u001b[0m, \u001b[1mlabel\u001b[0m e \u001b[1midx\u001b[0m)\n",
            "    e um número variável de linhas, que são o número de elementos em cada\n",
            "    conjunto (portanto, existem \u001b[1m3668\u001b[0m pares de frases no conjunto de\n",
            "    treinamento, \u001b[1m408\u001b[0m no conjunto de validação e \u001b[1m1725\u001b[0m no\n",
            "    conjunto de teste).\n",
            "    \n"
          ]
        }
      ]
    },
    {
      "cell_type": "markdown",
      "source": [
        "    Dito isso, podemos acessar o cada par de sentenças do nosso conjunto\n",
        "    de dados para checar e para isso, basta saber como um dicionário funciona."
      ],
      "metadata": {
        "id": "72Zy-Z_KN-Ra"
      }
    },
    {
      "cell_type": "code",
      "source": [
        "raw_datasets[\"train\"][0]"
      ],
      "metadata": {
        "colab": {
          "base_uri": "https://localhost:8080/"
        },
        "id": "1z4Qn8QQMSNc",
        "outputId": "db5fcdf3-aece-463a-c46d-e3b52e2a3126"
      },
      "execution_count": 170,
      "outputs": [
        {
          "output_type": "execute_result",
          "data": {
            "text/plain": [
              "{'sentence1': 'Amrozi accused his brother , whom he called \" the witness \" , of deliberately distorting his evidence .',\n",
              " 'sentence2': 'Referring to him as only \" the witness \" , Amrozi accused his brother of deliberately distorting his evidence .',\n",
              " 'label': 1,\n",
              " 'idx': 0}"
            ]
          },
          "metadata": {},
          "execution_count": 170
        }
      ]
    },
    {
      "cell_type": "code",
      "source": [
        "# Checando mais informações:\n",
        "for i in range(10):\n",
        "  print(f'Sentenças da idx {i}')\n",
        "  print(f\"1º {raw_datasets['train'][i]['sentence1']}\")\n",
        "  print(f\"2º: {raw_datasets['train'][i]['sentence2']}\")\n",
        "  print()"
      ],
      "metadata": {
        "colab": {
          "base_uri": "https://localhost:8080/"
        },
        "id": "93mhB6GQ59BO",
        "outputId": "19d14fe4-b8e0-457c-bc93-3e33d8dcfa9a"
      },
      "execution_count": 171,
      "outputs": [
        {
          "output_type": "stream",
          "name": "stdout",
          "text": [
            "Sentenças da idx 0\n",
            "1º Amrozi accused his brother , whom he called \" the witness \" , of deliberately distorting his evidence .\n",
            "2º: Referring to him as only \" the witness \" , Amrozi accused his brother of deliberately distorting his evidence .\n",
            "\n",
            "Sentenças da idx 1\n",
            "1º Yucaipa owned Dominick 's before selling the chain to Safeway in 1998 for $ 2.5 billion .\n",
            "2º: Yucaipa bought Dominick 's in 1995 for $ 693 million and sold it to Safeway for $ 1.8 billion in 1998 .\n",
            "\n",
            "Sentenças da idx 2\n",
            "1º They had published an advertisement on the Internet on June 10 , offering the cargo for sale , he added .\n",
            "2º: On June 10 , the ship 's owners had published an advertisement on the Internet , offering the explosives for sale .\n",
            "\n",
            "Sentenças da idx 3\n",
            "1º Around 0335 GMT , Tab shares were up 19 cents , or 4.4 % , at A $ 4.56 , having earlier set a record high of A $ 4.57 .\n",
            "2º: Tab shares jumped 20 cents , or 4.6 % , to set a record closing high at A $ 4.57 .\n",
            "\n",
            "Sentenças da idx 4\n",
            "1º The stock rose $ 2.11 , or about 11 percent , to close Friday at $ 21.51 on the New York Stock Exchange .\n",
            "2º: PG & E Corp. shares jumped $ 1.63 or 8 percent to $ 21.03 on the New York Stock Exchange on Friday .\n",
            "\n",
            "Sentenças da idx 5\n",
            "1º Revenue in the first quarter of the year dropped 15 percent from the same period a year earlier .\n",
            "2º: With the scandal hanging over Stewart 's company , revenue the first quarter of the year dropped 15 percent from the same period a year earlier .\n",
            "\n",
            "Sentenças da idx 6\n",
            "1º The Nasdaq had a weekly gain of 17.27 , or 1.2 percent , closing at 1,520.15 on Friday .\n",
            "2º: The tech-laced Nasdaq Composite .IXIC rallied 30.46 points , or 2.04 percent , to 1,520.15 .\n",
            "\n",
            "Sentenças da idx 7\n",
            "1º The DVD-CCA then appealed to the state Supreme Court .\n",
            "2º: The DVD CCA appealed that decision to the U.S. Supreme Court .\n",
            "\n",
            "Sentenças da idx 8\n",
            "1º That compared with $ 35.18 million , or 24 cents per share , in the year-ago period .\n",
            "2º: Earnings were affected by a non-recurring $ 8 million tax benefit in the year-ago period .\n",
            "\n",
            "Sentenças da idx 9\n",
            "1º Shares of Genentech , a much larger company with several products on the market , rose more than 2 percent .\n",
            "2º: Shares of Xoma fell 16 percent in early trade , while shares of Genentech , a much larger company with several products on the market , were up 2 percent .\n",
            "\n"
          ]
        }
      ]
    },
    {
      "cell_type": "markdown",
      "source": [
        "**Importante**\n",
        "\n",
        "    Eu gostaria de pontuar um detalhe que não exatamente muda alguma coisa\n",
        "    aqui, mas que eu acho importante notar... Note que o dado está labelado,\n",
        "    ou seja, aqui nos temos uma situação de aprendizado supervisionado. Em seu\n",
        "    livro, Build a Large Language Model (From Scratch), o autor, Sebastian\n",
        "    Raschka explica que (Imagem abaixo):\n"
      ],
      "metadata": {
        "id": "g1TTl7b4PsNl"
      }
    },
    {
      "cell_type": "code",
      "source": [
        "# Baixando a imagem do livro:\n",
        "!curl -o img.png https://drek4537l1klr.cloudfront.net/raschka/v-5/Figures/01__image005.png"
      ],
      "metadata": {
        "colab": {
          "base_uri": "https://localhost:8080/"
        },
        "id": "npmkaY5hPgPE",
        "outputId": "00716597-b745-4534-d9ef-ab53011ee8ab"
      },
      "execution_count": 172,
      "outputs": [
        {
          "output_type": "stream",
          "name": "stdout",
          "text": [
            "  % Total    % Received % Xferd  Average Speed   Time    Time     Time  Current\n",
            "                                 Dload  Upload   Total   Spent    Left  Speed\n",
            "100 40099  100 40099    0     0  95328      0 --:--:-- --:--:-- --:--:-- 95247\n"
          ]
        }
      ]
    },
    {
      "cell_type": "code",
      "source": [
        "# Importando biblioteca para visualização:\n",
        "import cv2\n",
        "from matplotlib import pyplot as plt\n",
        "\n",
        "# Carregar a imagem:\n",
        "imagem = cv2.imread('img.png', cv2.IMREAD_GRAYSCALE)\n",
        "\n",
        "# Verificar se a imagem foi carregada corretamente\n",
        "if imagem is None:\n",
        "    print(\"Erro ao carregar a imagem. Verifique o caminho da imagem.\")\n",
        "else:\n",
        "    # Mostrar a imagem usando matplotlib\n",
        "    plt.figure(figsize=(12,12))\n",
        "    plt.imshow(imagem, cmap='gray')\n",
        "    plt.text(0.5, 0.5, 'Imagem tirada do livro', ha='center')\n",
        "    plt.axis('off')\n",
        "    plt.show()"
      ],
      "metadata": {
        "colab": {
          "base_uri": "https://localhost:8080/",
          "height": 531
        },
        "id": "tUFxNhYLQrh9",
        "outputId": "4933dd2b-29c1-47de-cb1f-137cd1894a6d"
      },
      "execution_count": 173,
      "outputs": [
        {
          "output_type": "display_data",
          "data": {
            "text/plain": [
              "<Figure size 1200x1200 with 1 Axes>"
            ],
            "image/png": "[encoded data removed]"
          },
          "metadata": {}
        }
      ]
    },
    {
      "cell_type": "markdown",
      "source": [
        "    Ou seja, note que o primeiro treinamento do modelo, chamado pelo autor de\n",
        "    \"modelo fundamental\" ou \"modelo base\", é feito de forma não supervisionada!\n",
        "    (no caso do BERT eles dizem que é feito de forma \"auto-supervisionada\")\n",
        "    Mas o fine-tuning de fato é feito de forma supervisionada, como mostra no\n",
        "    livro. Ou seja, de fato estamos indo de acordo com a literatura vigente.\n",
        "\n",
        "Dito isso:\n",
        "\n",
        "    Podemos ver que os rótulos já são inteiros, então não precisaremos fazer\n",
        "    nenhum pré-processamento lá. Para saber qual inteiro corresponde a qual\n",
        "    rótulo, podemos inspecionar as características do nosso raw_train_dataset.\n",
        "    Isso nos dirá o tipo de cada coluna:"
      ],
      "metadata": {
        "id": "SosRV4B_Ryyw"
      }
    },
    {
      "cell_type": "code",
      "source": [
        "raw_datasets[\"train\"].features"
      ],
      "metadata": {
        "colab": {
          "base_uri": "https://localhost:8080/"
        },
        "id": "O4mZHoX8RhQk",
        "outputId": "39614b8e-b1a9-4cda-91c0-cb61fc7f17b8"
      },
      "execution_count": 174,
      "outputs": [
        {
          "output_type": "execute_result",
          "data": {
            "text/plain": [
              "{'sentence1': Value(dtype='string', id=None),\n",
              " 'sentence2': Value(dtype='string', id=None),\n",
              " 'label': ClassLabel(names=['not_equivalent', 'equivalent'], id=None),\n",
              " 'idx': Value(dtype='int32', id=None)}"
            ]
          },
          "metadata": {},
          "execution_count": 174
        }
      ]
    },
    {
      "cell_type": "markdown",
      "source": [
        "    Nos bastidores, o rótulo é do tipo ClassLabel, e o mapeamento de\n",
        "    inteiros para o nome do rótulo é armazenado na pasta names. O 0\n",
        "    corresponde a not_equivalent, e o 1 corresponde a equivalent."
      ],
      "metadata": {
        "id": "JC1FUbrjWds4"
      }
    },
    {
      "cell_type": "markdown",
      "source": [
        "# Pré-processando o Dataset:\n",
        "\n",
        "    Pré-processar o conjunto de dados, nada mais é que converter o texto\n",
        "    em números para que o modelo possa entender. Como você vimos no capítulo\n",
        "    anterior, isso é feito com um tokenizador. Podemos fornecer ao tokenizador\n",
        "    uma sentença ou uma lista de sentenças, então podemos tokenizar diretamente\n",
        "    todas as primeiras sentenças e todas as segundas sentenças de cada par dessa forma:"
      ],
      "metadata": {
        "id": "Gm-iG18kWqht"
      }
    },
    {
      "cell_type": "markdown",
      "source": [
        "Nota:\n",
        "\n",
        "    Vimos também que o tokenizador utilizado aqui será o mesmo tanto\n",
        "    pytorch quanto para o tensorflow, o que é de grande ajuda."
      ],
      "metadata": {
        "id": "pTV0WJuJXBB9"
      }
    },
    {
      "cell_type": "code",
      "source": [
        "# Importando o tokenizador:\n",
        "from transformers import AutoTokenizer"
      ],
      "metadata": {
        "id": "q-1B-VncXXkq"
      },
      "execution_count": 175,
      "outputs": []
    },
    {
      "cell_type": "markdown",
      "source": [
        "OBS:\n",
        "\n",
        "    A classe AutoTokenizer instancia o tokenizer especificado pelo método\n",
        "    from_pretrained() para cada modelo. Estou pontuando isso só para dizer\n",
        "    que esse tokenizador pode ser uma Rede Neural ou não, a depender do\n",
        "    modelo utilizado.\n",
        "\n",
        "    Nesse caso em específico, o tokenizador aqui não é uma Rede Neural,\n",
        "    por exemplo, dado que o tokenizador do modelo bert é um método de\n",
        "    pré-processamento denominado WordPiece.\n",
        "\n",
        "Fonte: https://huggingface.co/learn/nlp-course/chapter6/6"
      ],
      "metadata": {
        "id": "rd5wm1tdX6ju"
      }
    },
    {
      "cell_type": "code",
      "source": [
        "# Definindo o modelo:\n",
        "checkpoint = \"bert-base-uncased\"\n",
        "\n",
        "# Instanciando o tokenizador:\n",
        "tokenizer = AutoTokenizer.from_pretrained(checkpoint)"
      ],
      "metadata": {
        "id": "grw8jPbtZE2i"
      },
      "execution_count": 176,
      "outputs": []
    },
    {
      "cell_type": "code",
      "source": [
        "# Codificando as sentenças:\n",
        "tokenized_sentences_1 = tokenizer(raw_datasets[\"train\"][\"sentence1\"])\n",
        "tokenized_sentences_2 = tokenizer(raw_datasets[\"train\"][\"sentence2\"])"
      ],
      "metadata": {
        "id": "JGOEUHShWSZs"
      },
      "execution_count": 177,
      "outputs": []
    },
    {
      "cell_type": "markdown",
      "source": [
        "    No entanto, não podemos simplesmente passar duas sequências para o modelo\n",
        "    e obter uma previsão se as duas sentenças são paráfrases ou não. Precisamos\n",
        "    lidar com as duas sequências como um par e aplicar o pré-processamento\n",
        "    apropriado. Felizmente, o tokenizador também pode receber um par de\n",
        "    sequências e prepará-lo da maneira que nosso modelo BERT espera:"
      ],
      "metadata": {
        "id": "pnq7qntYZWox"
      }
    },
    {
      "cell_type": "code",
      "source": [
        "# Entrada para o tokenizador:\n",
        "inputs = tokenizer(\"This is the first sentence.\", \"This is the second one.\")\n",
        "\n",
        "# Checando inputs:\n",
        "for key in inputs.keys():\n",
        "  if key == 'token_type_ids':\n",
        "    print(f'{key}:{inputs[key]} # Os zeros são a parte da primeira sentença')\n",
        "  else:\n",
        "    print(f'{key}:{inputs[key]}')"
      ],
      "metadata": {
        "colab": {
          "base_uri": "https://localhost:8080/"
        },
        "id": "Db5-n1UyZPUV",
        "outputId": "765ae221-e881-4c1b-8f35-c32131955739"
      },
      "execution_count": 178,
      "outputs": [
        {
          "output_type": "stream",
          "name": "stdout",
          "text": [
            "input_ids:[101, 2023, 2003, 1996, 2034, 6251, 1012, 102, 2023, 2003, 1996, 2117, 2028, 1012, 102]\n",
            "token_type_ids:[0, 0, 0, 0, 0, 0, 0, 0, 1, 1, 1, 1, 1, 1, 1] # Os zeros são a parte da primeira sentença\n",
            "attention_mask:[1, 1, 1, 1, 1, 1, 1, 1, 1, 1, 1, 1, 1, 1, 1]\n"
          ]
        }
      ]
    },
    {
      "cell_type": "markdown",
      "source": [
        "token_type_ids:\n",
        "\n",
        "    Nós discutimos as chaves input_ids e attention_mask no Capítulo 2, mas\n",
        "    adiamos a discussão sobre token_type_ids. Neste exemplo, é isso que\n",
        "    informa ao modelo qual parte da entrada é a primeira sentença e qual\n",
        "    é a segunda sentença.\n",
        "\n",
        "Decoder:\n",
        "\n",
        "    Como já vimos também podemos utilizar o decoder para reconstruir a\n",
        "    mensagem em caracteres."
      ],
      "metadata": {
        "id": "wjqjuiopaZt3"
      }
    },
    {
      "cell_type": "code",
      "source": [
        "# Destokenização:\n",
        "list_msg = tokenizer.convert_ids_to_tokens(inputs[\"input_ids\"]);print(list_msg)"
      ],
      "metadata": {
        "colab": {
          "base_uri": "https://localhost:8080/"
        },
        "id": "NhBrRuGUeN7Y",
        "outputId": "51e10739-72eb-4cfe-ab3d-4b8415ebf9ac"
      },
      "execution_count": 179,
      "outputs": [
        {
          "output_type": "stream",
          "name": "stdout",
          "text": [
            "['[CLS]', 'this', 'is', 'the', 'first', 'sentence', '.', '[SEP]', 'this', 'is', 'the', 'second', 'one', '.', '[SEP]']\n"
          ]
        }
      ]
    },
    {
      "cell_type": "markdown",
      "source": [
        "    Note que temos os tokens especiais, então vemos que o modelo espera que\n",
        "    as entradas estejam na forma [CLS] sentença1 [SEP] sentença2 [SEP] quando\n",
        "    há duas sentenças. Alinhando isso com os token_type_ids, temos:"
      ],
      "metadata": {
        "id": "AW0135tXezr9"
      }
    },
    {
      "cell_type": "code",
      "source": [
        "# Imporando pandas para ajudar a visualizar:\n",
        "import pandas as pd"
      ],
      "metadata": {
        "id": "k5ja30i7gFfA"
      },
      "execution_count": 180,
      "outputs": []
    },
    {
      "cell_type": "code",
      "source": [
        "# Comparando token_type_ids com a mensagem destokenizada:\n",
        "pd.concat([pd.DataFrame(list_msg, columns=['msg']),pd.DataFrame(inputs[\"token_type_ids\"], columns=['token_type_ids'])],axis=1)"
      ],
      "metadata": {
        "colab": {
          "base_uri": "https://localhost:8080/",
          "height": 520
        },
        "id": "MMBqp2NafEHg",
        "outputId": "3e0ae252-f14b-4f34-a822-103db1f8703e"
      },
      "execution_count": 181,
      "outputs": [
        {
          "output_type": "execute_result",
          "data": {
            "text/plain": [
              "         msg  token_type_ids\n",
              "0      [CLS]               0\n",
              "1       this               0\n",
              "2         is               0\n",
              "3        the               0\n",
              "4      first               0\n",
              "5   sentence               0\n",
              "6          .               0\n",
              "7      [SEP]               0\n",
              "8       this               1\n",
              "9         is               1\n",
              "10       the               1\n",
              "11    second               1\n",
              "12       one               1\n",
              "13         .               1\n",
              "14     [SEP]               1"
            ],
            "text/html": [
              "\n",
              "  <div id=\"df-b8ce8009-a543-423d-b076-1525536ed6f4\" class=\"colab-df-container\">\n",
              "    <div>\n",
              "<style scoped>\n",
              "    .dataframe tbody tr th:only-of-type {\n",
              "        vertical-align: middle;\n",
              "    }\n",
              "\n",
              "    .dataframe tbody tr th {\n",
              "        vertical-align: top;\n",
              "    }\n",
              "\n",
              "    .dataframe thead th {\n",
              "        text-align: right;\n",
              "    }\n",
              "</style>\n",
              "<table border=\"1\" class=\"dataframe\">\n",
              "  <thead>\n",
              "    <tr style=\"text-align: right;\">\n",
              "      <th></th>\n",
              "      <th>msg</th>\n",
              "      <th>token_type_ids</th>\n",
              "    </tr>\n",
              "  </thead>\n",
              "  <tbody>\n",
              "    <tr>\n",
              "      <th>0</th>\n",
              "      <td>[CLS]</td>\n",
              "      <td>0</td>\n",
              "    </tr>\n",
              "    <tr>\n",
              "      <th>1</th>\n",
              "      <td>this</td>\n",
              "      <td>0</td>\n",
              "    </tr>\n",
              "    <tr>\n",
              "      <th>2</th>\n",
              "      <td>is</td>\n",
              "      <td>0</td>\n",
              "    </tr>\n",
              "    <tr>\n",
              "      <th>3</th>\n",
              "      <td>the</td>\n",
              "      <td>0</td>\n",
              "    </tr>\n",
              "    <tr>\n",
              "      <th>4</th>\n",
              "      <td>first</td>\n",
              "      <td>0</td>\n",
              "    </tr>\n",
              "    <tr>\n",
              "      <th>5</th>\n",
              "      <td>sentence</td>\n",
              "      <td>0</td>\n",
              "    </tr>\n",
              "    <tr>\n",
              "      <th>6</th>\n",
              "      <td>.</td>\n",
              "      <td>0</td>\n",
              "    </tr>\n",
              "    <tr>\n",
              "      <th>7</th>\n",
              "      <td>[SEP]</td>\n",
              "      <td>0</td>\n",
              "    </tr>\n",
              "    <tr>\n",
              "      <th>8</th>\n",
              "      <td>this</td>\n",
              "      <td>1</td>\n",
              "    </tr>\n",
              "    <tr>\n",
              "      <th>9</th>\n",
              "      <td>is</td>\n",
              "      <td>1</td>\n",
              "    </tr>\n",
              "    <tr>\n",
              "      <th>10</th>\n",
              "      <td>the</td>\n",
              "      <td>1</td>\n",
              "    </tr>\n",
              "    <tr>\n",
              "      <th>11</th>\n",
              "      <td>second</td>\n",
              "      <td>1</td>\n",
              "    </tr>\n",
              "    <tr>\n",
              "      <th>12</th>\n",
              "      <td>one</td>\n",
              "      <td>1</td>\n",
              "    </tr>\n",
              "    <tr>\n",
              "      <th>13</th>\n",
              "      <td>.</td>\n",
              "      <td>1</td>\n",
              "    </tr>\n",
              "    <tr>\n",
              "      <th>14</th>\n",
              "      <td>[SEP]</td>\n",
              "      <td>1</td>\n",
              "    </tr>\n",
              "  </tbody>\n",
              "</table>\n",
              "</div>\n",
              "    <div class=\"colab-df-buttons\">\n",
              "\n",
              "  <div class=\"colab-df-container\">\n",
              "    <button class=\"colab-df-convert\" onclick=\"convertToInteractive('df-b8ce8009-a543-423d-b076-1525536ed6f4')\"\n",
              "            title=\"Convert this dataframe to an interactive table.\"\n",
              "            style=\"display:none;\">\n",
              "\n",
              "  <svg xmlns=\"http://www.w3.org/2000/svg\" height=\"24px\" viewBox=\"0 -960 960 960\">\n",
              "    <path d=\"M120-120v-720h720v720H120Zm60-500h600v-160H180v160Zm220 220h160v-160H400v160Zm0 220h160v-160H400v160ZM180-400h160v-160H180v160Zm440 0h160v-160H620v160ZM180-180h160v-160H180v160Zm440 0h160v-160H620v160Z\"/>\n",
              "  </svg>\n",
              "    </button>\n",
              "\n",
              "  <style>\n",
              "    .colab-df-container {\n",
              "      display:flex;\n",
              "      gap: 12px;\n",
              "    }\n",
              "\n",
              "    .colab-df-convert {\n",
              "      background-color: #E8F0FE;\n",
              "      border: none;\n",
              "      border-radius: 50%;\n",
              "      cursor: pointer;\n",
              "      display: none;\n",
              "      fill: #1967D2;\n",
              "      height: 32px;\n",
              "      padding: 0 0 0 0;\n",
              "      width: 32px;\n",
              "    }\n",
              "\n",
              "    .colab-df-convert:hover {\n",
              "      background-color: #E2EBFA;\n",
              "      box-shadow: 0px 1px 2px rgba(60, 64, 67, 0.3), 0px 1px 3px 1px rgba(60, 64, 67, 0.15);\n",
              "      fill: #174EA6;\n",
              "    }\n",
              "\n",
              "    .colab-df-buttons div {\n",
              "      margin-bottom: 4px;\n",
              "    }\n",
              "\n",
              "    [theme=dark] .colab-df-convert {\n",
              "      background-color: #3B4455;\n",
              "      fill: #D2E3FC;\n",
              "    }\n",
              "\n",
              "    [theme=dark] .colab-df-convert:hover {\n",
              "      background-color: #434B5C;\n",
              "      box-shadow: 0px 1px 3px 1px rgba(0, 0, 0, 0.15);\n",
              "      filter: drop-shadow(0px 1px 2px rgba(0, 0, 0, 0.3));\n",
              "      fill: #FFFFFF;\n",
              "    }\n",
              "  </style>\n",
              "\n",
              "    <script>\n",
              "      const buttonEl =\n",
              "        document.querySelector('#df-b8ce8009-a543-423d-b076-1525536ed6f4 button.colab-df-convert');\n",
              "      buttonEl.style.display =\n",
              "        google.colab.kernel.accessAllowed ? 'block' : 'none';\n",
              "\n",
              "      async function convertToInteractive(key) {\n",
              "        const element = document.querySelector('#df-b8ce8009-a543-423d-b076-1525536ed6f4');\n",
              "        const dataTable =\n",
              "          await google.colab.kernel.invokeFunction('convertToInteractive',\n",
              "                                                    [key], {});\n",
              "        if (!dataTable) return;\n",
              "\n",
              "        const docLinkHtml = 'Like what you see? Visit the ' +\n",
              "          '<a target=\"_blank\" href=https://colab.research.google.com/notebooks/data_table.ipynb>data table notebook</a>'\n",
              "          + ' to learn more about interactive tables.';\n",
              "        element.innerHTML = '';\n",
              "        dataTable['output_type'] = 'display_data';\n",
              "        await google.colab.output.renderOutput(dataTable, element);\n",
              "        const docLink = document.createElement('div');\n",
              "        docLink.innerHTML = docLinkHtml;\n",
              "        element.appendChild(docLink);\n",
              "      }\n",
              "    </script>\n",
              "  </div>\n",
              "\n",
              "\n",
              "<div id=\"df-ef0a89dd-d012-44fc-a84c-f3ff4e506697\">\n",
              "  <button class=\"colab-df-quickchart\" onclick=\"quickchart('df-ef0a89dd-d012-44fc-a84c-f3ff4e506697')\"\n",
              "            title=\"Suggest charts\"\n",
              "            style=\"display:none;\">\n",
              "\n",
              "<svg xmlns=\"http://www.w3.org/2000/svg\" height=\"24px\"viewBox=\"0 0 24 24\"\n",
              "     width=\"24px\">\n",
              "    <g>\n",
              "        <path d=\"M19 3H5c-1.1 0-2 .9-2 2v14c0 1.1.9 2 2 2h14c1.1 0 2-.9 2-2V5c0-1.1-.9-2-2-2zM9 17H7v-7h2v7zm4 0h-2V7h2v10zm4 0h-2v-4h2v4z\"/>\n",
              "    </g>\n",
              "</svg>\n",
              "  </button>\n",
              "\n",
              "<style>\n",
              "  .colab-df-quickchart {\n",
              "      --bg-color: #E8F0FE;\n",
              "      --fill-color: #1967D2;\n",
              "      --hover-bg-color: #E2EBFA;\n",
              "      --hover-fill-color: #174EA6;\n",
              "      --disabled-fill-color: #AAA;\n",
              "      --disabled-bg-color: #DDD;\n",
              "  }\n",
              "\n",
              "  [theme=dark] .colab-df-quickchart {\n",
              "      --bg-color: #3B4455;\n",
              "      --fill-color: #D2E3FC;\n",
              "      --hover-bg-color: #434B5C;\n",
              "      --hover-fill-color: #FFFFFF;\n",
              "      --disabled-bg-color: #3B4455;\n",
              "      --disabled-fill-color: #666;\n",
              "  }\n",
              "\n",
              "  .colab-df-quickchart {\n",
              "    background-color: var(--bg-color);\n",
              "    border: none;\n",
              "    border-radius: 50%;\n",
              "    cursor: pointer;\n",
              "    display: none;\n",
              "    fill: var(--fill-color);\n",
              "    height: 32px;\n",
              "    padding: 0;\n",
              "    width: 32px;\n",
              "  }\n",
              "\n",
              "  .colab-df-quickchart:hover {\n",
              "    background-color: var(--hover-bg-color);\n",
              "    box-shadow: 0 1px 2px rgba(60, 64, 67, 0.3), 0 1px 3px 1px rgba(60, 64, 67, 0.15);\n",
              "    fill: var(--button-hover-fill-color);\n",
              "  }\n",
              "\n",
              "  .colab-df-quickchart-complete:disabled,\n",
              "  .colab-df-quickchart-complete:disabled:hover {\n",
              "    background-color: var(--disabled-bg-color);\n",
              "    fill: var(--disabled-fill-color);\n",
              "    box-shadow: none;\n",
              "  }\n",
              "\n",
              "  .colab-df-spinner {\n",
              "    border: 2px solid var(--fill-color);\n",
              "    border-color: transparent;\n",
              "    border-bottom-color: var(--fill-color);\n",
              "    animation:\n",
              "      spin 1s steps(1) infinite;\n",
              "  }\n",
              "\n",
              "  @keyframes spin {\n",
              "    0% {\n",
              "      border-color: transparent;\n",
              "      border-bottom-color: var(--fill-color);\n",
              "      border-left-color: var(--fill-color);\n",
              "    }\n",
              "    20% {\n",
              "      border-color: transparent;\n",
              "      border-left-color: var(--fill-color);\n",
              "      border-top-color: var(--fill-color);\n",
              "    }\n",
              "    30% {\n",
              "      border-color: transparent;\n",
              "      border-left-color: var(--fill-color);\n",
              "      border-top-color: var(--fill-color);\n",
              "      border-right-color: var(--fill-color);\n",
              "    }\n",
              "    40% {\n",
              "      border-color: transparent;\n",
              "      border-right-color: var(--fill-color);\n",
              "      border-top-color: var(--fill-color);\n",
              "    }\n",
              "    60% {\n",
              "      border-color: transparent;\n",
              "      border-right-color: var(--fill-color);\n",
              "    }\n",
              "    80% {\n",
              "      border-color: transparent;\n",
              "      border-right-color: var(--fill-color);\n",
              "      border-bottom-color: var(--fill-color);\n",
              "    }\n",
              "    90% {\n",
              "      border-color: transparent;\n",
              "      border-bottom-color: var(--fill-color);\n",
              "    }\n",
              "  }\n",
              "</style>\n",
              "\n",
              "  <script>\n",
              "    async function quickchart(key) {\n",
              "      const quickchartButtonEl =\n",
              "        document.querySelector('#' + key + ' button');\n",
              "      quickchartButtonEl.disabled = true;  // To prevent multiple clicks.\n",
              "      quickchartButtonEl.classList.add('colab-df-spinner');\n",
              "      try {\n",
              "        const charts = await google.colab.kernel.invokeFunction(\n",
              "            'suggestCharts', [key], {});\n",
              "      } catch (error) {\n",
              "        console.error('Error during call to suggestCharts:', error);\n",
              "      }\n",
              "      quickchartButtonEl.classList.remove('colab-df-spinner');\n",
              "      quickchartButtonEl.classList.add('colab-df-quickchart-complete');\n",
              "    }\n",
              "    (() => {\n",
              "      let quickchartButtonEl =\n",
              "        document.querySelector('#df-ef0a89dd-d012-44fc-a84c-f3ff4e506697 button');\n",
              "      quickchartButtonEl.style.display =\n",
              "        google.colab.kernel.accessAllowed ? 'block' : 'none';\n",
              "    })();\n",
              "  </script>\n",
              "</div>\n",
              "\n",
              "    </div>\n",
              "  </div>\n"
            ],
            "application/vnd.google.colaboratory.intrinsic+json": {
              "type": "dataframe",
              "summary": "{\n  \"name\": \"pd\",\n  \"rows\": 15,\n  \"fields\": [\n    {\n      \"column\": \"msg\",\n      \"properties\": {\n        \"dtype\": \"string\",\n        \"num_unique_values\": 10,\n        \"samples\": [\n          \"second\",\n          \"this\",\n          \"sentence\"\n        ],\n        \"semantic_type\": \"\",\n        \"description\": \"\"\n      }\n    },\n    {\n      \"column\": \"token_type_ids\",\n      \"properties\": {\n        \"dtype\": \"number\",\n        \"std\": 0,\n        \"min\": 0,\n        \"max\": 1,\n        \"num_unique_values\": 2,\n        \"samples\": [\n          1,\n          0\n        ],\n        \"semantic_type\": \"\",\n        \"description\": \"\"\n      }\n    }\n  ]\n}"
            }
          },
          "metadata": {},
          "execution_count": 181
        }
      ]
    },
    {
      "cell_type": "markdown",
      "source": [
        "    Ou seja, aqui estamos vendo que de fato o valor do token_type_ids\n",
        "    se refere a ou indice da sentença. Show.\n",
        "\n",
        "**E se eu aumentar o numero de sentenças?**\n",
        "\n",
        "    Vamos ver abaixo que o modelo só está preparado para lidar com\n",
        "    a similiaridade entre 2 sentenças apenas, ou seja, se houver a\n",
        "    necessidade de executar a similaridade entre mais que 2 sentenças,\n",
        "    vai ter-se que se buscar uma adaptação."
      ],
      "metadata": {
        "id": "Opyast13iVIC"
      }
    },
    {
      "cell_type": "code",
      "source": [
        "# Tokenizando e convertendo para tokens e token_type_ids para a primeira entrada:\n",
        "inputs1 = tokenizer(\"This is the first sentence.\", \"This is the second one.\")\n",
        "list_msg1 = tokenizer.convert_ids_to_tokens(inputs1[\"input_ids\"])\n",
        "\n",
        "# Tokenizando e convertendo para tokens e token_type_ids para a segunda entrada:\n",
        "inputs2 = tokenizer(\"This is the first sentence.\", \"This is the second one.\",\"This is the third.\",\"This is the forth.\")\n",
        "list_msg2 = tokenizer.convert_ids_to_tokens(inputs2[\"input_ids\"])\n",
        "\n",
        "# Construindo DataFrames para cada entrada do tokenizador:\n",
        "df1 = pd.DataFrame(list_msg1, columns=['msg'])\n",
        "df1['token_type_ids'] = inputs1['token_type_ids']\n",
        "\n",
        "df2 = pd.DataFrame(list_msg2, columns=['msg'])\n",
        "df2['token_type_ids'] = inputs2['token_type_ids']\n",
        "\n",
        "# Verificando se os DataFrames são diferentes:\n",
        "print(df1.equals(df2))"
      ],
      "metadata": {
        "colab": {
          "base_uri": "https://localhost:8080/"
        },
        "id": "0a4da3eLk7tj",
        "outputId": "55c70254-828c-4e7a-ff2e-6acd6b6a4d32"
      },
      "execution_count": 182,
      "outputs": [
        {
          "output_type": "stream",
          "name": "stdout",
          "text": [
            "True\n"
          ]
        }
      ]
    },
    {
      "cell_type": "code",
      "source": [
        "# Checando a informação das duas tokenizações:\n",
        "pd.concat([df1,df2],axis=1) # note como não mudas as tabelas:"
      ],
      "metadata": {
        "colab": {
          "base_uri": "https://localhost:8080/",
          "height": 520
        },
        "id": "O7_AWzSGqQUK",
        "outputId": "35a779ff-f6d6-4ceb-dd35-1a273470cff1"
      },
      "execution_count": 183,
      "outputs": [
        {
          "output_type": "execute_result",
          "data": {
            "text/plain": [
              "         msg  token_type_ids       msg  token_type_ids\n",
              "0      [CLS]               0     [CLS]               0\n",
              "1       this               0      this               0\n",
              "2         is               0        is               0\n",
              "3        the               0       the               0\n",
              "4      first               0     first               0\n",
              "5   sentence               0  sentence               0\n",
              "6          .               0         .               0\n",
              "7      [SEP]               0     [SEP]               0\n",
              "8       this               1      this               1\n",
              "9         is               1        is               1\n",
              "10       the               1       the               1\n",
              "11    second               1    second               1\n",
              "12       one               1       one               1\n",
              "13         .               1         .               1\n",
              "14     [SEP]               1     [SEP]               1"
            ],
            "text/html": [
              "\n",
              "  <div id=\"df-a7eda42a-1d2c-4a6e-bab9-6092bc385464\" class=\"colab-df-container\">\n",
              "    <div>\n",
              "<style scoped>\n",
              "    .dataframe tbody tr th:only-of-type {\n",
              "        vertical-align: middle;\n",
              "    }\n",
              "\n",
              "    .dataframe tbody tr th {\n",
              "        vertical-align: top;\n",
              "    }\n",
              "\n",
              "    .dataframe thead th {\n",
              "        text-align: right;\n",
              "    }\n",
              "</style>\n",
              "<table border=\"1\" class=\"dataframe\">\n",
              "  <thead>\n",
              "    <tr style=\"text-align: right;\">\n",
              "      <th></th>\n",
              "      <th>msg</th>\n",
              "      <th>token_type_ids</th>\n",
              "      <th>msg</th>\n",
              "      <th>token_type_ids</th>\n",
              "    </tr>\n",
              "  </thead>\n",
              "  <tbody>\n",
              "    <tr>\n",
              "      <th>0</th>\n",
              "      <td>[CLS]</td>\n",
              "      <td>0</td>\n",
              "      <td>[CLS]</td>\n",
              "      <td>0</td>\n",
              "    </tr>\n",
              "    <tr>\n",
              "      <th>1</th>\n",
              "      <td>this</td>\n",
              "      <td>0</td>\n",
              "      <td>this</td>\n",
              "      <td>0</td>\n",
              "    </tr>\n",
              "    <tr>\n",
              "      <th>2</th>\n",
              "      <td>is</td>\n",
              "      <td>0</td>\n",
              "      <td>is</td>\n",
              "      <td>0</td>\n",
              "    </tr>\n",
              "    <tr>\n",
              "      <th>3</th>\n",
              "      <td>the</td>\n",
              "      <td>0</td>\n",
              "      <td>the</td>\n",
              "      <td>0</td>\n",
              "    </tr>\n",
              "    <tr>\n",
              "      <th>4</th>\n",
              "      <td>first</td>\n",
              "      <td>0</td>\n",
              "      <td>first</td>\n",
              "      <td>0</td>\n",
              "    </tr>\n",
              "    <tr>\n",
              "      <th>5</th>\n",
              "      <td>sentence</td>\n",
              "      <td>0</td>\n",
              "      <td>sentence</td>\n",
              "      <td>0</td>\n",
              "    </tr>\n",
              "    <tr>\n",
              "      <th>6</th>\n",
              "      <td>.</td>\n",
              "      <td>0</td>\n",
              "      <td>.</td>\n",
              "      <td>0</td>\n",
              "    </tr>\n",
              "    <tr>\n",
              "      <th>7</th>\n",
              "      <td>[SEP]</td>\n",
              "      <td>0</td>\n",
              "      <td>[SEP]</td>\n",
              "      <td>0</td>\n",
              "    </tr>\n",
              "    <tr>\n",
              "      <th>8</th>\n",
              "      <td>this</td>\n",
              "      <td>1</td>\n",
              "      <td>this</td>\n",
              "      <td>1</td>\n",
              "    </tr>\n",
              "    <tr>\n",
              "      <th>9</th>\n",
              "      <td>is</td>\n",
              "      <td>1</td>\n",
              "      <td>is</td>\n",
              "      <td>1</td>\n",
              "    </tr>\n",
              "    <tr>\n",
              "      <th>10</th>\n",
              "      <td>the</td>\n",
              "      <td>1</td>\n",
              "      <td>the</td>\n",
              "      <td>1</td>\n",
              "    </tr>\n",
              "    <tr>\n",
              "      <th>11</th>\n",
              "      <td>second</td>\n",
              "      <td>1</td>\n",
              "      <td>second</td>\n",
              "      <td>1</td>\n",
              "    </tr>\n",
              "    <tr>\n",
              "      <th>12</th>\n",
              "      <td>one</td>\n",
              "      <td>1</td>\n",
              "      <td>one</td>\n",
              "      <td>1</td>\n",
              "    </tr>\n",
              "    <tr>\n",
              "      <th>13</th>\n",
              "      <td>.</td>\n",
              "      <td>1</td>\n",
              "      <td>.</td>\n",
              "      <td>1</td>\n",
              "    </tr>\n",
              "    <tr>\n",
              "      <th>14</th>\n",
              "      <td>[SEP]</td>\n",
              "      <td>1</td>\n",
              "      <td>[SEP]</td>\n",
              "      <td>1</td>\n",
              "    </tr>\n",
              "  </tbody>\n",
              "</table>\n",
              "</div>\n",
              "    <div class=\"colab-df-buttons\">\n",
              "\n",
              "  <div class=\"colab-df-container\">\n",
              "    <button class=\"colab-df-convert\" onclick=\"convertToInteractive('df-a7eda42a-1d2c-4a6e-bab9-6092bc385464')\"\n",
              "            title=\"Convert this dataframe to an interactive table.\"\n",
              "            style=\"display:none;\">\n",
              "\n",
              "  <svg xmlns=\"http://www.w3.org/2000/svg\" height=\"24px\" viewBox=\"0 -960 960 960\">\n",
              "    <path d=\"M120-120v-720h720v720H120Zm60-500h600v-160H180v160Zm220 220h160v-160H400v160Zm0 220h160v-160H400v160ZM180-400h160v-160H180v160Zm440 0h160v-160H620v160ZM180-180h160v-160H180v160Zm440 0h160v-160H620v160Z\"/>\n",
              "  </svg>\n",
              "    </button>\n",
              "\n",
              "  <style>\n",
              "    .colab-df-container {\n",
              "      display:flex;\n",
              "      gap: 12px;\n",
              "    }\n",
              "\n",
              "    .colab-df-convert {\n",
              "      background-color: #E8F0FE;\n",
              "      border: none;\n",
              "      border-radius: 50%;\n",
              "      cursor: pointer;\n",
              "      display: none;\n",
              "      fill: #1967D2;\n",
              "      height: 32px;\n",
              "      padding: 0 0 0 0;\n",
              "      width: 32px;\n",
              "    }\n",
              "\n",
              "    .colab-df-convert:hover {\n",
              "      background-color: #E2EBFA;\n",
              "      box-shadow: 0px 1px 2px rgba(60, 64, 67, 0.3), 0px 1px 3px 1px rgba(60, 64, 67, 0.15);\n",
              "      fill: #174EA6;\n",
              "    }\n",
              "\n",
              "    .colab-df-buttons div {\n",
              "      margin-bottom: 4px;\n",
              "    }\n",
              "\n",
              "    [theme=dark] .colab-df-convert {\n",
              "      background-color: #3B4455;\n",
              "      fill: #D2E3FC;\n",
              "    }\n",
              "\n",
              "    [theme=dark] .colab-df-convert:hover {\n",
              "      background-color: #434B5C;\n",
              "      box-shadow: 0px 1px 3px 1px rgba(0, 0, 0, 0.15);\n",
              "      filter: drop-shadow(0px 1px 2px rgba(0, 0, 0, 0.3));\n",
              "      fill: #FFFFFF;\n",
              "    }\n",
              "  </style>\n",
              "\n",
              "    <script>\n",
              "      const buttonEl =\n",
              "        document.querySelector('#df-a7eda42a-1d2c-4a6e-bab9-6092bc385464 button.colab-df-convert');\n",
              "      buttonEl.style.display =\n",
              "        google.colab.kernel.accessAllowed ? 'block' : 'none';\n",
              "\n",
              "      async function convertToInteractive(key) {\n",
              "        const element = document.querySelector('#df-a7eda42a-1d2c-4a6e-bab9-6092bc385464');\n",
              "        const dataTable =\n",
              "          await google.colab.kernel.invokeFunction('convertToInteractive',\n",
              "                                                    [key], {});\n",
              "        if (!dataTable) return;\n",
              "\n",
              "        const docLinkHtml = 'Like what you see? Visit the ' +\n",
              "          '<a target=\"_blank\" href=https://colab.research.google.com/notebooks/data_table.ipynb>data table notebook</a>'\n",
              "          + ' to learn more about interactive tables.';\n",
              "        element.innerHTML = '';\n",
              "        dataTable['output_type'] = 'display_data';\n",
              "        await google.colab.output.renderOutput(dataTable, element);\n",
              "        const docLink = document.createElement('div');\n",
              "        docLink.innerHTML = docLinkHtml;\n",
              "        element.appendChild(docLink);\n",
              "      }\n",
              "    </script>\n",
              "  </div>\n",
              "\n",
              "\n",
              "<div id=\"df-608ecee6-d00a-40b1-b79c-9feb5c1fdb75\">\n",
              "  <button class=\"colab-df-quickchart\" onclick=\"quickchart('df-608ecee6-d00a-40b1-b79c-9feb5c1fdb75')\"\n",
              "            title=\"Suggest charts\"\n",
              "            style=\"display:none;\">\n",
              "\n",
              "<svg xmlns=\"http://www.w3.org/2000/svg\" height=\"24px\"viewBox=\"0 0 24 24\"\n",
              "     width=\"24px\">\n",
              "    <g>\n",
              "        <path d=\"M19 3H5c-1.1 0-2 .9-2 2v14c0 1.1.9 2 2 2h14c1.1 0 2-.9 2-2V5c0-1.1-.9-2-2-2zM9 17H7v-7h2v7zm4 0h-2V7h2v10zm4 0h-2v-4h2v4z\"/>\n",
              "    </g>\n",
              "</svg>\n",
              "  </button>\n",
              "\n",
              "<style>\n",
              "  .colab-df-quickchart {\n",
              "      --bg-color: #E8F0FE;\n",
              "      --fill-color: #1967D2;\n",
              "      --hover-bg-color: #E2EBFA;\n",
              "      --hover-fill-color: #174EA6;\n",
              "      --disabled-fill-color: #AAA;\n",
              "      --disabled-bg-color: #DDD;\n",
              "  }\n",
              "\n",
              "  [theme=dark] .colab-df-quickchart {\n",
              "      --bg-color: #3B4455;\n",
              "      --fill-color: #D2E3FC;\n",
              "      --hover-bg-color: #434B5C;\n",
              "      --hover-fill-color: #FFFFFF;\n",
              "      --disabled-bg-color: #3B4455;\n",
              "      --disabled-fill-color: #666;\n",
              "  }\n",
              "\n",
              "  .colab-df-quickchart {\n",
              "    background-color: var(--bg-color);\n",
              "    border: none;\n",
              "    border-radius: 50%;\n",
              "    cursor: pointer;\n",
              "    display: none;\n",
              "    fill: var(--fill-color);\n",
              "    height: 32px;\n",
              "    padding: 0;\n",
              "    width: 32px;\n",
              "  }\n",
              "\n",
              "  .colab-df-quickchart:hover {\n",
              "    background-color: var(--hover-bg-color);\n",
              "    box-shadow: 0 1px 2px rgba(60, 64, 67, 0.3), 0 1px 3px 1px rgba(60, 64, 67, 0.15);\n",
              "    fill: var(--button-hover-fill-color);\n",
              "  }\n",
              "\n",
              "  .colab-df-quickchart-complete:disabled,\n",
              "  .colab-df-quickchart-complete:disabled:hover {\n",
              "    background-color: var(--disabled-bg-color);\n",
              "    fill: var(--disabled-fill-color);\n",
              "    box-shadow: none;\n",
              "  }\n",
              "\n",
              "  .colab-df-spinner {\n",
              "    border: 2px solid var(--fill-color);\n",
              "    border-color: transparent;\n",
              "    border-bottom-color: var(--fill-color);\n",
              "    animation:\n",
              "      spin 1s steps(1) infinite;\n",
              "  }\n",
              "\n",
              "  @keyframes spin {\n",
              "    0% {\n",
              "      border-color: transparent;\n",
              "      border-bottom-color: var(--fill-color);\n",
              "      border-left-color: var(--fill-color);\n",
              "    }\n",
              "    20% {\n",
              "      border-color: transparent;\n",
              "      border-left-color: var(--fill-color);\n",
              "      border-top-color: var(--fill-color);\n",
              "    }\n",
              "    30% {\n",
              "      border-color: transparent;\n",
              "      border-left-color: var(--fill-color);\n",
              "      border-top-color: var(--fill-color);\n",
              "      border-right-color: var(--fill-color);\n",
              "    }\n",
              "    40% {\n",
              "      border-color: transparent;\n",
              "      border-right-color: var(--fill-color);\n",
              "      border-top-color: var(--fill-color);\n",
              "    }\n",
              "    60% {\n",
              "      border-color: transparent;\n",
              "      border-right-color: var(--fill-color);\n",
              "    }\n",
              "    80% {\n",
              "      border-color: transparent;\n",
              "      border-right-color: var(--fill-color);\n",
              "      border-bottom-color: var(--fill-color);\n",
              "    }\n",
              "    90% {\n",
              "      border-color: transparent;\n",
              "      border-bottom-color: var(--fill-color);\n",
              "    }\n",
              "  }\n",
              "</style>\n",
              "\n",
              "  <script>\n",
              "    async function quickchart(key) {\n",
              "      const quickchartButtonEl =\n",
              "        document.querySelector('#' + key + ' button');\n",
              "      quickchartButtonEl.disabled = true;  // To prevent multiple clicks.\n",
              "      quickchartButtonEl.classList.add('colab-df-spinner');\n",
              "      try {\n",
              "        const charts = await google.colab.kernel.invokeFunction(\n",
              "            'suggestCharts', [key], {});\n",
              "      } catch (error) {\n",
              "        console.error('Error during call to suggestCharts:', error);\n",
              "      }\n",
              "      quickchartButtonEl.classList.remove('colab-df-spinner');\n",
              "      quickchartButtonEl.classList.add('colab-df-quickchart-complete');\n",
              "    }\n",
              "    (() => {\n",
              "      let quickchartButtonEl =\n",
              "        document.querySelector('#df-608ecee6-d00a-40b1-b79c-9feb5c1fdb75 button');\n",
              "      quickchartButtonEl.style.display =\n",
              "        google.colab.kernel.accessAllowed ? 'block' : 'none';\n",
              "    })();\n",
              "  </script>\n",
              "</div>\n",
              "\n",
              "    </div>\n",
              "  </div>\n"
            ],
            "application/vnd.google.colaboratory.intrinsic+json": {
              "type": "dataframe",
              "summary": "{\n  \"name\": \"pd\",\n  \"rows\": 15,\n  \"fields\": [\n    {\n      \"column\": \"msg\",\n      \"properties\": {\n        \"dtype\": \"string\",\n        \"num_unique_values\": 10,\n        \"samples\": [\n          \"second\",\n          \"this\",\n          \"sentence\"\n        ],\n        \"semantic_type\": \"\",\n        \"description\": \"\"\n      }\n    },\n    {\n      \"column\": \"token_type_ids\",\n      \"properties\": {\n        \"dtype\": \"number\",\n        \"std\": 0,\n        \"min\": 0,\n        \"max\": 1,\n        \"num_unique_values\": 2,\n        \"samples\": [\n          1,\n          0\n        ],\n        \"semantic_type\": \"\",\n        \"description\": \"\"\n      }\n    },\n    {\n      \"column\": \"msg\",\n      \"properties\": {\n        \"dtype\": \"string\",\n        \"num_unique_values\": 10,\n        \"samples\": [\n          \"second\",\n          \"this\"\n        ],\n        \"semantic_type\": \"\",\n        \"description\": \"\"\n      }\n    },\n    {\n      \"column\": \"token_type_ids\",\n      \"properties\": {\n        \"dtype\": \"number\",\n        \"std\": 0,\n        \"min\": 0,\n        \"max\": 1,\n        \"num_unique_values\": 2,\n        \"samples\": [\n          1,\n          0\n        ],\n        \"semantic_type\": \"\",\n        \"description\": \"\"\n      }\n    }\n  ]\n}"
            }
          },
          "metadata": {},
          "execution_count": 183
        }
      ]
    },
    {
      "cell_type": "markdown",
      "source": [
        "**Conclusão**\n",
        "\n",
        "    Note que a classe do AutoTokenizer, instanciado na variavel tonkenizer,\n",
        "    simplesmente ignora as outras sentenças. Isso acontece, porque essa classe\n",
        "    foi construida para lidar com os tokenizadores de TODOS os modelos, ou seja,\n",
        "    a classe aceita tudo... E a entrada é tratada, dado o modelo e seu tokenizer\n",
        "    e a biblioteca transformer simplesmente não comenta nada sobre...\n",
        "\n",
        "    Ou seja, a ideia aqui é reforçar que o usuário da biblioteca conheça a\n",
        "    fundo os modelos que ele está utilizando para entender como eles funcionam,\n",
        "    para conseguir lidar com esse tipo de situação sem perder tempo."
      ],
      "metadata": {
        "id": "OSKIay2Elv4k"
      }
    },
    {
      "cell_type": "markdown",
      "source": [
        "**Como o BERT calcula a similaridade?**\n",
        "\n",
        "    Mesmo buscando sobre, até mesmo no artigo do modelo, eles não\n",
        "    explicam exatamente como o BERT calcularia a similaridade entre\n",
        "    sentenças. O meu palpite é a similaridade de cossenos e é isso\n",
        "    que eu pretendo textar aqui."
      ],
      "metadata": {
        "id": "D71yyyvHoz36"
      }
    },
    {
      "cell_type": "markdown",
      "source": [
        "**pytorch**"
      ],
      "metadata": {
        "id": "6bB15rqkp0tc"
      }
    },
    {
      "cell_type": "code",
      "source": [
        "import numpy as np"
      ],
      "metadata": {
        "id": "m-GqO1zeGqaA"
      },
      "execution_count": 184,
      "outputs": []
    },
    {
      "cell_type": "code",
      "source": [
        "# Tokenizando entradas:\n",
        "inputs_pt= tokenizer(\"This is the first sentence.\", \"This is the second one.\", return_tensors='pt')\n",
        "\n",
        "# Realizando a inferência:\n",
        "outputs_pt = model_pt(**inputs_pt)\n",
        "\n",
        "# Acessando o vetor semantico, resultado da ultima camada:\n",
        "embbeding = outputs_pt[0]\n",
        "\n",
        "print(embbeding) # Ou seja os embbedings"
      ],
      "metadata": {
        "colab": {
          "base_uri": "https://localhost:8080/"
        },
        "id": "gtLIqqZ1ujNx",
        "outputId": "0874fd54-9c0a-4be0-e2b0-c20942a35b12"
      },
      "execution_count": 185,
      "outputs": [
        {
          "output_type": "stream",
          "name": "stdout",
          "text": [
            "tensor([[-0.5069,  0.1286]], grad_fn=<AddmmBackward0>)\n"
          ]
        }
      ]
    },
    {
      "cell_type": "code",
      "source": [
        "# Importando métrica de similaridade:\n",
        "from torch.nn.functional import cosine_similarity\n",
        "\n",
        "# Suponha que `embeddings` seja o tensor que você obteve\n",
        "embeddings = outputs_pt[0]\n",
        "\n",
        "# Dividir os embeddings ao meio para obter os embeddings de cada sentença\n",
        "n = embeddings.shape[1] // 2\n",
        "first_sentence_embeddings = embeddings[:, :n]\n",
        "second_sentence_embeddings = embeddings[:, n:]\n",
        "\n",
        "# Calcular a similaridade de cosseno entre os embeddings das duas sentenças\n",
        "similarity = cosine_similarity(first_sentence_embeddings, second_sentence_embeddings)\n",
        "\n",
        "print(\"Similaridade de cosseno entre as duas sentenças:\", similarity.item())"
      ],
      "metadata": {
        "colab": {
          "base_uri": "https://localhost:8080/"
        },
        "id": "JtW8tDcewA6i",
        "outputId": "83271111-8fed-42b5-ecda-4d02a7c4de70"
      },
      "execution_count": 186,
      "outputs": [
        {
          "output_type": "stream",
          "name": "stdout",
          "text": [
            "Similaridade de cosseno entre as duas sentenças: -1.0\n"
          ]
        }
      ]
    },
    {
      "cell_type": "code",
      "source": [
        "# Acessando os labels:\n",
        "model_pt.config.id2label"
      ],
      "metadata": {
        "colab": {
          "base_uri": "https://localhost:8080/"
        },
        "id": "DZUaDrIcu_dv",
        "outputId": "ae6d0ee8-a94e-43e0-e9e8-194e1d0060b9"
      },
      "execution_count": 187,
      "outputs": [
        {
          "output_type": "execute_result",
          "data": {
            "text/plain": [
              "{0: 'LABEL_0', 1: 'LABEL_1'}"
            ]
          },
          "metadata": {},
          "execution_count": 187
        }
      ]
    },
    {
      "cell_type": "markdown",
      "source": [
        "**Tensorflow**"
      ],
      "metadata": {
        "id": "2zlJ9ED5p2zu"
      }
    },
    {
      "cell_type": "code",
      "source": [
        "# Tokenizando entradas:\n",
        "inputs_tf = tokenizer(\"This is the first sentence.\", \"This is the second one.\", return_tensors='tf')\n",
        "\n",
        "# Realizando a inferência:\n",
        "outputs_tf = model_tf(inputs_tf)\n",
        "\n",
        "# Acessando o vetor semantico, resultado da ultima camada:\n",
        "print(outputs_tf[0])"
      ],
      "metadata": {
        "colab": {
          "base_uri": "https://localhost:8080/"
        },
        "id": "kxUlqbyqsnfy",
        "outputId": "09010d7e-bda6-4d74-cafa-49a5dfecd2ae"
      },
      "execution_count": 188,
      "outputs": [
        {
          "output_type": "stream",
          "name": "stdout",
          "text": [
            "tf.Tensor([[-0.24819224  0.7436232 ]], shape=(1, 2), dtype=float32)\n"
          ]
        }
      ]
    },
    {
      "cell_type": "code",
      "source": [
        "# Importando métrica de similaridade:\n",
        "from sklearn.metrics.pairwise import cosine_similarity\n",
        "\n",
        "# Acessar os embeddings da última camada oculta\n",
        "embeddings = outputs_tf[0]\n",
        "\n",
        "# Separar os embeddings para cada sentença\n",
        "n = embeddings.shape[1] // 2\n",
        "first_sentence_embeddings = embeddings[:, :n]\n",
        "second_sentence_embeddings = embeddings[:, n:]\n",
        "\n",
        "# Calcular a similaridade de cosseno entre os embeddings das duas sentenças\n",
        "similarity = cosine_similarity(first_sentence_embeddings.numpy(), second_sentence_embeddings.numpy())\n",
        "\n",
        "print(\"Similaridade de cosseno entre as duas sentenças:\", similarity.item())"
      ],
      "metadata": {
        "colab": {
          "base_uri": "https://localhost:8080/"
        },
        "id": "imuLIx8Jwau4",
        "outputId": "bb4f2bc3-c608-4480-af84-24d0f046bfe4"
      },
      "execution_count": 189,
      "outputs": [
        {
          "output_type": "stream",
          "name": "stdout",
          "text": [
            "Similaridade de cosseno entre as duas sentenças: -1.0\n"
          ]
        }
      ]
    },
    {
      "cell_type": "code",
      "source": [
        "# Acessando os labels:\n",
        "model_tf.config.id2label"
      ],
      "metadata": {
        "colab": {
          "base_uri": "https://localhost:8080/"
        },
        "id": "dIXweKWitsEy",
        "outputId": "9139b41e-bc10-4edb-e653-e6291bafad24"
      },
      "execution_count": 190,
      "outputs": [
        {
          "output_type": "execute_result",
          "data": {
            "text/plain": [
              "{0: 'LABEL_0', 1: 'LABEL_1'}"
            ]
          },
          "metadata": {},
          "execution_count": 190
        }
      ]
    },
    {
      "cell_type": "markdown",
      "source": [
        "    O método aqui que será utilizado para checar a similaridade de\n",
        "    sentenças, será o modelo BERT utilizado no método pipeline como\n",
        "    text-classification.\n",
        "    \n",
        "    Provavelmente esse não é o melhor jeito de se testar esse tipo de\n",
        "    coisa, mas é como eu consigo fazer no momento."
      ],
      "metadata": {
        "id": "5VfNoGunRPMe"
      }
    },
    {
      "cell_type": "code",
      "source": [
        "from transformers import pipeline\n",
        "\n",
        "# Carregue o pipeline de 'text-classification' com 'bert-base-uncased':\n",
        "text_similarity = pipeline(\"text-classification\", model=checkpoint)\n",
        "\n",
        "# Calcule a similaridade entre as frases\n",
        "similarity_score = text_similarity(\"This is the first sentence.\", \"This is the second one.\")\n",
        "\n",
        "print(\"Similaridade entre as frases:\", similarity_score)"
      ],
      "metadata": {
        "colab": {
          "base_uri": "https://localhost:8080/"
        },
        "id": "AeZU5kJwtKAX",
        "outputId": "fee80b7c-98a7-4840-d71a-456f43dc6383"
      },
      "execution_count": 191,
      "outputs": [
        {
          "output_type": "stream",
          "name": "stderr",
          "text": [
            "Some weights of BertForSequenceClassification were not initialized from the model checkpoint at bert-base-uncased and are newly initialized: ['classifier.bias', 'classifier.weight']\n",
            "You should probably TRAIN this model on a down-stream task to be able to use it for predictions and inference.\n",
            "Ignoring args : ('This is the second one.',)\n"
          ]
        },
        {
          "output_type": "stream",
          "name": "stdout",
          "text": [
            "Similaridade entre as frases: [{'label': 'LABEL_1', 'score': 0.5395547151565552}]\n"
          ]
        }
      ]
    },
    {
      "cell_type": "markdown",
      "source": [
        "**Conclusão**\n",
        "\n",
        "    Continuamos no escuro sobre como o BERT calcula a similaridade entre\n",
        "    sentenças, pelo menos por enquanto, pode ser que mais para frente isso\n",
        "    seja explicado. A conclusão q eu chego é q de fato, ressalvado q o\n",
        "    pipeline talvez seja limitado para testar isso com mais precisão, de\n",
        "    fato não parece ser similaridade de cosseno msm não... Pelo menos não\n",
        "    de forma simple como eu fiz."
      ],
      "metadata": {
        "id": "rZ2oj4Me4BAC"
      }
    },
    {
      "cell_type": "markdown",
      "source": [
        "Dito isso, voltando ao curso...\n",
        "\n",
        "    Como podemos ver, as partes da entrada correspondentes a [CLS] sentença1\n",
        "    [SEP] todas têm um ID de tipo de token 0, enquanto as outras partes,\n",
        "    correspondentes a sentença2 [SEP], todas têm um ID de tipo de token 1.\n",
        "\n",
        "    Observe que se você selecionar um ponto de verificação diferente, você não\n",
        "    necessariamente terá os token_type_ids em suas entradas tokenizadas (por\n",
        "    exemplo, eles não são retornados se você usar um modelo DistilBERT). Eles\n",
        "    só são retornados quando o modelo souber o que fazer com eles, porque os\n",
        "    viu durante seu pré-treinamento.\n",
        "\n",
        "    Aqui, o BERT é pré-treinado com IDs de tipo de token, e além do objetivo\n",
        "    de modelagem de linguagem mascarada que discutimos no Capítulo 1, ele tem\n",
        "    um objetivo adicional chamado previsão de próxima sentença. O objetivo\n",
        "    dessa tarefa é modelar a relação entre pares de sentenças.\n",
        "\n",
        "    Com a previsão de próxima sentença, o modelo recebe pares de sentenças\n",
        "    (com tokens aleatoriamente mascarados) e é solicitado a prever se a segunda\n",
        "    sentença segue a primeira. Para tornar a tarefa não trivial, metade do\n",
        "    tempo as sentenças se seguem no documento original de onde foram extraídas,\n",
        "    e a outra metade do tempo as duas sentenças vêm de dois documentos diferentes.\n",
        "\n",
        "    Em geral, não precisamos nos preocupar se há ou não token_type_ids em suas\n",
        "    entradas tokenizadas: desde que você use o mesmo ponto de verificação para\n",
        "    o tokenizador e o modelo, tudo ficará bem, pois o tokenizador sabe o que\n",
        "    fornecer ao seu modelo.\n",
        "\n",
        "    Agora que vimos como nosso tokenizador pode lidar com um par de sentenças,\n",
        "    podemos usá-lo para tokenizar todo o nosso conjunto de dados: como no\n",
        "    capítulo anterior, podemos alimentar o tokenizador com uma lista de pares\n",
        "    de sentenças, fornecendo-lhe a lista de primeiras sentenças e depois a\n",
        "    lista de segundas sentenças. Isso também é compatível com as opções de\n",
        "    preenchimento e truncamento que vimos no Capítulo 2. Portanto, uma maneira\n",
        "    de pré-processar o conjunto de dados de treinamento é:"
      ],
      "metadata": {
        "id": "zq8OvseCmCcp"
      }
    },
    {
      "cell_type": "code",
      "source": [
        "# Dataset tokenizado\n",
        "tokenized_dataset = tokenizer(\n",
        "    raw_datasets[\"train\"][\"sentence1\"],\n",
        "    raw_datasets[\"train\"][\"sentence2\"],\n",
        "    padding=True,\n",
        "    truncation=True,\n",
        ")"
      ],
      "metadata": {
        "id": "1zG14zkzmpIy"
      },
      "execution_count": 192,
      "outputs": []
    },
    {
      "cell_type": "markdown",
      "source": [
        "    Isso funciona bem, mas tem a desvantagem de retornar um dicionário\n",
        "    (com nossas chaves, input_ids, attention_mask e token_type_ids, e\n",
        "    valores que são listas de listas). Também só funcionará se você tiver\n",
        "    memória RAM suficiente para armazenar todo o seu conjunto de dados\n",
        "    durante a tokenização (enquanto os conjuntos de dados da biblioteca 🤗\n",
        "    Datasets são arquivos Apache Arrow armazenados no disco, então você só\n",
        "    mantém as amostras que solicita carregadas na memória).\n",
        "\n",
        "    Para manter os dados como um conjunto de dados, usaremos o método\n",
        "    Dataset map(). Isso também nos permite alguma flexibilidade adicional,\n",
        "    se precisarmos de mais pré-processamento do que apenas a tokenização.\n",
        "    O método map() funciona aplicando uma função em cada elemento do conjunto\n",
        "    de dados, então vamos definir uma função que tokeniza nossas entradas:"
      ],
      "metadata": {
        "id": "zVFNX_NVm1-h"
      }
    },
    {
      "cell_type": "code",
      "source": [
        "def tokenize_function(example):\n",
        "    return tokenizer(example[\"sentence1\"], example[\"sentence2\"], truncation=True)"
      ],
      "metadata": {
        "id": "6-H4bpnvmxUp"
      },
      "execution_count": 193,
      "outputs": []
    },
    {
      "cell_type": "markdown",
      "source": [
        "    Esta função recebe um dicionário (como os itens do nosso conjunto de dados)\n",
        "    e retorna um novo dicionário com as chaves input_ids, attention_mask e\n",
        "    token_type_ids. Observe que também funciona se o dicionário de exemplo\n",
        "    contiver várias amostras (cada chave como uma lista de sentenças), já\n",
        "    que o tokenizador funciona em listas de pares de sentenças, como visto\n",
        "    anteriormente. Isso nos permitirá usar a opção batched=True em nossa\n",
        "    chamada para map(), o que acelerará muito a tokenização. O tokenizador\n",
        "    é suportado por um tokenizador escrito em Rust da biblioteca 🤗 Tokenizers.\n",
        "    Este tokenizador pode ser muito rápido, mas apenas se dermos muitas entradas de uma vez.\n",
        "\n",
        "    Observe que deixamos o argumento de preenchimento de fora em nossa função\n",
        "    de tokenização por enquanto. Isso ocorre porque preencher todas as amostras\n",
        "    até o comprimento máximo não é eficiente: é melhor preencher as amostras ao\n",
        "    construir um lote, pois então só precisamos preencher até o comprimento\n",
        "    máximo nesse lote e não o comprimento máximo em todo o conjunto de dados.\n",
        "    Isso pode economizar muito tempo e poder de processamento quando as\n",
        "    entradas têm comprimentos muito variáveis!\n",
        "\n",
        "    Aqui está como aplicamos a função de tokenização em todos os nossos\n",
        "    conjuntos de dados de uma vez. Estamos usando batched=True em nossa\n",
        "    chamada para map para que a função seja aplicada a vários elementos de\n",
        "    nosso conjunto de dados de uma vez, e não em cada elemento separadamente.\n",
        "    Isso permite um pré-processamento mais rápido."
      ],
      "metadata": {
        "id": "ODV10RrunEsc"
      }
    },
    {
      "cell_type": "code",
      "source": [
        "tokenized_datasets = raw_datasets.map(tokenize_function, batched=True)\n",
        "tokenized_datasets"
      ],
      "metadata": {
        "id": "iCzdmrSunOqS",
        "colab": {
          "base_uri": "https://localhost:8080/",
          "height": 292,
          "referenced_widgets": [
            "58db9f56653b44598ee2aa84c680ab76",
            "ade2202614254cc09e369e11f8e0bc04",
            "a6394a151faf48c48e3a9eb14d1372c8",
            "5d338df4e09840db8e25e7eb70b692a6",
            "726acb77655843c8a937e37a42911b00",
            "7affa5b76f6e429b9947b2a94aee81b6",
            "09c1e6a6a3f64459bf8ae6f25d96068b",
            "225b2cf0ca47404490894a95a3933eca",
            "e9b2bd429406486895220ef70891a4d9",
            "766c4b1afb6f468c9ed0e37c65021200",
            "8a454ccf2f38403d8f562efe38137a3b"
          ]
        },
        "outputId": "3bab3377-a3b5-430d-c13d-55d98e827499"
      },
      "execution_count": 194,
      "outputs": [
        {
          "output_type": "display_data",
          "data": {
            "text/plain": [
              "Map:   0%|          | 0/1725 [00:00<?, ? examples/s]"
            ],
            "application/vnd.jupyter.widget-view+json": {
              "version_major": 2,
              "version_minor": 0,
              "model_id": "58db9f56653b44598ee2aa84c680ab76"
            }
          },
          "metadata": {}
        },
        {
          "output_type": "execute_result",
          "data": {
            "text/plain": [
              "DatasetDict({\n",
              "    train: Dataset({\n",
              "        features: ['sentence1', 'sentence2', 'label', 'idx', 'input_ids', 'token_type_ids', 'attention_mask'],\n",
              "        num_rows: 3668\n",
              "    })\n",
              "    validation: Dataset({\n",
              "        features: ['sentence1', 'sentence2', 'label', 'idx', 'input_ids', 'token_type_ids', 'attention_mask'],\n",
              "        num_rows: 408\n",
              "    })\n",
              "    test: Dataset({\n",
              "        features: ['sentence1', 'sentence2', 'label', 'idx', 'input_ids', 'token_type_ids', 'attention_mask'],\n",
              "        num_rows: 1725\n",
              "    })\n",
              "})"
            ]
          },
          "metadata": {},
          "execution_count": 194
        }
      ]
    },
    {
      "cell_type": "markdown",
      "source": [
        "    Você até pode usar o multiprocessing ao aplicar sua função de\n",
        "    pré-processamento com map() passando um argumento num_proc. Não\n",
        "    fizemos isso aqui porque a biblioteca 🤗 Tokenizers já usa vários\n",
        "    threads para tokenizar nossas amostras mais rapidamente, mas se você\n",
        "    não estiver usando um tokenizador rápido suportado por esta biblioteca,\n",
        "    isso poderia acelerar seu pré-processamento.\n",
        "\n",
        "    Nossa função tokenize_function retorna um dicionário com as chaves\n",
        "    input_ids, attention_mask e token_type_ids, então esses três campos\n",
        "    são adicionados a todos os splits do nosso conjunto de dados. Observe\n",
        "    que também poderíamos ter alterado campos existentes se nossa função\n",
        "    de pré-processamento retornasse um novo valor para uma chave existente\n",
        "    no conjunto de dados ao qual aplicamos map().\n",
        "\n",
        "    A última coisa que precisaremos fazer é preencher todos os exemplos até\n",
        "    o comprimento do elemento mais longo quando agrupamos elementos juntos,\n",
        "    uma técnica que chamamos de preenchimento dinâmico."
      ],
      "metadata": {
        "id": "XiDs5DrQnaWO"
      }
    },
    {
      "cell_type": "markdown",
      "source": [
        "## Testando o 15 elemento:\n",
        "\n",
        "    O curso dá o desafio de pegar o 15º elemento, vamos ver o que\n",
        "    podemos checar de diferente nesse processo."
      ],
      "metadata": {
        "id": "zvm7b8REap6j"
      }
    },
    {
      "cell_type": "code",
      "source": [
        "# Acessar o elemento 15 do conjunto de treinamento\n",
        "elemento_15 = raw_datasets['train'][15]\n",
        "\n",
        "# Tokenizar as duas sentenças separadamente\n",
        "sentence1_tokens = tokenizer.tokenize(elemento_15['sentence1'])\n",
        "sentence2_tokens = tokenizer.tokenize(elemento_15['sentence2'])\n",
        "\n",
        "# Tokenizar as duas sentenças como um par\n",
        "pair_tokens = tokenizer(elemento_15['sentence1'], elemento_15['sentence2'])\n",
        "\n",
        "# Exibir os resultados\n",
        "print(\"Tokens da primeira sentença:\\n\", sentence1_tokens)\n",
        "print(\"Tokens da segunda sentença:\\n\", sentence2_tokens)\n",
        "print(\"Tokens do par de sentenças:\")\n",
        "\n",
        "# Visualizando:\n",
        "for key in pair_tokens.keys():\n",
        "  print(f'{key}:{inputs[key]}')"
      ],
      "metadata": {
        "id": "MT9Xz8NmZwCL",
        "colab": {
          "base_uri": "https://localhost:8080/"
        },
        "outputId": "599ae6dc-546a-4c6a-c96f-85c85234077a"
      },
      "execution_count": 195,
      "outputs": [
        {
          "output_type": "stream",
          "name": "stdout",
          "text": [
            "Tokens da primeira sentença:\n",
            " ['rudder', 'was', 'most', 'recently', 'senior', 'vice', 'president', 'for', 'the', 'developer', '&', 'platform', 'evan', '##gel', '##ism', 'business', '.']\n",
            "Tokens da segunda sentença:\n",
            " ['senior', 'vice', 'president', 'eric', 'rudder', ',', 'formerly', 'head', 'of', 'the', 'developer', 'and', 'platform', 'evan', '##gel', '##ism', 'unit', ',', 'will', 'lead', 'the', 'new', 'entity', '.']\n",
            "Tokens do par de sentenças:\n",
            "input_ids:[101, 2023, 2003, 1996, 2034, 6251, 1012, 102, 2023, 2003, 1996, 2117, 2028, 1012, 102]\n",
            "token_type_ids:[0, 0, 0, 0, 0, 0, 0, 0, 1, 1, 1, 1, 1, 1, 1]\n",
            "attention_mask:[1, 1, 1, 1, 1, 1, 1, 1, 1, 1, 1, 1, 1, 1, 1]\n"
          ]
        }
      ]
    },
    {
      "cell_type": "markdown",
      "source": [
        "    Não entendi muito bem o que ele gostaria de mostrar\n",
        "    não, os vetores nem são iguais:"
      ],
      "metadata": {
        "id": "-bBFX0e_bQ3a"
      }
    },
    {
      "cell_type": "code",
      "source": [
        "# Checando igualdade dos token_type_ids:\n",
        "print(pair_tokens['token_type_ids'] == inputs['token_type_ids'])\n",
        "print(list(pair_tokens['token_type_ids']) == list(inputs['token_type_ids']))"
      ],
      "metadata": {
        "id": "82zuI0sWauhU",
        "colab": {
          "base_uri": "https://localhost:8080/"
        },
        "outputId": "d2ee2f55-8c40-4230-dd04-ace0bc0e0d27"
      },
      "execution_count": 196,
      "outputs": [
        {
          "output_type": "stream",
          "name": "stdout",
          "text": [
            "False\n",
            "False\n"
          ]
        }
      ]
    },
    {
      "cell_type": "markdown",
      "source": [
        "    Deixa eu dar uma olhada nas sentenaças anteriores:"
      ],
      "metadata": {
        "id": "Cwf1Mbxad-78"
      }
    },
    {
      "cell_type": "code",
      "source": [
        "# Checando a primiera sentença:\n",
        "print(\"Tokens da primeira sentença:\")\n",
        "for key in tokenized_sentences_1.keys():\n",
        "  print(f'{key}: Tamanho = {len(tokenized_sentences_1[key])}')\n",
        "\n",
        "print() # Pulando uma linha entre as senteças\n",
        "\n",
        "# Checando a segunda sentença:\n",
        "print(\"Tokens da segunda sentença:\")\n",
        "for key in tokenized_sentences_2.keys():\n",
        "  print(f'{key}: Tamanho = {len(tokenized_sentences_2[key])}')\n"
      ],
      "metadata": {
        "id": "K9DDeEC0c6TA",
        "colab": {
          "base_uri": "https://localhost:8080/"
        },
        "outputId": "0bee8a4a-5f3a-43b1-a5b2-c04aa4a2e36d"
      },
      "execution_count": 206,
      "outputs": [
        {
          "output_type": "stream",
          "name": "stdout",
          "text": [
            "Tokens da primeira sentença:\n",
            "input_ids:Tamanho = 3668\n",
            "token_type_ids:Tamanho = 3668\n",
            "attention_mask:Tamanho = 3668\n",
            "\n",
            "Tokens da segunda sentença:\n",
            "input_ids:Tamanho = 3668\n",
            "token_type_ids:Tamanho = 3668\n",
            "attention_mask:Tamanho = 3668\n"
          ]
        }
      ]
    },
    {
      "cell_type": "markdown",
      "source": [
        "# Preenchimento dinâmico (Dynamic padding):\n",
        "\n",
        "    Dynamic Padding é uma técnica de pré-processamento de dados usada em\n",
        "    modelos de linguagem de grande escala (LLMs), que consiste em aplicar\n",
        "    preenchimento (padding) de forma dinâmica durante a formação de lotes\n",
        "    (batches). Em vez de ajustar todos os exemplos para ter o mesmo tamanho\n",
        "    antes do treinamento, o preenchimento é aplicado individualmente a cada\n",
        "    lote, igualando o comprimento máximo presente dentro desse lote. Isso\n",
        "    otimiza o uso de memória e acelera o treinamento, especialmente em modelos\n",
        "    que lidam com entradas de comprimentos variáveis. A função responsável\n",
        "    por agrupar amostras dentro de um lote é chamada de função de agrupamento\n",
        "    (collate function)."
      ],
      "metadata": {
        "id": "h9KBoaxeO9IQ"
      }
    },
    {
      "cell_type": "markdown",
      "source": [
        "    Para fazer isso na prática, temos que definir uma função de agrupamento\n",
        "    que aplicará a quantidade correta de preenchimento aos itens do conjunto\n",
        "    de dados que queremos agrupar. Felizmente, a biblioteca 🤗 Transformers\n",
        "    nos fornece uma função assim por meio de DataCollatorWithPadding. Ela\n",
        "    recebe um tokenizador quando você a instancia (para saber qual token\n",
        "    de preenchimento usar e se o modelo espera que o preenchimento esteja\n",
        "    à esquerda ou à direita das entradas) e fará tudo o que você precisa:"
      ],
      "metadata": {
        "id": "VwdIFVnbQWQY"
      }
    },
    {
      "cell_type": "code",
      "source": [
        "# Importando Classe:\n",
        "from transformers import DataCollatorWithPadding"
      ],
      "metadata": {
        "id": "Go75jEoaPRY-"
      },
      "execution_count": 198,
      "outputs": []
    },
    {
      "cell_type": "markdown",
      "source": [
        "    Essa classe funciona para os dois casos, pytorch e tensorflow,\n",
        "    mudando apenas um parâmetro da classe."
      ],
      "metadata": {
        "id": "gmhcecCRQc-V"
      }
    },
    {
      "cell_type": "code",
      "source": [
        "# Instanciando a classe para o pytorch:\n",
        "data_collator_pt = DataCollatorWithPadding(tokenizer=tokenizer)\n",
        "\n",
        "# Instanciando a classe para o tensorflow:\n",
        "data_collator_tf = DataCollatorWithPadding(tokenizer=tokenizer, return_tensors=\"tf\")"
      ],
      "metadata": {
        "id": "VEo6sVq4Qbms"
      },
      "execution_count": 199,
      "outputs": []
    },
    {
      "cell_type": "markdown",
      "source": [
        "**DataCollatorWithPadding**\n",
        "\n",
        "    Esta classe é responsável por aplicar o preenchimento dinâmico aos\n",
        "    exemplos dentro de cada lote (batch), garantindo que todos os exemplos\n",
        "    em um lote (batch) tenham o mesmo comprimento, preenchendo-os com um\n",
        "    token de preenchimento adequado. Isso é essencial quando os exemplos\n",
        "    de entrada têm comprimentos variáveis, pois permite que os modelos\n",
        "    processem os lotes (batch) de maneira eficiente e sem problemas de\n",
        "    dimensões desiguais.\n",
        "    \n",
        "    O DataCollatorWithPadding é configurado com um tokenizador específico\n",
        "    para garantir a consistência entre os tokens de preenchimento e os\n",
        "    tokens usados durante a tokenização dos dados de entrada."
      ],
      "metadata": {
        "id": "L8nWZcM7RBsZ"
      }
    },
    {
      "cell_type": "markdown",
      "source": [
        "**pytorch**\n",
        "\n",
        "    Para o pytorch, o agrupador é um argumento que você pode passar\n",
        "    ao construir um DataLoader, sendo o padrão uma função que simplesmente\n",
        "    converte suas amostras em tensores do PyTorch e as concatena (de forma\n",
        "    recursiva se seus elementos forem listas, tuplas ou dicionários). Isso\n",
        "    não será possível no nosso caso, pois as entradas que temos não serão\n",
        "    todas do mesmo tamanho. Deliberadamente, adiamos o preenchimento para\n",
        "    aplicá-lo apenas conforme necessário em cada lote e evitar ter entradas\n",
        "    muito longas com muito preenchimento. Isso acelerará bastante o\n",
        "    treinamento, mas observe que se estiver treinando em uma TPU, pode\n",
        "    causar problemas - as TPUs preferem formas fixas, mesmo que isso\n",
        "    exija preenchimento extra."
      ],
      "metadata": {
        "id": "dfbZ33HgR4HG"
      }
    },
    {
      "cell_type": "code",
      "source": [
        "# Instanciado DataCollatorWithPadding para o pytorch:\n",
        "data_collator_pt"
      ],
      "metadata": {
        "id": "LAmbCsz4Qqsc",
        "colab": {
          "base_uri": "https://localhost:8080/"
        },
        "outputId": "7673d373-bfb3-4ff1-acc6-7ead2c776bee"
      },
      "execution_count": 200,
      "outputs": [
        {
          "output_type": "execute_result",
          "data": {
            "text/plain": [
              "DataCollatorWithPadding(tokenizer=BertTokenizerFast(name_or_path='bert-base-uncased', vocab_size=30522, model_max_length=512, is_fast=True, padding_side='right', truncation_side='right', special_tokens={'unk_token': '[UNK]', 'sep_token': '[SEP]', 'pad_token': '[PAD]', 'cls_token': '[CLS]', 'mask_token': '[MASK]'}, clean_up_tokenization_spaces=True),  added_tokens_decoder={\n",
              "\t0: AddedToken(\"[PAD]\", rstrip=False, lstrip=False, single_word=False, normalized=False, special=True),\n",
              "\t100: AddedToken(\"[UNK]\", rstrip=False, lstrip=False, single_word=False, normalized=False, special=True),\n",
              "\t101: AddedToken(\"[CLS]\", rstrip=False, lstrip=False, single_word=False, normalized=False, special=True),\n",
              "\t102: AddedToken(\"[SEP]\", rstrip=False, lstrip=False, single_word=False, normalized=False, special=True),\n",
              "\t103: AddedToken(\"[MASK]\", rstrip=False, lstrip=False, single_word=False, normalized=False, special=True),\n",
              "}, padding=True, max_length=None, pad_to_multiple_of=None, return_tensors='pt')"
            ]
          },
          "metadata": {},
          "execution_count": 200
        }
      ]
    },
    {
      "cell_type": "markdown",
      "source": [
        "**Tensorflow**\n",
        "\n",
        "    Para o tensorflow, o agrupador padrão é uma função que simplesmente\n",
        "    converte suas amostras em tf.Tensor e as concatena (de forma recursiva\n",
        "    se seus elementos forem listas, tuplas ou dicionários). Isso não será\n",
        "    possível no nosso caso, pois as entradas que temos não serão todas do\n",
        "    mesmo tamanho. Deliberadamente, adiamos o preenchimento, para aplicá-lo\n",
        "    apenas conforme necessário em cada lote e evitar ter entradas muito\n",
        "    longas com muito preenchimento. Isso acelerará bastante o treinamento,\n",
        "    mas observe que se estiver treinando em uma TPU, pode causar problemas\n",
        "    - as TPUs preferem formas fixas, mesmo que isso exija preenchimento extra."
      ],
      "metadata": {
        "id": "Kc28YuyKSPYH"
      }
    },
    {
      "cell_type": "code",
      "source": [
        "# Instanciado DataCollatorWithPadding para o tensorflow:\n",
        "data_collator_tf"
      ],
      "metadata": {
        "id": "C60kezykQxnS",
        "colab": {
          "base_uri": "https://localhost:8080/"
        },
        "outputId": "33460fa3-cc05-43e6-87b3-4fe37acf9c7a"
      },
      "execution_count": 201,
      "outputs": [
        {
          "output_type": "execute_result",
          "data": {
            "text/plain": [
              "DataCollatorWithPadding(tokenizer=BertTokenizerFast(name_or_path='bert-base-uncased', vocab_size=30522, model_max_length=512, is_fast=True, padding_side='right', truncation_side='right', special_tokens={'unk_token': '[UNK]', 'sep_token': '[SEP]', 'pad_token': '[PAD]', 'cls_token': '[CLS]', 'mask_token': '[MASK]'}, clean_up_tokenization_spaces=True),  added_tokens_decoder={\n",
              "\t0: AddedToken(\"[PAD]\", rstrip=False, lstrip=False, single_word=False, normalized=False, special=True),\n",
              "\t100: AddedToken(\"[UNK]\", rstrip=False, lstrip=False, single_word=False, normalized=False, special=True),\n",
              "\t101: AddedToken(\"[CLS]\", rstrip=False, lstrip=False, single_word=False, normalized=False, special=True),\n",
              "\t102: AddedToken(\"[SEP]\", rstrip=False, lstrip=False, single_word=False, normalized=False, special=True),\n",
              "\t103: AddedToken(\"[MASK]\", rstrip=False, lstrip=False, single_word=False, normalized=False, special=True),\n",
              "}, padding=True, max_length=None, pad_to_multiple_of=None, return_tensors='tf')"
            ]
          },
          "metadata": {},
          "execution_count": 201
        }
      ]
    },
    {
      "cell_type": "markdown",
      "source": [
        "    Apesar do exposto, sem muitas diferenças para DataCollatorWithPadding\n",
        "    entre as bibliotecas utilizadas, pytorch e tensorflow."
      ],
      "metadata": {
        "id": "5cC_eH7ORrLA"
      }
    },
    {
      "cell_type": "markdown",
      "source": [
        "    Para testar esse novo recurso, vamos pegar algumas amostras do nosso\n",
        "    conjunto de treinamento que gostaríamos de agrupar. Aqui, removemos\n",
        "    as colunas idx, sentence1 e sentence2, pois elas não serão necessárias\n",
        "    e contêm strings (e não podemos criar tensores com strings) e vamos dar\n",
        "    uma olhada nos comprimentos de cada entrada no lote:\n",
        "\n",
        "\n",
        "\n",
        "\n"
      ],
      "metadata": {
        "id": "xN2_Rz_JSuTg"
      }
    },
    {
      "cell_type": "code",
      "source": [
        "# Separando uma amostra:\n",
        "samples = tokenized_datasets[\"train\"][:8] # Reduzindo o tamanho:\n",
        "samples = {k: v for k, v in samples.items() if k not in [\"idx\", \"sentence1\", \"sentence2\"]} # Reduzindo a dimensionalidade:\n",
        "\n",
        "# Print da cardinalidade dos elementos:\n",
        "print([len(x) for x in samples[\"input_ids\"]])"
      ],
      "metadata": {
        "id": "_wXXoHXGQzdS",
        "colab": {
          "base_uri": "https://localhost:8080/"
        },
        "outputId": "d9957e60-ff38-4cdd-8f29-d875fd0ee9e0"
      },
      "execution_count": 202,
      "outputs": [
        {
          "output_type": "stream",
          "name": "stdout",
          "text": [
            "[50, 59, 47, 67, 59, 50, 62, 32]\n"
          ]
        }
      ]
    },
    {
      "cell_type": "markdown",
      "source": [
        "Note:\n",
        "\n",
        "    Sem surpresa, obtemos amostras de comprimento variável, de 32 a 67.\n",
        "    O dynamic padding significa que as amostras neste batch devem\n",
        "    ser preenchidas todas com um comprimento de 67, o comprimento máximo\n",
        "    dentro do lote. Sem dynamic padding, todas as amostras teriam\n",
        "    que ser preenchidas até o comprimento máximo em todo o conjunto de dados,\n",
        "    ou o comprimento máximo que o modelo pode aceitar. Vamos verificar se nosso\n",
        "    data_collator está aplicando o preenchimento dinâmico corretamente:\n",
        "    \n"
      ],
      "metadata": {
        "id": "ZKn5xt5_Uppm"
      }
    },
    {
      "cell_type": "markdown",
      "source": [
        "**pytorch**"
      ],
      "metadata": {
        "id": "9S0yX30iU-RK"
      }
    },
    {
      "cell_type": "code",
      "source": [
        "# Gerando lotes:\n",
        "batch_pt = data_collator_pt(samples)\n",
        "\n",
        "# Criando DatasetDict tokenizado em batchs:\n",
        "{k: v.shape for k, v in batch_pt.items()}"
      ],
      "metadata": {
        "id": "wPtMbUIOUqhL",
        "colab": {
          "base_uri": "https://localhost:8080/"
        },
        "outputId": "a8d2f181-d5e9-4cc8-cff3-62c88d227628"
      },
      "execution_count": 203,
      "outputs": [
        {
          "output_type": "execute_result",
          "data": {
            "text/plain": [
              "{'input_ids': torch.Size([8, 67]),\n",
              " 'token_type_ids': torch.Size([8, 67]),\n",
              " 'attention_mask': torch.Size([8, 67]),\n",
              " 'labels': torch.Size([8])}"
            ]
          },
          "metadata": {},
          "execution_count": 203
        }
      ]
    },
    {
      "cell_type": "markdown",
      "source": [
        "    Está ficando ótimo! Agora que passamos do texto bruto para lotes\n",
        "    que nosso modelo pode lidar, estamos prontos para ajustá-lo! Deste\n",
        "    modo, aqui termina a parte de processamento de dados com pytorch."
      ],
      "metadata": {
        "id": "lGQB0GdUVu3-"
      }
    },
    {
      "cell_type": "markdown",
      "source": [
        "**tensorflow**"
      ],
      "metadata": {
        "id": "yUM235lCVTBd"
      }
    },
    {
      "cell_type": "code",
      "source": [
        "# Gerando lotes:\n",
        "batch_tf = data_collator_tf(samples)\n",
        "\n",
        "# Criando DatasetDict tokenizado em batchs:\n",
        "{k: v.shape for k, v in batch_tf.items()}"
      ],
      "metadata": {
        "id": "LGJ2e4yYVBxr",
        "colab": {
          "base_uri": "https://localhost:8080/"
        },
        "outputId": "2790017a-e3e5-49a3-e2ab-9ade94d76639"
      },
      "execution_count": 204,
      "outputs": [
        {
          "output_type": "execute_result",
          "data": {
            "text/plain": [
              "{'input_ids': TensorShape([8, 67]),\n",
              " 'token_type_ids': TensorShape([8, 67]),\n",
              " 'attention_mask': TensorShape([8, 67]),\n",
              " 'labels': TensorShape([8])}"
            ]
          },
          "metadata": {},
          "execution_count": 204
        }
      ]
    },
    {
      "cell_type": "markdown",
      "source": [
        "    Agora que temos nosso conjunto de dados e um data collator, precisamos\n",
        "    juntá-los. Poderíamos carregar lotes manualmente e agrupá-los, mas isso\n",
        "    dá muito trabalho e provavelmente não é muito eficiente. Em vez disso,\n",
        "    há um método simples que oferece uma solução eficiente para esse problema:\n",
        "    to_tf_dataset(). Isso irá envolver um tf.data.Dataset em torno do seu\n",
        "    conjunto de dados, com uma função de agrupamento opcional. tf.data.Dataset\n",
        "    é um formato nativo do TensorFlow que o Keras pode usar para model.fit(),\n",
        "    então este método imediatamente converte um 🤗 Dataset para um formato\n",
        "    pronto para treinamento. Vamos ver isso em ação com nosso conjunto de dados!"
      ],
      "metadata": {
        "id": "mAcH0ay4ViYt"
      }
    },
    {
      "cell_type": "code",
      "source": [
        "# Criando um conjunto de dados de treinamento do conjunto de dados tokenizado\n",
        "tf_train_dataset = tokenized_datasets[\"train\"].to_tf_dataset(\n",
        "    columns=[\"attention_mask\", \"input_ids\", \"token_type_ids\"],\n",
        "    label_cols=[\"labels\"],\n",
        "    shuffle=True,\n",
        "    collate_fn=data_collator_tf,\n",
        "    batch_size=8,\n",
        ")\n",
        "\n",
        "# Criando um conjunto de dados de validação do conjunto de dados tokenizado:\n",
        "tf_validation_dataset = tokenized_datasets[\"validation\"].to_tf_dataset(\n",
        "    columns=[\"attention_mask\", \"input_ids\", \"token_type_ids\"],\n",
        "    label_cols=[\"labels\"],\n",
        "    shuffle=False,\n",
        "    collate_fn=data_collator_tf,\n",
        "    batch_size=8,\n",
        ")"
      ],
      "metadata": {
        "id": "W0vh1GRaVbQe",
        "colab": {
          "base_uri": "https://localhost:8080/"
        },
        "outputId": "ea3a1bb1-1bee-4301-8e04-6d6d3777f190"
      },
      "execution_count": 205,
      "outputs": [
        {
          "output_type": "stream",
          "name": "stderr",
          "text": [
            "/usr/local/lib/python3.10/dist-packages/datasets/arrow_dataset.py:401: FutureWarning: The output of `to_tf_dataset` will change when a passing single element list for `labels` or `columns` in the next datasets version. To return a tuple structure rather than dict, pass a single string.\n",
            "Old behaviour: columns=['a'], labels=['labels'] -> (tf.Tensor, tf.Tensor)  \n",
            "             : columns='a', labels='labels' -> (tf.Tensor, tf.Tensor)  \n",
            "New behaviour: columns=['a'],labels=['labels'] -> ({'a': tf.Tensor}, {'labels': tf.Tensor})  \n",
            "             : columns='a', labels='labels' -> (tf.Tensor, tf.Tensor) \n",
            "  warnings.warn(\n"
          ]
        }
      ]
    },
    {
      "cell_type": "markdown",
      "source": [
        "\n",
        "    Agora sim, é isso! Podemos levar esses conjuntos de dados adiante para a\n",
        "    próxima palestra, onde o treinamento será agradavelmente direto após todo\n",
        "    o trabalho árduo de pré-processamento de dados."
      ],
      "metadata": {
        "id": "0yv4NrxIWHBb"
      }
    },
    {
      "cell_type": "markdown",
      "source": [
        "**Como o BERT calcula similaridade entre as sentenças?**\n",
        "\n",
        "    Eu não sei e o artigo deles também não entra nesses detalhes. O que eu\n",
        "    acredito que o modelo faça seja calcular a similaridade de cossenos nos\n",
        "    embbedings das sentenças, ou alguma outra forma de calculo de distância\n",
        "    entre vetores. Eu chuto a similaridade de cossenos, porque é um das\n",
        "    ténicas mais bem conceituadas para esse tipo de tarefa."
      ],
      "metadata": {
        "id": "aKDbLs8ZgmEw"
      }
    },
    {
      "cell_type": "code",
      "source": [],
      "metadata": {
        "id": "ZL3zII0TioUB"
      },
      "execution_count": 205,
      "outputs": []
    }
  ]
}
