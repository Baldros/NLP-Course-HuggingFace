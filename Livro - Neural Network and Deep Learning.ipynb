{
  "cells": [
    {
      "cell_type": "markdown",
      "metadata": {
        "id": "view-in-github",
        "colab_type": "text"
      },
      "source": [
        "<a href=\"https://colab.research.google.com/github/Baldros/NLP-Course-HuggingFace/blob/main/Livro%20-%20Neural%20Network%20and%20Deep%20Learning.ipynb\" target=\"_parent\"><img src=\"https://colab.research.google.com/assets/colab-badge.svg\" alt=\"Open In Colab\"/></a>"
      ]
    },
    {
      "cell_type": "markdown",
      "id": "346fe5ed-1dfa-443c-b725-64f12fb3dc47",
      "metadata": {
        "id": "346fe5ed-1dfa-443c-b725-64f12fb3dc47"
      },
      "source": [
        "# Construindo Aplicação Web utilizando Flask:\n",
        "\n",
        "    O objetivo aqui é rescontruir o livro Neural Networks and\n",
        "    Deep Learning do Michael Nielsen em português.\n",
        "\n",
        "    O livro disponibilizado pelo autor está em inglês e\n",
        "    não que isso seja um problema, mas o desafio de fazer\n",
        "    a implementação web com o Flask me chamou a atenção."
      ]
    },
    {
      "cell_type": "markdown",
      "id": "b675dcce-487c-4379-add7-2dfad62b410e",
      "metadata": {
        "id": "b675dcce-487c-4379-add7-2dfad62b410e"
      },
      "source": [
        "# Importando os dados:\n",
        "\n",
        "    O livro está todo escrito em HTML, então a ideia aqui é lidar\n",
        "    com ele, não tratando string pra extrair a informação, mas sim\n",
        "    extruturando uma página web. E para issoprecisamos dos HTML que\n",
        "    extruturam a página."
      ]
    },
    {
      "cell_type": "code",
      "execution_count": 1,
      "id": "8cd8d70f-ba9b-4396-ae2d-981fdfd02a68",
      "metadata": {
        "id": "8cd8d70f-ba9b-4396-ae2d-981fdfd02a68"
      },
      "outputs": [],
      "source": [
        "# Dependencias utilizadas:\n",
        "import os\n",
        "import json"
      ]
    },
    {
      "cell_type": "code",
      "execution_count": 2,
      "id": "4c59eedb-b6df-4e09-9f56-e2639ffb4a21",
      "metadata": {
        "colab": {
          "base_uri": "https://localhost:8080/"
        },
        "id": "4c59eedb-b6df-4e09-9f56-e2639ffb4a21",
        "outputId": "ddd7290c-3418-4cec-d8c9-36b11cbe096e"
      },
      "outputs": [
        {
          "output_type": "stream",
          "name": "stdout",
          "text": [
            "Diretório templates criado com sucesso!\n"
          ]
        }
      ],
      "source": [
        "# Construindo a pasta de Templates:\n",
        "pasta = 'templates'\n",
        "\n",
        "# Verifica se o diretório existe\n",
        "if not os.path.exists(pasta):\n",
        "    # Cria o diretório se não existir\n",
        "    os.makedirs(pasta)\n",
        "    print(f'Diretório {pasta} criado com sucesso!')\n",
        "else:\n",
        "    print(f'O diretório {pasta} já existe.')"
      ]
    },
    {
      "cell_type": "code",
      "execution_count": 3,
      "id": "ef3f9205-d949-4c7b-82e5-5925c644d3ff",
      "metadata": {
        "colab": {
          "base_uri": "https://localhost:8080/"
        },
        "id": "ef3f9205-d949-4c7b-82e5-5925c644d3ff",
        "outputId": "e30c36e5-ee93-40e3-b5e0-0d18972fea50"
      },
      "outputs": [
        {
          "output_type": "stream",
          "name": "stdout",
          "text": [
            "--2024-02-22 12:45:53--  https://github.com/VniciusMiranda/Redes-Neurais-e-Deep-Learning/blob/master/index.html\n",
            "Resolving github.com (github.com)... 140.82.114.4\n",
            "Connecting to github.com (github.com)|140.82.114.4|:443... connected.\n",
            "HTTP request sent, awaiting response... 200 OK\n",
            "Length: 130262 (127K) [text/plain]\n",
            "Saving to: ‘index.html’\n",
            "\n",
            "index.html          100%[===================>] 127.21K   737KB/s    in 0.2s    \n",
            "\n",
            "2024-02-22 12:45:54 (737 KB/s) - ‘index.html’ saved [130262/130262]\n",
            "\n",
            "--2024-02-22 12:45:54--  https://github.com/VniciusMiranda/Redes-Neurais-e-Deep-Learning/blob/master/chap1.html\n",
            "Resolving github.com (github.com)... 140.82.113.4\n",
            "Connecting to github.com (github.com)|140.82.113.4|:443... connected.\n",
            "HTTP request sent, awaiting response... 200 OK\n",
            "Length: 1167987 (1.1M) [text/plain]\n",
            "Saving to: ‘chap1.html’\n",
            "\n",
            "chap1.html          100%[===================>]   1.11M  3.69MB/s    in 0.3s    \n",
            "\n",
            "2024-02-22 12:45:55 (3.69 MB/s) - ‘chap1.html’ saved [1167987/1167987]\n",
            "\n",
            "--2024-02-22 12:45:55--  https://github.com/VniciusMiranda/Redes-Neurais-e-Deep-Learning/blob/master/chap2.html\n",
            "Resolving github.com (github.com)... 140.82.113.4\n",
            "Connecting to github.com (github.com)|140.82.113.4|:443... connected.\n",
            "HTTP request sent, awaiting response... 200 OK\n",
            "Length: 488816 (477K) [text/plain]\n",
            "Saving to: ‘chap2.html’\n",
            "\n",
            "chap2.html          100%[===================>] 477.36K  1.75MB/s    in 0.3s    \n",
            "\n",
            "2024-02-22 12:45:55 (1.75 MB/s) - ‘chap2.html’ saved [488816/488816]\n",
            "\n",
            "--2024-02-22 12:45:55--  https://github.com/VniciusMiranda/Redes-Neurais-e-Deep-Learning/blob/master/chap3.html\n",
            "Resolving github.com (github.com)... 140.82.113.4\n",
            "Connecting to github.com (github.com)|140.82.113.4|:443... connected.\n",
            "HTTP request sent, awaiting response... 200 OK\n",
            "Length: 1769132 (1.7M) [text/plain]\n",
            "Saving to: ‘chap3.html’\n",
            "\n",
            "chap3.html          100%[===================>]   1.69M  5.48MB/s    in 0.3s    \n",
            "\n",
            "2024-02-22 12:45:57 (5.48 MB/s) - ‘chap3.html’ saved [1769132/1769132]\n",
            "\n",
            "--2024-02-22 12:45:57--  https://github.com/VniciusMiranda/Redes-Neurais-e-Deep-Learning/blob/master/chap4.html\n",
            "Resolving github.com (github.com)... 140.82.113.4\n",
            "Connecting to github.com (github.com)|140.82.113.4|:443... connected.\n",
            "HTTP request sent, awaiting response... 200 OK\n",
            "Length: 320290 (313K) [text/plain]\n",
            "Saving to: ‘chap4.html’\n",
            "\n",
            "chap4.html          100%[===================>] 312.78K  1.39MB/s    in 0.2s    \n",
            "\n",
            "2024-02-22 12:45:57 (1.39 MB/s) - ‘chap4.html’ saved [320290/320290]\n",
            "\n",
            "--2024-02-22 12:45:57--  https://github.com/VniciusMiranda/Redes-Neurais-e-Deep-Learning/blob/master/chap5.html\n",
            "Resolving github.com (github.com)... 140.82.113.4\n",
            "Connecting to github.com (github.com)|140.82.113.4|:443... connected.\n",
            "HTTP request sent, awaiting response... 200 OK\n",
            "Length: 316971 (310K) [text/plain]\n",
            "Saving to: ‘chap5.html’\n",
            "\n",
            "chap5.html          100%[===================>] 309.54K  1.37MB/s    in 0.2s    \n",
            "\n",
            "2024-02-22 12:45:58 (1.37 MB/s) - ‘chap5.html’ saved [316971/316971]\n",
            "\n",
            "--2024-02-22 12:45:58--  https://github.com/VniciusMiranda/Redes-Neurais-e-Deep-Learning/blob/master/chap6.html\n",
            "Resolving github.com (github.com)... 140.82.113.4\n",
            "Connecting to github.com (github.com)|140.82.113.4|:443... connected.\n",
            "HTTP request sent, awaiting response... 200 OK\n",
            "Length: 1910164 (1.8M) [text/plain]\n",
            "Saving to: ‘chap6.html’\n",
            "\n",
            "chap6.html          100%[===================>]   1.82M  5.24MB/s    in 0.3s    \n",
            "\n",
            "2024-02-22 12:45:59 (5.24 MB/s) - ‘chap6.html’ saved [1910164/1910164]\n",
            "\n"
          ]
        }
      ],
      "source": [
        "# Baixando os arquivos:\n",
        "!wget -O index.html https://github.com/VniciusMiranda/Redes-Neurais-e-Deep-Learning/blob/master/index.html\n",
        "!wget -O chap1.html https://github.com/VniciusMiranda/Redes-Neurais-e-Deep-Learning/blob/master/chap1.html\n",
        "!wget -O chap2.html https://github.com/VniciusMiranda/Redes-Neurais-e-Deep-Learning/blob/master/chap2.html\n",
        "!wget -O chap3.html https://github.com/VniciusMiranda/Redes-Neurais-e-Deep-Learning/blob/master/chap3.html\n",
        "!wget -O chap4.html https://github.com/VniciusMiranda/Redes-Neurais-e-Deep-Learning/blob/master/chap4.html\n",
        "!wget -O chap5.html https://github.com/VniciusMiranda/Redes-Neurais-e-Deep-Learning/blob/master/chap5.html\n",
        "!wget -O chap6.html https://github.com/VniciusMiranda/Redes-Neurais-e-Deep-Learning/blob/master/chap6.html"
      ]
    },
    {
      "cell_type": "markdown",
      "source": [
        "**Tratando os dados baixados**\n",
        "\n",
        "    Esse tipo de importação trás muita coisa além do HTML.\n",
        "    Estamos focados no HTML aqui, então é necessário fazer\n",
        "    um tratamento dos arquivos de modo a se extrair apenas\n",
        "    o HTML da pagina. A boa estruturação e organização\n",
        "    da página depende disso."
      ],
      "metadata": {
        "id": "G-oj4JmURe2B"
      },
      "id": "G-oj4JmURe2B"
    },
    {
      "cell_type": "code",
      "execution_count": 4,
      "id": "9324b019-5e05-4de5-9de8-2ef4c0bb90bb",
      "metadata": {
        "id": "9324b019-5e05-4de5-9de8-2ef4c0bb90bb"
      },
      "outputs": [],
      "source": [
        "# Lista de arquivos para loop:\n",
        "lista_arquivos= ['index.html','chap1.html','chap2.html','chap3.html',\n",
        "                 'chap4.html','chap5.html','chap6.html']\n",
        "\n",
        "# Movendo os arquivos para o diretório de destinos\n",
        "for arq in lista_arquivos:\n",
        "    diretorio_destino = os.path.join(pasta, arq)\n",
        "    os.replace(arq, diretorio_destino)\n",
        "\n",
        "    try:\n",
        "        with open(diretorio_destino, 'r', encoding='utf-8') as arquivo_html:\n",
        "            text_raw = arquivo_html.read()\n",
        "\n",
        "        # Continue com o processamento do arquivo, se necessário\n",
        "        txt_json = json.loads(text_raw)\n",
        "        text_final = ''.join(txt_json['payload']['blob']['rawLines'])\n",
        "\n",
        "        arq_txt = diretorio_destino.replace(\".html\", \".txt\")\n",
        "        with open(arq_txt, 'w',encoding='utf-8') as arq:\n",
        "            arq.write(text_final)\n",
        "\n",
        "        os.remove(diretorio_destino)\n",
        "\n",
        "    except UnicodeDecodeError as e:\n",
        "        print(f\"Erro de decodificação Unicode: {e}\")\n",
        "        # Lide com o erro conforme necessário"
      ]
    },
    {
      "cell_type": "markdown",
      "id": "d94dd6f8-38be-459e-9145-0ce269706961",
      "metadata": {
        "id": "d94dd6f8-38be-459e-9145-0ce269706961"
      },
      "source": [
        "# Construindo a Aplicação:\n",
        "\n",
        "**importante**\n",
        "\n",
        "    Roda a celula das importações, roda a celula instanciando\n",
        "    a página com a implementação do Flask, só dai então clique\n",
        "    no link indicado!\n",
        "\n",
        "    Por ser um ambiente em nuvem, o Colab tem suas peculiaridades\n",
        "    e uma dessas peculiaridades é a questão de Portas Proxy."
      ]
    },
    {
      "cell_type": "code",
      "execution_count": 5,
      "id": "fe719476-32bf-44dd-ba31-86d1dccd43fb",
      "metadata": {
        "colab": {
          "base_uri": "https://localhost:8080/",
          "height": 52
        },
        "id": "fe719476-32bf-44dd-ba31-86d1dccd43fb",
        "outputId": "c67b143a-1add-4d32-fd20-2f611bb8ed25"
      },
      "outputs": [
        {
          "output_type": "stream",
          "name": "stdout",
          "text": [
            "Click no link abaixo para acessar o livro:\n",
            " https://jqe5y974sts-496ff2e9c6d22116-5000-colab.googleusercontent.com/\n"
          ]
        }
      ],
      "source": [
        "# Construção da Página:\n",
        "from flask import Flask,render_template\n",
        "\n",
        "# Implementação externa:\n",
        "from google.colab.output import eval_js\n",
        "link = eval_js('google.colab.kernel.proxyPort(5000)')\n",
        "print(f'Click no link abaixo para acessar o livro:\\n',link)"
      ]
    },
    {
      "cell_type": "code",
      "execution_count": 6,
      "id": "ea5ca612-2db9-404e-997f-22a4f73a6262",
      "metadata": {
        "colab": {
          "base_uri": "https://localhost:8080/"
        },
        "id": "ea5ca612-2db9-404e-997f-22a4f73a6262",
        "outputId": "5bb3b731-e441-4556-9007-9d5f6d20b217"
      },
      "outputs": [
        {
          "output_type": "stream",
          "name": "stdout",
          "text": [
            " * Serving Flask app '__main__'\n",
            " * Debug mode: on\n"
          ]
        },
        {
          "output_type": "stream",
          "name": "stderr",
          "text": [
            "INFO:werkzeug:\u001b[31m\u001b[1mWARNING: This is a development server. Do not use it in a production deployment. Use a production WSGI server instead.\u001b[0m\n",
            " * Running on all addresses (0.0.0.0)\n",
            " * Running on http://127.0.0.1:5000\n",
            " * Running on http://172.28.0.12:5000\n",
            "INFO:werkzeug:\u001b[33mPress CTRL+C to quit\u001b[0m\n",
            "INFO:werkzeug:127.0.0.1 - - [22/Feb/2024 12:46:17] \"GET / HTTP/1.1\" 200 -\n",
            "INFO:werkzeug:127.0.0.1 - - [22/Feb/2024 12:46:17] \"\u001b[33mGET /assets/style.css HTTP/1.1\u001b[0m\" 404 -\n",
            "INFO:werkzeug:127.0.0.1 - - [22/Feb/2024 12:46:17] \"\u001b[33mGET /assets/jquery.min.js HTTP/1.1\u001b[0m\" 404 -\n",
            "INFO:werkzeug:127.0.0.1 - - [22/Feb/2024 12:46:18] \"\u001b[33mGET /images/arrow.png HTTP/1.1\u001b[0m\" 404 -\n",
            "INFO:werkzeug:127.0.0.1 - - [22/Feb/2024 12:46:18] \"\u001b[33mGET /assets/pygments.css HTTP/1.1\u001b[0m\" 404 -\n",
            "INFO:werkzeug:127.0.0.1 - - [22/Feb/2024 12:46:18] \"\u001b[33mGET /assets/tineye.png HTTP/1.1\u001b[0m\" 404 -\n",
            "INFO:werkzeug:127.0.0.1 - - [22/Feb/2024 12:46:18] \"\u001b[33mGET /assets/lambda.png HTTP/1.1\u001b[0m\" 404 -\n",
            "INFO:werkzeug:127.0.0.1 - - [22/Feb/2024 12:46:18] \"\u001b[33mGET /assets/Michael_Nielsen_Web_Small.jpg HTTP/1.1\u001b[0m\" 404 -\n",
            "INFO:werkzeug:127.0.0.1 - - [22/Feb/2024 12:46:18] \"\u001b[33mGET /assets/gsquared.png HTTP/1.1\u001b[0m\" 404 -\n",
            "INFO:werkzeug:127.0.0.1 - - [22/Feb/2024 12:46:18] \"\u001b[33mGET /images/arrow.png HTTP/1.1\u001b[0m\" 404 -\n",
            "INFO:werkzeug:127.0.0.1 - - [22/Feb/2024 12:46:19] \"\u001b[33mGET /nnadl_favicon.ICO HTTP/1.1\u001b[0m\" 404 -\n",
            "INFO:werkzeug:127.0.0.1 - - [22/Feb/2024 12:46:34] \"GET /capitulo1 HTTP/1.1\" 200 -\n",
            "INFO:werkzeug:127.0.0.1 - - [22/Feb/2024 12:46:35] \"\u001b[33mGET /assets/pygments.css HTTP/1.1\u001b[0m\" 404 -\n",
            "INFO:werkzeug:127.0.0.1 - - [22/Feb/2024 12:46:35] \"\u001b[33mGET /assets/jquery.min.js HTTP/1.1\u001b[0m\" 404 -\n",
            "INFO:werkzeug:127.0.0.1 - - [22/Feb/2024 12:46:35] \"\u001b[33mGET /images/arrow.png HTTP/1.1\u001b[0m\" 404 -\n",
            "INFO:werkzeug:127.0.0.1 - - [22/Feb/2024 12:46:35] \"\u001b[33mGET /assets/style.css HTTP/1.1\u001b[0m\" 404 -\n",
            "INFO:werkzeug:127.0.0.1 - - [22/Feb/2024 12:46:35] \"\u001b[33mGET /assets/lambda.png HTTP/1.1\u001b[0m\" 404 -\n",
            "INFO:werkzeug:127.0.0.1 - - [22/Feb/2024 12:46:35] \"\u001b[33mGET /assets/gsquared.png HTTP/1.1\u001b[0m\" 404 -\n",
            "INFO:werkzeug:127.0.0.1 - - [22/Feb/2024 12:46:35] \"\u001b[33mGET /images/digits.png HTTP/1.1\u001b[0m\" 404 -\n",
            "INFO:werkzeug:127.0.0.1 - - [22/Feb/2024 12:46:35] \"\u001b[33mGET /assets/visionsmarts.png HTTP/1.1\u001b[0m\" 404 -\n",
            "INFO:werkzeug:127.0.0.1 - - [22/Feb/2024 12:46:35] \"\u001b[33mGET /images/tikz3.png HTTP/1.1\u001b[0m\" 404 -\n",
            "INFO:werkzeug:127.0.0.1 - - [22/Feb/2024 12:46:35] \"\u001b[33mGET /assets/tineye.png HTTP/1.1\u001b[0m\" 404 -\n",
            "INFO:werkzeug:127.0.0.1 - - [22/Feb/2024 12:46:35] \"\u001b[33mGET /assets/Michael_Nielsen_Web_Small.jpg HTTP/1.1\u001b[0m\" 404 -\n",
            "INFO:werkzeug:127.0.0.1 - - [22/Feb/2024 12:46:35] \"\u001b[33mGET /images/tikz1.png HTTP/1.1\u001b[0m\" 404 -\n",
            "INFO:werkzeug:127.0.0.1 - - [22/Feb/2024 12:46:35] \"\u001b[33mGET /images/tikz2.png HTTP/1.1\u001b[0m\" 404 -\n",
            "INFO:werkzeug:127.0.0.1 - - [22/Feb/2024 12:46:35] \"\u001b[33mGET /images/tikz7.png HTTP/1.1\u001b[0m\" 404 -\n",
            "INFO:werkzeug:127.0.0.1 - - [22/Feb/2024 12:46:35] \"\u001b[33mGET /images/tikz4.png HTTP/1.1\u001b[0m\" 404 -\n",
            "INFO:werkzeug:127.0.0.1 - - [22/Feb/2024 12:46:35] \"\u001b[33mGET /images/mnist_other_features.png HTTP/1.1\u001b[0m\" 404 -\n",
            "INFO:werkzeug:127.0.0.1 - - [22/Feb/2024 12:46:36] \"\u001b[33mGET /images/mnist_top_left_feature.png HTTP/1.1\u001b[0m\" 404 -\n",
            "INFO:werkzeug:127.0.0.1 - - [22/Feb/2024 12:46:36] \"\u001b[33mGET /images/valley.png HTTP/1.1\u001b[0m\" 404 -\n",
            "INFO:werkzeug:127.0.0.1 - - [22/Feb/2024 12:46:36] \"\u001b[33mGET /images/tikz14.png HTTP/1.1\u001b[0m\" 404 -\n",
            "INFO:werkzeug:127.0.0.1 - - [22/Feb/2024 12:46:36] \"\u001b[33mGET /images/tikz13.png HTTP/1.1\u001b[0m\" 404 -\n",
            "INFO:werkzeug:127.0.0.1 - - [22/Feb/2024 12:46:36] \"\u001b[33mGET /images/tikz8.png HTTP/1.1\u001b[0m\" 404 -\n",
            "INFO:werkzeug:127.0.0.1 - - [22/Feb/2024 12:46:36] \"\u001b[33mGET /images/mnist_first_digit.png HTTP/1.1\u001b[0m\" 404 -\n",
            "INFO:werkzeug:127.0.0.1 - - [22/Feb/2024 12:46:36] \"\u001b[33mGET /images/arrow.png HTTP/1.1\u001b[0m\" 404 -\n",
            "INFO:werkzeug:127.0.0.1 - - [22/Feb/2024 12:46:36] \"\u001b[33mGET /images/mnist_complete_zero.png HTTP/1.1\u001b[0m\" 404 -\n",
            "INFO:werkzeug:127.0.0.1 - - [22/Feb/2024 12:46:36] \"\u001b[33mGET /images/tikz5.png HTTP/1.1\u001b[0m\" 404 -\n",
            "INFO:werkzeug:127.0.0.1 - - [22/Feb/2024 12:46:36] \"\u001b[33mGET /images/tikz12.png HTTP/1.1\u001b[0m\" 404 -\n",
            "INFO:werkzeug:127.0.0.1 - - [22/Feb/2024 12:46:36] \"\u001b[33mGET /images/tikz10.png HTTP/1.1\u001b[0m\" 404 -\n",
            "INFO:werkzeug:127.0.0.1 - - [22/Feb/2024 12:46:36] \"\u001b[33mGET /images/valley_with_ball.png HTTP/1.1\u001b[0m\" 404 -\n",
            "INFO:werkzeug:127.0.0.1 - - [22/Feb/2024 12:46:36] \"\u001b[33mGET /images/mnist_100_digits.png HTTP/1.1\u001b[0m\" 404 -\n",
            "INFO:werkzeug:127.0.0.1 - - [22/Feb/2024 12:46:36] \"\u001b[33mGET /images/mnist_really_bad_images.png HTTP/1.1\u001b[0m\" 404 -\n",
            "INFO:werkzeug:127.0.0.1 - - [22/Feb/2024 12:46:36] \"\u001b[33mGET /images/tikz9.png HTTP/1.1\u001b[0m\" 404 -\n",
            "INFO:werkzeug:127.0.0.1 - - [22/Feb/2024 12:46:36] \"\u001b[33mGET /images/Kangaroo.JPG HTTP/1.1\u001b[0m\" 404 -\n",
            "INFO:werkzeug:127.0.0.1 - - [22/Feb/2024 12:46:36] \"\u001b[33mGET /images/tikz15.png HTTP/1.1\u001b[0m\" 404 -\n",
            "INFO:werkzeug:127.0.0.1 - - [22/Feb/2024 12:46:36] \"\u001b[33mGET /images/tikz0.png HTTP/1.1\u001b[0m\" 404 -\n",
            "INFO:werkzeug:127.0.0.1 - - [22/Feb/2024 12:46:36] \"\u001b[33mGET /images/Einstein_crop.jpg HTTP/1.1\u001b[0m\" 404 -\n",
            "INFO:werkzeug:127.0.0.1 - - [22/Feb/2024 12:46:36] \"\u001b[33mGET /images/tikz11.png HTTP/1.1\u001b[0m\" 404 -\n",
            "INFO:werkzeug:127.0.0.1 - - [22/Feb/2024 12:46:36] \"\u001b[33mGET /images/digits_separate.png HTTP/1.1\u001b[0m\" 404 -\n",
            "INFO:werkzeug:127.0.0.1 - - [22/Feb/2024 12:46:36] \"\u001b[33mGET /images/mnist_2_and_1.png HTTP/1.1\u001b[0m\" 404 -\n",
            "INFO:werkzeug:127.0.0.1 - - [22/Feb/2024 12:46:36] \"\u001b[33mGET /images/tikz6.png HTTP/1.1\u001b[0m\" 404 -\n",
            "INFO:werkzeug:127.0.0.1 - - [22/Feb/2024 12:46:36] \"\u001b[33mGET /images/hubble.jpg HTTP/1.1\u001b[0m\" 404 -\n",
            "INFO:werkzeug:127.0.0.1 - - [22/Feb/2024 12:46:39] \"\u001b[33mGET /nnadl_favicon.ICO HTTP/1.1\u001b[0m\" 404 -\n",
            "INFO:werkzeug:127.0.0.1 - - [22/Feb/2024 12:47:26] \"GET /capitulo2 HTTP/1.1\" 200 -\n",
            "INFO:werkzeug:127.0.0.1 - - [22/Feb/2024 12:47:27] \"\u001b[33mGET /assets/jquery.min.js HTTP/1.1\u001b[0m\" 404 -\n",
            "INFO:werkzeug:127.0.0.1 - - [22/Feb/2024 12:47:27] \"\u001b[33mGET /assets/pygments.css HTTP/1.1\u001b[0m\" 404 -\n",
            "INFO:werkzeug:127.0.0.1 - - [22/Feb/2024 12:47:27] \"\u001b[33mGET /assets/style.css HTTP/1.1\u001b[0m\" 404 -\n",
            "INFO:werkzeug:127.0.0.1 - - [22/Feb/2024 12:47:27] \"\u001b[33mGET /images/arrow.png HTTP/1.1\u001b[0m\" 404 -\n",
            "INFO:werkzeug:127.0.0.1 - - [22/Feb/2024 12:47:27] \"\u001b[33mGET /assets/gsquared.png HTTP/1.1\u001b[0m\" 404 -\n",
            "INFO:werkzeug:127.0.0.1 - - [22/Feb/2024 12:47:27] \"\u001b[33mGET /assets/lambda.png HTTP/1.1\u001b[0m\" 404 -\n",
            "INFO:werkzeug:127.0.0.1 - - [22/Feb/2024 12:47:27] \"\u001b[33mGET /assets/tineye.png HTTP/1.1\u001b[0m\" 404 -\n",
            "INFO:werkzeug:127.0.0.1 - - [22/Feb/2024 12:47:27] \"\u001b[33mGET /images/tikz17.png HTTP/1.1\u001b[0m\" 404 -\n",
            "INFO:werkzeug:127.0.0.1 - - [22/Feb/2024 12:47:27] \"\u001b[33mGET /images/tikz22.png HTTP/1.1\u001b[0m\" 404 -\n",
            "INFO:werkzeug:127.0.0.1 - - [22/Feb/2024 12:47:27] \"\u001b[33mGET /images/tikz19.png HTTP/1.1\u001b[0m\" 404 -\n",
            "INFO:werkzeug:127.0.0.1 - - [22/Feb/2024 12:47:27] \"\u001b[33mGET /images/tikz18.png HTTP/1.1\u001b[0m\" 404 -\n",
            "INFO:werkzeug:127.0.0.1 - - [22/Feb/2024 12:47:27] \"\u001b[33mGET /images/tikz20.png HTTP/1.1\u001b[0m\" 404 -\n",
            "INFO:werkzeug:127.0.0.1 - - [22/Feb/2024 12:47:27] \"\u001b[33mGET /images/tikz24.png HTTP/1.1\u001b[0m\" 404 -\n",
            "INFO:werkzeug:127.0.0.1 - - [22/Feb/2024 12:47:27] \"\u001b[33mGET /images/tikz26.png HTTP/1.1\u001b[0m\" 404 -\n",
            "INFO:werkzeug:127.0.0.1 - - [22/Feb/2024 12:47:27] \"\u001b[33mGET /images/tikz25.png HTTP/1.1\u001b[0m\" 404 -\n",
            "INFO:werkzeug:127.0.0.1 - - [22/Feb/2024 12:47:27] \"\u001b[33mGET /images/tikz21.png HTTP/1.1\u001b[0m\" 404 -\n",
            "INFO:werkzeug:127.0.0.1 - - [22/Feb/2024 12:47:28] \"\u001b[33mGET /images/tikz23.png HTTP/1.1\u001b[0m\" 404 -\n",
            "INFO:werkzeug:127.0.0.1 - - [22/Feb/2024 12:47:28] \"\u001b[33mGET /images/tikz16.png HTTP/1.1\u001b[0m\" 404 -\n",
            "INFO:werkzeug:127.0.0.1 - - [22/Feb/2024 12:47:28] \"\u001b[33mGET /assets/Michael_Nielsen_Web_Small.jpg HTTP/1.1\u001b[0m\" 404 -\n",
            "INFO:werkzeug:127.0.0.1 - - [22/Feb/2024 12:47:28] \"\u001b[33mGET /images/tikz27.png HTTP/1.1\u001b[0m\" 404 -\n",
            "INFO:werkzeug:127.0.0.1 - - [22/Feb/2024 12:47:29] \"\u001b[33mGET /nnadl_favicon.ICO HTTP/1.1\u001b[0m\" 404 -\n"
          ]
        }
      ],
      "source": [
        "# Instanciando a API:\n",
        "app = Flask(__name__, template_folder='templates')\n",
        "\n",
        "\n",
        "@app.route('/')\n",
        "def homepage():\n",
        "  return render_template('index.txt')\n",
        "\n",
        "@app.route('/capitulo1')\n",
        "def pagcap1():\n",
        "  return render_template('chap1.txt', capitulo='Capítulo 1')\n",
        "\n",
        "@app.route('/capitulo2')\n",
        "def pagcap2():\n",
        "  return render_template('chap2.txt', capitulo='Capítulo 2')\n",
        "\n",
        "@app.route('/capitulo3')\n",
        "def pagcap3():\n",
        "  return render_template('chap3.txt', capitulo='Capítulo 3')\n",
        "\n",
        "@app.route('/capitulo4')\n",
        "def pagcap4():\n",
        "  return render_template('chap4.txt', capitulo='Capítulo 4')\n",
        "\n",
        "@app.route('/capitulo5')\n",
        "def pagcap5():\n",
        "  return render_template('chap5.txt', capitulo='Capítulo 5')\n",
        "\n",
        "@app.route('/capitulo6')\n",
        "def pagcap6():\n",
        "  return render_template('chap6.txt', capitulo='Capítulo 6')\n",
        "\n",
        "if __name__ == '__main__':\n",
        "    # Rodar o aplicativo em modo de desenvolvimento\n",
        "    app.run(host='0.0.0.0', debug=True, use_reloader=False)"
      ]
    },
    {
      "cell_type": "markdown",
      "source": [
        "Nota:\n",
        "\n",
        "    Se você rodar isso no seu computador, é só clicar no proprio\n",
        "    link no primeiro link http: que você já vai ter acesso a sua\n",
        "    pagina. Eu particularmente acho o Flask uma solução bastante\n",
        "    interessante e útil, não só para desenvolvimento web."
      ],
      "metadata": {
        "id": "ZsmPUoVG-ghO"
      },
      "id": "ZsmPUoVG-ghO"
    }
  ],
  "metadata": {
    "kernelspec": {
      "display_name": "Python 3 (ipykernel)",
      "language": "python",
      "name": "python3"
    },
    "language_info": {
      "codemirror_mode": {
        "name": "ipython",
        "version": 3
      },
      "file_extension": ".py",
      "mimetype": "text/x-python",
      "name": "python",
      "nbconvert_exporter": "python",
      "pygments_lexer": "ipython3",
      "version": "3.9.18"
    },
    "colab": {
      "provenance": [],
      "include_colab_link": true
    }
  },
  "nbformat": 4,
  "nbformat_minor": 5
}